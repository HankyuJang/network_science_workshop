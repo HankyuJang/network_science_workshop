{
  "nbformat": 4,
  "nbformat_minor": 0,
  "metadata": {
    "colab": {
      "provenance": []
    },
    "kernelspec": {
      "name": "python3",
      "display_name": "Python 3"
    },
    "language_info": {
      "name": "python"
    }
  },
  "cells": [
    {
      "cell_type": "markdown",
      "source": [
        "# HGU Bio + AI Workshop Tutorial\n",
        "\n",
        "Created by Hankyu Jang on Feb 4 2023.\n",
        "\n",
        "## Agenda\n",
        "\n",
        "1. Introduction to `networkx` and `igraph` packages. We use `networkx` to analyze graphs and `igraph`to visualize graphs\n",
        "2. Hands on exercise on recommending friends in social network. A toy example\n",
        "3. Hands on exercise on Google web page ranking. A toy example\n",
        "4. Hands on exercise on real data - Amazon product co-purchasing network. 242 K nodes, 1.2 M edges (public data - collected on March 02, 2003 by Stanford group)\n",
        "5. Team assignment\n",
        "\n",
        "----"
      ],
      "metadata": {
        "id": "zCl2p91od-2H"
      }
    },
    {
      "cell_type": "code",
      "source": [
        "!pip install networkx"
      ],
      "metadata": {
        "colab": {
          "base_uri": "https://localhost:8080/"
        },
        "id": "H1WEbB3Kd8P4",
        "outputId": "af937b56-08af-4c36-ea27-eabbc59e0d66"
      },
      "execution_count": 1,
      "outputs": [
        {
          "output_type": "stream",
          "name": "stdout",
          "text": [
            "Requirement already satisfied: networkx in /usr/local/lib/python3.10/dist-packages (3.2.1)\n"
          ]
        }
      ]
    },
    {
      "cell_type": "code",
      "source": [
        "!pip install igraph"
      ],
      "metadata": {
        "colab": {
          "base_uri": "https://localhost:8080/"
        },
        "id": "FXhuM8wpd8gA",
        "outputId": "bfb3d7b2-a8ef-4e7a-bde0-6c07f230f093"
      },
      "execution_count": 2,
      "outputs": [
        {
          "output_type": "stream",
          "name": "stdout",
          "text": [
            "Collecting igraph\n",
            "  Downloading igraph-0.11.4-cp39-abi3-manylinux_2_17_x86_64.manylinux2014_x86_64.whl (3.3 MB)\n",
            "\u001b[2K     \u001b[90m━━━━━━━━━━━━━━━━━━━━━━━━━━━━━━━━━━━━━━━━\u001b[0m \u001b[32m3.3/3.3 MB\u001b[0m \u001b[31m13.1 MB/s\u001b[0m eta \u001b[36m0:00:00\u001b[0m\n",
            "\u001b[?25hCollecting texttable>=1.6.2 (from igraph)\n",
            "  Downloading texttable-1.7.0-py2.py3-none-any.whl (10 kB)\n",
            "Installing collected packages: texttable, igraph\n",
            "Successfully installed igraph-0.11.4 texttable-1.7.0\n"
          ]
        }
      ]
    },
    {
      "cell_type": "code",
      "source": [
        "!pip install cairocffi"
      ],
      "metadata": {
        "colab": {
          "base_uri": "https://localhost:8080/"
        },
        "id": "LU6yJw_yzU_-",
        "outputId": "88b67cca-caff-412d-be50-624e4c2b6420"
      },
      "execution_count": 3,
      "outputs": [
        {
          "output_type": "stream",
          "name": "stdout",
          "text": [
            "Collecting cairocffi\n",
            "  Downloading cairocffi-1.6.1-py3-none-any.whl (75 kB)\n",
            "\u001b[?25l     \u001b[90m━━━━━━━━━━━━━━━━━━━━━━━━━━━━━━━━━━━━━━━━\u001b[0m \u001b[32m0.0/75.1 kB\u001b[0m \u001b[31m?\u001b[0m eta \u001b[36m-:--:--\u001b[0m\r\u001b[2K     \u001b[91m━━━━━━━━━━━━━━━━━━━━━━━━━━━━━━━━━━━━━━\u001b[0m\u001b[90m╺\u001b[0m\u001b[90m━\u001b[0m \u001b[32m71.7/75.1 kB\u001b[0m \u001b[31m2.1 MB/s\u001b[0m eta \u001b[36m0:00:01\u001b[0m\r\u001b[2K     \u001b[90m━━━━━━━━━━━━━━━━━━━━━━━━━━━━━━━━━━━━━━━━\u001b[0m \u001b[32m75.1/75.1 kB\u001b[0m \u001b[31m1.5 MB/s\u001b[0m eta \u001b[36m0:00:00\u001b[0m\n",
            "\u001b[?25hRequirement already satisfied: cffi>=1.1.0 in /usr/local/lib/python3.10/dist-packages (from cairocffi) (1.16.0)\n",
            "Requirement already satisfied: pycparser in /usr/local/lib/python3.10/dist-packages (from cffi>=1.1.0->cairocffi) (2.21)\n",
            "Installing collected packages: cairocffi\n",
            "Successfully installed cairocffi-1.6.1\n"
          ]
        }
      ]
    },
    {
      "cell_type": "markdown",
      "source": [
        "## 1. Introduction to `networkx` and `igraph`"
      ],
      "metadata": {
        "id": "YhCblbWuew4e"
      }
    },
    {
      "cell_type": "markdown",
      "source": [
        "Create a graph instance"
      ],
      "metadata": {
        "id": "tivvCRpYftaq"
      }
    },
    {
      "cell_type": "code",
      "source": [
        "import pandas as pd\n",
        "import numpy as np\n",
        "import matplotlib.pyplot as plt\n",
        "\n",
        "import networkx as nx\n",
        "import igraph as ig"
      ],
      "metadata": {
        "id": "0P5yHVw0gTu_"
      },
      "execution_count": 4,
      "outputs": []
    },
    {
      "cell_type": "code",
      "source": [
        "G_nx = nx.Graph()"
      ],
      "metadata": {
        "id": "a9jcy4jJd8Gf"
      },
      "execution_count": 5,
      "outputs": []
    },
    {
      "cell_type": "markdown",
      "source": [
        "Add nodes"
      ],
      "metadata": {
        "id": "6wDvwlrFgCn6"
      }
    },
    {
      "cell_type": "code",
      "source": [
        "print(G_nx)"
      ],
      "metadata": {
        "colab": {
          "base_uri": "https://localhost:8080/"
        },
        "id": "wC_M64gMRML0",
        "outputId": "bfd356a0-5444-4084-8660-277b5294796a"
      },
      "execution_count": 6,
      "outputs": [
        {
          "output_type": "stream",
          "name": "stdout",
          "text": [
            "Graph with 0 nodes and 0 edges\n"
          ]
        }
      ]
    },
    {
      "cell_type": "code",
      "source": [
        "G_nx.add_node(1)\n",
        "G_nx.add_nodes_from([2, 'a', \"Hankyu\"])"
      ],
      "metadata": {
        "id": "-kvqAVdRgMbl"
      },
      "execution_count": 7,
      "outputs": []
    },
    {
      "cell_type": "markdown",
      "source": [
        "Add edges"
      ],
      "metadata": {
        "id": "Z8omxOk9gZVI"
      }
    },
    {
      "cell_type": "code",
      "source": [
        "print(G_nx)"
      ],
      "metadata": {
        "colab": {
          "base_uri": "https://localhost:8080/"
        },
        "id": "3-K8xj0kRbjX",
        "outputId": "9137c7f4-aa77-46ef-9367-1b6de11e5faa"
      },
      "execution_count": 8,
      "outputs": [
        {
          "output_type": "stream",
          "name": "stdout",
          "text": [
            "Graph with 4 nodes and 0 edges\n"
          ]
        }
      ]
    },
    {
      "cell_type": "code",
      "source": [
        "G_nx.add_edge(1, 2)\n",
        "G_nx.add_edges_from( [(1, 'a'), (1, \"Hankyu\")] )"
      ],
      "metadata": {
        "id": "8V4azfqBd8AV"
      },
      "execution_count": 9,
      "outputs": []
    },
    {
      "cell_type": "markdown",
      "source": [
        "Accessing node `1` and edge `(1, \"Hankyu\")`"
      ],
      "metadata": {
        "id": "ZYnGRrk53mV5"
      }
    },
    {
      "cell_type": "code",
      "source": [
        "print(G_nx)"
      ],
      "metadata": {
        "colab": {
          "base_uri": "https://localhost:8080/"
        },
        "id": "MW-r4h9RRqXl",
        "outputId": "13fa0ec8-be71-465b-e854-d6da42b76aa1"
      },
      "execution_count": 10,
      "outputs": [
        {
          "output_type": "stream",
          "name": "stdout",
          "text": [
            "Graph with 4 nodes and 3 edges\n"
          ]
        }
      ]
    },
    {
      "cell_type": "code",
      "source": [
        "G_nx[1]"
      ],
      "metadata": {
        "colab": {
          "base_uri": "https://localhost:8080/"
        },
        "id": "6n9WDEHb3mO4",
        "outputId": "afa58c82-1b6f-4e1b-c24f-72e18bb688e8"
      },
      "execution_count": 11,
      "outputs": [
        {
          "output_type": "execute_result",
          "data": {
            "text/plain": [
              "AtlasView({2: {}, 'a': {}, 'Hankyu': {}})"
            ]
          },
          "metadata": {},
          "execution_count": 11
        }
      ]
    },
    {
      "cell_type": "code",
      "source": [
        "G_nx[1][\"Hankyu\"] # there are no edge attributes, so it returns an empty dictionary."
      ],
      "metadata": {
        "colab": {
          "base_uri": "https://localhost:8080/"
        },
        "id": "OkoFvo1j3mKb",
        "outputId": "fb47ce50-0fbd-456e-f398-e3e3393341ee"
      },
      "execution_count": 12,
      "outputs": [
        {
          "output_type": "execute_result",
          "data": {
            "text/plain": [
              "{}"
            ]
          },
          "metadata": {},
          "execution_count": 12
        }
      ]
    },
    {
      "cell_type": "markdown",
      "source": [
        "Often when analyzing a graph, you may need to visit all nodes or edges iteratively. You can iterate nodes or edges by the following:"
      ],
      "metadata": {
        "id": "lHHnIA5s4c-f"
      }
    },
    {
      "cell_type": "code",
      "source": [
        "G_nx.nodes()"
      ],
      "metadata": {
        "colab": {
          "base_uri": "https://localhost:8080/"
        },
        "id": "LpZ0Z6LM3lgf",
        "outputId": "ea8c2215-7832-4200-a797-4e09c030e9f0"
      },
      "execution_count": 13,
      "outputs": [
        {
          "output_type": "execute_result",
          "data": {
            "text/plain": [
              "NodeView((1, 2, 'a', 'Hankyu'))"
            ]
          },
          "metadata": {},
          "execution_count": 13
        }
      ]
    },
    {
      "cell_type": "code",
      "source": [
        "[(v, G_nx.nodes[v]) for v in G_nx.nodes()]"
      ],
      "metadata": {
        "colab": {
          "base_uri": "https://localhost:8080/"
        },
        "id": "JWu_n7NG4pwU",
        "outputId": "a27974af-4a72-418b-a16f-94012fd9930d"
      },
      "execution_count": 14,
      "outputs": [
        {
          "output_type": "execute_result",
          "data": {
            "text/plain": [
              "[(1, {}), (2, {}), ('a', {}), ('Hankyu', {})]"
            ]
          },
          "metadata": {},
          "execution_count": 14
        }
      ]
    },
    {
      "cell_type": "code",
      "source": [
        "G_nx.edges()"
      ],
      "metadata": {
        "colab": {
          "base_uri": "https://localhost:8080/"
        },
        "id": "Mv-AgqFT4YVu",
        "outputId": "ff64b12f-61bc-4894-df25-4ed4a1a06197"
      },
      "execution_count": 15,
      "outputs": [
        {
          "output_type": "execute_result",
          "data": {
            "text/plain": [
              "EdgeView([(1, 2), (1, 'a'), (1, 'Hankyu')])"
            ]
          },
          "metadata": {},
          "execution_count": 15
        }
      ]
    },
    {
      "cell_type": "code",
      "source": [
        "[(e, G_nx.edges[e]) for e in G_nx.edges()]"
      ],
      "metadata": {
        "colab": {
          "base_uri": "https://localhost:8080/"
        },
        "id": "mSVKvixj4YeQ",
        "outputId": "e6cc2ad8-61fa-4d2c-dff4-1ae8f16286ef"
      },
      "execution_count": 16,
      "outputs": [
        {
          "output_type": "execute_result",
          "data": {
            "text/plain": [
              "[((1, 2), {}), ((1, 'a'), {}), ((1, 'Hankyu'), {})]"
            ]
          },
          "metadata": {},
          "execution_count": 16
        }
      ]
    },
    {
      "cell_type": "markdown",
      "source": [
        "Let's add an attribute called `color` for each node. Let Hankyu node be white and other ndoes be blue."
      ],
      "metadata": {
        "id": "N7f4qGY-5vAl"
      }
    },
    {
      "cell_type": "code",
      "source": [
        "for v in G_nx.nodes():\n",
        "    if v==\"Hankyu\":\n",
        "        G_nx.nodes[v]['color'] = 'white'\n",
        "    else:\n",
        "        G_nx.nodes[v]['color'] = 'lightblue'"
      ],
      "metadata": {
        "id": "0Fw9UrXw59t0"
      },
      "execution_count": 17,
      "outputs": []
    },
    {
      "cell_type": "code",
      "source": [
        "[(v, G_nx.nodes[v]) for v in G_nx.nodes()]"
      ],
      "metadata": {
        "colab": {
          "base_uri": "https://localhost:8080/"
        },
        "id": "2gyFbXgwSmf1",
        "outputId": "c2558351-db6c-4b8a-8e40-200f2ef07c49"
      },
      "execution_count": 18,
      "outputs": [
        {
          "output_type": "execute_result",
          "data": {
            "text/plain": [
              "[(1, {'color': 'lightblue'}),\n",
              " (2, {'color': 'lightblue'}),\n",
              " ('a', {'color': 'lightblue'}),\n",
              " ('Hankyu', {'color': 'white'})]"
            ]
          },
          "metadata": {},
          "execution_count": 18
        }
      ]
    },
    {
      "cell_type": "markdown",
      "source": [
        "You can aceess the `(node name, node attribute)` of the neighbors of node `1`:"
      ],
      "metadata": {
        "id": "6M8Iv0M15YBl"
      }
    },
    {
      "cell_type": "code",
      "source": [
        "[(v, G_nx.nodes[v]) for v in G_nx.neighbors(1)]"
      ],
      "metadata": {
        "colab": {
          "base_uri": "https://localhost:8080/"
        },
        "id": "DleWbAUo4Yi5",
        "outputId": "f65da751-88e4-4a94-e780-3b3c3a39a43d"
      },
      "execution_count": 19,
      "outputs": [
        {
          "output_type": "execute_result",
          "data": {
            "text/plain": [
              "[(2, {'color': 'lightblue'}),\n",
              " ('a', {'color': 'lightblue'}),\n",
              " ('Hankyu', {'color': 'white'})]"
            ]
          },
          "metadata": {},
          "execution_count": 19
        }
      ]
    },
    {
      "cell_type": "code",
      "source": [
        "[(v, G_nx.nodes[v]) for v in G_nx.neighbors(\"Hankyu\")]"
      ],
      "metadata": {
        "colab": {
          "base_uri": "https://localhost:8080/"
        },
        "id": "F55UiE8IS0et",
        "outputId": "0c52e309-b3e4-4ad6-f50e-78415bb09d7f"
      },
      "execution_count": 20,
      "outputs": [
        {
          "output_type": "execute_result",
          "data": {
            "text/plain": [
              "[(1, {'color': 'lightblue'})]"
            ]
          },
          "metadata": {},
          "execution_count": 20
        }
      ]
    },
    {
      "cell_type": "markdown",
      "source": [
        "Draw the graph. You can use `networkx` to draw graphs, but not recommended. This functionality may be removed in the future. Reference: https://networkx.org/documentation/stable/reference/drawing.html\n",
        "\n",
        "Use `igraph` to plot the graph. You'll now use the `G`, which is a graph instance of `networkx` to genereate `G_ig`, a graph instance of `igraph`. The names of the functions that does similar jobs in `networkx` and `igraph` are different.\n",
        "\n",
        "Note: if you get an error message saying you need to install `cairocffi`, then install it by running `!pip install cairocffi`, then restart the notebook."
      ],
      "metadata": {
        "id": "i52PkUNZg6Ht"
      }
    },
    {
      "cell_type": "code",
      "source": [
        "G_ig = ig.Graph.from_networkx(G_nx)"
      ],
      "metadata": {
        "id": "kRVdFdfeg4yt"
      },
      "execution_count": 21,
      "outputs": []
    },
    {
      "cell_type": "code",
      "source": [
        "# set the size of the figure to be 100x100 pixels\n",
        "ig.plot(G_ig, bbox=(100, 100))"
      ],
      "metadata": {
        "colab": {
          "base_uri": "https://localhost:8080/",
          "height": 154
        },
        "id": "H9RX4tORitGu",
        "outputId": "c1cbaf4b-8ccb-4f86-c50a-70797fb3d35d"
      },
      "execution_count": 22,
      "outputs": [
        {
          "output_type": "execute_result",
          "data": {
            "text/plain": [
              "<igraph.drawing.cairo.plot.CairoPlot at 0x782f9d878280>"
            ],
            "image/svg+xml": "<?xml version=\"1.0\" encoding=\"UTF-8\"?>\n<svg xmlns=\"http://www.w3.org/2000/svg\" xmlns:xlink=\"http://www.w3.org/1999/xlink\" width=\"100pt\" height=\"100pt\" viewBox=\"0 0 100 100\" version=\"1.1\">\n<g id=\"surface2\">\n<rect x=\"0\" y=\"0\" width=\"100\" height=\"100\" style=\"fill:rgb(100%,100%,100%);fill-opacity:1;stroke:none;\"/>\n<path style=\"fill:none;stroke-width:1;stroke-linecap:butt;stroke-linejoin:miter;stroke:rgb(26.666667%,26.666667%,26.666667%);stroke-opacity:1;stroke-miterlimit:10;\" d=\"M 53.882812 55.417969 L 80 80 \"/>\n<path style=\"fill:none;stroke-width:1;stroke-linecap:butt;stroke-linejoin:miter;stroke:rgb(26.666667%,26.666667%,26.666667%);stroke-opacity:1;stroke-miterlimit:10;\" d=\"M 53.882812 55.417969 L 20 66.25 \"/>\n<path style=\"fill:none;stroke-width:1;stroke-linecap:butt;stroke-linejoin:miter;stroke:rgb(26.666667%,26.666667%,26.666667%);stroke-opacity:1;stroke-miterlimit:10;\" d=\"M 53.882812 55.417969 L 61.644531 20 \"/>\n<path style=\"fill-rule:nonzero;fill:rgb(67.843137%,84.705882%,90.196078%);fill-opacity:1;stroke-width:1;stroke-linecap:butt;stroke-linejoin:miter;stroke:rgb(0%,0%,0%);stroke-opacity:1;stroke-miterlimit:10;\" d=\"M 63.882812 55.417969 C 63.882812 60.941406 59.40625 65.417969 53.882812 65.417969 C 48.359375 65.417969 43.882812 60.941406 43.882812 55.417969 C 43.882812 49.894531 48.359375 45.417969 53.882812 45.417969 C 59.40625 45.417969 63.882812 49.894531 63.882812 55.417969 \"/>\n<path style=\"fill-rule:nonzero;fill:rgb(67.843137%,84.705882%,90.196078%);fill-opacity:1;stroke-width:1;stroke-linecap:butt;stroke-linejoin:miter;stroke:rgb(0%,0%,0%);stroke-opacity:1;stroke-miterlimit:10;\" d=\"M 90 80 C 90 85.523438 85.523438 90 80 90 C 74.476562 90 70 85.523438 70 80 C 70 74.476562 74.476562 70 80 70 C 85.523438 70 90 74.476562 90 80 \"/>\n<path style=\"fill-rule:nonzero;fill:rgb(67.843137%,84.705882%,90.196078%);fill-opacity:1;stroke-width:1;stroke-linecap:butt;stroke-linejoin:miter;stroke:rgb(0%,0%,0%);stroke-opacity:1;stroke-miterlimit:10;\" d=\"M 30 66.25 C 30 71.773438 25.523438 76.25 20 76.25 C 14.476562 76.25 10 71.773438 10 66.25 C 10 60.730469 14.476562 56.25 20 56.25 C 25.523438 56.25 30 60.730469 30 66.25 \"/>\n<path style=\"fill-rule:nonzero;fill:rgb(100%,100%,100%);fill-opacity:1;stroke-width:1;stroke-linecap:butt;stroke-linejoin:miter;stroke:rgb(0%,0%,0%);stroke-opacity:1;stroke-miterlimit:10;\" d=\"M 71.644531 20 C 71.644531 25.523438 67.167969 30 61.644531 30 C 56.121094 30 51.644531 25.523438 51.644531 20 C 51.644531 14.476562 56.121094 10 61.644531 10 C 67.167969 10 71.644531 14.476562 71.644531 20 \"/>\n</g>\n</svg>\n"
          },
          "metadata": {
            "image/svg+xml": {
              "isolated": true
            }
          },
          "execution_count": 22
        }
      ]
    },
    {
      "cell_type": "markdown",
      "source": [
        "In `igraph`, you use `vs` to look up details of nodes. `G_ig.vs[0]` will show the attributes (or features) of node named `1`"
      ],
      "metadata": {
        "id": "h9Zi5fOGmQpQ"
      }
    },
    {
      "cell_type": "code",
      "source": [
        "G_ig.vs[3]"
      ],
      "metadata": {
        "id": "uxHfj69PfsjN",
        "colab": {
          "base_uri": "https://localhost:8080/"
        },
        "outputId": "3e195a15-06f0-4ba2-8e0f-7540fafdf172"
      },
      "execution_count": 23,
      "outputs": [
        {
          "output_type": "execute_result",
          "data": {
            "text/plain": [
              "igraph.Vertex(<igraph.Graph object at 0x782f9d953940>, 3, {'_nx_name': 'Hankyu', 'color': 'white'})"
            ]
          },
          "metadata": {},
          "execution_count": 23
        }
      ]
    },
    {
      "cell_type": "markdown",
      "source": [
        "Let's look at the node attributes for all the nodes in `G_ig`"
      ],
      "metadata": {
        "id": "mLZXScEvd7kS"
      }
    },
    {
      "cell_type": "code",
      "source": [
        "print( \"Number of nodes: {}\".format(G_ig.vcount()) )"
      ],
      "metadata": {
        "id": "uslONZKGnNR_",
        "colab": {
          "base_uri": "https://localhost:8080/"
        },
        "outputId": "15bd85ac-fcf7-4a0f-9343-70705f0cee09"
      },
      "execution_count": 24,
      "outputs": [
        {
          "output_type": "stream",
          "name": "stdout",
          "text": [
            "Number of nodes: 4\n"
          ]
        }
      ]
    },
    {
      "cell_type": "code",
      "execution_count": 25,
      "metadata": {
        "id": "NavTx8ghdBD8",
        "colab": {
          "base_uri": "https://localhost:8080/"
        },
        "outputId": "1f9c2df5-de7e-42f9-ac7d-30b7384d0816"
      },
      "outputs": [
        {
          "output_type": "stream",
          "name": "stdout",
          "text": [
            "igraph.Vertex(<igraph.Graph object at 0x782f9d953940>, 0, {'_nx_name': 1, 'color': 'lightblue'})\n",
            "igraph.Vertex(<igraph.Graph object at 0x782f9d953940>, 1, {'_nx_name': 2, 'color': 'lightblue'})\n",
            "igraph.Vertex(<igraph.Graph object at 0x782f9d953940>, 2, {'_nx_name': 'a', 'color': 'lightblue'})\n",
            "igraph.Vertex(<igraph.Graph object at 0x782f9d953940>, 3, {'_nx_name': 'Hankyu', 'color': 'white'})\n"
          ]
        }
      ],
      "source": [
        "for i in range(G_ig.vcount()):\n",
        "    print(G_ig.vs[i])"
      ]
    },
    {
      "cell_type": "code",
      "source": [
        "G_ig.vs[\"_nx_name\"]"
      ],
      "metadata": {
        "id": "I16gODRBtwww",
        "colab": {
          "base_uri": "https://localhost:8080/"
        },
        "outputId": "bf6e4553-ab17-4f3a-e4f7-d007a669800a"
      },
      "execution_count": 26,
      "outputs": [
        {
          "output_type": "execute_result",
          "data": {
            "text/plain": [
              "[1, 2, 'a', 'Hankyu']"
            ]
          },
          "metadata": {},
          "execution_count": 26
        }
      ]
    },
    {
      "cell_type": "markdown",
      "source": [
        "Now, let's plot this graph with the names of the nodes, as shown above. Also, adjust the node size, color, and size of the plot"
      ],
      "metadata": {
        "id": "VwU6Cr5koDwn"
      }
    },
    {
      "cell_type": "code",
      "source": [
        "visual_style = dict()\n",
        "visual_style[\"vertex_size\"] = 50\n",
        "visual_style[\"vertex_label\"] = G_ig.vs[\"_nx_name\"]\n",
        "visual_style[\"vertex_label_size\"] = 10\n",
        "visual_style[\"bbox\"] = (200, 200)\n",
        "visual_style[\"margin\"] = 30"
      ],
      "metadata": {
        "id": "hxWsIOpPuN-J"
      },
      "execution_count": 27,
      "outputs": []
    },
    {
      "cell_type": "code",
      "source": [
        "ig.plot(G_ig, **visual_style)"
      ],
      "metadata": {
        "id": "P4P5jtOKtK9Q",
        "colab": {
          "base_uri": "https://localhost:8080/",
          "height": 288
        },
        "outputId": "f341576e-09ae-4717-f55b-231667447b9c"
      },
      "execution_count": 28,
      "outputs": [
        {
          "output_type": "execute_result",
          "data": {
            "text/plain": [
              "<igraph.drawing.cairo.plot.CairoPlot at 0x782f9d878790>"
            ],
            "image/svg+xml": "<?xml version=\"1.0\" encoding=\"UTF-8\"?>\n<svg xmlns=\"http://www.w3.org/2000/svg\" xmlns:xlink=\"http://www.w3.org/1999/xlink\" width=\"200pt\" height=\"200pt\" viewBox=\"0 0 200 200\" version=\"1.1\">\n<defs>\n<g>\n<symbol overflow=\"visible\" id=\"glyph0-0\">\n<path style=\"stroke:none;\" d=\"M 0.328125 0 L 0.328125 -6.671875 L 2.984375 -6.671875 L 2.984375 0 Z M 0.671875 -0.328125 L 2.65625 -0.328125 L 2.65625 -6.328125 L 0.671875 -6.328125 Z M 0.671875 -0.328125 \"/>\n</symbol>\n<symbol overflow=\"visible\" id=\"glyph0-1\">\n<path style=\"stroke:none;\" d=\"M 0.765625 0 L 0.765625 -0.703125 L 2.90625 -0.703125 L 2.90625 -5.6875 C 2.84375 -5.5625 2.734375 -5.441406 2.578125 -5.328125 C 2.421875 -5.210938 2.238281 -5.109375 2.03125 -5.015625 C 1.832031 -4.929688 1.617188 -4.863281 1.390625 -4.8125 C 1.160156 -4.769531 0.9375 -4.75 0.71875 -4.75 L 0.71875 -5.46875 C 0.957031 -5.46875 1.191406 -5.492188 1.421875 -5.546875 C 1.660156 -5.609375 1.878906 -5.6875 2.078125 -5.78125 C 2.285156 -5.882812 2.46875 -6.003906 2.625 -6.140625 C 2.78125 -6.273438 2.898438 -6.425781 2.984375 -6.59375 L 3.796875 -6.59375 L 3.796875 -0.703125 L 5.515625 -0.703125 L 5.515625 0 Z M 0.765625 0 \"/>\n</symbol>\n<symbol overflow=\"visible\" id=\"glyph0-2\">\n<path style=\"stroke:none;\" d=\"M 0.703125 0 L 0.703125 -0.578125 C 0.847656 -0.890625 1.035156 -1.175781 1.265625 -1.4375 C 1.503906 -1.707031 1.753906 -1.957031 2.015625 -2.1875 C 2.285156 -2.425781 2.550781 -2.65625 2.8125 -2.875 C 3.082031 -3.09375 3.328125 -3.304688 3.546875 -3.515625 C 3.765625 -3.722656 3.941406 -3.9375 4.078125 -4.15625 C 4.210938 -4.375 4.28125 -4.601562 4.28125 -4.84375 C 4.28125 -5.03125 4.25 -5.195312 4.1875 -5.34375 C 4.125 -5.488281 4.035156 -5.601562 3.921875 -5.6875 C 3.804688 -5.78125 3.664062 -5.847656 3.5 -5.890625 C 3.34375 -5.941406 3.171875 -5.96875 2.984375 -5.96875 C 2.804688 -5.96875 2.640625 -5.941406 2.484375 -5.890625 C 2.335938 -5.847656 2.207031 -5.773438 2.09375 -5.671875 C 1.976562 -5.578125 1.882812 -5.457031 1.8125 -5.3125 C 1.738281 -5.164062 1.691406 -5 1.671875 -4.8125 L 0.78125 -4.890625 C 0.8125 -5.140625 0.878906 -5.367188 0.984375 -5.578125 C 1.085938 -5.796875 1.226562 -5.988281 1.40625 -6.15625 C 1.582031 -6.320312 1.800781 -6.453125 2.0625 -6.546875 C 2.332031 -6.640625 2.640625 -6.6875 2.984375 -6.6875 C 3.328125 -6.6875 3.632812 -6.644531 3.90625 -6.5625 C 4.175781 -6.488281 4.40625 -6.375 4.59375 -6.21875 C 4.789062 -6.070312 4.9375 -5.882812 5.03125 -5.65625 C 5.132812 -5.4375 5.1875 -5.179688 5.1875 -4.890625 C 5.1875 -4.585938 5.113281 -4.300781 4.96875 -4.03125 C 4.832031 -3.769531 4.65625 -3.519531 4.4375 -3.28125 C 4.21875 -3.050781 3.972656 -2.832031 3.703125 -2.625 C 3.441406 -2.414062 3.179688 -2.207031 2.921875 -2 C 2.671875 -1.789062 2.441406 -1.582031 2.234375 -1.375 C 2.023438 -1.164062 1.867188 -0.945312 1.765625 -0.71875 L 5.296875 -0.71875 L 5.296875 0 Z M 0.703125 0 \"/>\n</symbol>\n<symbol overflow=\"visible\" id=\"glyph0-3\">\n<path style=\"stroke:none;\" d=\"M 5.375 -0.546875 C 5.425781 -0.546875 5.472656 -0.546875 5.515625 -0.546875 C 5.566406 -0.554688 5.617188 -0.566406 5.671875 -0.578125 L 5.671875 -0.03125 C 5.554688 0 5.441406 0.0195312 5.328125 0.03125 C 5.222656 0.0390625 5.109375 0.046875 4.984375 0.046875 C 4.816406 0.046875 4.671875 0.0234375 4.546875 -0.015625 C 4.429688 -0.0546875 4.335938 -0.125 4.265625 -0.21875 C 4.191406 -0.3125 4.132812 -0.421875 4.09375 -0.546875 C 4.050781 -0.679688 4.03125 -0.835938 4.03125 -1.015625 L 4 -1.015625 C 3.90625 -0.835938 3.800781 -0.679688 3.6875 -0.546875 C 3.582031 -0.410156 3.457031 -0.296875 3.3125 -0.203125 C 3.164062 -0.109375 3 -0.0351562 2.8125 0.015625 C 2.632812 0.0664062 2.421875 0.09375 2.171875 0.09375 C 1.660156 0.09375 1.273438 -0.046875 1.015625 -0.328125 C 0.753906 -0.609375 0.625 -0.988281 0.625 -1.46875 C 0.625 -1.820312 0.6875 -2.109375 0.8125 -2.328125 C 0.945312 -2.554688 1.117188 -2.734375 1.328125 -2.859375 C 1.535156 -2.984375 1.769531 -3.070312 2.03125 -3.125 C 2.300781 -3.175781 2.570312 -3.203125 2.84375 -3.203125 L 4 -3.21875 L 4 -3.515625 C 4 -3.734375 3.972656 -3.914062 3.921875 -4.0625 C 3.878906 -4.21875 3.8125 -4.34375 3.71875 -4.4375 C 3.632812 -4.53125 3.523438 -4.597656 3.390625 -4.640625 C 3.253906 -4.691406 3.09375 -4.71875 2.90625 -4.71875 C 2.75 -4.71875 2.601562 -4.703125 2.46875 -4.671875 C 2.332031 -4.648438 2.21875 -4.609375 2.125 -4.546875 C 2.03125 -4.484375 1.953125 -4.394531 1.890625 -4.28125 C 1.835938 -4.175781 1.800781 -4.039062 1.78125 -3.875 L 0.859375 -3.953125 C 0.890625 -4.160156 0.945312 -4.351562 1.03125 -4.53125 C 1.125 -4.707031 1.253906 -4.859375 1.421875 -4.984375 C 1.585938 -5.109375 1.789062 -5.203125 2.03125 -5.265625 C 2.28125 -5.335938 2.578125 -5.375 2.921875 -5.375 C 3.578125 -5.375 4.066406 -5.222656 4.390625 -4.921875 C 4.722656 -4.617188 4.890625 -4.179688 4.890625 -3.609375 L 4.890625 -1.328125 C 4.890625 -1.066406 4.921875 -0.867188 4.984375 -0.734375 C 5.054688 -0.609375 5.1875 -0.546875 5.375 -0.546875 Z M 2.40625 -0.578125 C 2.675781 -0.578125 2.910156 -0.625 3.109375 -0.71875 C 3.304688 -0.820312 3.46875 -0.953125 3.59375 -1.109375 C 3.726562 -1.265625 3.828125 -1.4375 3.890625 -1.625 C 3.960938 -1.820312 4 -2.003906 4 -2.171875 L 4 -2.609375 L 3.0625 -2.59375 C 2.882812 -2.582031 2.703125 -2.566406 2.515625 -2.546875 C 2.335938 -2.523438 2.175781 -2.472656 2.03125 -2.390625 C 1.894531 -2.316406 1.78125 -2.203125 1.6875 -2.046875 C 1.59375 -1.898438 1.546875 -1.703125 1.546875 -1.453125 C 1.546875 -1.191406 1.617188 -0.976562 1.765625 -0.8125 C 1.910156 -0.65625 2.125 -0.578125 2.40625 -0.578125 Z M 2.40625 -0.578125 \"/>\n</symbol>\n<symbol overflow=\"visible\" id=\"glyph0-4\">\n<path style=\"stroke:none;\" d=\"M 4.265625 0 L 4.265625 -3.046875 L 1.71875 -3.046875 L 1.71875 0 L 0.796875 0 L 0.796875 -6.59375 L 1.71875 -6.59375 L 1.71875 -3.828125 L 4.265625 -3.828125 L 4.265625 -6.59375 L 5.203125 -6.59375 L 5.203125 0 Z M 4.265625 0 \"/>\n</symbol>\n<symbol overflow=\"visible\" id=\"glyph0-5\">\n<path style=\"stroke:none;\" d=\"M 4.234375 0 L 4.234375 -3.390625 C 4.234375 -3.648438 4.207031 -3.863281 4.15625 -4.03125 C 4.101562 -4.195312 4.03125 -4.328125 3.9375 -4.421875 C 3.84375 -4.523438 3.726562 -4.597656 3.59375 -4.640625 C 3.46875 -4.679688 3.328125 -4.703125 3.171875 -4.703125 C 2.972656 -4.703125 2.789062 -4.664062 2.625 -4.59375 C 2.457031 -4.519531 2.3125 -4.410156 2.1875 -4.265625 C 2.0625 -4.128906 1.960938 -3.957031 1.890625 -3.75 C 1.816406 -3.550781 1.78125 -3.320312 1.78125 -3.0625 L 1.78125 0 L 0.90625 0 L 0.90625 -4.15625 C 0.90625 -4.269531 0.90625 -4.382812 0.90625 -4.5 C 0.90625 -4.625 0.898438 -4.738281 0.890625 -4.84375 C 0.890625 -4.957031 0.882812 -5.050781 0.875 -5.125 C 0.875 -5.207031 0.875 -5.257812 0.875 -5.28125 L 1.703125 -5.28125 C 1.703125 -5.269531 1.703125 -5.226562 1.703125 -5.15625 C 1.710938 -5.082031 1.71875 -5 1.71875 -4.90625 C 1.726562 -4.8125 1.734375 -4.71875 1.734375 -4.625 C 1.742188 -4.53125 1.75 -4.445312 1.75 -4.375 L 1.765625 -4.375 C 1.835938 -4.53125 1.925781 -4.671875 2.03125 -4.796875 C 2.132812 -4.921875 2.253906 -5.023438 2.390625 -5.109375 C 2.535156 -5.191406 2.691406 -5.253906 2.859375 -5.296875 C 3.035156 -5.347656 3.234375 -5.375 3.453125 -5.375 C 3.722656 -5.375 3.960938 -5.335938 4.171875 -5.265625 C 4.378906 -5.203125 4.550781 -5.09375 4.6875 -4.9375 C 4.832031 -4.789062 4.941406 -4.597656 5.015625 -4.359375 C 5.085938 -4.128906 5.125 -3.847656 5.125 -3.515625 L 5.125 0 Z M 4.234375 0 \"/>\n</symbol>\n<symbol overflow=\"visible\" id=\"glyph0-6\">\n<path style=\"stroke:none;\" d=\"M 4.46875 0 L 2.671875 -2.4375 L 2.03125 -1.953125 L 2.03125 0 L 1.15625 0 L 1.15625 -7.25 L 2.03125 -7.25 L 2.03125 -2.71875 L 4.34375 -5.28125 L 5.375 -5.28125 L 3.234375 -3.015625 L 5.5 0 Z M 4.46875 0 \"/>\n</symbol>\n<symbol overflow=\"visible\" id=\"glyph0-7\">\n<path style=\"stroke:none;\" d=\"M 3.4375 0 C 3.320312 0.320312 3.195312 0.609375 3.0625 0.859375 C 2.9375 1.117188 2.789062 1.335938 2.625 1.515625 C 2.46875 1.691406 2.289062 1.828125 2.09375 1.921875 C 1.90625 2.023438 1.679688 2.078125 1.421875 2.078125 C 1.316406 2.078125 1.21875 2.070312 1.125 2.0625 C 1.03125 2.0625 0.929688 2.046875 0.828125 2.015625 L 0.828125 1.359375 C 0.878906 1.367188 0.941406 1.375 1.015625 1.375 C 1.097656 1.382812 1.171875 1.390625 1.234375 1.390625 C 1.484375 1.390625 1.722656 1.289062 1.953125 1.09375 C 2.179688 0.90625 2.375 0.601562 2.53125 0.1875 L 2.625 -0.046875 L 0.328125 -5.28125 L 1.265625 -5.28125 L 2.546875 -2.15625 C 2.585938 -2.0625 2.632812 -1.945312 2.6875 -1.8125 C 2.738281 -1.6875 2.785156 -1.5625 2.828125 -1.4375 C 2.878906 -1.3125 2.921875 -1.195312 2.953125 -1.09375 C 2.992188 -1 3.019531 -0.9375 3.03125 -0.90625 C 3.039062 -0.945312 3.0625 -1.015625 3.09375 -1.109375 C 3.132812 -1.210938 3.175781 -1.320312 3.21875 -1.4375 C 3.269531 -1.5625 3.320312 -1.6875 3.375 -1.8125 C 3.425781 -1.945312 3.472656 -2.0625 3.515625 -2.15625 L 4.734375 -5.28125 L 5.671875 -5.28125 Z M 3.4375 0 \"/>\n</symbol>\n<symbol overflow=\"visible\" id=\"glyph0-8\">\n<path style=\"stroke:none;\" d=\"M 1.78125 -5.28125 L 1.78125 -1.9375 C 1.78125 -1.675781 1.796875 -1.457031 1.828125 -1.28125 C 1.867188 -1.113281 1.929688 -0.976562 2.015625 -0.875 C 2.109375 -0.769531 2.222656 -0.691406 2.359375 -0.640625 C 2.492188 -0.597656 2.664062 -0.578125 2.875 -0.578125 C 3.082031 -0.578125 3.269531 -0.613281 3.4375 -0.6875 C 3.601562 -0.757812 3.742188 -0.863281 3.859375 -1 C 3.984375 -1.144531 4.078125 -1.316406 4.140625 -1.515625 C 4.203125 -1.722656 4.234375 -1.957031 4.234375 -2.21875 L 4.234375 -5.28125 L 5.125 -5.28125 L 5.125 -1.125 C 5.125 -1.019531 5.125 -0.90625 5.125 -0.78125 C 5.125 -0.65625 5.125 -0.535156 5.125 -0.421875 C 5.132812 -0.316406 5.140625 -0.222656 5.140625 -0.140625 C 5.140625 -0.0664062 5.144531 -0.0195312 5.15625 0 L 4.328125 0 C 4.316406 -0.0195312 4.3125 -0.0625 4.3125 -0.125 C 4.3125 -0.195312 4.304688 -0.28125 4.296875 -0.375 C 4.296875 -0.46875 4.289062 -0.5625 4.28125 -0.65625 C 4.28125 -0.757812 4.28125 -0.84375 4.28125 -0.90625 L 4.265625 -0.90625 C 4.179688 -0.75 4.085938 -0.609375 3.984375 -0.484375 C 3.890625 -0.359375 3.773438 -0.253906 3.640625 -0.171875 C 3.503906 -0.0859375 3.347656 -0.0234375 3.171875 0.015625 C 3.003906 0.0664062 2.804688 0.09375 2.578125 0.09375 C 2.285156 0.09375 2.03125 0.0546875 1.8125 -0.015625 C 1.601562 -0.0859375 1.429688 -0.195312 1.296875 -0.34375 C 1.160156 -0.488281 1.0625 -0.679688 1 -0.921875 C 0.9375 -1.160156 0.90625 -1.441406 0.90625 -1.765625 L 0.90625 -5.28125 Z M 1.78125 -5.28125 \"/>\n</symbol>\n</g>\n</defs>\n<g id=\"surface8\">\n<rect x=\"0\" y=\"0\" width=\"200\" height=\"200\" style=\"fill:rgb(100%,100%,100%);fill-opacity:1;stroke:none;\"/>\n<path style=\"fill:none;stroke-width:1;stroke-linecap:butt;stroke-linejoin:miter;stroke:rgb(26.666667%,26.666667%,26.666667%);stroke-opacity:1;stroke-miterlimit:10;\" d=\"M 109.058594 112.640625 L 170 170 \"/>\n<path style=\"fill:none;stroke-width:1;stroke-linecap:butt;stroke-linejoin:miter;stroke:rgb(26.666667%,26.666667%,26.666667%);stroke-opacity:1;stroke-miterlimit:10;\" d=\"M 109.058594 112.640625 L 30 137.921875 \"/>\n<path style=\"fill:none;stroke-width:1;stroke-linecap:butt;stroke-linejoin:miter;stroke:rgb(26.666667%,26.666667%,26.666667%);stroke-opacity:1;stroke-miterlimit:10;\" d=\"M 109.058594 112.640625 L 127.171875 30 \"/>\n<path style=\"fill-rule:nonzero;fill:rgb(67.843137%,84.705882%,90.196078%);fill-opacity:1;stroke-width:1;stroke-linecap:butt;stroke-linejoin:miter;stroke:rgb(0%,0%,0%);stroke-opacity:1;stroke-miterlimit:10;\" d=\"M 134.058594 112.640625 C 134.058594 126.445312 122.863281 137.640625 109.058594 137.640625 C 95.25 137.640625 84.058594 126.445312 84.058594 112.640625 C 84.058594 98.832031 95.25 87.640625 109.058594 87.640625 C 122.863281 87.640625 134.058594 98.832031 134.058594 112.640625 \"/>\n<path style=\"fill-rule:nonzero;fill:rgb(67.843137%,84.705882%,90.196078%);fill-opacity:1;stroke-width:1;stroke-linecap:butt;stroke-linejoin:miter;stroke:rgb(0%,0%,0%);stroke-opacity:1;stroke-miterlimit:10;\" d=\"M 195 170 C 195 183.808594 183.808594 195 170 195 C 156.191406 195 145 183.808594 145 170 C 145 156.191406 156.191406 145 170 145 C 183.808594 145 195 156.191406 195 170 \"/>\n<path style=\"fill-rule:nonzero;fill:rgb(67.843137%,84.705882%,90.196078%);fill-opacity:1;stroke-width:1;stroke-linecap:butt;stroke-linejoin:miter;stroke:rgb(0%,0%,0%);stroke-opacity:1;stroke-miterlimit:10;\" d=\"M 55 137.921875 C 55 151.726562 43.808594 162.921875 30 162.921875 C 16.191406 162.921875 5 151.726562 5 137.921875 C 5 124.113281 16.191406 112.921875 30 112.921875 C 43.808594 112.921875 55 124.113281 55 137.921875 \"/>\n<path style=\"fill-rule:nonzero;fill:rgb(100%,100%,100%);fill-opacity:1;stroke-width:1;stroke-linecap:butt;stroke-linejoin:miter;stroke:rgb(0%,0%,0%);stroke-opacity:1;stroke-miterlimit:10;\" d=\"M 152.171875 30 C 152.171875 43.808594 140.980469 55 127.171875 55 C 113.367188 55 102.171875 43.808594 102.171875 30 C 102.171875 16.191406 113.367188 5 127.171875 5 C 140.980469 5 152.171875 16.191406 152.171875 30 \"/>\n<g style=\"fill:rgb(0%,0%,0%);fill-opacity:1;\">\n  <use xlink:href=\"#glyph0-1\" x=\"105.9375\" y=\"117.433594\"/>\n</g>\n<g style=\"fill:rgb(0%,0%,0%);fill-opacity:1;\">\n  <use xlink:href=\"#glyph0-2\" x=\"167\" y=\"174.847656\"/>\n</g>\n<g style=\"fill:rgb(0%,0%,0%);fill-opacity:1;\">\n  <use xlink:href=\"#glyph0-3\" x=\"26.855469\" y=\"142.113281\"/>\n</g>\n<g style=\"fill:rgb(0%,0%,0%);fill-opacity:1;\">\n  <use xlink:href=\"#glyph0-4\" x=\"109.199219\" y=\"35.125\"/>\n  <use xlink:href=\"#glyph0-3\" x=\"115.200195\" y=\"35.125\"/>\n  <use xlink:href=\"#glyph0-5\" x=\"121.201172\" y=\"35.125\"/>\n  <use xlink:href=\"#glyph0-6\" x=\"127.202148\" y=\"35.125\"/>\n  <use xlink:href=\"#glyph0-7\" x=\"133.203125\" y=\"35.125\"/>\n  <use xlink:href=\"#glyph0-8\" x=\"139.204102\" y=\"35.125\"/>\n</g>\n</g>\n</svg>\n"
          },
          "metadata": {
            "image/svg+xml": {
              "isolated": true
            }
          },
          "execution_count": 28
        }
      ]
    },
    {
      "cell_type": "markdown",
      "source": [],
      "metadata": {
        "id": "2ZaEs35PxM9q"
      }
    },
    {
      "cell_type": "markdown",
      "source": [
        "----\n",
        "\n",
        "## 2. Hands on exercise on social network of Facebook user example\n",
        "\n",
        "### Task1: Recommend a friend based on similarity\n",
        "- Create the facebook user graph `G_facebook1` via `networkx` as in the lecture slides\n",
        "- Visualize `G_facebook1`\n",
        "- Recommend a friend to Alice, who is the most 'similar' her, in terms of the number of common neighbors.\n",
        "\n",
        "\n",
        "\n",
        "\n",
        "\n"
      ],
      "metadata": {
        "id": "3WxC5mKXxMJ5"
      }
    },
    {
      "cell_type": "code",
      "source": [
        "node_list = [\"Alice\", \"Brandon\", \"Cavin\", \"David\", \"Eleanor\", \"Fred\", \"Gia\", \"Hannah\"]\n",
        "edge_list = [\n",
        "    (\"Alice\", \"Brandon\"),\n",
        "    (\"Alice\", \"David\"),\n",
        "    (\"Alice\", \"Eleanor\"),\n",
        "    (\"Brandon\", \"Cavin\"),\n",
        "    (\"David\", \"Cavin\"),\n",
        "    (\"Eleanor\", \"Cavin\"),\n",
        "    (\"Cavin\", \"Fred\"),\n",
        "    (\"Fred\", \"Gia\"),\n",
        "    (\"Fred\", \"Hannah\")\n",
        "]"
      ],
      "metadata": {
        "id": "ZEQApst22IfD"
      },
      "execution_count": 29,
      "outputs": []
    },
    {
      "cell_type": "code",
      "source": [
        "G_facebook1_nx = nx.Graph()\n",
        "G_facebook1_nx.add_nodes_from(node_list)\n",
        "G_facebook1_nx.add_edges_from(edge_list)"
      ],
      "metadata": {
        "id": "M_VWLvSH2Iin"
      },
      "execution_count": 30,
      "outputs": []
    },
    {
      "cell_type": "code",
      "source": [
        "print(G_facebook1_nx)"
      ],
      "metadata": {
        "colab": {
          "base_uri": "https://localhost:8080/"
        },
        "id": "8ENe6TQfUvoj",
        "outputId": "1c116593-280f-4a36-8177-b55a8678ab32"
      },
      "execution_count": 31,
      "outputs": [
        {
          "output_type": "stream",
          "name": "stdout",
          "text": [
            "Graph with 8 nodes and 9 edges\n"
          ]
        }
      ]
    },
    {
      "cell_type": "code",
      "source": [
        "G_facebook1_ig = ig.Graph.from_networkx(G_facebook1_nx)"
      ],
      "metadata": {
        "id": "tTYNNCljxNqk"
      },
      "execution_count": 32,
      "outputs": []
    },
    {
      "cell_type": "code",
      "source": [
        "visual_style_facebook1 = dict()\n",
        "visual_style_facebook1[\"vertex_size\"] = 30\n",
        "visual_style_facebook1[\"vertex_color\"] = \"skyblue\"\n",
        "visual_style_facebook1[\"vertex_label\"] = G_facebook1_ig.vs[\"_nx_name\"]\n",
        "visual_style_facebook1[\"vertex_label_size\"] = 6\n",
        "visual_style_facebook1[\"bbox\"] = (300, 300)\n",
        "visual_style_facebook1[\"margin\"] = 20"
      ],
      "metadata": {
        "id": "OHT22OlyxN40"
      },
      "execution_count": 33,
      "outputs": []
    },
    {
      "cell_type": "code",
      "source": [
        "ig.plot(G_facebook1_ig, **visual_style_facebook1)"
      ],
      "metadata": {
        "id": "_Xte8-Fi8L3G",
        "colab": {
          "base_uri": "https://localhost:8080/",
          "height": 421
        },
        "outputId": "4bf5b6fb-dc09-4313-940a-25527339f584"
      },
      "execution_count": 34,
      "outputs": [
        {
          "output_type": "execute_result",
          "data": {
            "text/plain": [
              "<igraph.drawing.cairo.plot.CairoPlot at 0x782f9d313370>"
            ],
            "image/svg+xml": "<?xml version=\"1.0\" encoding=\"UTF-8\"?>\n<svg xmlns=\"http://www.w3.org/2000/svg\" xmlns:xlink=\"http://www.w3.org/1999/xlink\" width=\"300pt\" height=\"300pt\" viewBox=\"0 0 300 300\" version=\"1.1\">\n<defs>\n<g>\n<symbol overflow=\"visible\" id=\"glyph0-0\">\n<path style=\"stroke:none;\" d=\"M 0.203125 0 L 0.203125 -4 L 1.796875 -4 L 1.796875 0 Z M 0.40625 -0.203125 L 1.59375 -0.203125 L 1.59375 -3.796875 L 0.40625 -3.796875 Z M 0.40625 -0.203125 \"/>\n</symbol>\n<symbol overflow=\"visible\" id=\"glyph0-1\">\n<path style=\"stroke:none;\" d=\"M 3.03125 0 L 2.625 -1.125 L 0.96875 -1.125 L 0.578125 0 L 0 0 L 1.5 -3.953125 L 2.125 -3.953125 L 3.59375 0 Z M 2.046875 -2.796875 C 2.023438 -2.867188 2 -2.941406 1.96875 -3.015625 C 1.945312 -3.097656 1.921875 -3.171875 1.890625 -3.234375 C 1.867188 -3.304688 1.847656 -3.367188 1.828125 -3.421875 C 1.816406 -3.472656 1.8125 -3.507812 1.8125 -3.53125 C 1.800781 -3.507812 1.785156 -3.472656 1.765625 -3.421875 C 1.753906 -3.367188 1.734375 -3.304688 1.703125 -3.234375 C 1.679688 -3.160156 1.660156 -3.085938 1.640625 -3.015625 C 1.617188 -2.941406 1.59375 -2.867188 1.5625 -2.796875 L 1.125 -1.5625 L 2.484375 -1.5625 Z M 2.046875 -2.796875 \"/>\n</symbol>\n<symbol overflow=\"visible\" id=\"glyph0-2\">\n<path style=\"stroke:none;\" d=\"M 2.15625 -0.421875 L 3.265625 -0.421875 L 3.265625 0 L 0.390625 0 L 0.390625 -0.421875 L 1.625 -0.421875 L 1.625 -3.9375 L 0.78125 -3.9375 L 0.78125 -4.34375 L 2.15625 -4.34375 Z M 2.15625 -0.421875 \"/>\n</symbol>\n<symbol overflow=\"visible\" id=\"glyph0-3\">\n<path style=\"stroke:none;\" d=\"M 2.1875 -0.421875 L 3.296875 -0.421875 L 3.296875 0 L 0.421875 0 L 0.421875 -0.421875 L 1.65625 -0.421875 L 1.65625 -2.75 L 0.71875 -2.75 L 0.71875 -3.171875 L 2.1875 -3.171875 Z M 1.59375 -3.78125 L 1.59375 -4.34375 L 2.1875 -4.34375 L 2.1875 -3.78125 Z M 1.59375 -3.78125 \"/>\n</symbol>\n<symbol overflow=\"visible\" id=\"glyph0-4\">\n<path style=\"stroke:none;\" d=\"M 0.375 -1.59375 C 0.375 -1.90625 0.414062 -2.164062 0.5 -2.375 C 0.59375 -2.59375 0.707031 -2.765625 0.84375 -2.890625 C 0.976562 -3.015625 1.132812 -3.101562 1.3125 -3.15625 C 1.488281 -3.207031 1.671875 -3.234375 1.859375 -3.234375 C 2.046875 -3.234375 2.210938 -3.207031 2.359375 -3.15625 C 2.515625 -3.101562 2.644531 -3.035156 2.75 -2.953125 C 2.863281 -2.867188 2.953125 -2.769531 3.015625 -2.65625 C 3.085938 -2.539062 3.132812 -2.414062 3.15625 -2.28125 L 2.59375 -2.234375 C 2.5625 -2.421875 2.484375 -2.5625 2.359375 -2.65625 C 2.234375 -2.757812 2.054688 -2.8125 1.828125 -2.8125 C 1.660156 -2.8125 1.519531 -2.785156 1.40625 -2.734375 C 1.289062 -2.679688 1.195312 -2.601562 1.125 -2.5 C 1.0625 -2.394531 1.015625 -2.265625 0.984375 -2.109375 C 0.953125 -1.960938 0.9375 -1.789062 0.9375 -1.59375 C 0.9375 -1.40625 0.953125 -1.234375 0.984375 -1.078125 C 1.015625 -0.921875 1.0625 -0.785156 1.125 -0.671875 C 1.195312 -0.566406 1.289062 -0.484375 1.40625 -0.421875 C 1.519531 -0.367188 1.660156 -0.34375 1.828125 -0.34375 C 2.035156 -0.34375 2.207031 -0.394531 2.34375 -0.5 C 2.488281 -0.601562 2.578125 -0.765625 2.609375 -0.984375 L 3.171875 -0.9375 C 3.148438 -0.8125 3.101562 -0.6875 3.03125 -0.5625 C 2.96875 -0.445312 2.878906 -0.34375 2.765625 -0.25 C 2.660156 -0.15625 2.53125 -0.078125 2.375 -0.015625 C 2.21875 0.0351562 2.039062 0.0625 1.84375 0.0625 C 1.582031 0.0625 1.359375 0.0195312 1.171875 -0.0625 C 0.984375 -0.144531 0.832031 -0.257812 0.71875 -0.40625 C 0.601562 -0.5625 0.515625 -0.738281 0.453125 -0.9375 C 0.398438 -1.132812 0.375 -1.351562 0.375 -1.59375 Z M 0.375 -1.59375 \"/>\n</symbol>\n<symbol overflow=\"visible\" id=\"glyph0-5\">\n<path style=\"stroke:none;\" d=\"M 0.9375 -1.46875 C 0.9375 -1.300781 0.957031 -1.148438 1 -1.015625 C 1.039062 -0.878906 1.097656 -0.757812 1.171875 -0.65625 C 1.242188 -0.550781 1.332031 -0.472656 1.4375 -0.421875 C 1.550781 -0.367188 1.679688 -0.34375 1.828125 -0.34375 C 1.929688 -0.34375 2.03125 -0.351562 2.125 -0.375 C 2.21875 -0.394531 2.296875 -0.425781 2.359375 -0.46875 C 2.429688 -0.519531 2.492188 -0.570312 2.546875 -0.625 C 2.597656 -0.6875 2.632812 -0.753906 2.65625 -0.828125 L 3.125 -0.6875 C 3.09375 -0.601562 3.046875 -0.515625 2.984375 -0.421875 C 2.921875 -0.335938 2.835938 -0.257812 2.734375 -0.1875 C 2.628906 -0.113281 2.5 -0.0507812 2.34375 0 C 2.195312 0.0390625 2.023438 0.0625 1.828125 0.0625 C 1.597656 0.0625 1.394531 0.0234375 1.21875 -0.046875 C 1.039062 -0.117188 0.890625 -0.222656 0.765625 -0.359375 C 0.648438 -0.492188 0.554688 -0.664062 0.484375 -0.875 C 0.421875 -1.082031 0.390625 -1.328125 0.390625 -1.609375 C 0.390625 -1.910156 0.425781 -2.164062 0.5 -2.375 C 0.582031 -2.582031 0.6875 -2.75 0.8125 -2.875 C 0.945312 -3 1.097656 -3.085938 1.265625 -3.140625 C 1.441406 -3.203125 1.625 -3.234375 1.8125 -3.234375 C 2.0625 -3.234375 2.273438 -3.191406 2.453125 -3.109375 C 2.628906 -3.023438 2.773438 -2.910156 2.890625 -2.765625 C 3.003906 -2.617188 3.082031 -2.441406 3.125 -2.234375 C 3.175781 -2.023438 3.203125 -1.796875 3.203125 -1.546875 L 3.203125 -1.46875 Z M 1.8125 -2.84375 C 1.71875 -2.84375 1.625 -2.828125 1.53125 -2.796875 C 1.4375 -2.765625 1.34375 -2.710938 1.25 -2.640625 C 1.164062 -2.566406 1.09375 -2.46875 1.03125 -2.34375 C 0.976562 -2.226562 0.953125 -2.070312 0.953125 -1.875 L 2.65625 -1.875 C 2.644531 -2.0625 2.613281 -2.210938 2.5625 -2.328125 C 2.507812 -2.453125 2.445312 -2.550781 2.375 -2.625 C 2.300781 -2.707031 2.210938 -2.765625 2.109375 -2.796875 C 2.015625 -2.828125 1.914062 -2.84375 1.8125 -2.84375 Z M 1.8125 -2.84375 \"/>\n</symbol>\n<symbol overflow=\"visible\" id=\"glyph0-6\">\n<path style=\"stroke:none;\" d=\"M 3.375 -1.109375 C 3.375 -0.910156 3.332031 -0.738281 3.25 -0.59375 C 3.164062 -0.457031 3.054688 -0.34375 2.921875 -0.25 C 2.785156 -0.164062 2.625 -0.101562 2.4375 -0.0625 C 2.25 -0.0195312 2.054688 0 1.859375 0 L 0.46875 0 L 0.46875 -3.953125 L 1.6875 -3.953125 C 1.914062 -3.953125 2.117188 -3.929688 2.296875 -3.890625 C 2.472656 -3.859375 2.625 -3.800781 2.75 -3.71875 C 2.875 -3.644531 2.96875 -3.546875 3.03125 -3.421875 C 3.101562 -3.304688 3.140625 -3.164062 3.140625 -3 C 3.140625 -2.882812 3.117188 -2.773438 3.078125 -2.671875 C 3.046875 -2.578125 3 -2.488281 2.9375 -2.40625 C 2.875 -2.332031 2.789062 -2.265625 2.6875 -2.203125 C 2.59375 -2.148438 2.476562 -2.109375 2.34375 -2.078125 C 2.507812 -2.066406 2.65625 -2.03125 2.78125 -1.96875 C 2.914062 -1.914062 3.023438 -1.847656 3.109375 -1.765625 C 3.191406 -1.679688 3.253906 -1.582031 3.296875 -1.46875 C 3.347656 -1.363281 3.375 -1.242188 3.375 -1.109375 Z M 2.578125 -2.921875 C 2.578125 -3.128906 2.5 -3.273438 2.34375 -3.359375 C 2.195312 -3.453125 1.976562 -3.5 1.6875 -3.5 L 1.03125 -3.5 L 1.03125 -2.28125 L 1.6875 -2.28125 C 1.851562 -2.28125 1.988281 -2.296875 2.09375 -2.328125 C 2.207031 -2.359375 2.296875 -2.398438 2.359375 -2.453125 C 2.429688 -2.515625 2.484375 -2.582031 2.515625 -2.65625 C 2.554688 -2.738281 2.578125 -2.828125 2.578125 -2.921875 Z M 2.8125 -1.15625 C 2.8125 -1.28125 2.785156 -1.382812 2.734375 -1.46875 C 2.679688 -1.5625 2.609375 -1.632812 2.515625 -1.6875 C 2.429688 -1.738281 2.320312 -1.773438 2.1875 -1.796875 C 2.0625 -1.828125 1.921875 -1.84375 1.765625 -1.84375 L 1.03125 -1.84375 L 1.03125 -0.453125 L 1.8125 -0.453125 C 1.957031 -0.453125 2.085938 -0.460938 2.203125 -0.484375 C 2.328125 -0.503906 2.429688 -0.539062 2.515625 -0.59375 C 2.609375 -0.65625 2.679688 -0.726562 2.734375 -0.8125 C 2.785156 -0.90625 2.8125 -1.019531 2.8125 -1.15625 Z M 2.8125 -1.15625 \"/>\n</symbol>\n<symbol overflow=\"visible\" id=\"glyph0-7\">\n<path style=\"stroke:none;\" d=\"M 3.0625 -2.6875 C 2.96875 -2.707031 2.867188 -2.722656 2.765625 -2.734375 C 2.671875 -2.742188 2.5625 -2.75 2.4375 -2.75 C 2.269531 -2.75 2.117188 -2.710938 1.984375 -2.640625 C 1.859375 -2.578125 1.75 -2.488281 1.65625 -2.375 C 1.570312 -2.257812 1.503906 -2.125 1.453125 -1.96875 C 1.410156 -1.820312 1.390625 -1.660156 1.390625 -1.484375 L 1.390625 0 L 0.859375 0 L 0.859375 -2.046875 C 0.859375 -2.160156 0.851562 -2.273438 0.84375 -2.390625 C 0.832031 -2.503906 0.816406 -2.609375 0.796875 -2.703125 C 0.785156 -2.804688 0.769531 -2.894531 0.75 -2.96875 C 0.738281 -3.050781 0.722656 -3.117188 0.703125 -3.171875 L 1.203125 -3.171875 C 1.222656 -3.117188 1.238281 -3.0625 1.25 -3 C 1.269531 -2.945312 1.285156 -2.882812 1.296875 -2.8125 C 1.304688 -2.75 1.316406 -2.679688 1.328125 -2.609375 C 1.335938 -2.546875 1.34375 -2.488281 1.34375 -2.4375 L 1.359375 -2.4375 C 1.421875 -2.5625 1.476562 -2.671875 1.53125 -2.765625 C 1.59375 -2.859375 1.664062 -2.941406 1.75 -3.015625 C 1.832031 -3.085938 1.929688 -3.140625 2.046875 -3.171875 C 2.160156 -3.210938 2.296875 -3.234375 2.453125 -3.234375 C 2.566406 -3.234375 2.675781 -3.226562 2.78125 -3.21875 C 2.882812 -3.207031 2.976562 -3.191406 3.0625 -3.171875 Z M 3.0625 -2.6875 \"/>\n</symbol>\n<symbol overflow=\"visible\" id=\"glyph0-8\">\n<path style=\"stroke:none;\" d=\"M 3.21875 -0.328125 C 3.25 -0.328125 3.28125 -0.328125 3.3125 -0.328125 C 3.34375 -0.335938 3.375 -0.34375 3.40625 -0.34375 L 3.40625 -0.015625 C 3.332031 -0.00390625 3.265625 0.00390625 3.203125 0.015625 C 3.140625 0.0234375 3.066406 0.03125 2.984375 0.03125 C 2.890625 0.03125 2.804688 0.0195312 2.734375 0 C 2.660156 -0.03125 2.601562 -0.0703125 2.5625 -0.125 C 2.519531 -0.1875 2.484375 -0.253906 2.453125 -0.328125 C 2.429688 -0.410156 2.421875 -0.503906 2.421875 -0.609375 L 2.390625 -0.609375 C 2.335938 -0.503906 2.273438 -0.410156 2.203125 -0.328125 C 2.140625 -0.242188 2.066406 -0.171875 1.984375 -0.109375 C 1.898438 -0.0546875 1.800781 -0.015625 1.6875 0.015625 C 1.582031 0.046875 1.457031 0.0625 1.3125 0.0625 C 1 0.0625 0.765625 -0.0195312 0.609375 -0.1875 C 0.453125 -0.363281 0.375 -0.597656 0.375 -0.890625 C 0.375 -1.097656 0.410156 -1.265625 0.484375 -1.390625 C 0.566406 -1.523438 0.671875 -1.628906 0.796875 -1.703125 C 0.921875 -1.785156 1.0625 -1.84375 1.21875 -1.875 C 1.375 -1.90625 1.535156 -1.921875 1.703125 -1.921875 L 2.390625 -1.9375 L 2.390625 -2.109375 C 2.390625 -2.234375 2.375 -2.34375 2.34375 -2.4375 C 2.320312 -2.53125 2.285156 -2.601562 2.234375 -2.65625 C 2.179688 -2.71875 2.113281 -2.757812 2.03125 -2.78125 C 1.945312 -2.8125 1.851562 -2.828125 1.75 -2.828125 C 1.644531 -2.828125 1.550781 -2.816406 1.46875 -2.796875 C 1.394531 -2.785156 1.328125 -2.757812 1.265625 -2.71875 C 1.210938 -2.6875 1.164062 -2.632812 1.125 -2.5625 C 1.09375 -2.5 1.070312 -2.421875 1.0625 -2.328125 L 0.515625 -2.375 C 0.535156 -2.5 0.570312 -2.613281 0.625 -2.71875 C 0.675781 -2.820312 0.75 -2.910156 0.84375 -2.984375 C 0.945312 -3.066406 1.070312 -3.128906 1.21875 -3.171875 C 1.363281 -3.210938 1.539062 -3.234375 1.75 -3.234375 C 2.144531 -3.234375 2.441406 -3.140625 2.640625 -2.953125 C 2.835938 -2.773438 2.9375 -2.507812 2.9375 -2.15625 L 2.9375 -0.796875 C 2.9375 -0.640625 2.953125 -0.519531 2.984375 -0.4375 C 3.023438 -0.363281 3.101562 -0.328125 3.21875 -0.328125 Z M 1.4375 -0.34375 C 1.601562 -0.34375 1.742188 -0.375 1.859375 -0.4375 C 1.984375 -0.5 2.082031 -0.578125 2.15625 -0.671875 C 2.238281 -0.765625 2.296875 -0.867188 2.328125 -0.984375 C 2.367188 -1.097656 2.390625 -1.203125 2.390625 -1.296875 L 2.390625 -1.5625 L 1.84375 -1.546875 C 1.726562 -1.546875 1.617188 -1.535156 1.515625 -1.515625 C 1.410156 -1.503906 1.3125 -1.472656 1.21875 -1.421875 C 1.132812 -1.378906 1.0625 -1.3125 1 -1.21875 C 0.945312 -1.132812 0.921875 -1.019531 0.921875 -0.875 C 0.921875 -0.71875 0.960938 -0.585938 1.046875 -0.484375 C 1.140625 -0.390625 1.269531 -0.34375 1.4375 -0.34375 Z M 1.4375 -0.34375 \"/>\n</symbol>\n<symbol overflow=\"visible\" id=\"glyph0-9\">\n<path style=\"stroke:none;\" d=\"M 2.546875 0 L 2.546875 -2.03125 C 2.546875 -2.1875 2.53125 -2.316406 2.5 -2.421875 C 2.46875 -2.523438 2.421875 -2.601562 2.359375 -2.65625 C 2.304688 -2.71875 2.238281 -2.757812 2.15625 -2.78125 C 2.082031 -2.8125 2 -2.828125 1.90625 -2.828125 C 1.78125 -2.828125 1.664062 -2.800781 1.5625 -2.75 C 1.46875 -2.707031 1.382812 -2.644531 1.3125 -2.5625 C 1.238281 -2.476562 1.175781 -2.375 1.125 -2.25 C 1.082031 -2.132812 1.0625 -2 1.0625 -1.84375 L 1.0625 0 L 0.546875 0 L 0.546875 -2.5 C 0.546875 -2.5625 0.546875 -2.628906 0.546875 -2.703125 C 0.546875 -2.773438 0.539062 -2.84375 0.53125 -2.90625 C 0.53125 -2.976562 0.53125 -3.035156 0.53125 -3.078125 C 0.53125 -3.128906 0.53125 -3.160156 0.53125 -3.171875 L 1.015625 -3.171875 C 1.023438 -3.160156 1.03125 -3.132812 1.03125 -3.09375 C 1.03125 -3.050781 1.03125 -3 1.03125 -2.9375 C 1.039062 -2.882812 1.046875 -2.828125 1.046875 -2.765625 C 1.046875 -2.710938 1.046875 -2.664062 1.046875 -2.625 L 1.0625 -2.625 C 1.101562 -2.71875 1.15625 -2.800781 1.21875 -2.875 C 1.28125 -2.945312 1.351562 -3.007812 1.4375 -3.0625 C 1.519531 -3.113281 1.613281 -3.15625 1.71875 -3.1875 C 1.820312 -3.21875 1.9375 -3.234375 2.0625 -3.234375 C 2.226562 -3.234375 2.375 -3.207031 2.5 -3.15625 C 2.625 -3.113281 2.726562 -3.046875 2.8125 -2.953125 C 2.894531 -2.867188 2.957031 -2.753906 3 -2.609375 C 3.050781 -2.472656 3.078125 -2.304688 3.078125 -2.109375 L 3.078125 0 Z M 2.546875 0 \"/>\n</symbol>\n<symbol overflow=\"visible\" id=\"glyph0-10\">\n<path style=\"stroke:none;\" d=\"M 2.53125 -0.515625 C 2.425781 -0.304688 2.296875 -0.15625 2.140625 -0.0625 C 1.984375 0.03125 1.785156 0.078125 1.546875 0.078125 C 1.160156 0.078125 0.875 -0.0546875 0.6875 -0.328125 C 0.5 -0.597656 0.40625 -1.007812 0.40625 -1.5625 C 0.40625 -2.664062 0.785156 -3.21875 1.546875 -3.21875 C 1.785156 -3.21875 1.984375 -3.175781 2.140625 -3.09375 C 2.304688 -3.007812 2.4375 -2.867188 2.53125 -2.671875 C 2.53125 -2.679688 2.53125 -2.707031 2.53125 -2.75 C 2.53125 -2.789062 2.53125 -2.835938 2.53125 -2.890625 C 2.53125 -2.941406 2.53125 -2.988281 2.53125 -3.03125 C 2.53125 -3.070312 2.53125 -3.101562 2.53125 -3.125 L 2.53125 -4.34375 L 3.0625 -4.34375 L 3.0625 -0.65625 C 3.0625 -0.582031 3.0625 -0.507812 3.0625 -0.4375 C 3.0625 -0.363281 3.0625 -0.296875 3.0625 -0.234375 C 3.0625 -0.179688 3.0625 -0.132812 3.0625 -0.09375 C 3.070312 -0.0507812 3.078125 -0.0195312 3.078125 0 L 2.5625 0 C 2.5625 -0.0078125 2.5625 -0.03125 2.5625 -0.0625 C 2.5625 -0.101562 2.554688 -0.144531 2.546875 -0.1875 C 2.546875 -0.238281 2.546875 -0.289062 2.546875 -0.34375 C 2.546875 -0.40625 2.546875 -0.460938 2.546875 -0.515625 Z M 0.953125 -1.578125 C 0.953125 -1.359375 0.960938 -1.171875 0.984375 -1.015625 C 1.015625 -0.859375 1.0625 -0.726562 1.125 -0.625 C 1.1875 -0.519531 1.265625 -0.441406 1.359375 -0.390625 C 1.453125 -0.347656 1.5625 -0.328125 1.6875 -0.328125 C 1.820312 -0.328125 1.941406 -0.347656 2.046875 -0.390625 C 2.148438 -0.441406 2.238281 -0.519531 2.3125 -0.625 C 2.382812 -0.726562 2.4375 -0.859375 2.46875 -1.015625 C 2.507812 -1.179688 2.53125 -1.382812 2.53125 -1.625 C 2.53125 -1.851562 2.507812 -2.039062 2.46875 -2.1875 C 2.4375 -2.34375 2.382812 -2.46875 2.3125 -2.5625 C 2.238281 -2.65625 2.148438 -2.722656 2.046875 -2.765625 C 1.953125 -2.804688 1.835938 -2.828125 1.703125 -2.828125 C 1.578125 -2.828125 1.46875 -2.800781 1.375 -2.75 C 1.28125 -2.707031 1.203125 -2.632812 1.140625 -2.53125 C 1.078125 -2.4375 1.03125 -2.3125 1 -2.15625 C 0.96875 -2 0.953125 -1.804688 0.953125 -1.578125 Z M 0.953125 -1.578125 \"/>\n</symbol>\n<symbol overflow=\"visible\" id=\"glyph0-11\">\n<path style=\"stroke:none;\" d=\"M 3.21875 -1.59375 C 3.21875 -1.3125 3.179688 -1.066406 3.109375 -0.859375 C 3.046875 -0.648438 2.953125 -0.476562 2.828125 -0.34375 C 2.710938 -0.207031 2.566406 -0.101562 2.390625 -0.03125 C 2.210938 0.03125 2.007812 0.0625 1.78125 0.0625 C 1.570312 0.0625 1.378906 0.03125 1.203125 -0.03125 C 1.035156 -0.101562 0.890625 -0.207031 0.765625 -0.34375 C 0.640625 -0.476562 0.539062 -0.648438 0.46875 -0.859375 C 0.40625 -1.066406 0.375 -1.3125 0.375 -1.59375 C 0.375 -2.132812 0.5 -2.539062 0.75 -2.8125 C 1 -3.09375 1.347656 -3.234375 1.796875 -3.234375 C 2.273438 -3.234375 2.628906 -3.097656 2.859375 -2.828125 C 3.097656 -2.554688 3.21875 -2.144531 3.21875 -1.59375 Z M 2.65625 -1.59375 C 2.65625 -1.832031 2.632812 -2.03125 2.59375 -2.1875 C 2.550781 -2.351562 2.492188 -2.484375 2.421875 -2.578125 C 2.347656 -2.671875 2.257812 -2.738281 2.15625 -2.78125 C 2.050781 -2.820312 1.9375 -2.84375 1.8125 -2.84375 C 1.6875 -2.84375 1.566406 -2.820312 1.453125 -2.78125 C 1.347656 -2.738281 1.253906 -2.664062 1.171875 -2.5625 C 1.097656 -2.46875 1.039062 -2.34375 1 -2.1875 C 0.957031 -2.03125 0.9375 -1.832031 0.9375 -1.59375 C 0.9375 -1.34375 0.957031 -1.132812 1 -0.96875 C 1.050781 -0.8125 1.113281 -0.6875 1.1875 -0.59375 C 1.257812 -0.5 1.347656 -0.429688 1.453125 -0.390625 C 1.554688 -0.347656 1.664062 -0.328125 1.78125 -0.328125 C 1.90625 -0.328125 2.019531 -0.347656 2.125 -0.390625 C 2.238281 -0.429688 2.332031 -0.5 2.40625 -0.59375 C 2.488281 -0.6875 2.550781 -0.8125 2.59375 -0.96875 C 2.632812 -1.132812 2.65625 -1.34375 2.65625 -1.59375 Z M 2.65625 -1.59375 \"/>\n</symbol>\n<symbol overflow=\"visible\" id=\"glyph0-12\">\n<path style=\"stroke:none;\" d=\"M 0.921875 -2 C 0.921875 -1.738281 0.9375 -1.507812 0.96875 -1.3125 C 1.007812 -1.113281 1.070312 -0.945312 1.15625 -0.8125 C 1.238281 -0.675781 1.34375 -0.570312 1.46875 -0.5 C 1.601562 -0.425781 1.757812 -0.390625 1.9375 -0.390625 C 2.0625 -0.390625 2.171875 -0.410156 2.265625 -0.453125 C 2.367188 -0.503906 2.457031 -0.566406 2.53125 -0.640625 C 2.613281 -0.722656 2.679688 -0.8125 2.734375 -0.90625 C 2.785156 -1.007812 2.832031 -1.113281 2.875 -1.21875 L 3.34375 -1.03125 C 3.289062 -0.894531 3.222656 -0.757812 3.140625 -0.625 C 3.066406 -0.5 2.972656 -0.382812 2.859375 -0.28125 C 2.742188 -0.175781 2.609375 -0.09375 2.453125 -0.03125 C 2.304688 0.03125 2.132812 0.0625 1.9375 0.0625 C 1.65625 0.0625 1.414062 0.015625 1.21875 -0.078125 C 1.019531 -0.179688 0.851562 -0.320312 0.71875 -0.5 C 0.582031 -0.6875 0.484375 -0.90625 0.421875 -1.15625 C 0.359375 -1.40625 0.328125 -1.6875 0.328125 -2 C 0.328125 -2.320312 0.359375 -2.609375 0.421875 -2.859375 C 0.484375 -3.109375 0.578125 -3.316406 0.703125 -3.484375 C 0.835938 -3.660156 1.003906 -3.789062 1.203125 -3.875 C 1.398438 -3.96875 1.632812 -4.015625 1.90625 -4.015625 C 2.101562 -4.015625 2.273438 -3.988281 2.421875 -3.9375 C 2.566406 -3.882812 2.691406 -3.8125 2.796875 -3.71875 C 2.910156 -3.625 3.003906 -3.515625 3.078125 -3.390625 C 3.148438 -3.273438 3.210938 -3.15625 3.265625 -3.03125 L 2.78125 -2.84375 C 2.75 -2.9375 2.707031 -3.023438 2.65625 -3.109375 C 2.601562 -3.191406 2.539062 -3.265625 2.46875 -3.328125 C 2.394531 -3.398438 2.3125 -3.457031 2.21875 -3.5 C 2.125 -3.539062 2.019531 -3.5625 1.90625 -3.5625 C 1.726562 -3.5625 1.578125 -3.523438 1.453125 -3.453125 C 1.328125 -3.390625 1.222656 -3.289062 1.140625 -3.15625 C 1.066406 -3.03125 1.007812 -2.867188 0.96875 -2.671875 C 0.9375 -2.472656 0.921875 -2.25 0.921875 -2 Z M 0.921875 -2 \"/>\n</symbol>\n<symbol overflow=\"visible\" id=\"glyph0-13\">\n<path style=\"stroke:none;\" d=\"M 2.09375 0 L 1.46875 0 L 0.203125 -3.171875 L 0.796875 -3.171875 L 1.578125 -1.109375 C 1.597656 -1.066406 1.613281 -1.015625 1.625 -0.953125 C 1.644531 -0.890625 1.664062 -0.820312 1.6875 -0.75 C 1.707031 -0.6875 1.722656 -0.625 1.734375 -0.5625 C 1.753906 -0.5 1.769531 -0.445312 1.78125 -0.40625 C 1.789062 -0.445312 1.804688 -0.5 1.828125 -0.5625 C 1.847656 -0.625 1.863281 -0.6875 1.875 -0.75 C 1.894531 -0.820312 1.914062 -0.882812 1.9375 -0.9375 C 1.957031 -1 1.976562 -1.054688 2 -1.109375 L 2.8125 -3.171875 L 3.390625 -3.171875 Z M 2.09375 0 \"/>\n</symbol>\n<symbol overflow=\"visible\" id=\"glyph0-14\">\n<path style=\"stroke:none;\" d=\"M 3.296875 -2.015625 C 3.296875 -1.691406 3.253906 -1.398438 3.171875 -1.140625 C 3.097656 -0.890625 2.984375 -0.679688 2.828125 -0.515625 C 2.679688 -0.347656 2.5 -0.21875 2.28125 -0.125 C 2.070312 -0.0390625 1.832031 0 1.5625 0 L 0.46875 0 L 0.46875 -3.953125 L 1.390625 -3.953125 C 1.691406 -3.953125 1.960938 -3.914062 2.203125 -3.84375 C 2.441406 -3.769531 2.640625 -3.648438 2.796875 -3.484375 C 2.960938 -3.328125 3.085938 -3.125 3.171875 -2.875 C 3.253906 -2.632812 3.296875 -2.347656 3.296875 -2.015625 Z M 2.734375 -2.015625 C 2.734375 -2.273438 2.703125 -2.5 2.640625 -2.6875 C 2.585938 -2.875 2.503906 -3.023438 2.390625 -3.140625 C 2.285156 -3.265625 2.148438 -3.351562 1.984375 -3.40625 C 1.816406 -3.46875 1.617188 -3.5 1.390625 -3.5 L 1.03125 -3.5 L 1.03125 -0.453125 L 1.515625 -0.453125 C 1.921875 -0.453125 2.222656 -0.582031 2.421875 -0.84375 C 2.628906 -1.101562 2.734375 -1.492188 2.734375 -2.015625 Z M 2.734375 -2.015625 \"/>\n</symbol>\n<symbol overflow=\"visible\" id=\"glyph0-15\">\n<path style=\"stroke:none;\" d=\"M 0.46875 0 L 0.46875 -3.953125 L 3.171875 -3.953125 L 3.171875 -3.5 L 1.03125 -3.5 L 1.03125 -2.265625 L 2.984375 -2.265625 L 2.984375 -1.8125 L 1.03125 -1.8125 L 1.03125 -0.453125 L 3.28125 -0.453125 L 3.28125 0 Z M 0.46875 0 \"/>\n</symbol>\n<symbol overflow=\"visible\" id=\"glyph0-16\">\n<path style=\"stroke:none;\" d=\"M 1.125 -3.5 L 1.125 -2.046875 L 3.109375 -2.046875 L 3.109375 -1.578125 L 1.125 -1.578125 L 1.125 0 L 0.5625 0 L 0.5625 -3.953125 L 3.171875 -3.953125 L 3.171875 -3.5 Z M 1.125 -3.5 \"/>\n</symbol>\n<symbol overflow=\"visible\" id=\"glyph0-17\">\n<path style=\"stroke:none;\" d=\"M 3.21875 -0.390625 C 3.15625 -0.335938 3.078125 -0.285156 2.984375 -0.234375 C 2.890625 -0.179688 2.785156 -0.132812 2.671875 -0.09375 C 2.554688 -0.0507812 2.429688 -0.015625 2.296875 0.015625 C 2.160156 0.046875 2.019531 0.0625 1.875 0.0625 C 1.613281 0.0625 1.382812 0.0078125 1.1875 -0.09375 C 1 -0.195312 0.835938 -0.335938 0.703125 -0.515625 C 0.578125 -0.703125 0.484375 -0.921875 0.421875 -1.171875 C 0.359375 -1.421875 0.328125 -1.695312 0.328125 -2 C 0.328125 -2.320312 0.359375 -2.609375 0.421875 -2.859375 C 0.484375 -3.109375 0.578125 -3.316406 0.703125 -3.484375 C 0.828125 -3.660156 0.988281 -3.789062 1.1875 -3.875 C 1.382812 -3.96875 1.613281 -4.015625 1.875 -4.015625 C 2.070312 -4.015625 2.242188 -3.988281 2.390625 -3.9375 C 2.535156 -3.882812 2.660156 -3.8125 2.765625 -3.71875 C 2.878906 -3.632812 2.972656 -3.535156 3.046875 -3.421875 C 3.117188 -3.304688 3.179688 -3.179688 3.234375 -3.046875 L 2.734375 -2.875 C 2.660156 -3.09375 2.554688 -3.257812 2.421875 -3.375 C 2.285156 -3.5 2.109375 -3.5625 1.890625 -3.5625 C 1.710938 -3.5625 1.5625 -3.523438 1.4375 -3.453125 C 1.3125 -3.390625 1.207031 -3.289062 1.125 -3.15625 C 1.050781 -3.019531 1 -2.851562 0.96875 -2.65625 C 0.9375 -2.46875 0.921875 -2.25 0.921875 -2 C 0.921875 -1.46875 1.003906 -1.066406 1.171875 -0.796875 C 1.335938 -0.523438 1.585938 -0.390625 1.921875 -0.390625 C 2.015625 -0.390625 2.097656 -0.398438 2.171875 -0.421875 C 2.253906 -0.441406 2.328125 -0.460938 2.390625 -0.484375 C 2.460938 -0.503906 2.519531 -0.523438 2.5625 -0.546875 C 2.613281 -0.578125 2.65625 -0.597656 2.6875 -0.609375 L 2.6875 -1.59375 L 1.828125 -1.59375 L 1.828125 -2.0625 L 3.21875 -2.0625 Z M 3.21875 -0.390625 \"/>\n</symbol>\n<symbol overflow=\"visible\" id=\"glyph0-18\">\n<path style=\"stroke:none;\" d=\"M 2.5625 0 L 2.5625 -1.828125 L 1.03125 -1.828125 L 1.03125 0 L 0.46875 0 L 0.46875 -3.953125 L 1.03125 -3.953125 L 1.03125 -2.296875 L 2.5625 -2.296875 L 2.5625 -3.953125 L 3.125 -3.953125 L 3.125 0 Z M 2.5625 0 \"/>\n</symbol>\n<symbol overflow=\"visible\" id=\"glyph0-19\">\n<path style=\"stroke:none;\" d=\"M 0.546875 -4.34375 L 1.078125 -4.34375 L 1.078125 -3.203125 C 1.078125 -3.109375 1.070312 -3.007812 1.0625 -2.90625 C 1.0625 -2.8125 1.054688 -2.71875 1.046875 -2.625 L 1.0625 -2.625 C 1.101562 -2.71875 1.15625 -2.800781 1.21875 -2.875 C 1.28125 -2.945312 1.347656 -3.007812 1.421875 -3.0625 C 1.503906 -3.113281 1.597656 -3.15625 1.703125 -3.1875 C 1.804688 -3.21875 1.921875 -3.234375 2.046875 -3.234375 C 2.210938 -3.234375 2.359375 -3.207031 2.484375 -3.15625 C 2.609375 -3.113281 2.710938 -3.046875 2.796875 -2.953125 C 2.890625 -2.867188 2.957031 -2.753906 3 -2.609375 C 3.050781 -2.472656 3.078125 -2.304688 3.078125 -2.109375 L 3.078125 0 L 2.546875 0 L 2.546875 -2.03125 C 2.546875 -2.1875 2.53125 -2.316406 2.5 -2.421875 C 2.46875 -2.523438 2.421875 -2.601562 2.359375 -2.65625 C 2.304688 -2.71875 2.238281 -2.757812 2.15625 -2.78125 C 2.082031 -2.8125 2 -2.828125 1.90625 -2.828125 C 1.78125 -2.828125 1.664062 -2.800781 1.5625 -2.75 C 1.46875 -2.707031 1.382812 -2.644531 1.3125 -2.5625 C 1.238281 -2.476562 1.175781 -2.375 1.125 -2.25 C 1.082031 -2.132812 1.0625 -2 1.0625 -1.84375 L 1.0625 0 L 0.546875 0 Z M 0.546875 -4.34375 \"/>\n</symbol>\n</g>\n</defs>\n<g id=\"surface14\">\n<rect x=\"0\" y=\"0\" width=\"300\" height=\"300\" style=\"fill:rgb(100%,100%,100%);fill-opacity:1;stroke:none;\"/>\n<path style=\"fill:none;stroke-width:1;stroke-linecap:butt;stroke-linejoin:miter;stroke:rgb(26.666667%,26.666667%,26.666667%);stroke-opacity:1;stroke-miterlimit:10;\" d=\"M 20 235.304688 L 107.65625 280 \"/>\n<path style=\"fill:none;stroke-width:1;stroke-linecap:butt;stroke-linejoin:miter;stroke:rgb(26.666667%,26.666667%,26.666667%);stroke-opacity:1;stroke-miterlimit:10;\" d=\"M 20 235.304688 L 72.511719 191.894531 \"/>\n<path style=\"fill:none;stroke-width:1;stroke-linecap:butt;stroke-linejoin:miter;stroke:rgb(26.666667%,26.666667%,26.666667%);stroke-opacity:1;stroke-miterlimit:10;\" d=\"M 20 235.304688 L 46.347656 96.230469 \"/>\n<path style=\"fill:none;stroke-width:1;stroke-linecap:butt;stroke-linejoin:miter;stroke:rgb(26.666667%,26.666667%,26.666667%);stroke-opacity:1;stroke-miterlimit:10;\" d=\"M 107.65625 280 L 130.023438 144.199219 \"/>\n<path style=\"fill:none;stroke-width:1;stroke-linecap:butt;stroke-linejoin:miter;stroke:rgb(26.666667%,26.666667%,26.666667%);stroke-opacity:1;stroke-miterlimit:10;\" d=\"M 130.023438 144.199219 L 72.511719 191.894531 \"/>\n<path style=\"fill:none;stroke-width:1;stroke-linecap:butt;stroke-linejoin:miter;stroke:rgb(26.666667%,26.666667%,26.666667%);stroke-opacity:1;stroke-miterlimit:10;\" d=\"M 130.023438 144.199219 L 46.347656 96.230469 \"/>\n<path style=\"fill:none;stroke-width:1;stroke-linecap:butt;stroke-linejoin:miter;stroke:rgb(26.666667%,26.666667%,26.666667%);stroke-opacity:1;stroke-miterlimit:10;\" d=\"M 130.023438 144.199219 L 198.4375 87.542969 \"/>\n<path style=\"fill:none;stroke-width:1;stroke-linecap:butt;stroke-linejoin:miter;stroke:rgb(26.666667%,26.666667%,26.666667%);stroke-opacity:1;stroke-miterlimit:10;\" d=\"M 198.4375 87.542969 L 280 20 \"/>\n<path style=\"fill:none;stroke-width:1;stroke-linecap:butt;stroke-linejoin:miter;stroke:rgb(26.666667%,26.666667%,26.666667%);stroke-opacity:1;stroke-miterlimit:10;\" d=\"M 198.4375 87.542969 L 249.191406 45.511719 \"/>\n<path style=\"fill-rule:nonzero;fill:rgb(52.941176%,80.784314%,92.156863%);fill-opacity:1;stroke-width:1;stroke-linecap:butt;stroke-linejoin:miter;stroke:rgb(0%,0%,0%);stroke-opacity:1;stroke-miterlimit:10;\" d=\"M 35 235.304688 C 35 243.589844 28.285156 250.304688 20 250.304688 C 11.714844 250.304688 5 243.589844 5 235.304688 C 5 227.019531 11.714844 220.304688 20 220.304688 C 28.285156 220.304688 35 227.019531 35 235.304688 \"/>\n<path style=\"fill-rule:nonzero;fill:rgb(52.941176%,80.784314%,92.156863%);fill-opacity:1;stroke-width:1;stroke-linecap:butt;stroke-linejoin:miter;stroke:rgb(0%,0%,0%);stroke-opacity:1;stroke-miterlimit:10;\" d=\"M 122.65625 280 C 122.65625 288.285156 115.941406 295 107.65625 295 C 99.375 295 92.65625 288.285156 92.65625 280 C 92.65625 271.714844 99.375 265 107.65625 265 C 115.941406 265 122.65625 271.714844 122.65625 280 \"/>\n<path style=\"fill-rule:nonzero;fill:rgb(52.941176%,80.784314%,92.156863%);fill-opacity:1;stroke-width:1;stroke-linecap:butt;stroke-linejoin:miter;stroke:rgb(0%,0%,0%);stroke-opacity:1;stroke-miterlimit:10;\" d=\"M 145.023438 144.199219 C 145.023438 152.484375 138.304688 159.199219 130.023438 159.199219 C 121.738281 159.199219 115.023438 152.484375 115.023438 144.199219 C 115.023438 135.914062 121.738281 129.199219 130.023438 129.199219 C 138.304688 129.199219 145.023438 135.914062 145.023438 144.199219 \"/>\n<path style=\"fill-rule:nonzero;fill:rgb(52.941176%,80.784314%,92.156863%);fill-opacity:1;stroke-width:1;stroke-linecap:butt;stroke-linejoin:miter;stroke:rgb(0%,0%,0%);stroke-opacity:1;stroke-miterlimit:10;\" d=\"M 87.511719 191.894531 C 87.511719 200.179688 80.796875 206.894531 72.511719 206.894531 C 64.230469 206.894531 57.511719 200.179688 57.511719 191.894531 C 57.511719 183.613281 64.230469 176.894531 72.511719 176.894531 C 80.796875 176.894531 87.511719 183.613281 87.511719 191.894531 \"/>\n<path style=\"fill-rule:nonzero;fill:rgb(52.941176%,80.784314%,92.156863%);fill-opacity:1;stroke-width:1;stroke-linecap:butt;stroke-linejoin:miter;stroke:rgb(0%,0%,0%);stroke-opacity:1;stroke-miterlimit:10;\" d=\"M 61.347656 96.230469 C 61.347656 104.511719 54.632812 111.230469 46.347656 111.230469 C 38.066406 111.230469 31.347656 104.511719 31.347656 96.230469 C 31.347656 87.945312 38.066406 81.230469 46.347656 81.230469 C 54.632812 81.230469 61.347656 87.945312 61.347656 96.230469 \"/>\n<path style=\"fill-rule:nonzero;fill:rgb(52.941176%,80.784314%,92.156863%);fill-opacity:1;stroke-width:1;stroke-linecap:butt;stroke-linejoin:miter;stroke:rgb(0%,0%,0%);stroke-opacity:1;stroke-miterlimit:10;\" d=\"M 213.4375 87.542969 C 213.4375 95.824219 206.71875 102.542969 198.4375 102.542969 C 190.152344 102.542969 183.4375 95.824219 183.4375 87.542969 C 183.4375 79.257812 190.152344 72.542969 198.4375 72.542969 C 206.71875 72.542969 213.4375 79.257812 213.4375 87.542969 \"/>\n<path style=\"fill-rule:nonzero;fill:rgb(52.941176%,80.784314%,92.156863%);fill-opacity:1;stroke-width:1;stroke-linecap:butt;stroke-linejoin:miter;stroke:rgb(0%,0%,0%);stroke-opacity:1;stroke-miterlimit:10;\" d=\"M 295 20 C 295 28.285156 288.285156 35 280 35 C 271.714844 35 265 28.285156 265 20 C 265 11.714844 271.714844 5 280 5 C 288.285156 5 295 11.714844 295 20 \"/>\n<path style=\"fill-rule:nonzero;fill:rgb(52.941176%,80.784314%,92.156863%);fill-opacity:1;stroke-width:1;stroke-linecap:butt;stroke-linejoin:miter;stroke:rgb(0%,0%,0%);stroke-opacity:1;stroke-miterlimit:10;\" d=\"M 264.191406 45.511719 C 264.191406 53.796875 257.476562 60.511719 249.191406 60.511719 C 240.90625 60.511719 234.191406 53.796875 234.191406 45.511719 C 234.191406 37.230469 240.90625 30.511719 249.191406 30.511719 C 257.476562 30.511719 264.191406 37.230469 264.191406 45.511719 \"/>\n<g style=\"fill:rgb(0%,0%,0%);fill-opacity:1;\">\n  <use xlink:href=\"#glyph0-1\" x=\"11.195312\" y=\"238.378906\"/>\n  <use xlink:href=\"#glyph0-2\" x=\"14.795898\" y=\"238.378906\"/>\n  <use xlink:href=\"#glyph0-3\" x=\"18.396484\" y=\"238.378906\"/>\n  <use xlink:href=\"#glyph0-4\" x=\"21.99707\" y=\"238.378906\"/>\n  <use xlink:href=\"#glyph0-5\" x=\"25.597656\" y=\"238.378906\"/>\n</g>\n<g style=\"fill:rgb(0%,0%,0%);fill-opacity:1;\">\n  <use xlink:href=\"#glyph0-6\" x=\"95.082031\" y=\"283.074219\"/>\n  <use xlink:href=\"#glyph0-7\" x=\"98.682617\" y=\"283.074219\"/>\n  <use xlink:href=\"#glyph0-8\" x=\"102.283203\" y=\"283.074219\"/>\n  <use xlink:href=\"#glyph0-9\" x=\"105.883789\" y=\"283.074219\"/>\n  <use xlink:href=\"#glyph0-10\" x=\"109.484375\" y=\"283.074219\"/>\n  <use xlink:href=\"#glyph0-11\" x=\"113.084961\" y=\"283.074219\"/>\n  <use xlink:href=\"#glyph0-9\" x=\"116.685547\" y=\"283.074219\"/>\n</g>\n<g style=\"fill:rgb(0%,0%,0%);fill-opacity:1;\">\n  <use xlink:href=\"#glyph0-12\" x=\"121.117188\" y=\"147.273438\"/>\n  <use xlink:href=\"#glyph0-8\" x=\"124.717773\" y=\"147.273438\"/>\n  <use xlink:href=\"#glyph0-13\" x=\"128.318359\" y=\"147.273438\"/>\n  <use xlink:href=\"#glyph0-3\" x=\"131.918945\" y=\"147.273438\"/>\n  <use xlink:href=\"#glyph0-9\" x=\"135.519531\" y=\"147.273438\"/>\n</g>\n<g style=\"fill:rgb(0%,0%,0%);fill-opacity:1;\">\n  <use xlink:href=\"#glyph0-14\" x=\"63.539062\" y=\"194.96875\"/>\n  <use xlink:href=\"#glyph0-8\" x=\"67.139648\" y=\"194.96875\"/>\n  <use xlink:href=\"#glyph0-13\" x=\"70.740234\" y=\"194.96875\"/>\n  <use xlink:href=\"#glyph0-3\" x=\"74.34082\" y=\"194.96875\"/>\n  <use xlink:href=\"#glyph0-10\" x=\"77.941406\" y=\"194.96875\"/>\n</g>\n<g style=\"fill:rgb(0%,0%,0%);fill-opacity:1;\">\n  <use xlink:href=\"#glyph0-15\" x=\"33.777344\" y=\"99.304688\"/>\n  <use xlink:href=\"#glyph0-2\" x=\"37.37793\" y=\"99.304688\"/>\n  <use xlink:href=\"#glyph0-5\" x=\"40.978516\" y=\"99.304688\"/>\n  <use xlink:href=\"#glyph0-8\" x=\"44.579102\" y=\"99.304688\"/>\n  <use xlink:href=\"#glyph0-9\" x=\"48.179688\" y=\"99.304688\"/>\n  <use xlink:href=\"#glyph0-11\" x=\"51.780273\" y=\"99.304688\"/>\n  <use xlink:href=\"#glyph0-7\" x=\"55.380859\" y=\"99.304688\"/>\n</g>\n<g style=\"fill:rgb(0%,0%,0%);fill-opacity:1;\">\n  <use xlink:href=\"#glyph0-16\" x=\"191.214844\" y=\"90.617188\"/>\n  <use xlink:href=\"#glyph0-7\" x=\"194.81543\" y=\"90.617188\"/>\n  <use xlink:href=\"#glyph0-5\" x=\"198.416016\" y=\"90.617188\"/>\n  <use xlink:href=\"#glyph0-10\" x=\"202.016602\" y=\"90.617188\"/>\n</g>\n<g style=\"fill:rgb(0%,0%,0%);fill-opacity:1;\">\n  <use xlink:href=\"#glyph0-17\" x=\"274.535156\" y=\"23.074219\"/>\n  <use xlink:href=\"#glyph0-3\" x=\"278.135742\" y=\"23.074219\"/>\n  <use xlink:href=\"#glyph0-8\" x=\"281.736328\" y=\"23.074219\"/>\n</g>\n<g style=\"fill:rgb(0%,0%,0%);fill-opacity:1;\">\n  <use xlink:href=\"#glyph0-18\" x=\"238.417969\" y=\"48.589844\"/>\n  <use xlink:href=\"#glyph0-8\" x=\"242.018555\" y=\"48.589844\"/>\n  <use xlink:href=\"#glyph0-9\" x=\"245.619141\" y=\"48.589844\"/>\n  <use xlink:href=\"#glyph0-9\" x=\"249.219727\" y=\"48.589844\"/>\n  <use xlink:href=\"#glyph0-8\" x=\"252.820312\" y=\"48.589844\"/>\n  <use xlink:href=\"#glyph0-19\" x=\"256.420898\" y=\"48.589844\"/>\n</g>\n</g>\n</svg>\n"
          },
          "metadata": {
            "image/svg+xml": {
              "isolated": true
            }
          },
          "execution_count": 34
        }
      ]
    },
    {
      "cell_type": "markdown",
      "source": [
        "The figure is a bit misleading. (Fred, Gia) edge seems to overlap with (Fred,Hannah) edge. Let's explore other layout options."
      ],
      "metadata": {
        "id": "wzFFgilV8lYA"
      }
    },
    {
      "cell_type": "code",
      "source": [
        "visual_style_facebook1[\"layout\"] = G_facebook1_ig.layout(\"circle\")\n",
        "ig.plot(G_facebook1_ig, **visual_style_facebook1)"
      ],
      "metadata": {
        "id": "C_TyJin98dBs",
        "colab": {
          "base_uri": "https://localhost:8080/",
          "height": 421
        },
        "outputId": "705d2174-5001-44c0-b0f3-090c6ae66ffb"
      },
      "execution_count": 35,
      "outputs": [
        {
          "output_type": "execute_result",
          "data": {
            "text/plain": [
              "<igraph.drawing.cairo.plot.CairoPlot at 0x782f9d312650>"
            ],
            "image/svg+xml": "<?xml version=\"1.0\" encoding=\"UTF-8\"?>\n<svg xmlns=\"http://www.w3.org/2000/svg\" xmlns:xlink=\"http://www.w3.org/1999/xlink\" width=\"300pt\" height=\"300pt\" viewBox=\"0 0 300 300\" version=\"1.1\">\n<defs>\n<g>\n<symbol overflow=\"visible\" id=\"glyph0-0\">\n<path style=\"stroke:none;\" d=\"M 0.203125 0 L 0.203125 -4 L 1.796875 -4 L 1.796875 0 Z M 0.40625 -0.203125 L 1.59375 -0.203125 L 1.59375 -3.796875 L 0.40625 -3.796875 Z M 0.40625 -0.203125 \"/>\n</symbol>\n<symbol overflow=\"visible\" id=\"glyph0-1\">\n<path style=\"stroke:none;\" d=\"M 3.03125 0 L 2.625 -1.125 L 0.96875 -1.125 L 0.578125 0 L 0 0 L 1.5 -3.953125 L 2.125 -3.953125 L 3.59375 0 Z M 2.046875 -2.796875 C 2.023438 -2.867188 2 -2.941406 1.96875 -3.015625 C 1.945312 -3.097656 1.921875 -3.171875 1.890625 -3.234375 C 1.867188 -3.304688 1.847656 -3.367188 1.828125 -3.421875 C 1.816406 -3.472656 1.8125 -3.507812 1.8125 -3.53125 C 1.800781 -3.507812 1.785156 -3.472656 1.765625 -3.421875 C 1.753906 -3.367188 1.734375 -3.304688 1.703125 -3.234375 C 1.679688 -3.160156 1.660156 -3.085938 1.640625 -3.015625 C 1.617188 -2.941406 1.59375 -2.867188 1.5625 -2.796875 L 1.125 -1.5625 L 2.484375 -1.5625 Z M 2.046875 -2.796875 \"/>\n</symbol>\n<symbol overflow=\"visible\" id=\"glyph0-2\">\n<path style=\"stroke:none;\" d=\"M 2.15625 -0.421875 L 3.265625 -0.421875 L 3.265625 0 L 0.390625 0 L 0.390625 -0.421875 L 1.625 -0.421875 L 1.625 -3.9375 L 0.78125 -3.9375 L 0.78125 -4.34375 L 2.15625 -4.34375 Z M 2.15625 -0.421875 \"/>\n</symbol>\n<symbol overflow=\"visible\" id=\"glyph0-3\">\n<path style=\"stroke:none;\" d=\"M 2.1875 -0.421875 L 3.296875 -0.421875 L 3.296875 0 L 0.421875 0 L 0.421875 -0.421875 L 1.65625 -0.421875 L 1.65625 -2.75 L 0.71875 -2.75 L 0.71875 -3.171875 L 2.1875 -3.171875 Z M 1.59375 -3.78125 L 1.59375 -4.34375 L 2.1875 -4.34375 L 2.1875 -3.78125 Z M 1.59375 -3.78125 \"/>\n</symbol>\n<symbol overflow=\"visible\" id=\"glyph0-4\">\n<path style=\"stroke:none;\" d=\"M 0.375 -1.59375 C 0.375 -1.90625 0.414062 -2.164062 0.5 -2.375 C 0.59375 -2.59375 0.707031 -2.765625 0.84375 -2.890625 C 0.976562 -3.015625 1.132812 -3.101562 1.3125 -3.15625 C 1.488281 -3.207031 1.671875 -3.234375 1.859375 -3.234375 C 2.046875 -3.234375 2.210938 -3.207031 2.359375 -3.15625 C 2.515625 -3.101562 2.644531 -3.035156 2.75 -2.953125 C 2.863281 -2.867188 2.953125 -2.769531 3.015625 -2.65625 C 3.085938 -2.539062 3.132812 -2.414062 3.15625 -2.28125 L 2.59375 -2.234375 C 2.5625 -2.421875 2.484375 -2.5625 2.359375 -2.65625 C 2.234375 -2.757812 2.054688 -2.8125 1.828125 -2.8125 C 1.660156 -2.8125 1.519531 -2.785156 1.40625 -2.734375 C 1.289062 -2.679688 1.195312 -2.601562 1.125 -2.5 C 1.0625 -2.394531 1.015625 -2.265625 0.984375 -2.109375 C 0.953125 -1.960938 0.9375 -1.789062 0.9375 -1.59375 C 0.9375 -1.40625 0.953125 -1.234375 0.984375 -1.078125 C 1.015625 -0.921875 1.0625 -0.785156 1.125 -0.671875 C 1.195312 -0.566406 1.289062 -0.484375 1.40625 -0.421875 C 1.519531 -0.367188 1.660156 -0.34375 1.828125 -0.34375 C 2.035156 -0.34375 2.207031 -0.394531 2.34375 -0.5 C 2.488281 -0.601562 2.578125 -0.765625 2.609375 -0.984375 L 3.171875 -0.9375 C 3.148438 -0.8125 3.101562 -0.6875 3.03125 -0.5625 C 2.96875 -0.445312 2.878906 -0.34375 2.765625 -0.25 C 2.660156 -0.15625 2.53125 -0.078125 2.375 -0.015625 C 2.21875 0.0351562 2.039062 0.0625 1.84375 0.0625 C 1.582031 0.0625 1.359375 0.0195312 1.171875 -0.0625 C 0.984375 -0.144531 0.832031 -0.257812 0.71875 -0.40625 C 0.601562 -0.5625 0.515625 -0.738281 0.453125 -0.9375 C 0.398438 -1.132812 0.375 -1.351562 0.375 -1.59375 Z M 0.375 -1.59375 \"/>\n</symbol>\n<symbol overflow=\"visible\" id=\"glyph0-5\">\n<path style=\"stroke:none;\" d=\"M 0.9375 -1.46875 C 0.9375 -1.300781 0.957031 -1.148438 1 -1.015625 C 1.039062 -0.878906 1.097656 -0.757812 1.171875 -0.65625 C 1.242188 -0.550781 1.332031 -0.472656 1.4375 -0.421875 C 1.550781 -0.367188 1.679688 -0.34375 1.828125 -0.34375 C 1.929688 -0.34375 2.03125 -0.351562 2.125 -0.375 C 2.21875 -0.394531 2.296875 -0.425781 2.359375 -0.46875 C 2.429688 -0.519531 2.492188 -0.570312 2.546875 -0.625 C 2.597656 -0.6875 2.632812 -0.753906 2.65625 -0.828125 L 3.125 -0.6875 C 3.09375 -0.601562 3.046875 -0.515625 2.984375 -0.421875 C 2.921875 -0.335938 2.835938 -0.257812 2.734375 -0.1875 C 2.628906 -0.113281 2.5 -0.0507812 2.34375 0 C 2.195312 0.0390625 2.023438 0.0625 1.828125 0.0625 C 1.597656 0.0625 1.394531 0.0234375 1.21875 -0.046875 C 1.039062 -0.117188 0.890625 -0.222656 0.765625 -0.359375 C 0.648438 -0.492188 0.554688 -0.664062 0.484375 -0.875 C 0.421875 -1.082031 0.390625 -1.328125 0.390625 -1.609375 C 0.390625 -1.910156 0.425781 -2.164062 0.5 -2.375 C 0.582031 -2.582031 0.6875 -2.75 0.8125 -2.875 C 0.945312 -3 1.097656 -3.085938 1.265625 -3.140625 C 1.441406 -3.203125 1.625 -3.234375 1.8125 -3.234375 C 2.0625 -3.234375 2.273438 -3.191406 2.453125 -3.109375 C 2.628906 -3.023438 2.773438 -2.910156 2.890625 -2.765625 C 3.003906 -2.617188 3.082031 -2.441406 3.125 -2.234375 C 3.175781 -2.023438 3.203125 -1.796875 3.203125 -1.546875 L 3.203125 -1.46875 Z M 1.8125 -2.84375 C 1.71875 -2.84375 1.625 -2.828125 1.53125 -2.796875 C 1.4375 -2.765625 1.34375 -2.710938 1.25 -2.640625 C 1.164062 -2.566406 1.09375 -2.46875 1.03125 -2.34375 C 0.976562 -2.226562 0.953125 -2.070312 0.953125 -1.875 L 2.65625 -1.875 C 2.644531 -2.0625 2.613281 -2.210938 2.5625 -2.328125 C 2.507812 -2.453125 2.445312 -2.550781 2.375 -2.625 C 2.300781 -2.707031 2.210938 -2.765625 2.109375 -2.796875 C 2.015625 -2.828125 1.914062 -2.84375 1.8125 -2.84375 Z M 1.8125 -2.84375 \"/>\n</symbol>\n<symbol overflow=\"visible\" id=\"glyph0-6\">\n<path style=\"stroke:none;\" d=\"M 3.375 -1.109375 C 3.375 -0.910156 3.332031 -0.738281 3.25 -0.59375 C 3.164062 -0.457031 3.054688 -0.34375 2.921875 -0.25 C 2.785156 -0.164062 2.625 -0.101562 2.4375 -0.0625 C 2.25 -0.0195312 2.054688 0 1.859375 0 L 0.46875 0 L 0.46875 -3.953125 L 1.6875 -3.953125 C 1.914062 -3.953125 2.117188 -3.929688 2.296875 -3.890625 C 2.472656 -3.859375 2.625 -3.800781 2.75 -3.71875 C 2.875 -3.644531 2.96875 -3.546875 3.03125 -3.421875 C 3.101562 -3.304688 3.140625 -3.164062 3.140625 -3 C 3.140625 -2.882812 3.117188 -2.773438 3.078125 -2.671875 C 3.046875 -2.578125 3 -2.488281 2.9375 -2.40625 C 2.875 -2.332031 2.789062 -2.265625 2.6875 -2.203125 C 2.59375 -2.148438 2.476562 -2.109375 2.34375 -2.078125 C 2.507812 -2.066406 2.65625 -2.03125 2.78125 -1.96875 C 2.914062 -1.914062 3.023438 -1.847656 3.109375 -1.765625 C 3.191406 -1.679688 3.253906 -1.582031 3.296875 -1.46875 C 3.347656 -1.363281 3.375 -1.242188 3.375 -1.109375 Z M 2.578125 -2.921875 C 2.578125 -3.128906 2.5 -3.273438 2.34375 -3.359375 C 2.195312 -3.453125 1.976562 -3.5 1.6875 -3.5 L 1.03125 -3.5 L 1.03125 -2.28125 L 1.6875 -2.28125 C 1.851562 -2.28125 1.988281 -2.296875 2.09375 -2.328125 C 2.207031 -2.359375 2.296875 -2.398438 2.359375 -2.453125 C 2.429688 -2.515625 2.484375 -2.582031 2.515625 -2.65625 C 2.554688 -2.738281 2.578125 -2.828125 2.578125 -2.921875 Z M 2.8125 -1.15625 C 2.8125 -1.28125 2.785156 -1.382812 2.734375 -1.46875 C 2.679688 -1.5625 2.609375 -1.632812 2.515625 -1.6875 C 2.429688 -1.738281 2.320312 -1.773438 2.1875 -1.796875 C 2.0625 -1.828125 1.921875 -1.84375 1.765625 -1.84375 L 1.03125 -1.84375 L 1.03125 -0.453125 L 1.8125 -0.453125 C 1.957031 -0.453125 2.085938 -0.460938 2.203125 -0.484375 C 2.328125 -0.503906 2.429688 -0.539062 2.515625 -0.59375 C 2.609375 -0.65625 2.679688 -0.726562 2.734375 -0.8125 C 2.785156 -0.90625 2.8125 -1.019531 2.8125 -1.15625 Z M 2.8125 -1.15625 \"/>\n</symbol>\n<symbol overflow=\"visible\" id=\"glyph0-7\">\n<path style=\"stroke:none;\" d=\"M 3.0625 -2.6875 C 2.96875 -2.707031 2.867188 -2.722656 2.765625 -2.734375 C 2.671875 -2.742188 2.5625 -2.75 2.4375 -2.75 C 2.269531 -2.75 2.117188 -2.710938 1.984375 -2.640625 C 1.859375 -2.578125 1.75 -2.488281 1.65625 -2.375 C 1.570312 -2.257812 1.503906 -2.125 1.453125 -1.96875 C 1.410156 -1.820312 1.390625 -1.660156 1.390625 -1.484375 L 1.390625 0 L 0.859375 0 L 0.859375 -2.046875 C 0.859375 -2.160156 0.851562 -2.273438 0.84375 -2.390625 C 0.832031 -2.503906 0.816406 -2.609375 0.796875 -2.703125 C 0.785156 -2.804688 0.769531 -2.894531 0.75 -2.96875 C 0.738281 -3.050781 0.722656 -3.117188 0.703125 -3.171875 L 1.203125 -3.171875 C 1.222656 -3.117188 1.238281 -3.0625 1.25 -3 C 1.269531 -2.945312 1.285156 -2.882812 1.296875 -2.8125 C 1.304688 -2.75 1.316406 -2.679688 1.328125 -2.609375 C 1.335938 -2.546875 1.34375 -2.488281 1.34375 -2.4375 L 1.359375 -2.4375 C 1.421875 -2.5625 1.476562 -2.671875 1.53125 -2.765625 C 1.59375 -2.859375 1.664062 -2.941406 1.75 -3.015625 C 1.832031 -3.085938 1.929688 -3.140625 2.046875 -3.171875 C 2.160156 -3.210938 2.296875 -3.234375 2.453125 -3.234375 C 2.566406 -3.234375 2.675781 -3.226562 2.78125 -3.21875 C 2.882812 -3.207031 2.976562 -3.191406 3.0625 -3.171875 Z M 3.0625 -2.6875 \"/>\n</symbol>\n<symbol overflow=\"visible\" id=\"glyph0-8\">\n<path style=\"stroke:none;\" d=\"M 3.21875 -0.328125 C 3.25 -0.328125 3.28125 -0.328125 3.3125 -0.328125 C 3.34375 -0.335938 3.375 -0.34375 3.40625 -0.34375 L 3.40625 -0.015625 C 3.332031 -0.00390625 3.265625 0.00390625 3.203125 0.015625 C 3.140625 0.0234375 3.066406 0.03125 2.984375 0.03125 C 2.890625 0.03125 2.804688 0.0195312 2.734375 0 C 2.660156 -0.03125 2.601562 -0.0703125 2.5625 -0.125 C 2.519531 -0.1875 2.484375 -0.253906 2.453125 -0.328125 C 2.429688 -0.410156 2.421875 -0.503906 2.421875 -0.609375 L 2.390625 -0.609375 C 2.335938 -0.503906 2.273438 -0.410156 2.203125 -0.328125 C 2.140625 -0.242188 2.066406 -0.171875 1.984375 -0.109375 C 1.898438 -0.0546875 1.800781 -0.015625 1.6875 0.015625 C 1.582031 0.046875 1.457031 0.0625 1.3125 0.0625 C 1 0.0625 0.765625 -0.0195312 0.609375 -0.1875 C 0.453125 -0.363281 0.375 -0.597656 0.375 -0.890625 C 0.375 -1.097656 0.410156 -1.265625 0.484375 -1.390625 C 0.566406 -1.523438 0.671875 -1.628906 0.796875 -1.703125 C 0.921875 -1.785156 1.0625 -1.84375 1.21875 -1.875 C 1.375 -1.90625 1.535156 -1.921875 1.703125 -1.921875 L 2.390625 -1.9375 L 2.390625 -2.109375 C 2.390625 -2.234375 2.375 -2.34375 2.34375 -2.4375 C 2.320312 -2.53125 2.285156 -2.601562 2.234375 -2.65625 C 2.179688 -2.71875 2.113281 -2.757812 2.03125 -2.78125 C 1.945312 -2.8125 1.851562 -2.828125 1.75 -2.828125 C 1.644531 -2.828125 1.550781 -2.816406 1.46875 -2.796875 C 1.394531 -2.785156 1.328125 -2.757812 1.265625 -2.71875 C 1.210938 -2.6875 1.164062 -2.632812 1.125 -2.5625 C 1.09375 -2.5 1.070312 -2.421875 1.0625 -2.328125 L 0.515625 -2.375 C 0.535156 -2.5 0.570312 -2.613281 0.625 -2.71875 C 0.675781 -2.820312 0.75 -2.910156 0.84375 -2.984375 C 0.945312 -3.066406 1.070312 -3.128906 1.21875 -3.171875 C 1.363281 -3.210938 1.539062 -3.234375 1.75 -3.234375 C 2.144531 -3.234375 2.441406 -3.140625 2.640625 -2.953125 C 2.835938 -2.773438 2.9375 -2.507812 2.9375 -2.15625 L 2.9375 -0.796875 C 2.9375 -0.640625 2.953125 -0.519531 2.984375 -0.4375 C 3.023438 -0.363281 3.101562 -0.328125 3.21875 -0.328125 Z M 1.4375 -0.34375 C 1.601562 -0.34375 1.742188 -0.375 1.859375 -0.4375 C 1.984375 -0.5 2.082031 -0.578125 2.15625 -0.671875 C 2.238281 -0.765625 2.296875 -0.867188 2.328125 -0.984375 C 2.367188 -1.097656 2.390625 -1.203125 2.390625 -1.296875 L 2.390625 -1.5625 L 1.84375 -1.546875 C 1.726562 -1.546875 1.617188 -1.535156 1.515625 -1.515625 C 1.410156 -1.503906 1.3125 -1.472656 1.21875 -1.421875 C 1.132812 -1.378906 1.0625 -1.3125 1 -1.21875 C 0.945312 -1.132812 0.921875 -1.019531 0.921875 -0.875 C 0.921875 -0.71875 0.960938 -0.585938 1.046875 -0.484375 C 1.140625 -0.390625 1.269531 -0.34375 1.4375 -0.34375 Z M 1.4375 -0.34375 \"/>\n</symbol>\n<symbol overflow=\"visible\" id=\"glyph0-9\">\n<path style=\"stroke:none;\" d=\"M 2.546875 0 L 2.546875 -2.03125 C 2.546875 -2.1875 2.53125 -2.316406 2.5 -2.421875 C 2.46875 -2.523438 2.421875 -2.601562 2.359375 -2.65625 C 2.304688 -2.71875 2.238281 -2.757812 2.15625 -2.78125 C 2.082031 -2.8125 2 -2.828125 1.90625 -2.828125 C 1.78125 -2.828125 1.664062 -2.800781 1.5625 -2.75 C 1.46875 -2.707031 1.382812 -2.644531 1.3125 -2.5625 C 1.238281 -2.476562 1.175781 -2.375 1.125 -2.25 C 1.082031 -2.132812 1.0625 -2 1.0625 -1.84375 L 1.0625 0 L 0.546875 0 L 0.546875 -2.5 C 0.546875 -2.5625 0.546875 -2.628906 0.546875 -2.703125 C 0.546875 -2.773438 0.539062 -2.84375 0.53125 -2.90625 C 0.53125 -2.976562 0.53125 -3.035156 0.53125 -3.078125 C 0.53125 -3.128906 0.53125 -3.160156 0.53125 -3.171875 L 1.015625 -3.171875 C 1.023438 -3.160156 1.03125 -3.132812 1.03125 -3.09375 C 1.03125 -3.050781 1.03125 -3 1.03125 -2.9375 C 1.039062 -2.882812 1.046875 -2.828125 1.046875 -2.765625 C 1.046875 -2.710938 1.046875 -2.664062 1.046875 -2.625 L 1.0625 -2.625 C 1.101562 -2.71875 1.15625 -2.800781 1.21875 -2.875 C 1.28125 -2.945312 1.351562 -3.007812 1.4375 -3.0625 C 1.519531 -3.113281 1.613281 -3.15625 1.71875 -3.1875 C 1.820312 -3.21875 1.9375 -3.234375 2.0625 -3.234375 C 2.226562 -3.234375 2.375 -3.207031 2.5 -3.15625 C 2.625 -3.113281 2.726562 -3.046875 2.8125 -2.953125 C 2.894531 -2.867188 2.957031 -2.753906 3 -2.609375 C 3.050781 -2.472656 3.078125 -2.304688 3.078125 -2.109375 L 3.078125 0 Z M 2.546875 0 \"/>\n</symbol>\n<symbol overflow=\"visible\" id=\"glyph0-10\">\n<path style=\"stroke:none;\" d=\"M 2.53125 -0.515625 C 2.425781 -0.304688 2.296875 -0.15625 2.140625 -0.0625 C 1.984375 0.03125 1.785156 0.078125 1.546875 0.078125 C 1.160156 0.078125 0.875 -0.0546875 0.6875 -0.328125 C 0.5 -0.597656 0.40625 -1.007812 0.40625 -1.5625 C 0.40625 -2.664062 0.785156 -3.21875 1.546875 -3.21875 C 1.785156 -3.21875 1.984375 -3.175781 2.140625 -3.09375 C 2.304688 -3.007812 2.4375 -2.867188 2.53125 -2.671875 C 2.53125 -2.679688 2.53125 -2.707031 2.53125 -2.75 C 2.53125 -2.789062 2.53125 -2.835938 2.53125 -2.890625 C 2.53125 -2.941406 2.53125 -2.988281 2.53125 -3.03125 C 2.53125 -3.070312 2.53125 -3.101562 2.53125 -3.125 L 2.53125 -4.34375 L 3.0625 -4.34375 L 3.0625 -0.65625 C 3.0625 -0.582031 3.0625 -0.507812 3.0625 -0.4375 C 3.0625 -0.363281 3.0625 -0.296875 3.0625 -0.234375 C 3.0625 -0.179688 3.0625 -0.132812 3.0625 -0.09375 C 3.070312 -0.0507812 3.078125 -0.0195312 3.078125 0 L 2.5625 0 C 2.5625 -0.0078125 2.5625 -0.03125 2.5625 -0.0625 C 2.5625 -0.101562 2.554688 -0.144531 2.546875 -0.1875 C 2.546875 -0.238281 2.546875 -0.289062 2.546875 -0.34375 C 2.546875 -0.40625 2.546875 -0.460938 2.546875 -0.515625 Z M 0.953125 -1.578125 C 0.953125 -1.359375 0.960938 -1.171875 0.984375 -1.015625 C 1.015625 -0.859375 1.0625 -0.726562 1.125 -0.625 C 1.1875 -0.519531 1.265625 -0.441406 1.359375 -0.390625 C 1.453125 -0.347656 1.5625 -0.328125 1.6875 -0.328125 C 1.820312 -0.328125 1.941406 -0.347656 2.046875 -0.390625 C 2.148438 -0.441406 2.238281 -0.519531 2.3125 -0.625 C 2.382812 -0.726562 2.4375 -0.859375 2.46875 -1.015625 C 2.507812 -1.179688 2.53125 -1.382812 2.53125 -1.625 C 2.53125 -1.851562 2.507812 -2.039062 2.46875 -2.1875 C 2.4375 -2.34375 2.382812 -2.46875 2.3125 -2.5625 C 2.238281 -2.65625 2.148438 -2.722656 2.046875 -2.765625 C 1.953125 -2.804688 1.835938 -2.828125 1.703125 -2.828125 C 1.578125 -2.828125 1.46875 -2.800781 1.375 -2.75 C 1.28125 -2.707031 1.203125 -2.632812 1.140625 -2.53125 C 1.078125 -2.4375 1.03125 -2.3125 1 -2.15625 C 0.96875 -2 0.953125 -1.804688 0.953125 -1.578125 Z M 0.953125 -1.578125 \"/>\n</symbol>\n<symbol overflow=\"visible\" id=\"glyph0-11\">\n<path style=\"stroke:none;\" d=\"M 3.21875 -1.59375 C 3.21875 -1.3125 3.179688 -1.066406 3.109375 -0.859375 C 3.046875 -0.648438 2.953125 -0.476562 2.828125 -0.34375 C 2.710938 -0.207031 2.566406 -0.101562 2.390625 -0.03125 C 2.210938 0.03125 2.007812 0.0625 1.78125 0.0625 C 1.570312 0.0625 1.378906 0.03125 1.203125 -0.03125 C 1.035156 -0.101562 0.890625 -0.207031 0.765625 -0.34375 C 0.640625 -0.476562 0.539062 -0.648438 0.46875 -0.859375 C 0.40625 -1.066406 0.375 -1.3125 0.375 -1.59375 C 0.375 -2.132812 0.5 -2.539062 0.75 -2.8125 C 1 -3.09375 1.347656 -3.234375 1.796875 -3.234375 C 2.273438 -3.234375 2.628906 -3.097656 2.859375 -2.828125 C 3.097656 -2.554688 3.21875 -2.144531 3.21875 -1.59375 Z M 2.65625 -1.59375 C 2.65625 -1.832031 2.632812 -2.03125 2.59375 -2.1875 C 2.550781 -2.351562 2.492188 -2.484375 2.421875 -2.578125 C 2.347656 -2.671875 2.257812 -2.738281 2.15625 -2.78125 C 2.050781 -2.820312 1.9375 -2.84375 1.8125 -2.84375 C 1.6875 -2.84375 1.566406 -2.820312 1.453125 -2.78125 C 1.347656 -2.738281 1.253906 -2.664062 1.171875 -2.5625 C 1.097656 -2.46875 1.039062 -2.34375 1 -2.1875 C 0.957031 -2.03125 0.9375 -1.832031 0.9375 -1.59375 C 0.9375 -1.34375 0.957031 -1.132812 1 -0.96875 C 1.050781 -0.8125 1.113281 -0.6875 1.1875 -0.59375 C 1.257812 -0.5 1.347656 -0.429688 1.453125 -0.390625 C 1.554688 -0.347656 1.664062 -0.328125 1.78125 -0.328125 C 1.90625 -0.328125 2.019531 -0.347656 2.125 -0.390625 C 2.238281 -0.429688 2.332031 -0.5 2.40625 -0.59375 C 2.488281 -0.6875 2.550781 -0.8125 2.59375 -0.96875 C 2.632812 -1.132812 2.65625 -1.34375 2.65625 -1.59375 Z M 2.65625 -1.59375 \"/>\n</symbol>\n<symbol overflow=\"visible\" id=\"glyph0-12\">\n<path style=\"stroke:none;\" d=\"M 0.921875 -2 C 0.921875 -1.738281 0.9375 -1.507812 0.96875 -1.3125 C 1.007812 -1.113281 1.070312 -0.945312 1.15625 -0.8125 C 1.238281 -0.675781 1.34375 -0.570312 1.46875 -0.5 C 1.601562 -0.425781 1.757812 -0.390625 1.9375 -0.390625 C 2.0625 -0.390625 2.171875 -0.410156 2.265625 -0.453125 C 2.367188 -0.503906 2.457031 -0.566406 2.53125 -0.640625 C 2.613281 -0.722656 2.679688 -0.8125 2.734375 -0.90625 C 2.785156 -1.007812 2.832031 -1.113281 2.875 -1.21875 L 3.34375 -1.03125 C 3.289062 -0.894531 3.222656 -0.757812 3.140625 -0.625 C 3.066406 -0.5 2.972656 -0.382812 2.859375 -0.28125 C 2.742188 -0.175781 2.609375 -0.09375 2.453125 -0.03125 C 2.304688 0.03125 2.132812 0.0625 1.9375 0.0625 C 1.65625 0.0625 1.414062 0.015625 1.21875 -0.078125 C 1.019531 -0.179688 0.851562 -0.320312 0.71875 -0.5 C 0.582031 -0.6875 0.484375 -0.90625 0.421875 -1.15625 C 0.359375 -1.40625 0.328125 -1.6875 0.328125 -2 C 0.328125 -2.320312 0.359375 -2.609375 0.421875 -2.859375 C 0.484375 -3.109375 0.578125 -3.316406 0.703125 -3.484375 C 0.835938 -3.660156 1.003906 -3.789062 1.203125 -3.875 C 1.398438 -3.96875 1.632812 -4.015625 1.90625 -4.015625 C 2.101562 -4.015625 2.273438 -3.988281 2.421875 -3.9375 C 2.566406 -3.882812 2.691406 -3.8125 2.796875 -3.71875 C 2.910156 -3.625 3.003906 -3.515625 3.078125 -3.390625 C 3.148438 -3.273438 3.210938 -3.15625 3.265625 -3.03125 L 2.78125 -2.84375 C 2.75 -2.9375 2.707031 -3.023438 2.65625 -3.109375 C 2.601562 -3.191406 2.539062 -3.265625 2.46875 -3.328125 C 2.394531 -3.398438 2.3125 -3.457031 2.21875 -3.5 C 2.125 -3.539062 2.019531 -3.5625 1.90625 -3.5625 C 1.726562 -3.5625 1.578125 -3.523438 1.453125 -3.453125 C 1.328125 -3.390625 1.222656 -3.289062 1.140625 -3.15625 C 1.066406 -3.03125 1.007812 -2.867188 0.96875 -2.671875 C 0.9375 -2.472656 0.921875 -2.25 0.921875 -2 Z M 0.921875 -2 \"/>\n</symbol>\n<symbol overflow=\"visible\" id=\"glyph0-13\">\n<path style=\"stroke:none;\" d=\"M 2.09375 0 L 1.46875 0 L 0.203125 -3.171875 L 0.796875 -3.171875 L 1.578125 -1.109375 C 1.597656 -1.066406 1.613281 -1.015625 1.625 -0.953125 C 1.644531 -0.890625 1.664062 -0.820312 1.6875 -0.75 C 1.707031 -0.6875 1.722656 -0.625 1.734375 -0.5625 C 1.753906 -0.5 1.769531 -0.445312 1.78125 -0.40625 C 1.789062 -0.445312 1.804688 -0.5 1.828125 -0.5625 C 1.847656 -0.625 1.863281 -0.6875 1.875 -0.75 C 1.894531 -0.820312 1.914062 -0.882812 1.9375 -0.9375 C 1.957031 -1 1.976562 -1.054688 2 -1.109375 L 2.8125 -3.171875 L 3.390625 -3.171875 Z M 2.09375 0 \"/>\n</symbol>\n<symbol overflow=\"visible\" id=\"glyph0-14\">\n<path style=\"stroke:none;\" d=\"M 3.296875 -2.015625 C 3.296875 -1.691406 3.253906 -1.398438 3.171875 -1.140625 C 3.097656 -0.890625 2.984375 -0.679688 2.828125 -0.515625 C 2.679688 -0.347656 2.5 -0.21875 2.28125 -0.125 C 2.070312 -0.0390625 1.832031 0 1.5625 0 L 0.46875 0 L 0.46875 -3.953125 L 1.390625 -3.953125 C 1.691406 -3.953125 1.960938 -3.914062 2.203125 -3.84375 C 2.441406 -3.769531 2.640625 -3.648438 2.796875 -3.484375 C 2.960938 -3.328125 3.085938 -3.125 3.171875 -2.875 C 3.253906 -2.632812 3.296875 -2.347656 3.296875 -2.015625 Z M 2.734375 -2.015625 C 2.734375 -2.273438 2.703125 -2.5 2.640625 -2.6875 C 2.585938 -2.875 2.503906 -3.023438 2.390625 -3.140625 C 2.285156 -3.265625 2.148438 -3.351562 1.984375 -3.40625 C 1.816406 -3.46875 1.617188 -3.5 1.390625 -3.5 L 1.03125 -3.5 L 1.03125 -0.453125 L 1.515625 -0.453125 C 1.921875 -0.453125 2.222656 -0.582031 2.421875 -0.84375 C 2.628906 -1.101562 2.734375 -1.492188 2.734375 -2.015625 Z M 2.734375 -2.015625 \"/>\n</symbol>\n<symbol overflow=\"visible\" id=\"glyph0-15\">\n<path style=\"stroke:none;\" d=\"M 0.46875 0 L 0.46875 -3.953125 L 3.171875 -3.953125 L 3.171875 -3.5 L 1.03125 -3.5 L 1.03125 -2.265625 L 2.984375 -2.265625 L 2.984375 -1.8125 L 1.03125 -1.8125 L 1.03125 -0.453125 L 3.28125 -0.453125 L 3.28125 0 Z M 0.46875 0 \"/>\n</symbol>\n<symbol overflow=\"visible\" id=\"glyph0-16\">\n<path style=\"stroke:none;\" d=\"M 1.125 -3.5 L 1.125 -2.046875 L 3.109375 -2.046875 L 3.109375 -1.578125 L 1.125 -1.578125 L 1.125 0 L 0.5625 0 L 0.5625 -3.953125 L 3.171875 -3.953125 L 3.171875 -3.5 Z M 1.125 -3.5 \"/>\n</symbol>\n<symbol overflow=\"visible\" id=\"glyph0-17\">\n<path style=\"stroke:none;\" d=\"M 3.21875 -0.390625 C 3.15625 -0.335938 3.078125 -0.285156 2.984375 -0.234375 C 2.890625 -0.179688 2.785156 -0.132812 2.671875 -0.09375 C 2.554688 -0.0507812 2.429688 -0.015625 2.296875 0.015625 C 2.160156 0.046875 2.019531 0.0625 1.875 0.0625 C 1.613281 0.0625 1.382812 0.0078125 1.1875 -0.09375 C 1 -0.195312 0.835938 -0.335938 0.703125 -0.515625 C 0.578125 -0.703125 0.484375 -0.921875 0.421875 -1.171875 C 0.359375 -1.421875 0.328125 -1.695312 0.328125 -2 C 0.328125 -2.320312 0.359375 -2.609375 0.421875 -2.859375 C 0.484375 -3.109375 0.578125 -3.316406 0.703125 -3.484375 C 0.828125 -3.660156 0.988281 -3.789062 1.1875 -3.875 C 1.382812 -3.96875 1.613281 -4.015625 1.875 -4.015625 C 2.070312 -4.015625 2.242188 -3.988281 2.390625 -3.9375 C 2.535156 -3.882812 2.660156 -3.8125 2.765625 -3.71875 C 2.878906 -3.632812 2.972656 -3.535156 3.046875 -3.421875 C 3.117188 -3.304688 3.179688 -3.179688 3.234375 -3.046875 L 2.734375 -2.875 C 2.660156 -3.09375 2.554688 -3.257812 2.421875 -3.375 C 2.285156 -3.5 2.109375 -3.5625 1.890625 -3.5625 C 1.710938 -3.5625 1.5625 -3.523438 1.4375 -3.453125 C 1.3125 -3.390625 1.207031 -3.289062 1.125 -3.15625 C 1.050781 -3.019531 1 -2.851562 0.96875 -2.65625 C 0.9375 -2.46875 0.921875 -2.25 0.921875 -2 C 0.921875 -1.46875 1.003906 -1.066406 1.171875 -0.796875 C 1.335938 -0.523438 1.585938 -0.390625 1.921875 -0.390625 C 2.015625 -0.390625 2.097656 -0.398438 2.171875 -0.421875 C 2.253906 -0.441406 2.328125 -0.460938 2.390625 -0.484375 C 2.460938 -0.503906 2.519531 -0.523438 2.5625 -0.546875 C 2.613281 -0.578125 2.65625 -0.597656 2.6875 -0.609375 L 2.6875 -1.59375 L 1.828125 -1.59375 L 1.828125 -2.0625 L 3.21875 -2.0625 Z M 3.21875 -0.390625 \"/>\n</symbol>\n<symbol overflow=\"visible\" id=\"glyph0-18\">\n<path style=\"stroke:none;\" d=\"M 2.5625 0 L 2.5625 -1.828125 L 1.03125 -1.828125 L 1.03125 0 L 0.46875 0 L 0.46875 -3.953125 L 1.03125 -3.953125 L 1.03125 -2.296875 L 2.5625 -2.296875 L 2.5625 -3.953125 L 3.125 -3.953125 L 3.125 0 Z M 2.5625 0 \"/>\n</symbol>\n<symbol overflow=\"visible\" id=\"glyph0-19\">\n<path style=\"stroke:none;\" d=\"M 0.546875 -4.34375 L 1.078125 -4.34375 L 1.078125 -3.203125 C 1.078125 -3.109375 1.070312 -3.007812 1.0625 -2.90625 C 1.0625 -2.8125 1.054688 -2.71875 1.046875 -2.625 L 1.0625 -2.625 C 1.101562 -2.71875 1.15625 -2.800781 1.21875 -2.875 C 1.28125 -2.945312 1.347656 -3.007812 1.421875 -3.0625 C 1.503906 -3.113281 1.597656 -3.15625 1.703125 -3.1875 C 1.804688 -3.21875 1.921875 -3.234375 2.046875 -3.234375 C 2.210938 -3.234375 2.359375 -3.207031 2.484375 -3.15625 C 2.609375 -3.113281 2.710938 -3.046875 2.796875 -2.953125 C 2.890625 -2.867188 2.957031 -2.753906 3 -2.609375 C 3.050781 -2.472656 3.078125 -2.304688 3.078125 -2.109375 L 3.078125 0 L 2.546875 0 L 2.546875 -2.03125 C 2.546875 -2.1875 2.53125 -2.316406 2.5 -2.421875 C 2.46875 -2.523438 2.421875 -2.601562 2.359375 -2.65625 C 2.304688 -2.71875 2.238281 -2.757812 2.15625 -2.78125 C 2.082031 -2.8125 2 -2.828125 1.90625 -2.828125 C 1.78125 -2.828125 1.664062 -2.800781 1.5625 -2.75 C 1.46875 -2.707031 1.382812 -2.644531 1.3125 -2.5625 C 1.238281 -2.476562 1.175781 -2.375 1.125 -2.25 C 1.082031 -2.132812 1.0625 -2 1.0625 -1.84375 L 1.0625 0 L 0.546875 0 Z M 0.546875 -4.34375 \"/>\n</symbol>\n</g>\n</defs>\n<g id=\"surface20\">\n<rect x=\"0\" y=\"0\" width=\"300\" height=\"300\" style=\"fill:rgb(100%,100%,100%);fill-opacity:1;stroke:none;\"/>\n<path style=\"fill:none;stroke-width:1;stroke-linecap:butt;stroke-linejoin:miter;stroke:rgb(26.666667%,26.666667%,26.666667%);stroke-opacity:1;stroke-miterlimit:10;\" d=\"M 280 150 L 241.925781 241.925781 \"/>\n<path style=\"fill:none;stroke-width:1;stroke-linecap:butt;stroke-linejoin:miter;stroke:rgb(26.666667%,26.666667%,26.666667%);stroke-opacity:1;stroke-miterlimit:10;\" d=\"M 280 150 L 58.074219 241.925781 \"/>\n<path style=\"fill:none;stroke-width:1;stroke-linecap:butt;stroke-linejoin:miter;stroke:rgb(26.666667%,26.666667%,26.666667%);stroke-opacity:1;stroke-miterlimit:10;\" d=\"M 280 150 L 20 150 \"/>\n<path style=\"fill:none;stroke-width:1;stroke-linecap:butt;stroke-linejoin:miter;stroke:rgb(26.666667%,26.666667%,26.666667%);stroke-opacity:1;stroke-miterlimit:10;\" d=\"M 241.925781 241.925781 L 150 280 \"/>\n<path style=\"fill:none;stroke-width:1;stroke-linecap:butt;stroke-linejoin:miter;stroke:rgb(26.666667%,26.666667%,26.666667%);stroke-opacity:1;stroke-miterlimit:10;\" d=\"M 150 280 L 58.074219 241.925781 \"/>\n<path style=\"fill:none;stroke-width:1;stroke-linecap:butt;stroke-linejoin:miter;stroke:rgb(26.666667%,26.666667%,26.666667%);stroke-opacity:1;stroke-miterlimit:10;\" d=\"M 150 280 L 20 150 \"/>\n<path style=\"fill:none;stroke-width:1;stroke-linecap:butt;stroke-linejoin:miter;stroke:rgb(26.666667%,26.666667%,26.666667%);stroke-opacity:1;stroke-miterlimit:10;\" d=\"M 150 280 L 58.074219 58.074219 \"/>\n<path style=\"fill:none;stroke-width:1;stroke-linecap:butt;stroke-linejoin:miter;stroke:rgb(26.666667%,26.666667%,26.666667%);stroke-opacity:1;stroke-miterlimit:10;\" d=\"M 58.074219 58.074219 L 150 20 \"/>\n<path style=\"fill:none;stroke-width:1;stroke-linecap:butt;stroke-linejoin:miter;stroke:rgb(26.666667%,26.666667%,26.666667%);stroke-opacity:1;stroke-miterlimit:10;\" d=\"M 58.074219 58.074219 L 241.925781 58.074219 \"/>\n<path style=\"fill-rule:nonzero;fill:rgb(52.941176%,80.784314%,92.156863%);fill-opacity:1;stroke-width:1;stroke-linecap:butt;stroke-linejoin:miter;stroke:rgb(0%,0%,0%);stroke-opacity:1;stroke-miterlimit:10;\" d=\"M 295 150 C 295 158.285156 288.285156 165 280 165 C 271.714844 165 265 158.285156 265 150 C 265 141.714844 271.714844 135 280 135 C 288.285156 135 295 141.714844 295 150 \"/>\n<path style=\"fill-rule:nonzero;fill:rgb(52.941176%,80.784314%,92.156863%);fill-opacity:1;stroke-width:1;stroke-linecap:butt;stroke-linejoin:miter;stroke:rgb(0%,0%,0%);stroke-opacity:1;stroke-miterlimit:10;\" d=\"M 256.925781 241.925781 C 256.925781 250.207031 250.207031 256.925781 241.925781 256.925781 C 233.640625 256.925781 226.925781 250.207031 226.925781 241.925781 C 226.925781 233.640625 233.640625 226.925781 241.925781 226.925781 C 250.207031 226.925781 256.925781 233.640625 256.925781 241.925781 \"/>\n<path style=\"fill-rule:nonzero;fill:rgb(52.941176%,80.784314%,92.156863%);fill-opacity:1;stroke-width:1;stroke-linecap:butt;stroke-linejoin:miter;stroke:rgb(0%,0%,0%);stroke-opacity:1;stroke-miterlimit:10;\" d=\"M 165 280 C 165 288.285156 158.285156 295 150 295 C 141.714844 295 135 288.285156 135 280 C 135 271.714844 141.714844 265 150 265 C 158.285156 265 165 271.714844 165 280 \"/>\n<path style=\"fill-rule:nonzero;fill:rgb(52.941176%,80.784314%,92.156863%);fill-opacity:1;stroke-width:1;stroke-linecap:butt;stroke-linejoin:miter;stroke:rgb(0%,0%,0%);stroke-opacity:1;stroke-miterlimit:10;\" d=\"M 73.074219 241.925781 C 73.074219 250.207031 66.359375 256.925781 58.074219 256.925781 C 49.792969 256.925781 43.074219 250.207031 43.074219 241.925781 C 43.074219 233.640625 49.792969 226.925781 58.074219 226.925781 C 66.359375 226.925781 73.074219 233.640625 73.074219 241.925781 \"/>\n<path style=\"fill-rule:nonzero;fill:rgb(52.941176%,80.784314%,92.156863%);fill-opacity:1;stroke-width:1;stroke-linecap:butt;stroke-linejoin:miter;stroke:rgb(0%,0%,0%);stroke-opacity:1;stroke-miterlimit:10;\" d=\"M 35 150 C 35 158.285156 28.285156 165 20 165 C 11.714844 165 5 158.285156 5 150 C 5 141.714844 11.714844 135 20 135 C 28.285156 135 35 141.714844 35 150 \"/>\n<path style=\"fill-rule:nonzero;fill:rgb(52.941176%,80.784314%,92.156863%);fill-opacity:1;stroke-width:1;stroke-linecap:butt;stroke-linejoin:miter;stroke:rgb(0%,0%,0%);stroke-opacity:1;stroke-miterlimit:10;\" d=\"M 73.074219 58.074219 C 73.074219 66.359375 66.359375 73.074219 58.074219 73.074219 C 49.792969 73.074219 43.074219 66.359375 43.074219 58.074219 C 43.074219 49.792969 49.792969 43.074219 58.074219 43.074219 C 66.359375 43.074219 73.074219 49.792969 73.074219 58.074219 \"/>\n<path style=\"fill-rule:nonzero;fill:rgb(52.941176%,80.784314%,92.156863%);fill-opacity:1;stroke-width:1;stroke-linecap:butt;stroke-linejoin:miter;stroke:rgb(0%,0%,0%);stroke-opacity:1;stroke-miterlimit:10;\" d=\"M 165 20 C 165 28.285156 158.285156 35 150 35 C 141.714844 35 135 28.285156 135 20 C 135 11.714844 141.714844 5 150 5 C 158.285156 5 165 11.714844 165 20 \"/>\n<path style=\"fill-rule:nonzero;fill:rgb(52.941176%,80.784314%,92.156863%);fill-opacity:1;stroke-width:1;stroke-linecap:butt;stroke-linejoin:miter;stroke:rgb(0%,0%,0%);stroke-opacity:1;stroke-miterlimit:10;\" d=\"M 256.925781 58.074219 C 256.925781 66.359375 250.207031 73.074219 241.925781 73.074219 C 233.640625 73.074219 226.925781 66.359375 226.925781 58.074219 C 226.925781 49.792969 233.640625 43.074219 241.925781 43.074219 C 250.207031 43.074219 256.925781 49.792969 256.925781 58.074219 \"/>\n<g style=\"fill:rgb(0%,0%,0%);fill-opacity:1;\">\n  <use xlink:href=\"#glyph0-1\" x=\"271.195312\" y=\"153.074219\"/>\n  <use xlink:href=\"#glyph0-2\" x=\"274.795898\" y=\"153.074219\"/>\n  <use xlink:href=\"#glyph0-3\" x=\"278.396484\" y=\"153.074219\"/>\n  <use xlink:href=\"#glyph0-4\" x=\"281.99707\" y=\"153.074219\"/>\n  <use xlink:href=\"#glyph0-5\" x=\"285.597656\" y=\"153.074219\"/>\n</g>\n<g style=\"fill:rgb(0%,0%,0%);fill-opacity:1;\">\n  <use xlink:href=\"#glyph0-6\" x=\"229.347656\" y=\"245\"/>\n  <use xlink:href=\"#glyph0-7\" x=\"232.948242\" y=\"245\"/>\n  <use xlink:href=\"#glyph0-8\" x=\"236.548828\" y=\"245\"/>\n  <use xlink:href=\"#glyph0-9\" x=\"240.149414\" y=\"245\"/>\n  <use xlink:href=\"#glyph0-10\" x=\"243.75\" y=\"245\"/>\n  <use xlink:href=\"#glyph0-11\" x=\"247.350586\" y=\"245\"/>\n  <use xlink:href=\"#glyph0-9\" x=\"250.951172\" y=\"245\"/>\n</g>\n<g style=\"fill:rgb(0%,0%,0%);fill-opacity:1;\">\n  <use xlink:href=\"#glyph0-12\" x=\"141.097656\" y=\"283.074219\"/>\n  <use xlink:href=\"#glyph0-8\" x=\"144.698242\" y=\"283.074219\"/>\n  <use xlink:href=\"#glyph0-13\" x=\"148.298828\" y=\"283.074219\"/>\n  <use xlink:href=\"#glyph0-3\" x=\"151.899414\" y=\"283.074219\"/>\n  <use xlink:href=\"#glyph0-9\" x=\"155.5\" y=\"283.074219\"/>\n</g>\n<g style=\"fill:rgb(0%,0%,0%);fill-opacity:1;\">\n  <use xlink:href=\"#glyph0-14\" x=\"49.101562\" y=\"245\"/>\n  <use xlink:href=\"#glyph0-8\" x=\"52.702148\" y=\"245\"/>\n  <use xlink:href=\"#glyph0-13\" x=\"56.302734\" y=\"245\"/>\n  <use xlink:href=\"#glyph0-3\" x=\"59.90332\" y=\"245\"/>\n  <use xlink:href=\"#glyph0-10\" x=\"63.503906\" y=\"245\"/>\n</g>\n<g style=\"fill:rgb(0%,0%,0%);fill-opacity:1;\">\n  <use xlink:href=\"#glyph0-15\" x=\"7.429688\" y=\"153.074219\"/>\n  <use xlink:href=\"#glyph0-2\" x=\"11.030273\" y=\"153.074219\"/>\n  <use xlink:href=\"#glyph0-5\" x=\"14.630859\" y=\"153.074219\"/>\n  <use xlink:href=\"#glyph0-8\" x=\"18.231445\" y=\"153.074219\"/>\n  <use xlink:href=\"#glyph0-9\" x=\"21.832031\" y=\"153.074219\"/>\n  <use xlink:href=\"#glyph0-11\" x=\"25.432617\" y=\"153.074219\"/>\n  <use xlink:href=\"#glyph0-7\" x=\"29.033203\" y=\"153.074219\"/>\n</g>\n<g style=\"fill:rgb(0%,0%,0%);fill-opacity:1;\">\n  <use xlink:href=\"#glyph0-16\" x=\"50.855469\" y=\"61.152344\"/>\n  <use xlink:href=\"#glyph0-7\" x=\"54.456055\" y=\"61.152344\"/>\n  <use xlink:href=\"#glyph0-5\" x=\"58.056641\" y=\"61.152344\"/>\n  <use xlink:href=\"#glyph0-10\" x=\"61.657227\" y=\"61.152344\"/>\n</g>\n<g style=\"fill:rgb(0%,0%,0%);fill-opacity:1;\">\n  <use xlink:href=\"#glyph0-17\" x=\"144.535156\" y=\"23.074219\"/>\n  <use xlink:href=\"#glyph0-3\" x=\"148.135742\" y=\"23.074219\"/>\n  <use xlink:href=\"#glyph0-8\" x=\"151.736328\" y=\"23.074219\"/>\n</g>\n<g style=\"fill:rgb(0%,0%,0%);fill-opacity:1;\">\n  <use xlink:href=\"#glyph0-18\" x=\"231.148438\" y=\"61.152344\"/>\n  <use xlink:href=\"#glyph0-8\" x=\"234.749023\" y=\"61.152344\"/>\n  <use xlink:href=\"#glyph0-9\" x=\"238.349609\" y=\"61.152344\"/>\n  <use xlink:href=\"#glyph0-9\" x=\"241.950195\" y=\"61.152344\"/>\n  <use xlink:href=\"#glyph0-8\" x=\"245.550781\" y=\"61.152344\"/>\n  <use xlink:href=\"#glyph0-19\" x=\"249.151367\" y=\"61.152344\"/>\n</g>\n</g>\n</svg>\n"
          },
          "metadata": {
            "image/svg+xml": {
              "isolated": true
            }
          },
          "execution_count": 35
        }
      ]
    },
    {
      "cell_type": "code",
      "source": [
        "visual_style_facebook1[\"layout\"] = G_facebook1_ig.layout(\"fr\")\n",
        "ig.plot(G_facebook1_ig, **visual_style_facebook1)"
      ],
      "metadata": {
        "id": "ATAVcVtz9r9G",
        "colab": {
          "base_uri": "https://localhost:8080/",
          "height": 421
        },
        "outputId": "87839f75-1d63-47de-df75-0c8c41a4290d"
      },
      "execution_count": 36,
      "outputs": [
        {
          "output_type": "execute_result",
          "data": {
            "text/plain": [
              "<igraph.drawing.cairo.plot.CairoPlot at 0x782f9d3138b0>"
            ],
            "image/svg+xml": "<?xml version=\"1.0\" encoding=\"UTF-8\"?>\n<svg xmlns=\"http://www.w3.org/2000/svg\" xmlns:xlink=\"http://www.w3.org/1999/xlink\" width=\"300pt\" height=\"300pt\" viewBox=\"0 0 300 300\" version=\"1.1\">\n<defs>\n<g>\n<symbol overflow=\"visible\" id=\"glyph0-0\">\n<path style=\"stroke:none;\" d=\"M 0.203125 0 L 0.203125 -4 L 1.796875 -4 L 1.796875 0 Z M 0.40625 -0.203125 L 1.59375 -0.203125 L 1.59375 -3.796875 L 0.40625 -3.796875 Z M 0.40625 -0.203125 \"/>\n</symbol>\n<symbol overflow=\"visible\" id=\"glyph0-1\">\n<path style=\"stroke:none;\" d=\"M 3.03125 0 L 2.625 -1.125 L 0.96875 -1.125 L 0.578125 0 L 0 0 L 1.5 -3.953125 L 2.125 -3.953125 L 3.59375 0 Z M 2.046875 -2.796875 C 2.023438 -2.867188 2 -2.941406 1.96875 -3.015625 C 1.945312 -3.097656 1.921875 -3.171875 1.890625 -3.234375 C 1.867188 -3.304688 1.847656 -3.367188 1.828125 -3.421875 C 1.816406 -3.472656 1.8125 -3.507812 1.8125 -3.53125 C 1.800781 -3.507812 1.785156 -3.472656 1.765625 -3.421875 C 1.753906 -3.367188 1.734375 -3.304688 1.703125 -3.234375 C 1.679688 -3.160156 1.660156 -3.085938 1.640625 -3.015625 C 1.617188 -2.941406 1.59375 -2.867188 1.5625 -2.796875 L 1.125 -1.5625 L 2.484375 -1.5625 Z M 2.046875 -2.796875 \"/>\n</symbol>\n<symbol overflow=\"visible\" id=\"glyph0-2\">\n<path style=\"stroke:none;\" d=\"M 2.15625 -0.421875 L 3.265625 -0.421875 L 3.265625 0 L 0.390625 0 L 0.390625 -0.421875 L 1.625 -0.421875 L 1.625 -3.9375 L 0.78125 -3.9375 L 0.78125 -4.34375 L 2.15625 -4.34375 Z M 2.15625 -0.421875 \"/>\n</symbol>\n<symbol overflow=\"visible\" id=\"glyph0-3\">\n<path style=\"stroke:none;\" d=\"M 2.1875 -0.421875 L 3.296875 -0.421875 L 3.296875 0 L 0.421875 0 L 0.421875 -0.421875 L 1.65625 -0.421875 L 1.65625 -2.75 L 0.71875 -2.75 L 0.71875 -3.171875 L 2.1875 -3.171875 Z M 1.59375 -3.78125 L 1.59375 -4.34375 L 2.1875 -4.34375 L 2.1875 -3.78125 Z M 1.59375 -3.78125 \"/>\n</symbol>\n<symbol overflow=\"visible\" id=\"glyph0-4\">\n<path style=\"stroke:none;\" d=\"M 0.375 -1.59375 C 0.375 -1.90625 0.414062 -2.164062 0.5 -2.375 C 0.59375 -2.59375 0.707031 -2.765625 0.84375 -2.890625 C 0.976562 -3.015625 1.132812 -3.101562 1.3125 -3.15625 C 1.488281 -3.207031 1.671875 -3.234375 1.859375 -3.234375 C 2.046875 -3.234375 2.210938 -3.207031 2.359375 -3.15625 C 2.515625 -3.101562 2.644531 -3.035156 2.75 -2.953125 C 2.863281 -2.867188 2.953125 -2.769531 3.015625 -2.65625 C 3.085938 -2.539062 3.132812 -2.414062 3.15625 -2.28125 L 2.59375 -2.234375 C 2.5625 -2.421875 2.484375 -2.5625 2.359375 -2.65625 C 2.234375 -2.757812 2.054688 -2.8125 1.828125 -2.8125 C 1.660156 -2.8125 1.519531 -2.785156 1.40625 -2.734375 C 1.289062 -2.679688 1.195312 -2.601562 1.125 -2.5 C 1.0625 -2.394531 1.015625 -2.265625 0.984375 -2.109375 C 0.953125 -1.960938 0.9375 -1.789062 0.9375 -1.59375 C 0.9375 -1.40625 0.953125 -1.234375 0.984375 -1.078125 C 1.015625 -0.921875 1.0625 -0.785156 1.125 -0.671875 C 1.195312 -0.566406 1.289062 -0.484375 1.40625 -0.421875 C 1.519531 -0.367188 1.660156 -0.34375 1.828125 -0.34375 C 2.035156 -0.34375 2.207031 -0.394531 2.34375 -0.5 C 2.488281 -0.601562 2.578125 -0.765625 2.609375 -0.984375 L 3.171875 -0.9375 C 3.148438 -0.8125 3.101562 -0.6875 3.03125 -0.5625 C 2.96875 -0.445312 2.878906 -0.34375 2.765625 -0.25 C 2.660156 -0.15625 2.53125 -0.078125 2.375 -0.015625 C 2.21875 0.0351562 2.039062 0.0625 1.84375 0.0625 C 1.582031 0.0625 1.359375 0.0195312 1.171875 -0.0625 C 0.984375 -0.144531 0.832031 -0.257812 0.71875 -0.40625 C 0.601562 -0.5625 0.515625 -0.738281 0.453125 -0.9375 C 0.398438 -1.132812 0.375 -1.351562 0.375 -1.59375 Z M 0.375 -1.59375 \"/>\n</symbol>\n<symbol overflow=\"visible\" id=\"glyph0-5\">\n<path style=\"stroke:none;\" d=\"M 0.9375 -1.46875 C 0.9375 -1.300781 0.957031 -1.148438 1 -1.015625 C 1.039062 -0.878906 1.097656 -0.757812 1.171875 -0.65625 C 1.242188 -0.550781 1.332031 -0.472656 1.4375 -0.421875 C 1.550781 -0.367188 1.679688 -0.34375 1.828125 -0.34375 C 1.929688 -0.34375 2.03125 -0.351562 2.125 -0.375 C 2.21875 -0.394531 2.296875 -0.425781 2.359375 -0.46875 C 2.429688 -0.519531 2.492188 -0.570312 2.546875 -0.625 C 2.597656 -0.6875 2.632812 -0.753906 2.65625 -0.828125 L 3.125 -0.6875 C 3.09375 -0.601562 3.046875 -0.515625 2.984375 -0.421875 C 2.921875 -0.335938 2.835938 -0.257812 2.734375 -0.1875 C 2.628906 -0.113281 2.5 -0.0507812 2.34375 0 C 2.195312 0.0390625 2.023438 0.0625 1.828125 0.0625 C 1.597656 0.0625 1.394531 0.0234375 1.21875 -0.046875 C 1.039062 -0.117188 0.890625 -0.222656 0.765625 -0.359375 C 0.648438 -0.492188 0.554688 -0.664062 0.484375 -0.875 C 0.421875 -1.082031 0.390625 -1.328125 0.390625 -1.609375 C 0.390625 -1.910156 0.425781 -2.164062 0.5 -2.375 C 0.582031 -2.582031 0.6875 -2.75 0.8125 -2.875 C 0.945312 -3 1.097656 -3.085938 1.265625 -3.140625 C 1.441406 -3.203125 1.625 -3.234375 1.8125 -3.234375 C 2.0625 -3.234375 2.273438 -3.191406 2.453125 -3.109375 C 2.628906 -3.023438 2.773438 -2.910156 2.890625 -2.765625 C 3.003906 -2.617188 3.082031 -2.441406 3.125 -2.234375 C 3.175781 -2.023438 3.203125 -1.796875 3.203125 -1.546875 L 3.203125 -1.46875 Z M 1.8125 -2.84375 C 1.71875 -2.84375 1.625 -2.828125 1.53125 -2.796875 C 1.4375 -2.765625 1.34375 -2.710938 1.25 -2.640625 C 1.164062 -2.566406 1.09375 -2.46875 1.03125 -2.34375 C 0.976562 -2.226562 0.953125 -2.070312 0.953125 -1.875 L 2.65625 -1.875 C 2.644531 -2.0625 2.613281 -2.210938 2.5625 -2.328125 C 2.507812 -2.453125 2.445312 -2.550781 2.375 -2.625 C 2.300781 -2.707031 2.210938 -2.765625 2.109375 -2.796875 C 2.015625 -2.828125 1.914062 -2.84375 1.8125 -2.84375 Z M 1.8125 -2.84375 \"/>\n</symbol>\n<symbol overflow=\"visible\" id=\"glyph0-6\">\n<path style=\"stroke:none;\" d=\"M 3.375 -1.109375 C 3.375 -0.910156 3.332031 -0.738281 3.25 -0.59375 C 3.164062 -0.457031 3.054688 -0.34375 2.921875 -0.25 C 2.785156 -0.164062 2.625 -0.101562 2.4375 -0.0625 C 2.25 -0.0195312 2.054688 0 1.859375 0 L 0.46875 0 L 0.46875 -3.953125 L 1.6875 -3.953125 C 1.914062 -3.953125 2.117188 -3.929688 2.296875 -3.890625 C 2.472656 -3.859375 2.625 -3.800781 2.75 -3.71875 C 2.875 -3.644531 2.96875 -3.546875 3.03125 -3.421875 C 3.101562 -3.304688 3.140625 -3.164062 3.140625 -3 C 3.140625 -2.882812 3.117188 -2.773438 3.078125 -2.671875 C 3.046875 -2.578125 3 -2.488281 2.9375 -2.40625 C 2.875 -2.332031 2.789062 -2.265625 2.6875 -2.203125 C 2.59375 -2.148438 2.476562 -2.109375 2.34375 -2.078125 C 2.507812 -2.066406 2.65625 -2.03125 2.78125 -1.96875 C 2.914062 -1.914062 3.023438 -1.847656 3.109375 -1.765625 C 3.191406 -1.679688 3.253906 -1.582031 3.296875 -1.46875 C 3.347656 -1.363281 3.375 -1.242188 3.375 -1.109375 Z M 2.578125 -2.921875 C 2.578125 -3.128906 2.5 -3.273438 2.34375 -3.359375 C 2.195312 -3.453125 1.976562 -3.5 1.6875 -3.5 L 1.03125 -3.5 L 1.03125 -2.28125 L 1.6875 -2.28125 C 1.851562 -2.28125 1.988281 -2.296875 2.09375 -2.328125 C 2.207031 -2.359375 2.296875 -2.398438 2.359375 -2.453125 C 2.429688 -2.515625 2.484375 -2.582031 2.515625 -2.65625 C 2.554688 -2.738281 2.578125 -2.828125 2.578125 -2.921875 Z M 2.8125 -1.15625 C 2.8125 -1.28125 2.785156 -1.382812 2.734375 -1.46875 C 2.679688 -1.5625 2.609375 -1.632812 2.515625 -1.6875 C 2.429688 -1.738281 2.320312 -1.773438 2.1875 -1.796875 C 2.0625 -1.828125 1.921875 -1.84375 1.765625 -1.84375 L 1.03125 -1.84375 L 1.03125 -0.453125 L 1.8125 -0.453125 C 1.957031 -0.453125 2.085938 -0.460938 2.203125 -0.484375 C 2.328125 -0.503906 2.429688 -0.539062 2.515625 -0.59375 C 2.609375 -0.65625 2.679688 -0.726562 2.734375 -0.8125 C 2.785156 -0.90625 2.8125 -1.019531 2.8125 -1.15625 Z M 2.8125 -1.15625 \"/>\n</symbol>\n<symbol overflow=\"visible\" id=\"glyph0-7\">\n<path style=\"stroke:none;\" d=\"M 3.0625 -2.6875 C 2.96875 -2.707031 2.867188 -2.722656 2.765625 -2.734375 C 2.671875 -2.742188 2.5625 -2.75 2.4375 -2.75 C 2.269531 -2.75 2.117188 -2.710938 1.984375 -2.640625 C 1.859375 -2.578125 1.75 -2.488281 1.65625 -2.375 C 1.570312 -2.257812 1.503906 -2.125 1.453125 -1.96875 C 1.410156 -1.820312 1.390625 -1.660156 1.390625 -1.484375 L 1.390625 0 L 0.859375 0 L 0.859375 -2.046875 C 0.859375 -2.160156 0.851562 -2.273438 0.84375 -2.390625 C 0.832031 -2.503906 0.816406 -2.609375 0.796875 -2.703125 C 0.785156 -2.804688 0.769531 -2.894531 0.75 -2.96875 C 0.738281 -3.050781 0.722656 -3.117188 0.703125 -3.171875 L 1.203125 -3.171875 C 1.222656 -3.117188 1.238281 -3.0625 1.25 -3 C 1.269531 -2.945312 1.285156 -2.882812 1.296875 -2.8125 C 1.304688 -2.75 1.316406 -2.679688 1.328125 -2.609375 C 1.335938 -2.546875 1.34375 -2.488281 1.34375 -2.4375 L 1.359375 -2.4375 C 1.421875 -2.5625 1.476562 -2.671875 1.53125 -2.765625 C 1.59375 -2.859375 1.664062 -2.941406 1.75 -3.015625 C 1.832031 -3.085938 1.929688 -3.140625 2.046875 -3.171875 C 2.160156 -3.210938 2.296875 -3.234375 2.453125 -3.234375 C 2.566406 -3.234375 2.675781 -3.226562 2.78125 -3.21875 C 2.882812 -3.207031 2.976562 -3.191406 3.0625 -3.171875 Z M 3.0625 -2.6875 \"/>\n</symbol>\n<symbol overflow=\"visible\" id=\"glyph0-8\">\n<path style=\"stroke:none;\" d=\"M 3.21875 -0.328125 C 3.25 -0.328125 3.28125 -0.328125 3.3125 -0.328125 C 3.34375 -0.335938 3.375 -0.34375 3.40625 -0.34375 L 3.40625 -0.015625 C 3.332031 -0.00390625 3.265625 0.00390625 3.203125 0.015625 C 3.140625 0.0234375 3.066406 0.03125 2.984375 0.03125 C 2.890625 0.03125 2.804688 0.0195312 2.734375 0 C 2.660156 -0.03125 2.601562 -0.0703125 2.5625 -0.125 C 2.519531 -0.1875 2.484375 -0.253906 2.453125 -0.328125 C 2.429688 -0.410156 2.421875 -0.503906 2.421875 -0.609375 L 2.390625 -0.609375 C 2.335938 -0.503906 2.273438 -0.410156 2.203125 -0.328125 C 2.140625 -0.242188 2.066406 -0.171875 1.984375 -0.109375 C 1.898438 -0.0546875 1.800781 -0.015625 1.6875 0.015625 C 1.582031 0.046875 1.457031 0.0625 1.3125 0.0625 C 1 0.0625 0.765625 -0.0195312 0.609375 -0.1875 C 0.453125 -0.363281 0.375 -0.597656 0.375 -0.890625 C 0.375 -1.097656 0.410156 -1.265625 0.484375 -1.390625 C 0.566406 -1.523438 0.671875 -1.628906 0.796875 -1.703125 C 0.921875 -1.785156 1.0625 -1.84375 1.21875 -1.875 C 1.375 -1.90625 1.535156 -1.921875 1.703125 -1.921875 L 2.390625 -1.9375 L 2.390625 -2.109375 C 2.390625 -2.234375 2.375 -2.34375 2.34375 -2.4375 C 2.320312 -2.53125 2.285156 -2.601562 2.234375 -2.65625 C 2.179688 -2.71875 2.113281 -2.757812 2.03125 -2.78125 C 1.945312 -2.8125 1.851562 -2.828125 1.75 -2.828125 C 1.644531 -2.828125 1.550781 -2.816406 1.46875 -2.796875 C 1.394531 -2.785156 1.328125 -2.757812 1.265625 -2.71875 C 1.210938 -2.6875 1.164062 -2.632812 1.125 -2.5625 C 1.09375 -2.5 1.070312 -2.421875 1.0625 -2.328125 L 0.515625 -2.375 C 0.535156 -2.5 0.570312 -2.613281 0.625 -2.71875 C 0.675781 -2.820312 0.75 -2.910156 0.84375 -2.984375 C 0.945312 -3.066406 1.070312 -3.128906 1.21875 -3.171875 C 1.363281 -3.210938 1.539062 -3.234375 1.75 -3.234375 C 2.144531 -3.234375 2.441406 -3.140625 2.640625 -2.953125 C 2.835938 -2.773438 2.9375 -2.507812 2.9375 -2.15625 L 2.9375 -0.796875 C 2.9375 -0.640625 2.953125 -0.519531 2.984375 -0.4375 C 3.023438 -0.363281 3.101562 -0.328125 3.21875 -0.328125 Z M 1.4375 -0.34375 C 1.601562 -0.34375 1.742188 -0.375 1.859375 -0.4375 C 1.984375 -0.5 2.082031 -0.578125 2.15625 -0.671875 C 2.238281 -0.765625 2.296875 -0.867188 2.328125 -0.984375 C 2.367188 -1.097656 2.390625 -1.203125 2.390625 -1.296875 L 2.390625 -1.5625 L 1.84375 -1.546875 C 1.726562 -1.546875 1.617188 -1.535156 1.515625 -1.515625 C 1.410156 -1.503906 1.3125 -1.472656 1.21875 -1.421875 C 1.132812 -1.378906 1.0625 -1.3125 1 -1.21875 C 0.945312 -1.132812 0.921875 -1.019531 0.921875 -0.875 C 0.921875 -0.71875 0.960938 -0.585938 1.046875 -0.484375 C 1.140625 -0.390625 1.269531 -0.34375 1.4375 -0.34375 Z M 1.4375 -0.34375 \"/>\n</symbol>\n<symbol overflow=\"visible\" id=\"glyph0-9\">\n<path style=\"stroke:none;\" d=\"M 2.546875 0 L 2.546875 -2.03125 C 2.546875 -2.1875 2.53125 -2.316406 2.5 -2.421875 C 2.46875 -2.523438 2.421875 -2.601562 2.359375 -2.65625 C 2.304688 -2.71875 2.238281 -2.757812 2.15625 -2.78125 C 2.082031 -2.8125 2 -2.828125 1.90625 -2.828125 C 1.78125 -2.828125 1.664062 -2.800781 1.5625 -2.75 C 1.46875 -2.707031 1.382812 -2.644531 1.3125 -2.5625 C 1.238281 -2.476562 1.175781 -2.375 1.125 -2.25 C 1.082031 -2.132812 1.0625 -2 1.0625 -1.84375 L 1.0625 0 L 0.546875 0 L 0.546875 -2.5 C 0.546875 -2.5625 0.546875 -2.628906 0.546875 -2.703125 C 0.546875 -2.773438 0.539062 -2.84375 0.53125 -2.90625 C 0.53125 -2.976562 0.53125 -3.035156 0.53125 -3.078125 C 0.53125 -3.128906 0.53125 -3.160156 0.53125 -3.171875 L 1.015625 -3.171875 C 1.023438 -3.160156 1.03125 -3.132812 1.03125 -3.09375 C 1.03125 -3.050781 1.03125 -3 1.03125 -2.9375 C 1.039062 -2.882812 1.046875 -2.828125 1.046875 -2.765625 C 1.046875 -2.710938 1.046875 -2.664062 1.046875 -2.625 L 1.0625 -2.625 C 1.101562 -2.71875 1.15625 -2.800781 1.21875 -2.875 C 1.28125 -2.945312 1.351562 -3.007812 1.4375 -3.0625 C 1.519531 -3.113281 1.613281 -3.15625 1.71875 -3.1875 C 1.820312 -3.21875 1.9375 -3.234375 2.0625 -3.234375 C 2.226562 -3.234375 2.375 -3.207031 2.5 -3.15625 C 2.625 -3.113281 2.726562 -3.046875 2.8125 -2.953125 C 2.894531 -2.867188 2.957031 -2.753906 3 -2.609375 C 3.050781 -2.472656 3.078125 -2.304688 3.078125 -2.109375 L 3.078125 0 Z M 2.546875 0 \"/>\n</symbol>\n<symbol overflow=\"visible\" id=\"glyph0-10\">\n<path style=\"stroke:none;\" d=\"M 2.53125 -0.515625 C 2.425781 -0.304688 2.296875 -0.15625 2.140625 -0.0625 C 1.984375 0.03125 1.785156 0.078125 1.546875 0.078125 C 1.160156 0.078125 0.875 -0.0546875 0.6875 -0.328125 C 0.5 -0.597656 0.40625 -1.007812 0.40625 -1.5625 C 0.40625 -2.664062 0.785156 -3.21875 1.546875 -3.21875 C 1.785156 -3.21875 1.984375 -3.175781 2.140625 -3.09375 C 2.304688 -3.007812 2.4375 -2.867188 2.53125 -2.671875 C 2.53125 -2.679688 2.53125 -2.707031 2.53125 -2.75 C 2.53125 -2.789062 2.53125 -2.835938 2.53125 -2.890625 C 2.53125 -2.941406 2.53125 -2.988281 2.53125 -3.03125 C 2.53125 -3.070312 2.53125 -3.101562 2.53125 -3.125 L 2.53125 -4.34375 L 3.0625 -4.34375 L 3.0625 -0.65625 C 3.0625 -0.582031 3.0625 -0.507812 3.0625 -0.4375 C 3.0625 -0.363281 3.0625 -0.296875 3.0625 -0.234375 C 3.0625 -0.179688 3.0625 -0.132812 3.0625 -0.09375 C 3.070312 -0.0507812 3.078125 -0.0195312 3.078125 0 L 2.5625 0 C 2.5625 -0.0078125 2.5625 -0.03125 2.5625 -0.0625 C 2.5625 -0.101562 2.554688 -0.144531 2.546875 -0.1875 C 2.546875 -0.238281 2.546875 -0.289062 2.546875 -0.34375 C 2.546875 -0.40625 2.546875 -0.460938 2.546875 -0.515625 Z M 0.953125 -1.578125 C 0.953125 -1.359375 0.960938 -1.171875 0.984375 -1.015625 C 1.015625 -0.859375 1.0625 -0.726562 1.125 -0.625 C 1.1875 -0.519531 1.265625 -0.441406 1.359375 -0.390625 C 1.453125 -0.347656 1.5625 -0.328125 1.6875 -0.328125 C 1.820312 -0.328125 1.941406 -0.347656 2.046875 -0.390625 C 2.148438 -0.441406 2.238281 -0.519531 2.3125 -0.625 C 2.382812 -0.726562 2.4375 -0.859375 2.46875 -1.015625 C 2.507812 -1.179688 2.53125 -1.382812 2.53125 -1.625 C 2.53125 -1.851562 2.507812 -2.039062 2.46875 -2.1875 C 2.4375 -2.34375 2.382812 -2.46875 2.3125 -2.5625 C 2.238281 -2.65625 2.148438 -2.722656 2.046875 -2.765625 C 1.953125 -2.804688 1.835938 -2.828125 1.703125 -2.828125 C 1.578125 -2.828125 1.46875 -2.800781 1.375 -2.75 C 1.28125 -2.707031 1.203125 -2.632812 1.140625 -2.53125 C 1.078125 -2.4375 1.03125 -2.3125 1 -2.15625 C 0.96875 -2 0.953125 -1.804688 0.953125 -1.578125 Z M 0.953125 -1.578125 \"/>\n</symbol>\n<symbol overflow=\"visible\" id=\"glyph0-11\">\n<path style=\"stroke:none;\" d=\"M 3.21875 -1.59375 C 3.21875 -1.3125 3.179688 -1.066406 3.109375 -0.859375 C 3.046875 -0.648438 2.953125 -0.476562 2.828125 -0.34375 C 2.710938 -0.207031 2.566406 -0.101562 2.390625 -0.03125 C 2.210938 0.03125 2.007812 0.0625 1.78125 0.0625 C 1.570312 0.0625 1.378906 0.03125 1.203125 -0.03125 C 1.035156 -0.101562 0.890625 -0.207031 0.765625 -0.34375 C 0.640625 -0.476562 0.539062 -0.648438 0.46875 -0.859375 C 0.40625 -1.066406 0.375 -1.3125 0.375 -1.59375 C 0.375 -2.132812 0.5 -2.539062 0.75 -2.8125 C 1 -3.09375 1.347656 -3.234375 1.796875 -3.234375 C 2.273438 -3.234375 2.628906 -3.097656 2.859375 -2.828125 C 3.097656 -2.554688 3.21875 -2.144531 3.21875 -1.59375 Z M 2.65625 -1.59375 C 2.65625 -1.832031 2.632812 -2.03125 2.59375 -2.1875 C 2.550781 -2.351562 2.492188 -2.484375 2.421875 -2.578125 C 2.347656 -2.671875 2.257812 -2.738281 2.15625 -2.78125 C 2.050781 -2.820312 1.9375 -2.84375 1.8125 -2.84375 C 1.6875 -2.84375 1.566406 -2.820312 1.453125 -2.78125 C 1.347656 -2.738281 1.253906 -2.664062 1.171875 -2.5625 C 1.097656 -2.46875 1.039062 -2.34375 1 -2.1875 C 0.957031 -2.03125 0.9375 -1.832031 0.9375 -1.59375 C 0.9375 -1.34375 0.957031 -1.132812 1 -0.96875 C 1.050781 -0.8125 1.113281 -0.6875 1.1875 -0.59375 C 1.257812 -0.5 1.347656 -0.429688 1.453125 -0.390625 C 1.554688 -0.347656 1.664062 -0.328125 1.78125 -0.328125 C 1.90625 -0.328125 2.019531 -0.347656 2.125 -0.390625 C 2.238281 -0.429688 2.332031 -0.5 2.40625 -0.59375 C 2.488281 -0.6875 2.550781 -0.8125 2.59375 -0.96875 C 2.632812 -1.132812 2.65625 -1.34375 2.65625 -1.59375 Z M 2.65625 -1.59375 \"/>\n</symbol>\n<symbol overflow=\"visible\" id=\"glyph0-12\">\n<path style=\"stroke:none;\" d=\"M 0.921875 -2 C 0.921875 -1.738281 0.9375 -1.507812 0.96875 -1.3125 C 1.007812 -1.113281 1.070312 -0.945312 1.15625 -0.8125 C 1.238281 -0.675781 1.34375 -0.570312 1.46875 -0.5 C 1.601562 -0.425781 1.757812 -0.390625 1.9375 -0.390625 C 2.0625 -0.390625 2.171875 -0.410156 2.265625 -0.453125 C 2.367188 -0.503906 2.457031 -0.566406 2.53125 -0.640625 C 2.613281 -0.722656 2.679688 -0.8125 2.734375 -0.90625 C 2.785156 -1.007812 2.832031 -1.113281 2.875 -1.21875 L 3.34375 -1.03125 C 3.289062 -0.894531 3.222656 -0.757812 3.140625 -0.625 C 3.066406 -0.5 2.972656 -0.382812 2.859375 -0.28125 C 2.742188 -0.175781 2.609375 -0.09375 2.453125 -0.03125 C 2.304688 0.03125 2.132812 0.0625 1.9375 0.0625 C 1.65625 0.0625 1.414062 0.015625 1.21875 -0.078125 C 1.019531 -0.179688 0.851562 -0.320312 0.71875 -0.5 C 0.582031 -0.6875 0.484375 -0.90625 0.421875 -1.15625 C 0.359375 -1.40625 0.328125 -1.6875 0.328125 -2 C 0.328125 -2.320312 0.359375 -2.609375 0.421875 -2.859375 C 0.484375 -3.109375 0.578125 -3.316406 0.703125 -3.484375 C 0.835938 -3.660156 1.003906 -3.789062 1.203125 -3.875 C 1.398438 -3.96875 1.632812 -4.015625 1.90625 -4.015625 C 2.101562 -4.015625 2.273438 -3.988281 2.421875 -3.9375 C 2.566406 -3.882812 2.691406 -3.8125 2.796875 -3.71875 C 2.910156 -3.625 3.003906 -3.515625 3.078125 -3.390625 C 3.148438 -3.273438 3.210938 -3.15625 3.265625 -3.03125 L 2.78125 -2.84375 C 2.75 -2.9375 2.707031 -3.023438 2.65625 -3.109375 C 2.601562 -3.191406 2.539062 -3.265625 2.46875 -3.328125 C 2.394531 -3.398438 2.3125 -3.457031 2.21875 -3.5 C 2.125 -3.539062 2.019531 -3.5625 1.90625 -3.5625 C 1.726562 -3.5625 1.578125 -3.523438 1.453125 -3.453125 C 1.328125 -3.390625 1.222656 -3.289062 1.140625 -3.15625 C 1.066406 -3.03125 1.007812 -2.867188 0.96875 -2.671875 C 0.9375 -2.472656 0.921875 -2.25 0.921875 -2 Z M 0.921875 -2 \"/>\n</symbol>\n<symbol overflow=\"visible\" id=\"glyph0-13\">\n<path style=\"stroke:none;\" d=\"M 2.09375 0 L 1.46875 0 L 0.203125 -3.171875 L 0.796875 -3.171875 L 1.578125 -1.109375 C 1.597656 -1.066406 1.613281 -1.015625 1.625 -0.953125 C 1.644531 -0.890625 1.664062 -0.820312 1.6875 -0.75 C 1.707031 -0.6875 1.722656 -0.625 1.734375 -0.5625 C 1.753906 -0.5 1.769531 -0.445312 1.78125 -0.40625 C 1.789062 -0.445312 1.804688 -0.5 1.828125 -0.5625 C 1.847656 -0.625 1.863281 -0.6875 1.875 -0.75 C 1.894531 -0.820312 1.914062 -0.882812 1.9375 -0.9375 C 1.957031 -1 1.976562 -1.054688 2 -1.109375 L 2.8125 -3.171875 L 3.390625 -3.171875 Z M 2.09375 0 \"/>\n</symbol>\n<symbol overflow=\"visible\" id=\"glyph0-14\">\n<path style=\"stroke:none;\" d=\"M 3.296875 -2.015625 C 3.296875 -1.691406 3.253906 -1.398438 3.171875 -1.140625 C 3.097656 -0.890625 2.984375 -0.679688 2.828125 -0.515625 C 2.679688 -0.347656 2.5 -0.21875 2.28125 -0.125 C 2.070312 -0.0390625 1.832031 0 1.5625 0 L 0.46875 0 L 0.46875 -3.953125 L 1.390625 -3.953125 C 1.691406 -3.953125 1.960938 -3.914062 2.203125 -3.84375 C 2.441406 -3.769531 2.640625 -3.648438 2.796875 -3.484375 C 2.960938 -3.328125 3.085938 -3.125 3.171875 -2.875 C 3.253906 -2.632812 3.296875 -2.347656 3.296875 -2.015625 Z M 2.734375 -2.015625 C 2.734375 -2.273438 2.703125 -2.5 2.640625 -2.6875 C 2.585938 -2.875 2.503906 -3.023438 2.390625 -3.140625 C 2.285156 -3.265625 2.148438 -3.351562 1.984375 -3.40625 C 1.816406 -3.46875 1.617188 -3.5 1.390625 -3.5 L 1.03125 -3.5 L 1.03125 -0.453125 L 1.515625 -0.453125 C 1.921875 -0.453125 2.222656 -0.582031 2.421875 -0.84375 C 2.628906 -1.101562 2.734375 -1.492188 2.734375 -2.015625 Z M 2.734375 -2.015625 \"/>\n</symbol>\n<symbol overflow=\"visible\" id=\"glyph0-15\">\n<path style=\"stroke:none;\" d=\"M 0.46875 0 L 0.46875 -3.953125 L 3.171875 -3.953125 L 3.171875 -3.5 L 1.03125 -3.5 L 1.03125 -2.265625 L 2.984375 -2.265625 L 2.984375 -1.8125 L 1.03125 -1.8125 L 1.03125 -0.453125 L 3.28125 -0.453125 L 3.28125 0 Z M 0.46875 0 \"/>\n</symbol>\n<symbol overflow=\"visible\" id=\"glyph0-16\">\n<path style=\"stroke:none;\" d=\"M 1.125 -3.5 L 1.125 -2.046875 L 3.109375 -2.046875 L 3.109375 -1.578125 L 1.125 -1.578125 L 1.125 0 L 0.5625 0 L 0.5625 -3.953125 L 3.171875 -3.953125 L 3.171875 -3.5 Z M 1.125 -3.5 \"/>\n</symbol>\n<symbol overflow=\"visible\" id=\"glyph0-17\">\n<path style=\"stroke:none;\" d=\"M 3.21875 -0.390625 C 3.15625 -0.335938 3.078125 -0.285156 2.984375 -0.234375 C 2.890625 -0.179688 2.785156 -0.132812 2.671875 -0.09375 C 2.554688 -0.0507812 2.429688 -0.015625 2.296875 0.015625 C 2.160156 0.046875 2.019531 0.0625 1.875 0.0625 C 1.613281 0.0625 1.382812 0.0078125 1.1875 -0.09375 C 1 -0.195312 0.835938 -0.335938 0.703125 -0.515625 C 0.578125 -0.703125 0.484375 -0.921875 0.421875 -1.171875 C 0.359375 -1.421875 0.328125 -1.695312 0.328125 -2 C 0.328125 -2.320312 0.359375 -2.609375 0.421875 -2.859375 C 0.484375 -3.109375 0.578125 -3.316406 0.703125 -3.484375 C 0.828125 -3.660156 0.988281 -3.789062 1.1875 -3.875 C 1.382812 -3.96875 1.613281 -4.015625 1.875 -4.015625 C 2.070312 -4.015625 2.242188 -3.988281 2.390625 -3.9375 C 2.535156 -3.882812 2.660156 -3.8125 2.765625 -3.71875 C 2.878906 -3.632812 2.972656 -3.535156 3.046875 -3.421875 C 3.117188 -3.304688 3.179688 -3.179688 3.234375 -3.046875 L 2.734375 -2.875 C 2.660156 -3.09375 2.554688 -3.257812 2.421875 -3.375 C 2.285156 -3.5 2.109375 -3.5625 1.890625 -3.5625 C 1.710938 -3.5625 1.5625 -3.523438 1.4375 -3.453125 C 1.3125 -3.390625 1.207031 -3.289062 1.125 -3.15625 C 1.050781 -3.019531 1 -2.851562 0.96875 -2.65625 C 0.9375 -2.46875 0.921875 -2.25 0.921875 -2 C 0.921875 -1.46875 1.003906 -1.066406 1.171875 -0.796875 C 1.335938 -0.523438 1.585938 -0.390625 1.921875 -0.390625 C 2.015625 -0.390625 2.097656 -0.398438 2.171875 -0.421875 C 2.253906 -0.441406 2.328125 -0.460938 2.390625 -0.484375 C 2.460938 -0.503906 2.519531 -0.523438 2.5625 -0.546875 C 2.613281 -0.578125 2.65625 -0.597656 2.6875 -0.609375 L 2.6875 -1.59375 L 1.828125 -1.59375 L 1.828125 -2.0625 L 3.21875 -2.0625 Z M 3.21875 -0.390625 \"/>\n</symbol>\n<symbol overflow=\"visible\" id=\"glyph0-18\">\n<path style=\"stroke:none;\" d=\"M 2.5625 0 L 2.5625 -1.828125 L 1.03125 -1.828125 L 1.03125 0 L 0.46875 0 L 0.46875 -3.953125 L 1.03125 -3.953125 L 1.03125 -2.296875 L 2.5625 -2.296875 L 2.5625 -3.953125 L 3.125 -3.953125 L 3.125 0 Z M 2.5625 0 \"/>\n</symbol>\n<symbol overflow=\"visible\" id=\"glyph0-19\">\n<path style=\"stroke:none;\" d=\"M 0.546875 -4.34375 L 1.078125 -4.34375 L 1.078125 -3.203125 C 1.078125 -3.109375 1.070312 -3.007812 1.0625 -2.90625 C 1.0625 -2.8125 1.054688 -2.71875 1.046875 -2.625 L 1.0625 -2.625 C 1.101562 -2.71875 1.15625 -2.800781 1.21875 -2.875 C 1.28125 -2.945312 1.347656 -3.007812 1.421875 -3.0625 C 1.503906 -3.113281 1.597656 -3.15625 1.703125 -3.1875 C 1.804688 -3.21875 1.921875 -3.234375 2.046875 -3.234375 C 2.210938 -3.234375 2.359375 -3.207031 2.484375 -3.15625 C 2.609375 -3.113281 2.710938 -3.046875 2.796875 -2.953125 C 2.890625 -2.867188 2.957031 -2.753906 3 -2.609375 C 3.050781 -2.472656 3.078125 -2.304688 3.078125 -2.109375 L 3.078125 0 L 2.546875 0 L 2.546875 -2.03125 C 2.546875 -2.1875 2.53125 -2.316406 2.5 -2.421875 C 2.46875 -2.523438 2.421875 -2.601562 2.359375 -2.65625 C 2.304688 -2.71875 2.238281 -2.757812 2.15625 -2.78125 C 2.082031 -2.8125 2 -2.828125 1.90625 -2.828125 C 1.78125 -2.828125 1.664062 -2.800781 1.5625 -2.75 C 1.46875 -2.707031 1.382812 -2.644531 1.3125 -2.5625 C 1.238281 -2.476562 1.175781 -2.375 1.125 -2.25 C 1.082031 -2.132812 1.0625 -2 1.0625 -1.84375 L 1.0625 0 L 0.546875 0 Z M 0.546875 -4.34375 \"/>\n</symbol>\n</g>\n</defs>\n<g id=\"surface26\">\n<rect x=\"0\" y=\"0\" width=\"300\" height=\"300\" style=\"fill:rgb(100%,100%,100%);fill-opacity:1;stroke:none;\"/>\n<path style=\"fill:none;stroke-width:1;stroke-linecap:butt;stroke-linejoin:miter;stroke:rgb(26.666667%,26.666667%,26.666667%);stroke-opacity:1;stroke-miterlimit:10;\" d=\"M 280 148.804688 L 237.105469 280 \"/>\n<path style=\"fill:none;stroke-width:1;stroke-linecap:butt;stroke-linejoin:miter;stroke:rgb(26.666667%,26.666667%,26.666667%);stroke-opacity:1;stroke-miterlimit:10;\" d=\"M 280 148.804688 L 236.183594 20 \"/>\n<path style=\"fill:none;stroke-width:1;stroke-linecap:butt;stroke-linejoin:miter;stroke:rgb(26.666667%,26.666667%,26.666667%);stroke-opacity:1;stroke-miterlimit:10;\" d=\"M 280 148.804688 L 232.769531 150.023438 \"/>\n<path style=\"fill:none;stroke-width:1;stroke-linecap:butt;stroke-linejoin:miter;stroke:rgb(26.666667%,26.666667%,26.666667%);stroke-opacity:1;stroke-miterlimit:10;\" d=\"M 237.105469 280 L 175.796875 151.785156 \"/>\n<path style=\"fill:none;stroke-width:1;stroke-linecap:butt;stroke-linejoin:miter;stroke:rgb(26.666667%,26.666667%,26.666667%);stroke-opacity:1;stroke-miterlimit:10;\" d=\"M 175.796875 151.785156 L 236.183594 20 \"/>\n<path style=\"fill:none;stroke-width:1;stroke-linecap:butt;stroke-linejoin:miter;stroke:rgb(26.666667%,26.666667%,26.666667%);stroke-opacity:1;stroke-miterlimit:10;\" d=\"M 175.796875 151.785156 L 232.769531 150.023438 \"/>\n<path style=\"fill:none;stroke-width:1;stroke-linecap:butt;stroke-linejoin:miter;stroke:rgb(26.666667%,26.666667%,26.666667%);stroke-opacity:1;stroke-miterlimit:10;\" d=\"M 175.796875 151.785156 L 78.238281 154.929688 \"/>\n<path style=\"fill:none;stroke-width:1;stroke-linecap:butt;stroke-linejoin:miter;stroke:rgb(26.666667%,26.666667%,26.666667%);stroke-opacity:1;stroke-miterlimit:10;\" d=\"M 78.238281 154.929688 L 20.972656 272.886719 \"/>\n<path style=\"fill:none;stroke-width:1;stroke-linecap:butt;stroke-linejoin:miter;stroke:rgb(26.666667%,26.666667%,26.666667%);stroke-opacity:1;stroke-miterlimit:10;\" d=\"M 78.238281 154.929688 L 20 40.742188 \"/>\n<path style=\"fill-rule:nonzero;fill:rgb(52.941176%,80.784314%,92.156863%);fill-opacity:1;stroke-width:1;stroke-linecap:butt;stroke-linejoin:miter;stroke:rgb(0%,0%,0%);stroke-opacity:1;stroke-miterlimit:10;\" d=\"M 295 148.804688 C 295 157.089844 288.285156 163.804688 280 163.804688 C 271.714844 163.804688 265 157.089844 265 148.804688 C 265 140.519531 271.714844 133.804688 280 133.804688 C 288.285156 133.804688 295 140.519531 295 148.804688 \"/>\n<path style=\"fill-rule:nonzero;fill:rgb(52.941176%,80.784314%,92.156863%);fill-opacity:1;stroke-width:1;stroke-linecap:butt;stroke-linejoin:miter;stroke:rgb(0%,0%,0%);stroke-opacity:1;stroke-miterlimit:10;\" d=\"M 252.105469 280 C 252.105469 288.285156 245.390625 295 237.105469 295 C 228.820312 295 222.105469 288.285156 222.105469 280 C 222.105469 271.714844 228.820312 265 237.105469 265 C 245.390625 265 252.105469 271.714844 252.105469 280 \"/>\n<path style=\"fill-rule:nonzero;fill:rgb(52.941176%,80.784314%,92.156863%);fill-opacity:1;stroke-width:1;stroke-linecap:butt;stroke-linejoin:miter;stroke:rgb(0%,0%,0%);stroke-opacity:1;stroke-miterlimit:10;\" d=\"M 190.796875 151.785156 C 190.796875 160.070312 184.078125 166.785156 175.796875 166.785156 C 167.511719 166.785156 160.796875 160.070312 160.796875 151.785156 C 160.796875 143.5 167.511719 136.785156 175.796875 136.785156 C 184.078125 136.785156 190.796875 143.5 190.796875 151.785156 \"/>\n<path style=\"fill-rule:nonzero;fill:rgb(52.941176%,80.784314%,92.156863%);fill-opacity:1;stroke-width:1;stroke-linecap:butt;stroke-linejoin:miter;stroke:rgb(0%,0%,0%);stroke-opacity:1;stroke-miterlimit:10;\" d=\"M 251.183594 20 C 251.183594 28.285156 244.46875 35 236.183594 35 C 227.898438 35 221.183594 28.285156 221.183594 20 C 221.183594 11.714844 227.898438 5 236.183594 5 C 244.46875 5 251.183594 11.714844 251.183594 20 \"/>\n<path style=\"fill-rule:nonzero;fill:rgb(52.941176%,80.784314%,92.156863%);fill-opacity:1;stroke-width:1;stroke-linecap:butt;stroke-linejoin:miter;stroke:rgb(0%,0%,0%);stroke-opacity:1;stroke-miterlimit:10;\" d=\"M 247.769531 150.023438 C 247.769531 158.308594 241.054688 165.023438 232.769531 165.023438 C 224.488281 165.023438 217.769531 158.308594 217.769531 150.023438 C 217.769531 141.738281 224.488281 135.023438 232.769531 135.023438 C 241.054688 135.023438 247.769531 141.738281 247.769531 150.023438 \"/>\n<path style=\"fill-rule:nonzero;fill:rgb(52.941176%,80.784314%,92.156863%);fill-opacity:1;stroke-width:1;stroke-linecap:butt;stroke-linejoin:miter;stroke:rgb(0%,0%,0%);stroke-opacity:1;stroke-miterlimit:10;\" d=\"M 93.238281 154.929688 C 93.238281 163.214844 86.523438 169.929688 78.238281 169.929688 C 69.957031 169.929688 63.238281 163.214844 63.238281 154.929688 C 63.238281 146.644531 69.957031 139.929688 78.238281 139.929688 C 86.523438 139.929688 93.238281 146.644531 93.238281 154.929688 \"/>\n<path style=\"fill-rule:nonzero;fill:rgb(52.941176%,80.784314%,92.156863%);fill-opacity:1;stroke-width:1;stroke-linecap:butt;stroke-linejoin:miter;stroke:rgb(0%,0%,0%);stroke-opacity:1;stroke-miterlimit:10;\" d=\"M 35.972656 272.886719 C 35.972656 281.167969 29.253906 287.886719 20.972656 287.886719 C 12.6875 287.886719 5.972656 281.167969 5.972656 272.886719 C 5.972656 264.601562 12.6875 257.886719 20.972656 257.886719 C 29.253906 257.886719 35.972656 264.601562 35.972656 272.886719 \"/>\n<path style=\"fill-rule:nonzero;fill:rgb(52.941176%,80.784314%,92.156863%);fill-opacity:1;stroke-width:1;stroke-linecap:butt;stroke-linejoin:miter;stroke:rgb(0%,0%,0%);stroke-opacity:1;stroke-miterlimit:10;\" d=\"M 35 40.742188 C 35 49.027344 28.285156 55.742188 20 55.742188 C 11.714844 55.742188 5 49.027344 5 40.742188 C 5 32.457031 11.714844 25.742188 20 25.742188 C 28.285156 25.742188 35 32.457031 35 40.742188 \"/>\n<g style=\"fill:rgb(0%,0%,0%);fill-opacity:1;\">\n  <use xlink:href=\"#glyph0-1\" x=\"271.195312\" y=\"151.878906\"/>\n  <use xlink:href=\"#glyph0-2\" x=\"274.795898\" y=\"151.878906\"/>\n  <use xlink:href=\"#glyph0-3\" x=\"278.396484\" y=\"151.878906\"/>\n  <use xlink:href=\"#glyph0-4\" x=\"281.99707\" y=\"151.878906\"/>\n  <use xlink:href=\"#glyph0-5\" x=\"285.597656\" y=\"151.878906\"/>\n</g>\n<g style=\"fill:rgb(0%,0%,0%);fill-opacity:1;\">\n  <use xlink:href=\"#glyph0-6\" x=\"224.53125\" y=\"283.074219\"/>\n  <use xlink:href=\"#glyph0-7\" x=\"228.131836\" y=\"283.074219\"/>\n  <use xlink:href=\"#glyph0-8\" x=\"231.732422\" y=\"283.074219\"/>\n  <use xlink:href=\"#glyph0-9\" x=\"235.333008\" y=\"283.074219\"/>\n  <use xlink:href=\"#glyph0-10\" x=\"238.933594\" y=\"283.074219\"/>\n  <use xlink:href=\"#glyph0-11\" x=\"242.53418\" y=\"283.074219\"/>\n  <use xlink:href=\"#glyph0-9\" x=\"246.134766\" y=\"283.074219\"/>\n</g>\n<g style=\"fill:rgb(0%,0%,0%);fill-opacity:1;\">\n  <use xlink:href=\"#glyph0-12\" x=\"166.890625\" y=\"154.859375\"/>\n  <use xlink:href=\"#glyph0-8\" x=\"170.491211\" y=\"154.859375\"/>\n  <use xlink:href=\"#glyph0-13\" x=\"174.091797\" y=\"154.859375\"/>\n  <use xlink:href=\"#glyph0-3\" x=\"177.692383\" y=\"154.859375\"/>\n  <use xlink:href=\"#glyph0-9\" x=\"181.292969\" y=\"154.859375\"/>\n</g>\n<g style=\"fill:rgb(0%,0%,0%);fill-opacity:1;\">\n  <use xlink:href=\"#glyph0-14\" x=\"227.207031\" y=\"23.074219\"/>\n  <use xlink:href=\"#glyph0-8\" x=\"230.807617\" y=\"23.074219\"/>\n  <use xlink:href=\"#glyph0-13\" x=\"234.408203\" y=\"23.074219\"/>\n  <use xlink:href=\"#glyph0-3\" x=\"238.008789\" y=\"23.074219\"/>\n  <use xlink:href=\"#glyph0-10\" x=\"241.609375\" y=\"23.074219\"/>\n</g>\n<g style=\"fill:rgb(0%,0%,0%);fill-opacity:1;\">\n  <use xlink:href=\"#glyph0-15\" x=\"220.199219\" y=\"153.097656\"/>\n  <use xlink:href=\"#glyph0-2\" x=\"223.799805\" y=\"153.097656\"/>\n  <use xlink:href=\"#glyph0-5\" x=\"227.400391\" y=\"153.097656\"/>\n  <use xlink:href=\"#glyph0-8\" x=\"231.000977\" y=\"153.097656\"/>\n  <use xlink:href=\"#glyph0-9\" x=\"234.601562\" y=\"153.097656\"/>\n  <use xlink:href=\"#glyph0-11\" x=\"238.202148\" y=\"153.097656\"/>\n  <use xlink:href=\"#glyph0-7\" x=\"241.802734\" y=\"153.097656\"/>\n</g>\n<g style=\"fill:rgb(0%,0%,0%);fill-opacity:1;\">\n  <use xlink:href=\"#glyph0-16\" x=\"71.019531\" y=\"158.003906\"/>\n  <use xlink:href=\"#glyph0-7\" x=\"74.620117\" y=\"158.003906\"/>\n  <use xlink:href=\"#glyph0-5\" x=\"78.220703\" y=\"158.003906\"/>\n  <use xlink:href=\"#glyph0-10\" x=\"81.821289\" y=\"158.003906\"/>\n</g>\n<g style=\"fill:rgb(0%,0%,0%);fill-opacity:1;\">\n  <use xlink:href=\"#glyph0-17\" x=\"15.503906\" y=\"275.960938\"/>\n  <use xlink:href=\"#glyph0-3\" x=\"19.104492\" y=\"275.960938\"/>\n  <use xlink:href=\"#glyph0-8\" x=\"22.705078\" y=\"275.960938\"/>\n</g>\n<g style=\"fill:rgb(0%,0%,0%);fill-opacity:1;\">\n  <use xlink:href=\"#glyph0-18\" x=\"9.226562\" y=\"43.816406\"/>\n  <use xlink:href=\"#glyph0-8\" x=\"12.827148\" y=\"43.816406\"/>\n  <use xlink:href=\"#glyph0-9\" x=\"16.427734\" y=\"43.816406\"/>\n  <use xlink:href=\"#glyph0-9\" x=\"20.02832\" y=\"43.816406\"/>\n  <use xlink:href=\"#glyph0-8\" x=\"23.628906\" y=\"43.816406\"/>\n  <use xlink:href=\"#glyph0-19\" x=\"27.229492\" y=\"43.816406\"/>\n</g>\n</g>\n</svg>\n"
          },
          "metadata": {
            "image/svg+xml": {
              "isolated": true
            }
          },
          "execution_count": 36
        }
      ]
    },
    {
      "cell_type": "markdown",
      "source": [
        "Now, we compute common neighbor centrality for all possible node pairs"
      ],
      "metadata": {
        "id": "bJB3cMzKeRnx"
      }
    },
    {
      "cell_type": "code",
      "source": [
        "G_facebook1_nx.nodes"
      ],
      "metadata": {
        "id": "GhQu7AaseRkS",
        "colab": {
          "base_uri": "https://localhost:8080/"
        },
        "outputId": "426634b9-5f86-41bc-85a4-181054f929c7"
      },
      "execution_count": 37,
      "outputs": [
        {
          "output_type": "execute_result",
          "data": {
            "text/plain": [
              "NodeView(('Alice', 'Brandon', 'Cavin', 'David', 'Eleanor', 'Fred', 'Gia', 'Hannah'))"
            ]
          },
          "metadata": {},
          "execution_count": 37
        }
      ]
    },
    {
      "cell_type": "code",
      "source": [
        "n_nodes_G_facebook1 = G_facebook1_nx.number_of_nodes()\n",
        "common_neighbor_2d_array = np.zeros((n_nodes_G_facebook1, n_nodes_G_facebook1)).astype(int)"
      ],
      "metadata": {
        "id": "b2psIcdkfPF4"
      },
      "execution_count": 38,
      "outputs": []
    },
    {
      "cell_type": "code",
      "source": [
        "for u_idx, u in enumerate(G_facebook1_nx.nodes):\n",
        "    for v_idx, v in enumerate(G_facebook1_nx.nodes):\n",
        "        # note: nx.common_neighbors() returns the iterator of common neighbors\n",
        "        if u!=v:\n",
        "            common_neighbor_2d_array[u_idx, v_idx] =  len([cn for cn in nx.common_neighbors(G_facebook1_nx, u, v)])"
      ],
      "metadata": {
        "id": "TkVEcOcefPCN"
      },
      "execution_count": 39,
      "outputs": []
    },
    {
      "cell_type": "code",
      "source": [
        "df_common_neighbor = pd.DataFrame(\n",
        "    data=common_neighbor_2d_array,\n",
        "    columns=[v for v in G_facebook1_nx.nodes],\n",
        "    index=[v for v in G_facebook1_nx.nodes]\n",
        "    )"
      ],
      "metadata": {
        "id": "pLm2F1vgeRNW"
      },
      "execution_count": 40,
      "outputs": []
    },
    {
      "cell_type": "code",
      "source": [
        "df_common_neighbor"
      ],
      "metadata": {
        "id": "fXsDpnLIgo27",
        "colab": {
          "base_uri": "https://localhost:8080/",
          "height": 300
        },
        "outputId": "e2b8cca9-c7e4-468e-ce65-18310806c073"
      },
      "execution_count": 41,
      "outputs": [
        {
          "output_type": "execute_result",
          "data": {
            "text/plain": [
              "         Alice  Brandon  Cavin  David  Eleanor  Fred  Gia  Hannah\n",
              "Alice        0        0      3      0        0     0    0       0\n",
              "Brandon      0        0      0      2        2     1    0       0\n",
              "Cavin        3        0      0      0        0     0    1       1\n",
              "David        0        2      0      0        2     1    0       0\n",
              "Eleanor      0        2      0      2        0     1    0       0\n",
              "Fred         0        1      0      1        1     0    0       0\n",
              "Gia          0        0      1      0        0     0    0       1\n",
              "Hannah       0        0      1      0        0     0    1       0"
            ],
            "text/html": [
              "\n",
              "  <div id=\"df-71aa88e9-bbf7-4f69-a9a5-aa2fc7112b7b\" class=\"colab-df-container\">\n",
              "    <div>\n",
              "<style scoped>\n",
              "    .dataframe tbody tr th:only-of-type {\n",
              "        vertical-align: middle;\n",
              "    }\n",
              "\n",
              "    .dataframe tbody tr th {\n",
              "        vertical-align: top;\n",
              "    }\n",
              "\n",
              "    .dataframe thead th {\n",
              "        text-align: right;\n",
              "    }\n",
              "</style>\n",
              "<table border=\"1\" class=\"dataframe\">\n",
              "  <thead>\n",
              "    <tr style=\"text-align: right;\">\n",
              "      <th></th>\n",
              "      <th>Alice</th>\n",
              "      <th>Brandon</th>\n",
              "      <th>Cavin</th>\n",
              "      <th>David</th>\n",
              "      <th>Eleanor</th>\n",
              "      <th>Fred</th>\n",
              "      <th>Gia</th>\n",
              "      <th>Hannah</th>\n",
              "    </tr>\n",
              "  </thead>\n",
              "  <tbody>\n",
              "    <tr>\n",
              "      <th>Alice</th>\n",
              "      <td>0</td>\n",
              "      <td>0</td>\n",
              "      <td>3</td>\n",
              "      <td>0</td>\n",
              "      <td>0</td>\n",
              "      <td>0</td>\n",
              "      <td>0</td>\n",
              "      <td>0</td>\n",
              "    </tr>\n",
              "    <tr>\n",
              "      <th>Brandon</th>\n",
              "      <td>0</td>\n",
              "      <td>0</td>\n",
              "      <td>0</td>\n",
              "      <td>2</td>\n",
              "      <td>2</td>\n",
              "      <td>1</td>\n",
              "      <td>0</td>\n",
              "      <td>0</td>\n",
              "    </tr>\n",
              "    <tr>\n",
              "      <th>Cavin</th>\n",
              "      <td>3</td>\n",
              "      <td>0</td>\n",
              "      <td>0</td>\n",
              "      <td>0</td>\n",
              "      <td>0</td>\n",
              "      <td>0</td>\n",
              "      <td>1</td>\n",
              "      <td>1</td>\n",
              "    </tr>\n",
              "    <tr>\n",
              "      <th>David</th>\n",
              "      <td>0</td>\n",
              "      <td>2</td>\n",
              "      <td>0</td>\n",
              "      <td>0</td>\n",
              "      <td>2</td>\n",
              "      <td>1</td>\n",
              "      <td>0</td>\n",
              "      <td>0</td>\n",
              "    </tr>\n",
              "    <tr>\n",
              "      <th>Eleanor</th>\n",
              "      <td>0</td>\n",
              "      <td>2</td>\n",
              "      <td>0</td>\n",
              "      <td>2</td>\n",
              "      <td>0</td>\n",
              "      <td>1</td>\n",
              "      <td>0</td>\n",
              "      <td>0</td>\n",
              "    </tr>\n",
              "    <tr>\n",
              "      <th>Fred</th>\n",
              "      <td>0</td>\n",
              "      <td>1</td>\n",
              "      <td>0</td>\n",
              "      <td>1</td>\n",
              "      <td>1</td>\n",
              "      <td>0</td>\n",
              "      <td>0</td>\n",
              "      <td>0</td>\n",
              "    </tr>\n",
              "    <tr>\n",
              "      <th>Gia</th>\n",
              "      <td>0</td>\n",
              "      <td>0</td>\n",
              "      <td>1</td>\n",
              "      <td>0</td>\n",
              "      <td>0</td>\n",
              "      <td>0</td>\n",
              "      <td>0</td>\n",
              "      <td>1</td>\n",
              "    </tr>\n",
              "    <tr>\n",
              "      <th>Hannah</th>\n",
              "      <td>0</td>\n",
              "      <td>0</td>\n",
              "      <td>1</td>\n",
              "      <td>0</td>\n",
              "      <td>0</td>\n",
              "      <td>0</td>\n",
              "      <td>1</td>\n",
              "      <td>0</td>\n",
              "    </tr>\n",
              "  </tbody>\n",
              "</table>\n",
              "</div>\n",
              "    <div class=\"colab-df-buttons\">\n",
              "\n",
              "  <div class=\"colab-df-container\">\n",
              "    <button class=\"colab-df-convert\" onclick=\"convertToInteractive('df-71aa88e9-bbf7-4f69-a9a5-aa2fc7112b7b')\"\n",
              "            title=\"Convert this dataframe to an interactive table.\"\n",
              "            style=\"display:none;\">\n",
              "\n",
              "  <svg xmlns=\"http://www.w3.org/2000/svg\" height=\"24px\" viewBox=\"0 -960 960 960\">\n",
              "    <path d=\"M120-120v-720h720v720H120Zm60-500h600v-160H180v160Zm220 220h160v-160H400v160Zm0 220h160v-160H400v160ZM180-400h160v-160H180v160Zm440 0h160v-160H620v160ZM180-180h160v-160H180v160Zm440 0h160v-160H620v160Z\"/>\n",
              "  </svg>\n",
              "    </button>\n",
              "\n",
              "  <style>\n",
              "    .colab-df-container {\n",
              "      display:flex;\n",
              "      gap: 12px;\n",
              "    }\n",
              "\n",
              "    .colab-df-convert {\n",
              "      background-color: #E8F0FE;\n",
              "      border: none;\n",
              "      border-radius: 50%;\n",
              "      cursor: pointer;\n",
              "      display: none;\n",
              "      fill: #1967D2;\n",
              "      height: 32px;\n",
              "      padding: 0 0 0 0;\n",
              "      width: 32px;\n",
              "    }\n",
              "\n",
              "    .colab-df-convert:hover {\n",
              "      background-color: #E2EBFA;\n",
              "      box-shadow: 0px 1px 2px rgba(60, 64, 67, 0.3), 0px 1px 3px 1px rgba(60, 64, 67, 0.15);\n",
              "      fill: #174EA6;\n",
              "    }\n",
              "\n",
              "    .colab-df-buttons div {\n",
              "      margin-bottom: 4px;\n",
              "    }\n",
              "\n",
              "    [theme=dark] .colab-df-convert {\n",
              "      background-color: #3B4455;\n",
              "      fill: #D2E3FC;\n",
              "    }\n",
              "\n",
              "    [theme=dark] .colab-df-convert:hover {\n",
              "      background-color: #434B5C;\n",
              "      box-shadow: 0px 1px 3px 1px rgba(0, 0, 0, 0.15);\n",
              "      filter: drop-shadow(0px 1px 2px rgba(0, 0, 0, 0.3));\n",
              "      fill: #FFFFFF;\n",
              "    }\n",
              "  </style>\n",
              "\n",
              "    <script>\n",
              "      const buttonEl =\n",
              "        document.querySelector('#df-71aa88e9-bbf7-4f69-a9a5-aa2fc7112b7b button.colab-df-convert');\n",
              "      buttonEl.style.display =\n",
              "        google.colab.kernel.accessAllowed ? 'block' : 'none';\n",
              "\n",
              "      async function convertToInteractive(key) {\n",
              "        const element = document.querySelector('#df-71aa88e9-bbf7-4f69-a9a5-aa2fc7112b7b');\n",
              "        const dataTable =\n",
              "          await google.colab.kernel.invokeFunction('convertToInteractive',\n",
              "                                                    [key], {});\n",
              "        if (!dataTable) return;\n",
              "\n",
              "        const docLinkHtml = 'Like what you see? Visit the ' +\n",
              "          '<a target=\"_blank\" href=https://colab.research.google.com/notebooks/data_table.ipynb>data table notebook</a>'\n",
              "          + ' to learn more about interactive tables.';\n",
              "        element.innerHTML = '';\n",
              "        dataTable['output_type'] = 'display_data';\n",
              "        await google.colab.output.renderOutput(dataTable, element);\n",
              "        const docLink = document.createElement('div');\n",
              "        docLink.innerHTML = docLinkHtml;\n",
              "        element.appendChild(docLink);\n",
              "      }\n",
              "    </script>\n",
              "  </div>\n",
              "\n",
              "\n",
              "<div id=\"df-5480bbd7-a82b-4a74-9d4e-ed8193ba0c2a\">\n",
              "  <button class=\"colab-df-quickchart\" onclick=\"quickchart('df-5480bbd7-a82b-4a74-9d4e-ed8193ba0c2a')\"\n",
              "            title=\"Suggest charts\"\n",
              "            style=\"display:none;\">\n",
              "\n",
              "<svg xmlns=\"http://www.w3.org/2000/svg\" height=\"24px\"viewBox=\"0 0 24 24\"\n",
              "     width=\"24px\">\n",
              "    <g>\n",
              "        <path d=\"M19 3H5c-1.1 0-2 .9-2 2v14c0 1.1.9 2 2 2h14c1.1 0 2-.9 2-2V5c0-1.1-.9-2-2-2zM9 17H7v-7h2v7zm4 0h-2V7h2v10zm4 0h-2v-4h2v4z\"/>\n",
              "    </g>\n",
              "</svg>\n",
              "  </button>\n",
              "\n",
              "<style>\n",
              "  .colab-df-quickchart {\n",
              "      --bg-color: #E8F0FE;\n",
              "      --fill-color: #1967D2;\n",
              "      --hover-bg-color: #E2EBFA;\n",
              "      --hover-fill-color: #174EA6;\n",
              "      --disabled-fill-color: #AAA;\n",
              "      --disabled-bg-color: #DDD;\n",
              "  }\n",
              "\n",
              "  [theme=dark] .colab-df-quickchart {\n",
              "      --bg-color: #3B4455;\n",
              "      --fill-color: #D2E3FC;\n",
              "      --hover-bg-color: #434B5C;\n",
              "      --hover-fill-color: #FFFFFF;\n",
              "      --disabled-bg-color: #3B4455;\n",
              "      --disabled-fill-color: #666;\n",
              "  }\n",
              "\n",
              "  .colab-df-quickchart {\n",
              "    background-color: var(--bg-color);\n",
              "    border: none;\n",
              "    border-radius: 50%;\n",
              "    cursor: pointer;\n",
              "    display: none;\n",
              "    fill: var(--fill-color);\n",
              "    height: 32px;\n",
              "    padding: 0;\n",
              "    width: 32px;\n",
              "  }\n",
              "\n",
              "  .colab-df-quickchart:hover {\n",
              "    background-color: var(--hover-bg-color);\n",
              "    box-shadow: 0 1px 2px rgba(60, 64, 67, 0.3), 0 1px 3px 1px rgba(60, 64, 67, 0.15);\n",
              "    fill: var(--button-hover-fill-color);\n",
              "  }\n",
              "\n",
              "  .colab-df-quickchart-complete:disabled,\n",
              "  .colab-df-quickchart-complete:disabled:hover {\n",
              "    background-color: var(--disabled-bg-color);\n",
              "    fill: var(--disabled-fill-color);\n",
              "    box-shadow: none;\n",
              "  }\n",
              "\n",
              "  .colab-df-spinner {\n",
              "    border: 2px solid var(--fill-color);\n",
              "    border-color: transparent;\n",
              "    border-bottom-color: var(--fill-color);\n",
              "    animation:\n",
              "      spin 1s steps(1) infinite;\n",
              "  }\n",
              "\n",
              "  @keyframes spin {\n",
              "    0% {\n",
              "      border-color: transparent;\n",
              "      border-bottom-color: var(--fill-color);\n",
              "      border-left-color: var(--fill-color);\n",
              "    }\n",
              "    20% {\n",
              "      border-color: transparent;\n",
              "      border-left-color: var(--fill-color);\n",
              "      border-top-color: var(--fill-color);\n",
              "    }\n",
              "    30% {\n",
              "      border-color: transparent;\n",
              "      border-left-color: var(--fill-color);\n",
              "      border-top-color: var(--fill-color);\n",
              "      border-right-color: var(--fill-color);\n",
              "    }\n",
              "    40% {\n",
              "      border-color: transparent;\n",
              "      border-right-color: var(--fill-color);\n",
              "      border-top-color: var(--fill-color);\n",
              "    }\n",
              "    60% {\n",
              "      border-color: transparent;\n",
              "      border-right-color: var(--fill-color);\n",
              "    }\n",
              "    80% {\n",
              "      border-color: transparent;\n",
              "      border-right-color: var(--fill-color);\n",
              "      border-bottom-color: var(--fill-color);\n",
              "    }\n",
              "    90% {\n",
              "      border-color: transparent;\n",
              "      border-bottom-color: var(--fill-color);\n",
              "    }\n",
              "  }\n",
              "</style>\n",
              "\n",
              "  <script>\n",
              "    async function quickchart(key) {\n",
              "      const quickchartButtonEl =\n",
              "        document.querySelector('#' + key + ' button');\n",
              "      quickchartButtonEl.disabled = true;  // To prevent multiple clicks.\n",
              "      quickchartButtonEl.classList.add('colab-df-spinner');\n",
              "      try {\n",
              "        const charts = await google.colab.kernel.invokeFunction(\n",
              "            'suggestCharts', [key], {});\n",
              "      } catch (error) {\n",
              "        console.error('Error during call to suggestCharts:', error);\n",
              "      }\n",
              "      quickchartButtonEl.classList.remove('colab-df-spinner');\n",
              "      quickchartButtonEl.classList.add('colab-df-quickchart-complete');\n",
              "    }\n",
              "    (() => {\n",
              "      let quickchartButtonEl =\n",
              "        document.querySelector('#df-5480bbd7-a82b-4a74-9d4e-ed8193ba0c2a button');\n",
              "      quickchartButtonEl.style.display =\n",
              "        google.colab.kernel.accessAllowed ? 'block' : 'none';\n",
              "    })();\n",
              "  </script>\n",
              "</div>\n",
              "\n",
              "  <div id=\"id_b5629893-f388-4c31-9c18-d49ae3494d67\">\n",
              "    <style>\n",
              "      .colab-df-generate {\n",
              "        background-color: #E8F0FE;\n",
              "        border: none;\n",
              "        border-radius: 50%;\n",
              "        cursor: pointer;\n",
              "        display: none;\n",
              "        fill: #1967D2;\n",
              "        height: 32px;\n",
              "        padding: 0 0 0 0;\n",
              "        width: 32px;\n",
              "      }\n",
              "\n",
              "      .colab-df-generate:hover {\n",
              "        background-color: #E2EBFA;\n",
              "        box-shadow: 0px 1px 2px rgba(60, 64, 67, 0.3), 0px 1px 3px 1px rgba(60, 64, 67, 0.15);\n",
              "        fill: #174EA6;\n",
              "      }\n",
              "\n",
              "      [theme=dark] .colab-df-generate {\n",
              "        background-color: #3B4455;\n",
              "        fill: #D2E3FC;\n",
              "      }\n",
              "\n",
              "      [theme=dark] .colab-df-generate:hover {\n",
              "        background-color: #434B5C;\n",
              "        box-shadow: 0px 1px 3px 1px rgba(0, 0, 0, 0.15);\n",
              "        filter: drop-shadow(0px 1px 2px rgba(0, 0, 0, 0.3));\n",
              "        fill: #FFFFFF;\n",
              "      }\n",
              "    </style>\n",
              "    <button class=\"colab-df-generate\" onclick=\"generateWithVariable('df_common_neighbor')\"\n",
              "            title=\"Generate code using this dataframe.\"\n",
              "            style=\"display:none;\">\n",
              "\n",
              "  <svg xmlns=\"http://www.w3.org/2000/svg\" height=\"24px\"viewBox=\"0 0 24 24\"\n",
              "       width=\"24px\">\n",
              "    <path d=\"M7,19H8.4L18.45,9,17,7.55,7,17.6ZM5,21V16.75L18.45,3.32a2,2,0,0,1,2.83,0l1.4,1.43a1.91,1.91,0,0,1,.58,1.4,1.91,1.91,0,0,1-.58,1.4L9.25,21ZM18.45,9,17,7.55Zm-12,3A5.31,5.31,0,0,0,4.9,8.1,5.31,5.31,0,0,0,1,6.5,5.31,5.31,0,0,0,4.9,4.9,5.31,5.31,0,0,0,6.5,1,5.31,5.31,0,0,0,8.1,4.9,5.31,5.31,0,0,0,12,6.5,5.46,5.46,0,0,0,6.5,12Z\"/>\n",
              "  </svg>\n",
              "    </button>\n",
              "    <script>\n",
              "      (() => {\n",
              "      const buttonEl =\n",
              "        document.querySelector('#id_b5629893-f388-4c31-9c18-d49ae3494d67 button.colab-df-generate');\n",
              "      buttonEl.style.display =\n",
              "        google.colab.kernel.accessAllowed ? 'block' : 'none';\n",
              "\n",
              "      buttonEl.onclick = () => {\n",
              "        google.colab.notebook.generateWithVariable('df_common_neighbor');\n",
              "      }\n",
              "      })();\n",
              "    </script>\n",
              "  </div>\n",
              "\n",
              "    </div>\n",
              "  </div>\n"
            ],
            "application/vnd.google.colaboratory.intrinsic+json": {
              "type": "dataframe",
              "variable_name": "df_common_neighbor",
              "summary": "{\n  \"name\": \"df_common_neighbor\",\n  \"rows\": 8,\n  \"fields\": [\n    {\n      \"column\": \"Alice\",\n      \"properties\": {\n        \"dtype\": \"number\",\n        \"std\": 1,\n        \"min\": 0,\n        \"max\": 3,\n        \"num_unique_values\": 2,\n        \"samples\": [\n          3,\n          0\n        ],\n        \"semantic_type\": \"\",\n        \"description\": \"\"\n      }\n    },\n    {\n      \"column\": \"Brandon\",\n      \"properties\": {\n        \"dtype\": \"number\",\n        \"std\": 0,\n        \"min\": 0,\n        \"max\": 2,\n        \"num_unique_values\": 3,\n        \"samples\": [\n          0,\n          2\n        ],\n        \"semantic_type\": \"\",\n        \"description\": \"\"\n      }\n    },\n    {\n      \"column\": \"Cavin\",\n      \"properties\": {\n        \"dtype\": \"number\",\n        \"std\": 1,\n        \"min\": 0,\n        \"max\": 3,\n        \"num_unique_values\": 3,\n        \"samples\": [\n          3,\n          0\n        ],\n        \"semantic_type\": \"\",\n        \"description\": \"\"\n      }\n    },\n    {\n      \"column\": \"David\",\n      \"properties\": {\n        \"dtype\": \"number\",\n        \"std\": 0,\n        \"min\": 0,\n        \"max\": 2,\n        \"num_unique_values\": 3,\n        \"samples\": [\n          0,\n          2\n        ],\n        \"semantic_type\": \"\",\n        \"description\": \"\"\n      }\n    },\n    {\n      \"column\": \"Eleanor\",\n      \"properties\": {\n        \"dtype\": \"number\",\n        \"std\": 0,\n        \"min\": 0,\n        \"max\": 2,\n        \"num_unique_values\": 3,\n        \"samples\": [\n          0,\n          2\n        ],\n        \"semantic_type\": \"\",\n        \"description\": \"\"\n      }\n    },\n    {\n      \"column\": \"Fred\",\n      \"properties\": {\n        \"dtype\": \"number\",\n        \"std\": 0,\n        \"min\": 0,\n        \"max\": 1,\n        \"num_unique_values\": 2,\n        \"samples\": [\n          1,\n          0\n        ],\n        \"semantic_type\": \"\",\n        \"description\": \"\"\n      }\n    },\n    {\n      \"column\": \"Gia\",\n      \"properties\": {\n        \"dtype\": \"number\",\n        \"std\": 0,\n        \"min\": 0,\n        \"max\": 1,\n        \"num_unique_values\": 2,\n        \"samples\": [\n          1,\n          0\n        ],\n        \"semantic_type\": \"\",\n        \"description\": \"\"\n      }\n    },\n    {\n      \"column\": \"Hannah\",\n      \"properties\": {\n        \"dtype\": \"number\",\n        \"std\": 0,\n        \"min\": 0,\n        \"max\": 1,\n        \"num_unique_values\": 2,\n        \"samples\": [\n          1,\n          0\n        ],\n        \"semantic_type\": \"\",\n        \"description\": \"\"\n      }\n    }\n  ]\n}"
            }
          },
          "metadata": {},
          "execution_count": 41
        }
      ]
    },
    {
      "cell_type": "markdown",
      "source": [
        "Based on the above common neighbor table, Cavin has the most number of common neighbors with Alice. So, recommend Cavin to Alice."
      ],
      "metadata": {
        "id": "zIOyOtGThAkf"
      }
    },
    {
      "cell_type": "markdown",
      "source": [
        "### Task2: Recommend a friend based on their popularity\n",
        "- Create another facebook user graph `G_facebook2`. Copy `G_facebook1`, then update the graph by\n",
        "  - adding an influencer node, named \"X\" and 10 additional nodes\n",
        "  - connecting this influencer node to newly added 10 nodes. In other words, add 10 edges.\n",
        "- Visualize `G_facebook2`\n",
        "- Recommend a friend to Alice, who's the most 'central' node in terms of degree centrality."
      ],
      "metadata": {
        "id": "PEfyA_WoxOCV"
      }
    },
    {
      "cell_type": "code",
      "source": [
        "import copy"
      ],
      "metadata": {
        "id": "hHh3KDwr2JLq"
      },
      "execution_count": 42,
      "outputs": []
    },
    {
      "cell_type": "code",
      "source": [
        "G_facebook2_nx = copy.deepcopy(G_facebook1_nx)"
      ],
      "metadata": {
        "id": "fGrMAgTH2JSO"
      },
      "execution_count": 43,
      "outputs": []
    },
    {
      "cell_type": "code",
      "source": [
        "influencer_node = \"X\"\n",
        "other_nodes_to_add = [\"v{}\".format(i) for i in range(10)]\n",
        "new_edge_list = [(influencer_node, v) for v in other_nodes_to_add]"
      ],
      "metadata": {
        "id": "mxEdGOdv2JXE"
      },
      "execution_count": 44,
      "outputs": []
    },
    {
      "cell_type": "code",
      "source": [
        "print([e for e in new_edge_list])"
      ],
      "metadata": {
        "id": "6L5r1QR-2Jbu",
        "colab": {
          "base_uri": "https://localhost:8080/"
        },
        "outputId": "cf48c205-8435-4ff9-d9e2-d6b912f30ffa"
      },
      "execution_count": 45,
      "outputs": [
        {
          "output_type": "stream",
          "name": "stdout",
          "text": [
            "[('X', 'v0'), ('X', 'v1'), ('X', 'v2'), ('X', 'v3'), ('X', 'v4'), ('X', 'v5'), ('X', 'v6'), ('X', 'v7'), ('X', 'v8'), ('X', 'v9')]\n"
          ]
        }
      ]
    },
    {
      "cell_type": "code",
      "source": [
        "G_facebook2_nx.add_nodes_from(other_nodes_to_add + [influencer_node])\n",
        "G_facebook2_nx.add_edges_from(new_edge_list)"
      ],
      "metadata": {
        "id": "FwqvWlO1xOHY"
      },
      "execution_count": 46,
      "outputs": []
    },
    {
      "cell_type": "code",
      "source": [
        "G_facebook2_ig = ig.Graph.from_networkx(G_facebook2_nx)"
      ],
      "metadata": {
        "id": "2pMI1KKDY031"
      },
      "execution_count": 47,
      "outputs": []
    },
    {
      "cell_type": "code",
      "source": [
        "visual_style_facebook2 = dict()\n",
        "visual_style_facebook2[\"vertex_size\"] = 35\n",
        "visual_style_facebook2[\"vertex_color\"] = \"skyblue\"\n",
        "visual_style_facebook2[\"vertex_label\"] = G_facebook2_ig.vs[\"_nx_name\"]\n",
        "visual_style_facebook2[\"vertex_label_size\"] = 7\n",
        "visual_style_facebook2[\"bbox\"] = (500, 300)\n",
        "visual_style_facebook2[\"margin\"] = 20"
      ],
      "metadata": {
        "id": "Atv2GY6lZG6H"
      },
      "execution_count": 48,
      "outputs": []
    },
    {
      "cell_type": "code",
      "source": [
        "visual_style_facebook2[\"layout\"] = G_facebook2_ig.layout(\"fr\")\n",
        "ig.plot(G_facebook2_ig, **visual_style_facebook2)"
      ],
      "metadata": {
        "id": "PxV8eg3gY0u5",
        "colab": {
          "base_uri": "https://localhost:8080/",
          "height": 421
        },
        "outputId": "8d9260b4-334d-4333-d334-f1ce0ec7947f"
      },
      "execution_count": 49,
      "outputs": [
        {
          "output_type": "execute_result",
          "data": {
            "text/plain": [
              "<igraph.drawing.cairo.plot.CairoPlot at 0x782f9d398b20>"
            ],
            "image/svg+xml": "<?xml version=\"1.0\" encoding=\"UTF-8\"?>\n<svg xmlns=\"http://www.w3.org/2000/svg\" xmlns:xlink=\"http://www.w3.org/1999/xlink\" width=\"500pt\" height=\"300pt\" viewBox=\"0 0 500 300\" version=\"1.1\">\n<defs>\n<g>\n<symbol overflow=\"visible\" id=\"glyph0-0\">\n<path style=\"stroke:none;\" d=\"M 0.234375 0 L 0.234375 -4.671875 L 2.09375 -4.671875 L 2.09375 0 Z M 0.46875 -0.234375 L 1.859375 -0.234375 L 1.859375 -4.4375 L 0.46875 -4.4375 Z M 0.46875 -0.234375 \"/>\n</symbol>\n<symbol overflow=\"visible\" id=\"glyph0-1\">\n<path style=\"stroke:none;\" d=\"M 3.53125 0 L 3.0625 -1.3125 L 1.140625 -1.3125 L 0.671875 0 L 0 0 L 1.75 -4.609375 L 2.484375 -4.609375 L 4.203125 0 Z M 2.390625 -3.265625 C 2.367188 -3.347656 2.335938 -3.429688 2.296875 -3.515625 C 2.265625 -3.609375 2.234375 -3.691406 2.203125 -3.765625 C 2.179688 -3.847656 2.160156 -3.921875 2.140625 -3.984375 C 2.128906 -4.046875 2.117188 -4.09375 2.109375 -4.125 C 2.097656 -4.09375 2.082031 -4.046875 2.0625 -3.984375 C 2.039062 -3.921875 2.015625 -3.847656 1.984375 -3.765625 C 1.960938 -3.691406 1.9375 -3.609375 1.90625 -3.515625 C 1.882812 -3.429688 1.859375 -3.347656 1.828125 -3.265625 L 1.3125 -1.8125 L 2.890625 -1.8125 Z M 2.390625 -3.265625 \"/>\n</symbol>\n<symbol overflow=\"visible\" id=\"glyph0-2\">\n<path style=\"stroke:none;\" d=\"M 2.515625 -0.484375 L 3.8125 -0.484375 L 3.8125 0 L 0.453125 0 L 0.453125 -0.484375 L 1.90625 -0.484375 L 1.90625 -4.59375 L 0.90625 -4.59375 L 0.90625 -5.078125 L 2.515625 -5.078125 Z M 2.515625 -0.484375 \"/>\n</symbol>\n<symbol overflow=\"visible\" id=\"glyph0-3\">\n<path style=\"stroke:none;\" d=\"M 2.546875 -0.484375 L 3.84375 -0.484375 L 3.84375 0 L 0.484375 0 L 0.484375 -0.484375 L 1.9375 -0.484375 L 1.9375 -3.21875 L 0.84375 -3.21875 L 0.84375 -3.703125 L 2.546875 -3.703125 Z M 1.859375 -4.421875 L 1.859375 -5.078125 L 2.546875 -5.078125 L 2.546875 -4.421875 Z M 1.859375 -4.421875 \"/>\n</symbol>\n<symbol overflow=\"visible\" id=\"glyph0-4\">\n<path style=\"stroke:none;\" d=\"M 0.4375 -1.859375 C 0.4375 -2.222656 0.484375 -2.523438 0.578125 -2.765625 C 0.679688 -3.015625 0.8125 -3.210938 0.96875 -3.359375 C 1.132812 -3.503906 1.316406 -3.609375 1.515625 -3.671875 C 1.722656 -3.734375 1.9375 -3.765625 2.15625 -3.765625 C 2.382812 -3.765625 2.582031 -3.734375 2.75 -3.671875 C 2.925781 -3.617188 3.078125 -3.539062 3.203125 -3.4375 C 3.335938 -3.34375 3.441406 -3.226562 3.515625 -3.09375 C 3.597656 -2.957031 3.65625 -2.8125 3.6875 -2.65625 L 3.03125 -2.609375 C 2.988281 -2.816406 2.894531 -2.976562 2.75 -3.09375 C 2.601562 -3.21875 2.398438 -3.28125 2.140625 -3.28125 C 1.941406 -3.28125 1.773438 -3.25 1.640625 -3.1875 C 1.503906 -3.125 1.394531 -3.03125 1.3125 -2.90625 C 1.238281 -2.789062 1.179688 -2.644531 1.140625 -2.46875 C 1.109375 -2.289062 1.09375 -2.085938 1.09375 -1.859375 C 1.09375 -1.640625 1.109375 -1.4375 1.140625 -1.25 C 1.179688 -1.070312 1.238281 -0.921875 1.3125 -0.796875 C 1.394531 -0.671875 1.503906 -0.570312 1.640625 -0.5 C 1.773438 -0.4375 1.9375 -0.40625 2.125 -0.40625 C 2.375 -0.40625 2.578125 -0.460938 2.734375 -0.578125 C 2.898438 -0.703125 3.003906 -0.890625 3.046875 -1.140625 L 3.6875 -1.09375 C 3.664062 -0.945312 3.613281 -0.800781 3.53125 -0.65625 C 3.457031 -0.519531 3.351562 -0.394531 3.21875 -0.28125 C 3.09375 -0.175781 2.941406 -0.09375 2.765625 -0.03125 C 2.585938 0.03125 2.382812 0.0625 2.15625 0.0625 C 1.84375 0.0625 1.578125 0.015625 1.359375 -0.078125 C 1.140625 -0.171875 0.960938 -0.300781 0.828125 -0.46875 C 0.691406 -0.644531 0.59375 -0.847656 0.53125 -1.078125 C 0.46875 -1.316406 0.4375 -1.578125 0.4375 -1.859375 Z M 0.4375 -1.859375 \"/>\n</symbol>\n<symbol overflow=\"visible\" id=\"glyph0-5\">\n<path style=\"stroke:none;\" d=\"M 1.09375 -1.71875 C 1.09375 -1.519531 1.113281 -1.335938 1.15625 -1.171875 C 1.207031 -1.015625 1.273438 -0.878906 1.359375 -0.765625 C 1.441406 -0.648438 1.546875 -0.554688 1.671875 -0.484375 C 1.804688 -0.421875 1.957031 -0.390625 2.125 -0.390625 C 2.25 -0.390625 2.363281 -0.40625 2.46875 -0.4375 C 2.582031 -0.46875 2.679688 -0.503906 2.765625 -0.546875 C 2.847656 -0.597656 2.914062 -0.660156 2.96875 -0.734375 C 3.03125 -0.804688 3.070312 -0.878906 3.09375 -0.953125 L 3.640625 -0.8125 C 3.597656 -0.707031 3.539062 -0.601562 3.46875 -0.5 C 3.394531 -0.394531 3.296875 -0.300781 3.171875 -0.21875 C 3.054688 -0.132812 2.910156 -0.0664062 2.734375 -0.015625 C 2.566406 0.0351562 2.363281 0.0625 2.125 0.0625 C 1.863281 0.0625 1.628906 0.0234375 1.421875 -0.046875 C 1.210938 -0.128906 1.035156 -0.25 0.890625 -0.40625 C 0.753906 -0.570312 0.644531 -0.773438 0.5625 -1.015625 C 0.488281 -1.265625 0.453125 -1.550781 0.453125 -1.875 C 0.453125 -2.226562 0.492188 -2.523438 0.578125 -2.765625 C 0.671875 -3.003906 0.796875 -3.195312 0.953125 -3.34375 C 1.109375 -3.5 1.285156 -3.609375 1.484375 -3.671875 C 1.679688 -3.734375 1.890625 -3.765625 2.109375 -3.765625 C 2.410156 -3.765625 2.660156 -3.71875 2.859375 -3.625 C 3.066406 -3.53125 3.234375 -3.394531 3.359375 -3.21875 C 3.492188 -3.050781 3.585938 -2.84375 3.640625 -2.59375 C 3.703125 -2.351562 3.734375 -2.085938 3.734375 -1.796875 L 3.734375 -1.71875 Z M 2.109375 -3.3125 C 2.003906 -3.3125 1.894531 -3.296875 1.78125 -3.265625 C 1.664062 -3.234375 1.554688 -3.171875 1.453125 -3.078125 C 1.359375 -2.992188 1.28125 -2.878906 1.21875 -2.734375 C 1.15625 -2.597656 1.117188 -2.414062 1.109375 -2.1875 L 3.109375 -2.1875 C 3.085938 -2.40625 3.046875 -2.582031 2.984375 -2.71875 C 2.929688 -2.863281 2.859375 -2.976562 2.765625 -3.0625 C 2.679688 -3.15625 2.582031 -3.21875 2.46875 -3.25 C 2.351562 -3.289062 2.234375 -3.3125 2.109375 -3.3125 Z M 2.109375 -3.3125 \"/>\n</symbol>\n<symbol overflow=\"visible\" id=\"glyph0-6\">\n<path style=\"stroke:none;\" d=\"M 3.9375 -1.296875 C 3.9375 -1.066406 3.890625 -0.867188 3.796875 -0.703125 C 3.703125 -0.535156 3.570312 -0.398438 3.40625 -0.296875 C 3.25 -0.191406 3.0625 -0.113281 2.84375 -0.0625 C 2.625 -0.0195312 2.398438 0 2.171875 0 L 0.546875 0 L 0.546875 -4.609375 L 1.96875 -4.609375 C 2.226562 -4.609375 2.460938 -4.585938 2.671875 -4.546875 C 2.878906 -4.503906 3.054688 -4.4375 3.203125 -4.34375 C 3.347656 -4.257812 3.457031 -4.144531 3.53125 -4 C 3.613281 -3.851562 3.65625 -3.6875 3.65625 -3.5 C 3.65625 -3.363281 3.632812 -3.238281 3.59375 -3.125 C 3.5625 -3.007812 3.503906 -2.90625 3.421875 -2.8125 C 3.347656 -2.726562 3.253906 -2.648438 3.140625 -2.578125 C 3.023438 -2.515625 2.890625 -2.46875 2.734375 -2.4375 C 2.929688 -2.414062 3.101562 -2.367188 3.25 -2.296875 C 3.40625 -2.234375 3.53125 -2.148438 3.625 -2.046875 C 3.726562 -1.953125 3.804688 -1.84375 3.859375 -1.71875 C 3.910156 -1.59375 3.9375 -1.453125 3.9375 -1.296875 Z M 3 -3.40625 C 3 -3.65625 2.910156 -3.832031 2.734375 -3.9375 C 2.566406 -4.039062 2.3125 -4.09375 1.96875 -4.09375 L 1.203125 -4.09375 L 1.203125 -2.671875 L 1.96875 -2.671875 C 2.15625 -2.671875 2.3125 -2.6875 2.4375 -2.71875 C 2.570312 -2.75 2.679688 -2.796875 2.765625 -2.859375 C 2.847656 -2.929688 2.90625 -3.007812 2.9375 -3.09375 C 2.976562 -3.1875 3 -3.289062 3 -3.40625 Z M 3.28125 -1.359375 C 3.28125 -1.503906 3.25 -1.625 3.1875 -1.71875 C 3.132812 -1.820312 3.050781 -1.90625 2.9375 -1.96875 C 2.832031 -2.03125 2.707031 -2.078125 2.5625 -2.109375 C 2.414062 -2.140625 2.25 -2.15625 2.0625 -2.15625 L 1.203125 -2.15625 L 1.203125 -0.515625 L 2.109375 -0.515625 C 2.273438 -0.515625 2.429688 -0.53125 2.578125 -0.5625 C 2.722656 -0.59375 2.847656 -0.640625 2.953125 -0.703125 C 3.054688 -0.765625 3.132812 -0.847656 3.1875 -0.953125 C 3.25 -1.054688 3.28125 -1.191406 3.28125 -1.359375 Z M 3.28125 -1.359375 \"/>\n</symbol>\n<symbol overflow=\"visible\" id=\"glyph0-7\">\n<path style=\"stroke:none;\" d=\"M 3.578125 -3.140625 C 3.460938 -3.160156 3.347656 -3.175781 3.234375 -3.1875 C 3.117188 -3.195312 2.988281 -3.203125 2.84375 -3.203125 C 2.65625 -3.203125 2.484375 -3.160156 2.328125 -3.078125 C 2.179688 -3.003906 2.050781 -2.898438 1.9375 -2.765625 C 1.832031 -2.640625 1.753906 -2.484375 1.703125 -2.296875 C 1.648438 -2.117188 1.625 -1.929688 1.625 -1.734375 L 1.625 0 L 1 0 L 1 -2.390625 C 1 -2.523438 0.992188 -2.65625 0.984375 -2.78125 C 0.972656 -2.914062 0.957031 -3.039062 0.9375 -3.15625 C 0.914062 -3.28125 0.894531 -3.382812 0.875 -3.46875 C 0.851562 -3.5625 0.835938 -3.640625 0.828125 -3.703125 L 1.40625 -3.703125 C 1.425781 -3.640625 1.441406 -3.570312 1.453125 -3.5 C 1.472656 -3.4375 1.488281 -3.363281 1.5 -3.28125 C 1.519531 -3.207031 1.535156 -3.128906 1.546875 -3.046875 C 1.554688 -2.972656 1.566406 -2.90625 1.578125 -2.84375 L 1.59375 -2.84375 C 1.65625 -2.988281 1.722656 -3.113281 1.796875 -3.21875 C 1.867188 -3.332031 1.953125 -3.429688 2.046875 -3.515625 C 2.140625 -3.597656 2.253906 -3.660156 2.390625 -3.703125 C 2.523438 -3.742188 2.6875 -3.765625 2.875 -3.765625 C 3 -3.765625 3.117188 -3.757812 3.234375 -3.75 C 3.359375 -3.738281 3.472656 -3.722656 3.578125 -3.703125 Z M 3.578125 -3.140625 \"/>\n</symbol>\n<symbol overflow=\"visible\" id=\"glyph0-8\">\n<path style=\"stroke:none;\" d=\"M 3.765625 -0.375 C 3.796875 -0.375 3.828125 -0.375 3.859375 -0.375 C 3.898438 -0.382812 3.9375 -0.394531 3.96875 -0.40625 L 3.96875 -0.015625 C 3.882812 -0.00390625 3.804688 0.00390625 3.734375 0.015625 C 3.660156 0.0234375 3.578125 0.03125 3.484375 0.03125 C 3.367188 0.03125 3.269531 0.015625 3.1875 -0.015625 C 3.101562 -0.046875 3.035156 -0.09375 2.984375 -0.15625 C 2.929688 -0.21875 2.890625 -0.289062 2.859375 -0.375 C 2.835938 -0.46875 2.820312 -0.578125 2.8125 -0.703125 L 2.796875 -0.703125 C 2.734375 -0.585938 2.660156 -0.484375 2.578125 -0.390625 C 2.503906 -0.296875 2.414062 -0.210938 2.3125 -0.140625 C 2.21875 -0.078125 2.101562 -0.03125 1.96875 0 C 1.84375 0.0390625 1.695312 0.0625 1.53125 0.0625 C 1.164062 0.0625 0.890625 -0.03125 0.703125 -0.21875 C 0.523438 -0.414062 0.4375 -0.6875 0.4375 -1.03125 C 0.4375 -1.269531 0.476562 -1.46875 0.5625 -1.625 C 0.65625 -1.78125 0.773438 -1.90625 0.921875 -2 C 1.066406 -2.09375 1.234375 -2.15625 1.421875 -2.1875 C 1.609375 -2.21875 1.796875 -2.238281 1.984375 -2.25 L 2.796875 -2.25 L 2.796875 -2.453125 C 2.796875 -2.609375 2.78125 -2.738281 2.75 -2.84375 C 2.71875 -2.957031 2.671875 -3.046875 2.609375 -3.109375 C 2.546875 -3.171875 2.46875 -3.21875 2.375 -3.25 C 2.28125 -3.28125 2.164062 -3.296875 2.03125 -3.296875 C 1.914062 -3.296875 1.8125 -3.285156 1.71875 -3.265625 C 1.632812 -3.253906 1.554688 -3.222656 1.484375 -3.171875 C 1.421875 -3.128906 1.367188 -3.070312 1.328125 -3 C 1.285156 -2.925781 1.257812 -2.828125 1.25 -2.703125 L 0.609375 -2.765625 C 0.628906 -2.910156 0.671875 -3.046875 0.734375 -3.171875 C 0.796875 -3.296875 0.882812 -3.398438 1 -3.484375 C 1.113281 -3.578125 1.253906 -3.644531 1.421875 -3.6875 C 1.597656 -3.738281 1.804688 -3.765625 2.046875 -3.765625 C 2.503906 -3.765625 2.847656 -3.65625 3.078125 -3.4375 C 3.304688 -3.226562 3.421875 -2.921875 3.421875 -2.515625 L 3.421875 -0.9375 C 3.421875 -0.75 3.441406 -0.609375 3.484375 -0.515625 C 3.535156 -0.421875 3.628906 -0.375 3.765625 -0.375 Z M 1.6875 -0.40625 C 1.875 -0.40625 2.035156 -0.4375 2.171875 -0.5 C 2.304688 -0.570312 2.421875 -0.660156 2.515625 -0.765625 C 2.609375 -0.878906 2.675781 -1.003906 2.71875 -1.140625 C 2.769531 -1.273438 2.796875 -1.398438 2.796875 -1.515625 L 2.796875 -1.828125 L 2.140625 -1.8125 C 2.015625 -1.8125 1.890625 -1.800781 1.765625 -1.78125 C 1.640625 -1.757812 1.523438 -1.722656 1.421875 -1.671875 C 1.328125 -1.617188 1.242188 -1.539062 1.171875 -1.4375 C 1.109375 -1.332031 1.078125 -1.191406 1.078125 -1.015625 C 1.078125 -0.828125 1.128906 -0.675781 1.234375 -0.5625 C 1.335938 -0.457031 1.488281 -0.40625 1.6875 -0.40625 Z M 1.6875 -0.40625 \"/>\n</symbol>\n<symbol overflow=\"visible\" id=\"glyph0-9\">\n<path style=\"stroke:none;\" d=\"M 2.96875 0 L 2.96875 -2.375 C 2.96875 -2.5625 2.945312 -2.710938 2.90625 -2.828125 C 2.875 -2.941406 2.820312 -3.03125 2.75 -3.09375 C 2.6875 -3.164062 2.609375 -3.21875 2.515625 -3.25 C 2.421875 -3.28125 2.320312 -3.296875 2.21875 -3.296875 C 2.082031 -3.296875 1.953125 -3.269531 1.828125 -3.21875 C 1.710938 -3.164062 1.609375 -3.085938 1.515625 -2.984375 C 1.429688 -2.890625 1.363281 -2.769531 1.3125 -2.625 C 1.269531 -2.488281 1.25 -2.328125 1.25 -2.140625 L 1.25 0 L 0.625 0 L 0.625 -2.90625 C 0.625 -2.988281 0.625 -3.070312 0.625 -3.15625 C 0.625 -3.238281 0.625 -3.316406 0.625 -3.390625 C 0.625 -3.472656 0.617188 -3.539062 0.609375 -3.59375 C 0.609375 -3.644531 0.609375 -3.679688 0.609375 -3.703125 L 1.1875 -3.703125 C 1.195312 -3.691406 1.203125 -3.660156 1.203125 -3.609375 C 1.203125 -3.554688 1.203125 -3.5 1.203125 -3.4375 C 1.210938 -3.375 1.21875 -3.304688 1.21875 -3.234375 C 1.21875 -3.171875 1.21875 -3.113281 1.21875 -3.0625 L 1.234375 -3.0625 C 1.285156 -3.175781 1.347656 -3.273438 1.421875 -3.359375 C 1.492188 -3.441406 1.578125 -3.515625 1.671875 -3.578125 C 1.773438 -3.640625 1.882812 -3.6875 2 -3.71875 C 2.125 -3.75 2.257812 -3.765625 2.40625 -3.765625 C 2.601562 -3.765625 2.773438 -3.738281 2.921875 -3.6875 C 3.066406 -3.632812 3.1875 -3.554688 3.28125 -3.453125 C 3.382812 -3.347656 3.457031 -3.210938 3.5 -3.046875 C 3.550781 -2.890625 3.578125 -2.695312 3.578125 -2.46875 L 3.578125 0 Z M 2.96875 0 \"/>\n</symbol>\n<symbol overflow=\"visible\" id=\"glyph0-10\">\n<path style=\"stroke:none;\" d=\"M 2.953125 -0.59375 C 2.835938 -0.351562 2.6875 -0.175781 2.5 -0.0625 C 2.3125 0.0390625 2.082031 0.09375 1.8125 0.09375 C 1.351562 0.09375 1.015625 -0.0625 0.796875 -0.375 C 0.578125 -0.695312 0.46875 -1.175781 0.46875 -1.8125 C 0.46875 -3.101562 0.914062 -3.75 1.8125 -3.75 C 2.082031 -3.75 2.3125 -3.695312 2.5 -3.59375 C 2.6875 -3.5 2.835938 -3.34375 2.953125 -3.125 C 2.953125 -3.132812 2.953125 -3.160156 2.953125 -3.203125 C 2.953125 -3.253906 2.953125 -3.304688 2.953125 -3.359375 C 2.953125 -3.421875 2.953125 -3.476562 2.953125 -3.53125 C 2.953125 -3.582031 2.953125 -3.617188 2.953125 -3.640625 L 2.953125 -5.078125 L 3.5625 -5.078125 L 3.5625 -0.765625 C 3.5625 -0.671875 3.5625 -0.582031 3.5625 -0.5 C 3.5625 -0.425781 3.5625 -0.351562 3.5625 -0.28125 C 3.570312 -0.207031 3.578125 -0.144531 3.578125 -0.09375 C 3.578125 -0.0507812 3.578125 -0.0195312 3.578125 0 L 3 0 C 3 -0.0078125 2.992188 -0.0351562 2.984375 -0.078125 C 2.984375 -0.117188 2.976562 -0.164062 2.96875 -0.21875 C 2.96875 -0.28125 2.96875 -0.34375 2.96875 -0.40625 C 2.96875 -0.46875 2.96875 -0.53125 2.96875 -0.59375 Z M 1.109375 -1.84375 C 1.109375 -1.582031 1.125 -1.359375 1.15625 -1.171875 C 1.1875 -0.992188 1.238281 -0.84375 1.3125 -0.71875 C 1.382812 -0.601562 1.472656 -0.519531 1.578125 -0.46875 C 1.691406 -0.414062 1.820312 -0.390625 1.96875 -0.390625 C 2.125 -0.390625 2.265625 -0.414062 2.390625 -0.46875 C 2.515625 -0.519531 2.617188 -0.601562 2.703125 -0.71875 C 2.785156 -0.84375 2.847656 -1 2.890625 -1.1875 C 2.929688 -1.382812 2.953125 -1.617188 2.953125 -1.890625 C 2.953125 -2.160156 2.929688 -2.382812 2.890625 -2.5625 C 2.847656 -2.738281 2.785156 -2.878906 2.703125 -2.984375 C 2.617188 -3.097656 2.515625 -3.175781 2.390625 -3.21875 C 2.273438 -3.269531 2.140625 -3.296875 1.984375 -3.296875 C 1.835938 -3.296875 1.707031 -3.269531 1.59375 -3.21875 C 1.488281 -3.164062 1.398438 -3.082031 1.328125 -2.96875 C 1.253906 -2.851562 1.195312 -2.703125 1.15625 -2.515625 C 1.125 -2.328125 1.109375 -2.101562 1.109375 -1.84375 Z M 1.109375 -1.84375 \"/>\n</symbol>\n<symbol overflow=\"visible\" id=\"glyph0-11\">\n<path style=\"stroke:none;\" d=\"M 3.75 -1.859375 C 3.75 -1.535156 3.707031 -1.25 3.625 -1 C 3.550781 -0.757812 3.441406 -0.5625 3.296875 -0.40625 C 3.160156 -0.25 2.988281 -0.128906 2.78125 -0.046875 C 2.570312 0.0234375 2.335938 0.0625 2.078125 0.0625 C 1.828125 0.0625 1.601562 0.0234375 1.40625 -0.046875 C 1.207031 -0.128906 1.035156 -0.25 0.890625 -0.40625 C 0.742188 -0.5625 0.628906 -0.757812 0.546875 -1 C 0.472656 -1.238281 0.4375 -1.523438 0.4375 -1.859375 C 0.4375 -2.492188 0.582031 -2.96875 0.875 -3.28125 C 1.164062 -3.601562 1.578125 -3.765625 2.109375 -3.765625 C 2.660156 -3.765625 3.070312 -3.601562 3.34375 -3.28125 C 3.613281 -2.96875 3.75 -2.492188 3.75 -1.859375 Z M 3.109375 -1.859375 C 3.109375 -2.140625 3.082031 -2.375 3.03125 -2.5625 C 2.976562 -2.75 2.90625 -2.894531 2.8125 -3 C 2.726562 -3.113281 2.625 -3.191406 2.5 -3.234375 C 2.382812 -3.285156 2.253906 -3.3125 2.109375 -3.3125 C 1.960938 -3.3125 1.828125 -3.285156 1.703125 -3.234375 C 1.578125 -3.191406 1.46875 -3.113281 1.375 -3 C 1.289062 -2.882812 1.222656 -2.734375 1.171875 -2.546875 C 1.117188 -2.359375 1.09375 -2.128906 1.09375 -1.859375 C 1.09375 -1.566406 1.117188 -1.328125 1.171875 -1.140625 C 1.222656 -0.953125 1.289062 -0.800781 1.375 -0.6875 C 1.46875 -0.570312 1.570312 -0.492188 1.6875 -0.453125 C 1.8125 -0.410156 1.941406 -0.390625 2.078125 -0.390625 C 2.222656 -0.390625 2.359375 -0.410156 2.484375 -0.453125 C 2.609375 -0.492188 2.71875 -0.570312 2.8125 -0.6875 C 2.90625 -0.800781 2.976562 -0.953125 3.03125 -1.140625 C 3.082031 -1.328125 3.109375 -1.566406 3.109375 -1.859375 Z M 3.109375 -1.859375 \"/>\n</symbol>\n<symbol overflow=\"visible\" id=\"glyph0-12\">\n<path style=\"stroke:none;\" d=\"M 1.078125 -2.328125 C 1.078125 -2.023438 1.097656 -1.757812 1.140625 -1.53125 C 1.179688 -1.300781 1.25 -1.101562 1.34375 -0.9375 C 1.445312 -0.78125 1.570312 -0.660156 1.71875 -0.578125 C 1.863281 -0.503906 2.046875 -0.46875 2.265625 -0.46875 C 2.398438 -0.46875 2.523438 -0.492188 2.640625 -0.546875 C 2.753906 -0.597656 2.859375 -0.664062 2.953125 -0.75 C 3.046875 -0.84375 3.125 -0.945312 3.1875 -1.0625 C 3.25 -1.175781 3.304688 -1.296875 3.359375 -1.421875 L 3.90625 -1.203125 C 3.84375 -1.046875 3.765625 -0.890625 3.671875 -0.734375 C 3.578125 -0.585938 3.460938 -0.453125 3.328125 -0.328125 C 3.191406 -0.210938 3.035156 -0.117188 2.859375 -0.046875 C 2.679688 0.0234375 2.476562 0.0625 2.25 0.0625 C 1.925781 0.0625 1.644531 0.00390625 1.40625 -0.109375 C 1.175781 -0.222656 0.984375 -0.382812 0.828125 -0.59375 C 0.679688 -0.800781 0.570312 -1.050781 0.5 -1.34375 C 0.425781 -1.632812 0.390625 -1.960938 0.390625 -2.328125 C 0.390625 -2.703125 0.425781 -3.035156 0.5 -3.328125 C 0.570312 -3.628906 0.679688 -3.878906 0.828125 -4.078125 C 0.984375 -4.273438 1.175781 -4.425781 1.40625 -4.53125 C 1.632812 -4.632812 1.90625 -4.6875 2.21875 -4.6875 C 2.445312 -4.6875 2.644531 -4.65625 2.8125 -4.59375 C 2.988281 -4.53125 3.140625 -4.441406 3.265625 -4.328125 C 3.398438 -4.222656 3.507812 -4.101562 3.59375 -3.96875 C 3.675781 -3.832031 3.75 -3.6875 3.8125 -3.53125 L 3.234375 -3.3125 C 3.203125 -3.414062 3.15625 -3.519531 3.09375 -3.625 C 3.039062 -3.726562 2.972656 -3.816406 2.890625 -3.890625 C 2.804688 -3.960938 2.707031 -4.023438 2.59375 -4.078125 C 2.476562 -4.128906 2.351562 -4.15625 2.21875 -4.15625 C 2.019531 -4.15625 1.847656 -4.113281 1.703125 -4.03125 C 1.554688 -3.957031 1.4375 -3.84375 1.34375 -3.6875 C 1.25 -3.53125 1.179688 -3.335938 1.140625 -3.109375 C 1.097656 -2.890625 1.078125 -2.628906 1.078125 -2.328125 Z M 1.078125 -2.328125 \"/>\n</symbol>\n<symbol overflow=\"visible\" id=\"glyph0-13\">\n<path style=\"stroke:none;\" d=\"M 2.4375 0 L 1.71875 0 L 0.234375 -3.703125 L 0.921875 -3.703125 L 1.84375 -1.296875 C 1.863281 -1.242188 1.882812 -1.179688 1.90625 -1.109375 C 1.925781 -1.035156 1.945312 -0.957031 1.96875 -0.875 C 1.988281 -0.800781 2.007812 -0.726562 2.03125 -0.65625 C 2.050781 -0.582031 2.066406 -0.523438 2.078125 -0.484375 C 2.085938 -0.523438 2.101562 -0.582031 2.125 -0.65625 C 2.144531 -0.726562 2.164062 -0.800781 2.1875 -0.875 C 2.21875 -0.957031 2.242188 -1.03125 2.265625 -1.09375 C 2.285156 -1.164062 2.304688 -1.226562 2.328125 -1.28125 L 3.28125 -3.703125 L 3.96875 -3.703125 Z M 2.4375 0 \"/>\n</symbol>\n<symbol overflow=\"visible\" id=\"glyph0-14\">\n<path style=\"stroke:none;\" d=\"M 3.84375 -2.359375 C 3.84375 -1.972656 3.796875 -1.632812 3.703125 -1.34375 C 3.617188 -1.050781 3.488281 -0.800781 3.3125 -0.59375 C 3.132812 -0.394531 2.921875 -0.242188 2.671875 -0.140625 C 2.421875 -0.046875 2.132812 0 1.8125 0 L 0.546875 0 L 0.546875 -4.609375 L 1.609375 -4.609375 C 1.972656 -4.609375 2.289062 -4.5625 2.5625 -4.46875 C 2.84375 -4.382812 3.078125 -4.25 3.265625 -4.0625 C 3.460938 -3.882812 3.609375 -3.648438 3.703125 -3.359375 C 3.796875 -3.078125 3.84375 -2.742188 3.84375 -2.359375 Z M 3.1875 -2.359375 C 3.1875 -2.660156 3.15625 -2.921875 3.09375 -3.140625 C 3.03125 -3.359375 2.929688 -3.535156 2.796875 -3.671875 C 2.671875 -3.816406 2.507812 -3.921875 2.3125 -3.984375 C 2.113281 -4.046875 1.882812 -4.078125 1.625 -4.078125 L 1.203125 -4.078125 L 1.203125 -0.53125 L 1.765625 -0.53125 C 2.242188 -0.53125 2.597656 -0.679688 2.828125 -0.984375 C 3.066406 -1.285156 3.1875 -1.742188 3.1875 -2.359375 Z M 3.1875 -2.359375 \"/>\n</symbol>\n<symbol overflow=\"visible\" id=\"glyph0-15\">\n<path style=\"stroke:none;\" d=\"M 0.546875 0 L 0.546875 -4.609375 L 3.6875 -4.609375 L 3.6875 -4.078125 L 1.203125 -4.078125 L 1.203125 -2.640625 L 3.484375 -2.640625 L 3.484375 -2.109375 L 1.203125 -2.109375 L 1.203125 -0.53125 L 3.828125 -0.53125 L 3.828125 0 Z M 0.546875 0 \"/>\n</symbol>\n<symbol overflow=\"visible\" id=\"glyph0-16\">\n<path style=\"stroke:none;\" d=\"M 1.3125 -4.078125 L 1.3125 -2.390625 L 3.625 -2.390625 L 3.625 -1.84375 L 1.3125 -1.84375 L 1.3125 0 L 0.65625 0 L 0.65625 -4.609375 L 3.703125 -4.609375 L 3.703125 -4.078125 Z M 1.3125 -4.078125 \"/>\n</symbol>\n<symbol overflow=\"visible\" id=\"glyph0-17\">\n<path style=\"stroke:none;\" d=\"M 3.765625 -0.453125 C 3.679688 -0.398438 3.582031 -0.34375 3.46875 -0.28125 C 3.363281 -0.21875 3.242188 -0.160156 3.109375 -0.109375 C 2.984375 -0.0546875 2.84375 -0.015625 2.6875 0.015625 C 2.53125 0.046875 2.363281 0.0625 2.1875 0.0625 C 1.875 0.0625 1.601562 0.00390625 1.375 -0.109375 C 1.15625 -0.234375 0.972656 -0.398438 0.828125 -0.609375 C 0.679688 -0.816406 0.570312 -1.066406 0.5 -1.359375 C 0.425781 -1.660156 0.390625 -1.984375 0.390625 -2.328125 C 0.390625 -2.710938 0.421875 -3.050781 0.484375 -3.34375 C 0.554688 -3.632812 0.664062 -3.878906 0.8125 -4.078125 C 0.96875 -4.273438 1.15625 -4.425781 1.375 -4.53125 C 1.601562 -4.632812 1.875 -4.6875 2.1875 -4.6875 C 2.414062 -4.6875 2.613281 -4.65625 2.78125 -4.59375 C 2.957031 -4.53125 3.109375 -4.445312 3.234375 -4.34375 C 3.367188 -4.25 3.476562 -4.128906 3.5625 -3.984375 C 3.644531 -3.847656 3.710938 -3.703125 3.765625 -3.546875 L 3.1875 -3.359375 C 3.101562 -3.609375 2.976562 -3.800781 2.8125 -3.9375 C 2.65625 -4.082031 2.453125 -4.15625 2.203125 -4.15625 C 1.992188 -4.15625 1.816406 -4.113281 1.671875 -4.03125 C 1.535156 -3.945312 1.421875 -3.828125 1.328125 -3.671875 C 1.234375 -3.523438 1.164062 -3.335938 1.125 -3.109375 C 1.09375 -2.878906 1.078125 -2.617188 1.078125 -2.328125 C 1.078125 -1.710938 1.171875 -1.25 1.359375 -0.9375 C 1.554688 -0.625 1.847656 -0.46875 2.234375 -0.46875 C 2.347656 -0.46875 2.453125 -0.472656 2.546875 -0.484375 C 2.640625 -0.503906 2.722656 -0.523438 2.796875 -0.546875 C 2.878906 -0.578125 2.945312 -0.609375 3 -0.640625 C 3.050781 -0.671875 3.09375 -0.695312 3.125 -0.71875 L 3.125 -1.859375 L 2.125 -1.859375 L 2.125 -2.40625 L 3.765625 -2.40625 Z M 3.765625 -0.453125 \"/>\n</symbol>\n<symbol overflow=\"visible\" id=\"glyph0-18\">\n<path style=\"stroke:none;\" d=\"M 2.984375 0 L 2.984375 -2.125 L 1.203125 -2.125 L 1.203125 0 L 0.546875 0 L 0.546875 -4.609375 L 1.203125 -4.609375 L 1.203125 -2.671875 L 2.984375 -2.671875 L 2.984375 -4.609375 L 3.640625 -4.609375 L 3.640625 0 Z M 2.984375 0 \"/>\n</symbol>\n<symbol overflow=\"visible\" id=\"glyph0-19\">\n<path style=\"stroke:none;\" d=\"M 0.625 -5.078125 L 1.25 -5.078125 L 1.25 -3.734375 C 1.25 -3.617188 1.242188 -3.503906 1.234375 -3.390625 C 1.234375 -3.273438 1.226562 -3.164062 1.21875 -3.0625 L 1.234375 -3.0625 C 1.285156 -3.175781 1.347656 -3.273438 1.421875 -3.359375 C 1.492188 -3.441406 1.578125 -3.515625 1.671875 -3.578125 C 1.765625 -3.640625 1.867188 -3.6875 1.984375 -3.71875 C 2.109375 -3.75 2.242188 -3.765625 2.390625 -3.765625 C 2.578125 -3.765625 2.742188 -3.738281 2.890625 -3.6875 C 3.046875 -3.632812 3.171875 -3.554688 3.265625 -3.453125 C 3.367188 -3.347656 3.445312 -3.210938 3.5 -3.046875 C 3.550781 -2.890625 3.578125 -2.695312 3.578125 -2.46875 L 3.578125 0 L 2.96875 0 L 2.96875 -2.375 C 2.96875 -2.5625 2.945312 -2.710938 2.90625 -2.828125 C 2.875 -2.941406 2.820312 -3.03125 2.75 -3.09375 C 2.6875 -3.164062 2.609375 -3.21875 2.515625 -3.25 C 2.421875 -3.28125 2.320312 -3.296875 2.21875 -3.296875 C 2.082031 -3.296875 1.953125 -3.269531 1.828125 -3.21875 C 1.710938 -3.164062 1.609375 -3.085938 1.515625 -2.984375 C 1.429688 -2.890625 1.363281 -2.769531 1.3125 -2.625 C 1.269531 -2.488281 1.25 -2.328125 1.25 -2.140625 L 1.25 0 L 0.625 0 Z M 0.625 -5.078125 \"/>\n</symbol>\n<symbol overflow=\"visible\" id=\"glyph0-20\">\n<path style=\"stroke:none;\" d=\"M 3.765625 -2.3125 C 3.765625 -1.863281 3.71875 -1.488281 3.625 -1.1875 C 3.539062 -0.882812 3.421875 -0.640625 3.265625 -0.453125 C 3.117188 -0.265625 2.941406 -0.128906 2.734375 -0.046875 C 2.535156 0.0234375 2.320312 0.0625 2.09375 0.0625 C 1.851562 0.0625 1.628906 0.0234375 1.421875 -0.046875 C 1.222656 -0.128906 1.050781 -0.265625 0.90625 -0.453125 C 0.757812 -0.640625 0.640625 -0.882812 0.546875 -1.1875 C 0.460938 -1.488281 0.421875 -1.863281 0.421875 -2.3125 C 0.421875 -2.769531 0.460938 -3.148438 0.546875 -3.453125 C 0.640625 -3.765625 0.757812 -4.007812 0.90625 -4.1875 C 1.050781 -4.375 1.226562 -4.503906 1.4375 -4.578125 C 1.644531 -4.648438 1.867188 -4.6875 2.109375 -4.6875 C 2.335938 -4.6875 2.550781 -4.648438 2.75 -4.578125 C 2.957031 -4.503906 3.132812 -4.375 3.28125 -4.1875 C 3.4375 -4.007812 3.554688 -3.765625 3.640625 -3.453125 C 3.722656 -3.148438 3.765625 -2.769531 3.765625 -2.3125 Z M 3.140625 -2.3125 C 3.140625 -2.664062 3.117188 -2.960938 3.078125 -3.203125 C 3.035156 -3.453125 2.96875 -3.644531 2.875 -3.78125 C 2.78125 -3.925781 2.671875 -4.03125 2.546875 -4.09375 C 2.421875 -4.15625 2.273438 -4.1875 2.109375 -4.1875 C 1.929688 -4.1875 1.773438 -4.15625 1.640625 -4.09375 C 1.515625 -4.03125 1.40625 -3.925781 1.3125 -3.78125 C 1.226562 -3.644531 1.160156 -3.453125 1.109375 -3.203125 C 1.066406 -2.960938 1.046875 -2.664062 1.046875 -2.3125 C 1.046875 -1.957031 1.066406 -1.660156 1.109375 -1.421875 C 1.160156 -1.179688 1.226562 -0.988281 1.3125 -0.84375 C 1.40625 -0.695312 1.515625 -0.59375 1.640625 -0.53125 C 1.773438 -0.46875 1.925781 -0.4375 2.09375 -0.4375 C 2.257812 -0.4375 2.40625 -0.46875 2.53125 -0.53125 C 2.664062 -0.59375 2.773438 -0.695312 2.859375 -0.84375 C 2.953125 -0.988281 3.019531 -1.179688 3.0625 -1.421875 C 3.113281 -1.660156 3.140625 -1.957031 3.140625 -2.3125 Z M 1.703125 -1.890625 L 1.703125 -2.75 L 2.5 -2.75 L 2.5 -1.890625 Z M 1.703125 -1.890625 \"/>\n</symbol>\n<symbol overflow=\"visible\" id=\"glyph0-21\">\n<path style=\"stroke:none;\" d=\"M 0.53125 0 L 0.53125 -0.5 L 2.03125 -0.5 L 2.03125 -3.984375 C 1.988281 -3.890625 1.910156 -3.800781 1.796875 -3.71875 C 1.691406 -3.644531 1.566406 -3.578125 1.421875 -3.515625 C 1.285156 -3.453125 1.132812 -3.40625 0.96875 -3.375 C 0.8125 -3.34375 0.65625 -3.328125 0.5 -3.328125 L 0.5 -3.828125 C 0.675781 -3.828125 0.84375 -3.84375 1 -3.875 C 1.164062 -3.914062 1.316406 -3.972656 1.453125 -4.046875 C 1.597656 -4.117188 1.722656 -4.203125 1.828125 -4.296875 C 1.941406 -4.390625 2.03125 -4.492188 2.09375 -4.609375 L 2.65625 -4.609375 L 2.65625 -0.5 L 3.859375 -0.5 L 3.859375 0 Z M 0.53125 0 \"/>\n</symbol>\n<symbol overflow=\"visible\" id=\"glyph0-22\">\n<path style=\"stroke:none;\" d=\"M 0.5 0 L 0.5 -0.40625 C 0.59375 -0.625 0.722656 -0.828125 0.890625 -1.015625 C 1.054688 -1.203125 1.226562 -1.375 1.40625 -1.53125 C 1.59375 -1.695312 1.78125 -1.851562 1.96875 -2 C 2.15625 -2.15625 2.320312 -2.304688 2.46875 -2.453125 C 2.625 -2.609375 2.75 -2.757812 2.84375 -2.90625 C 2.945312 -3.0625 3 -3.222656 3 -3.390625 C 3 -3.523438 2.972656 -3.640625 2.921875 -3.734375 C 2.878906 -3.835938 2.816406 -3.921875 2.734375 -3.984375 C 2.660156 -4.046875 2.566406 -4.09375 2.453125 -4.125 C 2.347656 -4.15625 2.226562 -4.171875 2.09375 -4.171875 C 1.96875 -4.171875 1.851562 -4.15625 1.75 -4.125 C 1.644531 -4.09375 1.550781 -4.039062 1.46875 -3.96875 C 1.382812 -3.90625 1.316406 -3.820312 1.265625 -3.71875 C 1.222656 -3.613281 1.191406 -3.492188 1.171875 -3.359375 L 0.546875 -3.421875 C 0.566406 -3.597656 0.613281 -3.757812 0.6875 -3.90625 C 0.757812 -4.0625 0.859375 -4.195312 0.984375 -4.3125 C 1.109375 -4.425781 1.257812 -4.515625 1.4375 -4.578125 C 1.625 -4.648438 1.84375 -4.6875 2.09375 -4.6875 C 2.332031 -4.6875 2.546875 -4.65625 2.734375 -4.59375 C 2.921875 -4.539062 3.082031 -4.460938 3.21875 -4.359375 C 3.351562 -4.253906 3.453125 -4.125 3.515625 -3.96875 C 3.585938 -3.8125 3.625 -3.628906 3.625 -3.421875 C 3.625 -3.210938 3.578125 -3.015625 3.484375 -2.828125 C 3.390625 -2.640625 3.265625 -2.460938 3.109375 -2.296875 C 2.953125 -2.140625 2.78125 -1.984375 2.59375 -1.828125 C 2.40625 -1.679688 2.222656 -1.535156 2.046875 -1.390625 C 1.867188 -1.242188 1.707031 -1.097656 1.5625 -0.953125 C 1.414062 -0.804688 1.304688 -0.65625 1.234375 -0.5 L 3.703125 -0.5 L 3.703125 0 Z M 0.5 0 \"/>\n</symbol>\n<symbol overflow=\"visible\" id=\"glyph0-23\">\n<path style=\"stroke:none;\" d=\"M 3.75 -1.265625 C 3.75 -1.054688 3.710938 -0.867188 3.640625 -0.703125 C 3.578125 -0.535156 3.472656 -0.394531 3.328125 -0.28125 C 3.191406 -0.164062 3.019531 -0.078125 2.8125 -0.015625 C 2.613281 0.0351562 2.382812 0.0625 2.125 0.0625 C 1.820312 0.0625 1.566406 0.0234375 1.359375 -0.046875 C 1.160156 -0.117188 0.992188 -0.210938 0.859375 -0.328125 C 0.734375 -0.453125 0.632812 -0.59375 0.5625 -0.75 C 0.5 -0.90625 0.457031 -1.066406 0.4375 -1.234375 L 1.078125 -1.296875 C 1.085938 -1.171875 1.117188 -1.054688 1.171875 -0.953125 C 1.222656 -0.847656 1.289062 -0.753906 1.375 -0.671875 C 1.457031 -0.597656 1.5625 -0.539062 1.6875 -0.5 C 1.8125 -0.457031 1.957031 -0.4375 2.125 -0.4375 C 2.4375 -0.4375 2.679688 -0.507812 2.859375 -0.65625 C 3.035156 -0.800781 3.125 -1.007812 3.125 -1.28125 C 3.125 -1.4375 3.082031 -1.566406 3 -1.671875 C 2.914062 -1.773438 2.816406 -1.851562 2.703125 -1.90625 C 2.585938 -1.96875 2.457031 -2.007812 2.3125 -2.03125 C 2.175781 -2.0625 2.050781 -2.078125 1.9375 -2.078125 L 1.59375 -2.078125 L 1.59375 -2.609375 L 1.921875 -2.609375 C 2.046875 -2.609375 2.171875 -2.625 2.296875 -2.65625 C 2.421875 -2.6875 2.535156 -2.734375 2.640625 -2.796875 C 2.742188 -2.859375 2.828125 -2.9375 2.890625 -3.03125 C 2.953125 -3.132812 2.984375 -3.257812 2.984375 -3.40625 C 2.984375 -3.644531 2.90625 -3.832031 2.75 -3.96875 C 2.601562 -4.101562 2.382812 -4.171875 2.09375 -4.171875 C 1.820312 -4.171875 1.597656 -4.101562 1.421875 -3.96875 C 1.253906 -3.832031 1.160156 -3.632812 1.140625 -3.375 L 0.515625 -3.421875 C 0.546875 -3.640625 0.601562 -3.828125 0.6875 -3.984375 C 0.78125 -4.140625 0.894531 -4.269531 1.03125 -4.375 C 1.175781 -4.476562 1.335938 -4.554688 1.515625 -4.609375 C 1.703125 -4.660156 1.894531 -4.6875 2.09375 -4.6875 C 2.363281 -4.6875 2.59375 -4.648438 2.78125 -4.578125 C 2.976562 -4.515625 3.140625 -4.425781 3.265625 -4.3125 C 3.390625 -4.207031 3.476562 -4.082031 3.53125 -3.9375 C 3.59375 -3.789062 3.625 -3.632812 3.625 -3.46875 C 3.625 -3.34375 3.601562 -3.222656 3.5625 -3.109375 C 3.519531 -2.992188 3.457031 -2.882812 3.375 -2.78125 C 3.289062 -2.6875 3.1875 -2.601562 3.0625 -2.53125 C 2.9375 -2.457031 2.785156 -2.40625 2.609375 -2.375 L 2.609375 -2.359375 C 2.796875 -2.335938 2.960938 -2.289062 3.109375 -2.21875 C 3.253906 -2.15625 3.375 -2.070312 3.46875 -1.96875 C 3.5625 -1.875 3.628906 -1.765625 3.671875 -1.640625 C 3.722656 -1.515625 3.75 -1.390625 3.75 -1.265625 Z M 3.75 -1.265625 \"/>\n</symbol>\n<symbol overflow=\"visible\" id=\"glyph0-24\">\n<path style=\"stroke:none;\" d=\"M 3.203125 -1.09375 L 3.203125 0 L 2.59375 0 L 2.59375 -1.09375 L 0.359375 -1.09375 L 0.359375 -1.5625 L 2.515625 -4.609375 L 3.203125 -4.609375 L 3.203125 -1.578125 L 3.84375 -1.578125 L 3.84375 -1.09375 Z M 2.59375 -3.9375 L 0.875 -1.578125 L 2.59375 -1.578125 Z M 2.59375 -3.9375 \"/>\n</symbol>\n<symbol overflow=\"visible\" id=\"glyph0-25\">\n<path style=\"stroke:none;\" d=\"M 3.75 -1.515625 C 3.75 -1.285156 3.710938 -1.070312 3.640625 -0.875 C 3.566406 -0.6875 3.457031 -0.519531 3.3125 -0.375 C 3.175781 -0.238281 3 -0.128906 2.78125 -0.046875 C 2.570312 0.0234375 2.328125 0.0625 2.046875 0.0625 C 1.796875 0.0625 1.578125 0.0351562 1.390625 -0.015625 C 1.203125 -0.078125 1.039062 -0.160156 0.90625 -0.265625 C 0.78125 -0.367188 0.675781 -0.488281 0.59375 -0.625 C 0.519531 -0.769531 0.46875 -0.921875 0.4375 -1.078125 L 1.0625 -1.15625 C 1.082031 -1.0625 1.113281 -0.96875 1.15625 -0.875 C 1.207031 -0.789062 1.269531 -0.710938 1.34375 -0.640625 C 1.425781 -0.578125 1.523438 -0.523438 1.640625 -0.484375 C 1.753906 -0.453125 1.894531 -0.4375 2.0625 -0.4375 C 2.21875 -0.4375 2.359375 -0.457031 2.484375 -0.5 C 2.617188 -0.550781 2.734375 -0.625 2.828125 -0.71875 C 2.921875 -0.8125 2.992188 -0.921875 3.046875 -1.046875 C 3.097656 -1.179688 3.125 -1.332031 3.125 -1.5 C 3.125 -1.632812 3.097656 -1.757812 3.046875 -1.875 C 2.992188 -2 2.921875 -2.101562 2.828125 -2.1875 C 2.742188 -2.28125 2.640625 -2.347656 2.515625 -2.390625 C 2.390625 -2.441406 2.242188 -2.46875 2.078125 -2.46875 C 1.972656 -2.46875 1.875 -2.457031 1.78125 -2.4375 C 1.695312 -2.414062 1.617188 -2.390625 1.546875 -2.359375 C 1.472656 -2.328125 1.40625 -2.289062 1.34375 -2.25 C 1.289062 -2.207031 1.234375 -2.164062 1.171875 -2.125 L 0.578125 -2.125 L 0.734375 -4.609375 L 3.46875 -4.609375 L 3.46875 -4.109375 L 1.3125 -4.109375 L 1.203125 -2.65625 C 1.316406 -2.75 1.453125 -2.820312 1.609375 -2.875 C 1.773438 -2.9375 1.972656 -2.96875 2.203125 -2.96875 C 2.441406 -2.96875 2.65625 -2.929688 2.84375 -2.859375 C 3.039062 -2.785156 3.203125 -2.679688 3.328125 -2.546875 C 3.460938 -2.421875 3.566406 -2.269531 3.640625 -2.09375 C 3.710938 -1.914062 3.75 -1.722656 3.75 -1.515625 Z M 3.75 -1.515625 \"/>\n</symbol>\n<symbol overflow=\"visible\" id=\"glyph0-26\">\n<path style=\"stroke:none;\" d=\"M 3.75 -1.53125 C 3.75 -1.300781 3.710938 -1.085938 3.640625 -0.890625 C 3.578125 -0.691406 3.476562 -0.519531 3.34375 -0.375 C 3.21875 -0.238281 3.054688 -0.128906 2.859375 -0.046875 C 2.671875 0.0234375 2.445312 0.0625 2.1875 0.0625 C 1.90625 0.0625 1.660156 0.0078125 1.453125 -0.09375 C 1.242188 -0.195312 1.066406 -0.347656 0.921875 -0.546875 C 0.785156 -0.742188 0.679688 -0.976562 0.609375 -1.25 C 0.546875 -1.53125 0.515625 -1.84375 0.515625 -2.1875 C 0.515625 -2.59375 0.550781 -2.953125 0.625 -3.265625 C 0.707031 -3.578125 0.820312 -3.835938 0.96875 -4.046875 C 1.125 -4.253906 1.304688 -4.410156 1.515625 -4.515625 C 1.722656 -4.628906 1.960938 -4.6875 2.234375 -4.6875 C 2.398438 -4.6875 2.554688 -4.664062 2.703125 -4.625 C 2.847656 -4.59375 2.976562 -4.535156 3.09375 -4.453125 C 3.207031 -4.378906 3.304688 -4.28125 3.390625 -4.15625 C 3.484375 -4.03125 3.554688 -3.878906 3.609375 -3.703125 L 3.03125 -3.59375 C 2.957031 -3.800781 2.851562 -3.953125 2.71875 -4.046875 C 2.582031 -4.140625 2.421875 -4.1875 2.234375 -4.1875 C 2.066406 -4.1875 1.910156 -4.144531 1.765625 -4.0625 C 1.628906 -3.988281 1.515625 -3.875 1.421875 -3.71875 C 1.328125 -3.5625 1.253906 -3.367188 1.203125 -3.140625 C 1.148438 -2.921875 1.125 -2.664062 1.125 -2.375 C 1.238281 -2.582031 1.394531 -2.738281 1.59375 -2.84375 C 1.800781 -2.957031 2.035156 -3.015625 2.296875 -3.015625 C 2.515625 -3.015625 2.710938 -2.976562 2.890625 -2.90625 C 3.066406 -2.832031 3.21875 -2.726562 3.34375 -2.59375 C 3.476562 -2.46875 3.578125 -2.3125 3.640625 -2.125 C 3.710938 -1.945312 3.75 -1.75 3.75 -1.53125 Z M 3.125 -1.5 C 3.125 -1.644531 3.101562 -1.78125 3.0625 -1.90625 C 3.019531 -2.039062 2.957031 -2.148438 2.875 -2.234375 C 2.789062 -2.328125 2.6875 -2.398438 2.5625 -2.453125 C 2.445312 -2.503906 2.3125 -2.53125 2.15625 -2.53125 C 2.039062 -2.53125 1.925781 -2.507812 1.8125 -2.46875 C 1.695312 -2.4375 1.59375 -2.382812 1.5 -2.3125 C 1.40625 -2.238281 1.328125 -2.144531 1.265625 -2.03125 C 1.210938 -1.914062 1.1875 -1.785156 1.1875 -1.640625 C 1.1875 -1.472656 1.207031 -1.316406 1.25 -1.171875 C 1.300781 -1.023438 1.367188 -0.894531 1.453125 -0.78125 C 1.535156 -0.675781 1.632812 -0.585938 1.75 -0.515625 C 1.875 -0.453125 2.015625 -0.421875 2.171875 -0.421875 C 2.316406 -0.421875 2.445312 -0.445312 2.5625 -0.5 C 2.6875 -0.550781 2.785156 -0.625 2.859375 -0.71875 C 2.941406 -0.8125 3.003906 -0.925781 3.046875 -1.0625 C 3.097656 -1.195312 3.125 -1.34375 3.125 -1.5 Z M 3.125 -1.5 \"/>\n</symbol>\n<symbol overflow=\"visible\" id=\"glyph0-27\">\n<path style=\"stroke:none;\" d=\"M 3.65625 -4.140625 C 3.4375 -3.828125 3.226562 -3.5 3.03125 -3.15625 C 2.832031 -2.820312 2.660156 -2.476562 2.515625 -2.125 C 2.367188 -1.78125 2.25 -1.429688 2.15625 -1.078125 C 2.070312 -0.722656 2.03125 -0.363281 2.03125 0 L 1.390625 0 C 1.390625 -0.363281 1.4375 -0.722656 1.53125 -1.078125 C 1.625 -1.429688 1.742188 -1.78125 1.890625 -2.125 C 2.046875 -2.476562 2.222656 -2.820312 2.421875 -3.15625 C 2.628906 -3.488281 2.84375 -3.804688 3.0625 -4.109375 L 0.546875 -4.109375 L 0.546875 -4.609375 L 3.65625 -4.609375 Z M 3.65625 -4.140625 \"/>\n</symbol>\n<symbol overflow=\"visible\" id=\"glyph0-28\">\n<path style=\"stroke:none;\" d=\"M 3.734375 -1.296875 C 3.734375 -1.097656 3.703125 -0.914062 3.640625 -0.75 C 3.578125 -0.59375 3.476562 -0.453125 3.34375 -0.328125 C 3.207031 -0.203125 3.035156 -0.101562 2.828125 -0.03125 C 2.628906 0.03125 2.382812 0.0625 2.09375 0.0625 C 1.8125 0.0625 1.566406 0.03125 1.359375 -0.03125 C 1.160156 -0.101562 0.992188 -0.195312 0.859375 -0.3125 C 0.722656 -0.4375 0.617188 -0.582031 0.546875 -0.75 C 0.484375 -0.914062 0.453125 -1.09375 0.453125 -1.28125 C 0.453125 -1.445312 0.476562 -1.59375 0.53125 -1.71875 C 0.582031 -1.851562 0.65625 -1.96875 0.75 -2.0625 C 0.84375 -2.15625 0.945312 -2.234375 1.0625 -2.296875 C 1.175781 -2.359375 1.296875 -2.398438 1.421875 -2.421875 L 1.421875 -2.4375 C 1.285156 -2.46875 1.160156 -2.515625 1.046875 -2.578125 C 0.941406 -2.648438 0.851562 -2.734375 0.78125 -2.828125 C 0.71875 -2.929688 0.664062 -3.035156 0.625 -3.140625 C 0.582031 -3.253906 0.5625 -3.375 0.5625 -3.5 C 0.5625 -3.65625 0.59375 -3.800781 0.65625 -3.9375 C 0.726562 -4.082031 0.828125 -4.207031 0.953125 -4.3125 C 1.078125 -4.425781 1.234375 -4.515625 1.421875 -4.578125 C 1.617188 -4.648438 1.835938 -4.6875 2.078125 -4.6875 C 2.347656 -4.6875 2.578125 -4.648438 2.765625 -4.578125 C 2.960938 -4.515625 3.125 -4.425781 3.25 -4.3125 C 3.375 -4.207031 3.46875 -4.082031 3.53125 -3.9375 C 3.59375 -3.789062 3.625 -3.644531 3.625 -3.5 C 3.625 -3.375 3.601562 -3.253906 3.5625 -3.140625 C 3.519531 -3.023438 3.460938 -2.921875 3.390625 -2.828125 C 3.328125 -2.734375 3.238281 -2.648438 3.125 -2.578125 C 3.019531 -2.515625 2.898438 -2.46875 2.765625 -2.4375 L 2.765625 -2.421875 C 2.898438 -2.398438 3.023438 -2.359375 3.140625 -2.296875 C 3.265625 -2.234375 3.367188 -2.15625 3.453125 -2.0625 C 3.546875 -1.96875 3.613281 -1.851562 3.65625 -1.71875 C 3.707031 -1.59375 3.734375 -1.453125 3.734375 -1.296875 Z M 2.984375 -3.453125 C 2.984375 -3.566406 2.96875 -3.671875 2.9375 -3.765625 C 2.90625 -3.859375 2.851562 -3.9375 2.78125 -4 C 2.707031 -4.070312 2.613281 -4.125 2.5 -4.15625 C 2.382812 -4.195312 2.242188 -4.21875 2.078125 -4.21875 C 1.921875 -4.21875 1.785156 -4.195312 1.671875 -4.15625 C 1.554688 -4.125 1.460938 -4.070312 1.390625 -4 C 1.328125 -3.9375 1.28125 -3.859375 1.25 -3.765625 C 1.21875 -3.671875 1.203125 -3.566406 1.203125 -3.453125 C 1.203125 -3.367188 1.210938 -3.28125 1.234375 -3.1875 C 1.253906 -3.09375 1.296875 -3.003906 1.359375 -2.921875 C 1.429688 -2.847656 1.523438 -2.785156 1.640625 -2.734375 C 1.753906 -2.679688 1.90625 -2.65625 2.09375 -2.65625 C 2.289062 -2.65625 2.445312 -2.679688 2.5625 -2.734375 C 2.675781 -2.785156 2.765625 -2.851562 2.828125 -2.9375 C 2.890625 -3.019531 2.929688 -3.109375 2.953125 -3.203125 C 2.972656 -3.296875 2.984375 -3.378906 2.984375 -3.453125 Z M 3.09375 -1.34375 C 3.09375 -1.445312 3.078125 -1.550781 3.046875 -1.65625 C 3.015625 -1.757812 2.957031 -1.847656 2.875 -1.921875 C 2.800781 -2.003906 2.695312 -2.070312 2.5625 -2.125 C 2.4375 -2.175781 2.273438 -2.203125 2.078125 -2.203125 C 1.898438 -2.203125 1.75 -2.175781 1.625 -2.125 C 1.5 -2.070312 1.394531 -2.003906 1.3125 -1.921875 C 1.238281 -1.847656 1.179688 -1.757812 1.140625 -1.65625 C 1.109375 -1.550781 1.09375 -1.445312 1.09375 -1.34375 C 1.09375 -1.207031 1.109375 -1.082031 1.140625 -0.96875 C 1.179688 -0.851562 1.238281 -0.75 1.3125 -0.65625 C 1.394531 -0.570312 1.5 -0.503906 1.625 -0.453125 C 1.757812 -0.410156 1.921875 -0.390625 2.109375 -0.390625 C 2.296875 -0.390625 2.453125 -0.410156 2.578125 -0.453125 C 2.703125 -0.503906 2.800781 -0.570312 2.875 -0.65625 C 2.957031 -0.75 3.015625 -0.851562 3.046875 -0.96875 C 3.078125 -1.082031 3.09375 -1.207031 3.09375 -1.34375 Z M 3.09375 -1.34375 \"/>\n</symbol>\n<symbol overflow=\"visible\" id=\"glyph0-29\">\n<path style=\"stroke:none;\" d=\"M 3.71875 -2.40625 C 3.71875 -2 3.675781 -1.640625 3.59375 -1.328125 C 3.507812 -1.023438 3.394531 -0.769531 3.25 -0.5625 C 3.101562 -0.351562 2.921875 -0.195312 2.703125 -0.09375 C 2.484375 0.0078125 2.238281 0.0625 1.96875 0.0625 C 1.789062 0.0625 1.625 0.0390625 1.46875 0 C 1.320312 -0.03125 1.191406 -0.0820312 1.078125 -0.15625 C 0.960938 -0.238281 0.863281 -0.34375 0.78125 -0.46875 C 0.695312 -0.601562 0.628906 -0.757812 0.578125 -0.9375 L 1.171875 -1.03125 C 1.234375 -0.820312 1.332031 -0.664062 1.46875 -0.5625 C 1.601562 -0.46875 1.773438 -0.421875 1.984375 -0.421875 C 2.148438 -0.421875 2.300781 -0.457031 2.4375 -0.53125 C 2.570312 -0.613281 2.6875 -0.726562 2.78125 -0.875 C 2.882812 -1.03125 2.960938 -1.21875 3.015625 -1.4375 C 3.078125 -1.664062 3.109375 -1.925781 3.109375 -2.21875 C 3.054688 -2.113281 2.988281 -2.019531 2.90625 -1.9375 C 2.820312 -1.851562 2.726562 -1.78125 2.625 -1.71875 C 2.519531 -1.664062 2.40625 -1.625 2.28125 -1.59375 C 2.164062 -1.5625 2.039062 -1.546875 1.90625 -1.546875 C 1.6875 -1.546875 1.488281 -1.582031 1.3125 -1.65625 C 1.132812 -1.738281 0.984375 -1.847656 0.859375 -1.984375 C 0.742188 -2.117188 0.648438 -2.28125 0.578125 -2.46875 C 0.515625 -2.664062 0.484375 -2.878906 0.484375 -3.109375 C 0.484375 -3.347656 0.519531 -3.5625 0.59375 -3.75 C 0.664062 -3.945312 0.769531 -4.113281 0.90625 -4.25 C 1.039062 -4.382812 1.207031 -4.488281 1.40625 -4.5625 C 1.601562 -4.644531 1.828125 -4.6875 2.078125 -4.6875 C 2.617188 -4.6875 3.023438 -4.492188 3.296875 -4.109375 C 3.578125 -3.734375 3.71875 -3.164062 3.71875 -2.40625 Z M 3.046875 -2.953125 C 3.046875 -3.117188 3.023438 -3.273438 2.984375 -3.421875 C 2.941406 -3.566406 2.878906 -3.695312 2.796875 -3.8125 C 2.710938 -3.925781 2.609375 -4.015625 2.484375 -4.078125 C 2.359375 -4.148438 2.21875 -4.1875 2.0625 -4.1875 C 1.914062 -4.1875 1.78125 -4.160156 1.65625 -4.109375 C 1.539062 -4.054688 1.441406 -3.984375 1.359375 -3.890625 C 1.273438 -3.796875 1.210938 -3.679688 1.171875 -3.546875 C 1.128906 -3.421875 1.109375 -3.273438 1.109375 -3.109375 C 1.109375 -2.960938 1.128906 -2.820312 1.171875 -2.6875 C 1.210938 -2.5625 1.269531 -2.445312 1.34375 -2.34375 C 1.425781 -2.25 1.523438 -2.171875 1.640625 -2.109375 C 1.765625 -2.054688 1.90625 -2.03125 2.0625 -2.03125 C 2.175781 -2.03125 2.289062 -2.046875 2.40625 -2.078125 C 2.519531 -2.117188 2.625 -2.175781 2.71875 -2.25 C 2.8125 -2.332031 2.890625 -2.429688 2.953125 -2.546875 C 3.015625 -2.660156 3.046875 -2.796875 3.046875 -2.953125 Z M 3.046875 -2.953125 \"/>\n</symbol>\n<symbol overflow=\"visible\" id=\"glyph0-30\">\n<path style=\"stroke:none;\" d=\"M 2.09375 -2.859375 L 3.234375 -4.609375 L 3.9375 -4.609375 L 2.453125 -2.40625 L 4.078125 0 L 3.375 0 L 2.09375 -1.953125 L 0.828125 0 L 0.125 0 L 1.75 -2.40625 L 0.265625 -4.609375 L 0.96875 -4.609375 Z M 2.09375 -2.859375 \"/>\n</symbol>\n</g>\n</defs>\n<g id=\"surface32\">\n<rect x=\"0\" y=\"0\" width=\"500\" height=\"300\" style=\"fill:rgb(100%,100%,100%);fill-opacity:1;stroke:none;\"/>\n<path style=\"fill:none;stroke-width:1;stroke-linecap:butt;stroke-linejoin:miter;stroke:rgb(26.666667%,26.666667%,26.666667%);stroke-opacity:1;stroke-miterlimit:10;\" d=\"M 308.007812 280 L 255.042969 252.6875 \"/>\n<path style=\"fill:none;stroke-width:1;stroke-linecap:butt;stroke-linejoin:miter;stroke:rgb(26.666667%,26.666667%,26.666667%);stroke-opacity:1;stroke-miterlimit:10;\" d=\"M 308.007812 280 L 313.941406 236.792969 \"/>\n<path style=\"fill:none;stroke-width:1;stroke-linecap:butt;stroke-linejoin:miter;stroke:rgb(26.666667%,26.666667%,26.666667%);stroke-opacity:1;stroke-miterlimit:10;\" d=\"M 308.007812 280 L 210.800781 279.085938 \"/>\n<path style=\"fill:none;stroke-width:1;stroke-linecap:butt;stroke-linejoin:miter;stroke:rgb(26.666667%,26.666667%,26.666667%);stroke-opacity:1;stroke-miterlimit:10;\" d=\"M 255.042969 252.6875 L 195.445312 226.832031 \"/>\n<path style=\"fill:none;stroke-width:1;stroke-linecap:butt;stroke-linejoin:miter;stroke:rgb(26.666667%,26.666667%,26.666667%);stroke-opacity:1;stroke-miterlimit:10;\" d=\"M 195.445312 226.832031 L 313.941406 236.792969 \"/>\n<path style=\"fill:none;stroke-width:1;stroke-linecap:butt;stroke-linejoin:miter;stroke:rgb(26.666667%,26.666667%,26.666667%);stroke-opacity:1;stroke-miterlimit:10;\" d=\"M 195.445312 226.832031 L 210.800781 279.085938 \"/>\n<path style=\"fill:none;stroke-width:1;stroke-linecap:butt;stroke-linejoin:miter;stroke:rgb(26.666667%,26.666667%,26.666667%);stroke-opacity:1;stroke-miterlimit:10;\" d=\"M 195.445312 226.832031 L 100.332031 181.902344 \"/>\n<path style=\"fill:none;stroke-width:1;stroke-linecap:butt;stroke-linejoin:miter;stroke:rgb(26.666667%,26.666667%,26.666667%);stroke-opacity:1;stroke-miterlimit:10;\" d=\"M 100.332031 181.902344 L 57.386719 129.9375 \"/>\n<path style=\"fill:none;stroke-width:1;stroke-linecap:butt;stroke-linejoin:miter;stroke:rgb(26.666667%,26.666667%,26.666667%);stroke-opacity:1;stroke-miterlimit:10;\" d=\"M 100.332031 181.902344 L 20 177.945312 \"/>\n<path style=\"fill:none;stroke-width:1;stroke-linecap:butt;stroke-linejoin:miter;stroke:rgb(26.666667%,26.666667%,26.666667%);stroke-opacity:1;stroke-miterlimit:10;\" d=\"M 247.453125 36.683594 L 359.945312 80.195312 \"/>\n<path style=\"fill:none;stroke-width:1;stroke-linecap:butt;stroke-linejoin:miter;stroke:rgb(26.666667%,26.666667%,26.666667%);stroke-opacity:1;stroke-miterlimit:10;\" d=\"M 266.382812 109.890625 L 359.945312 80.195312 \"/>\n<path style=\"fill:none;stroke-width:1;stroke-linecap:butt;stroke-linejoin:miter;stroke:rgb(26.666667%,26.666667%,26.666667%);stroke-opacity:1;stroke-miterlimit:10;\" d=\"M 342.953125 136.226562 L 359.945312 80.195312 \"/>\n<path style=\"fill:none;stroke-width:1;stroke-linecap:butt;stroke-linejoin:miter;stroke:rgb(26.666667%,26.666667%,26.666667%);stroke-opacity:1;stroke-miterlimit:10;\" d=\"M 480 85 L 359.945312 80.195312 \"/>\n<path style=\"fill:none;stroke-width:1;stroke-linecap:butt;stroke-linejoin:miter;stroke:rgb(26.666667%,26.666667%,26.666667%);stroke-opacity:1;stroke-miterlimit:10;\" d=\"M 227.960938 73.109375 L 359.945312 80.195312 \"/>\n<path style=\"fill:none;stroke-width:1;stroke-linecap:butt;stroke-linejoin:miter;stroke:rgb(26.666667%,26.666667%,26.666667%);stroke-opacity:1;stroke-miterlimit:10;\" d=\"M 473.890625 123.183594 L 359.945312 80.195312 \"/>\n<path style=\"fill:none;stroke-width:1;stroke-linecap:butt;stroke-linejoin:miter;stroke:rgb(26.666667%,26.666667%,26.666667%);stroke-opacity:1;stroke-miterlimit:10;\" d=\"M 450.554688 47.113281 L 359.945312 80.195312 \"/>\n<path style=\"fill:none;stroke-width:1;stroke-linecap:butt;stroke-linejoin:miter;stroke:rgb(26.666667%,26.666667%,26.666667%);stroke-opacity:1;stroke-miterlimit:10;\" d=\"M 419.605469 146.222656 L 359.945312 80.195312 \"/>\n<path style=\"fill:none;stroke-width:1;stroke-linecap:butt;stroke-linejoin:miter;stroke:rgb(26.666667%,26.666667%,26.666667%);stroke-opacity:1;stroke-miterlimit:10;\" d=\"M 384.914062 21.921875 L 359.945312 80.195312 \"/>\n<path style=\"fill:none;stroke-width:1;stroke-linecap:butt;stroke-linejoin:miter;stroke:rgb(26.666667%,26.666667%,26.666667%);stroke-opacity:1;stroke-miterlimit:10;\" d=\"M 310.15625 20 L 359.945312 80.195312 \"/>\n<path style=\"fill-rule:nonzero;fill:rgb(52.941176%,80.784314%,92.156863%);fill-opacity:1;stroke-width:1;stroke-linecap:butt;stroke-linejoin:miter;stroke:rgb(0%,0%,0%);stroke-opacity:1;stroke-miterlimit:10;\" d=\"M 325.507812 280 C 325.507812 289.664062 317.671875 297.5 308.007812 297.5 C 298.34375 297.5 290.507812 289.664062 290.507812 280 C 290.507812 270.335938 298.34375 262.5 308.007812 262.5 C 317.671875 262.5 325.507812 270.335938 325.507812 280 \"/>\n<path style=\"fill-rule:nonzero;fill:rgb(52.941176%,80.784314%,92.156863%);fill-opacity:1;stroke-width:1;stroke-linecap:butt;stroke-linejoin:miter;stroke:rgb(0%,0%,0%);stroke-opacity:1;stroke-miterlimit:10;\" d=\"M 272.542969 252.6875 C 272.542969 262.351562 264.707031 270.1875 255.042969 270.1875 C 245.378906 270.1875 237.542969 262.351562 237.542969 252.6875 C 237.542969 243.019531 245.378906 235.1875 255.042969 235.1875 C 264.707031 235.1875 272.542969 243.019531 272.542969 252.6875 \"/>\n<path style=\"fill-rule:nonzero;fill:rgb(52.941176%,80.784314%,92.156863%);fill-opacity:1;stroke-width:1;stroke-linecap:butt;stroke-linejoin:miter;stroke:rgb(0%,0%,0%);stroke-opacity:1;stroke-miterlimit:10;\" d=\"M 212.945312 226.832031 C 212.945312 236.5 205.109375 244.332031 195.445312 244.332031 C 185.777344 244.332031 177.945312 236.5 177.945312 226.832031 C 177.945312 217.167969 185.777344 209.332031 195.445312 209.332031 C 205.109375 209.332031 212.945312 217.167969 212.945312 226.832031 \"/>\n<path style=\"fill-rule:nonzero;fill:rgb(52.941176%,80.784314%,92.156863%);fill-opacity:1;stroke-width:1;stroke-linecap:butt;stroke-linejoin:miter;stroke:rgb(0%,0%,0%);stroke-opacity:1;stroke-miterlimit:10;\" d=\"M 331.441406 236.792969 C 331.441406 246.457031 323.605469 254.292969 313.941406 254.292969 C 304.277344 254.292969 296.441406 246.457031 296.441406 236.792969 C 296.441406 227.125 304.277344 219.292969 313.941406 219.292969 C 323.605469 219.292969 331.441406 227.125 331.441406 236.792969 \"/>\n<path style=\"fill-rule:nonzero;fill:rgb(52.941176%,80.784314%,92.156863%);fill-opacity:1;stroke-width:1;stroke-linecap:butt;stroke-linejoin:miter;stroke:rgb(0%,0%,0%);stroke-opacity:1;stroke-miterlimit:10;\" d=\"M 228.300781 279.085938 C 228.300781 288.75 220.46875 296.585938 210.800781 296.585938 C 201.136719 296.585938 193.300781 288.75 193.300781 279.085938 C 193.300781 269.421875 201.136719 261.585938 210.800781 261.585938 C 220.46875 261.585938 228.300781 269.421875 228.300781 279.085938 \"/>\n<path style=\"fill-rule:nonzero;fill:rgb(52.941176%,80.784314%,92.156863%);fill-opacity:1;stroke-width:1;stroke-linecap:butt;stroke-linejoin:miter;stroke:rgb(0%,0%,0%);stroke-opacity:1;stroke-miterlimit:10;\" d=\"M 117.832031 181.902344 C 117.832031 191.566406 110 199.402344 100.332031 199.402344 C 90.667969 199.402344 82.832031 191.566406 82.832031 181.902344 C 82.832031 172.238281 90.667969 164.402344 100.332031 164.402344 C 110 164.402344 117.832031 172.238281 117.832031 181.902344 \"/>\n<path style=\"fill-rule:nonzero;fill:rgb(52.941176%,80.784314%,92.156863%);fill-opacity:1;stroke-width:1;stroke-linecap:butt;stroke-linejoin:miter;stroke:rgb(0%,0%,0%);stroke-opacity:1;stroke-miterlimit:10;\" d=\"M 74.886719 129.9375 C 74.886719 139.601562 67.050781 147.4375 57.386719 147.4375 C 47.722656 147.4375 39.886719 139.601562 39.886719 129.9375 C 39.886719 120.269531 47.722656 112.4375 57.386719 112.4375 C 67.050781 112.4375 74.886719 120.269531 74.886719 129.9375 \"/>\n<path style=\"fill-rule:nonzero;fill:rgb(52.941176%,80.784314%,92.156863%);fill-opacity:1;stroke-width:1;stroke-linecap:butt;stroke-linejoin:miter;stroke:rgb(0%,0%,0%);stroke-opacity:1;stroke-miterlimit:10;\" d=\"M 37.5 177.945312 C 37.5 187.613281 29.664062 195.445312 20 195.445312 C 10.335938 195.445312 2.5 187.613281 2.5 177.945312 C 2.5 168.28125 10.335938 160.445312 20 160.445312 C 29.664062 160.445312 37.5 168.28125 37.5 177.945312 \"/>\n<path style=\"fill-rule:nonzero;fill:rgb(52.941176%,80.784314%,92.156863%);fill-opacity:1;stroke-width:1;stroke-linecap:butt;stroke-linejoin:miter;stroke:rgb(0%,0%,0%);stroke-opacity:1;stroke-miterlimit:10;\" d=\"M 264.953125 36.683594 C 264.953125 46.347656 257.117188 54.183594 247.453125 54.183594 C 237.789062 54.183594 229.953125 46.347656 229.953125 36.683594 C 229.953125 27.019531 237.789062 19.183594 247.453125 19.183594 C 257.117188 19.183594 264.953125 27.019531 264.953125 36.683594 \"/>\n<path style=\"fill-rule:nonzero;fill:rgb(52.941176%,80.784314%,92.156863%);fill-opacity:1;stroke-width:1;stroke-linecap:butt;stroke-linejoin:miter;stroke:rgb(0%,0%,0%);stroke-opacity:1;stroke-miterlimit:10;\" d=\"M 283.882812 109.890625 C 283.882812 119.554688 276.046875 127.390625 266.382812 127.390625 C 256.71875 127.390625 248.882812 119.554688 248.882812 109.890625 C 248.882812 100.226562 256.71875 92.390625 266.382812 92.390625 C 276.046875 92.390625 283.882812 100.226562 283.882812 109.890625 \"/>\n<path style=\"fill-rule:nonzero;fill:rgb(52.941176%,80.784314%,92.156863%);fill-opacity:1;stroke-width:1;stroke-linecap:butt;stroke-linejoin:miter;stroke:rgb(0%,0%,0%);stroke-opacity:1;stroke-miterlimit:10;\" d=\"M 360.453125 136.226562 C 360.453125 145.894531 352.617188 153.726562 342.953125 153.726562 C 333.285156 153.726562 325.453125 145.894531 325.453125 136.226562 C 325.453125 126.5625 333.285156 118.726562 342.953125 118.726562 C 352.617188 118.726562 360.453125 126.5625 360.453125 136.226562 \"/>\n<path style=\"fill-rule:nonzero;fill:rgb(52.941176%,80.784314%,92.156863%);fill-opacity:1;stroke-width:1;stroke-linecap:butt;stroke-linejoin:miter;stroke:rgb(0%,0%,0%);stroke-opacity:1;stroke-miterlimit:10;\" d=\"M 497.5 85 C 497.5 94.664062 489.664062 102.5 480 102.5 C 470.335938 102.5 462.5 94.664062 462.5 85 C 462.5 75.335938 470.335938 67.5 480 67.5 C 489.664062 67.5 497.5 75.335938 497.5 85 \"/>\n<path style=\"fill-rule:nonzero;fill:rgb(52.941176%,80.784314%,92.156863%);fill-opacity:1;stroke-width:1;stroke-linecap:butt;stroke-linejoin:miter;stroke:rgb(0%,0%,0%);stroke-opacity:1;stroke-miterlimit:10;\" d=\"M 245.460938 73.109375 C 245.460938 82.777344 237.625 90.609375 227.960938 90.609375 C 218.292969 90.609375 210.460938 82.777344 210.460938 73.109375 C 210.460938 63.445312 218.292969 55.609375 227.960938 55.609375 C 237.625 55.609375 245.460938 63.445312 245.460938 73.109375 \"/>\n<path style=\"fill-rule:nonzero;fill:rgb(52.941176%,80.784314%,92.156863%);fill-opacity:1;stroke-width:1;stroke-linecap:butt;stroke-linejoin:miter;stroke:rgb(0%,0%,0%);stroke-opacity:1;stroke-miterlimit:10;\" d=\"M 491.390625 123.183594 C 491.390625 132.847656 483.554688 140.683594 473.890625 140.683594 C 464.226562 140.683594 456.390625 132.847656 456.390625 123.183594 C 456.390625 113.519531 464.226562 105.683594 473.890625 105.683594 C 483.554688 105.683594 491.390625 113.519531 491.390625 123.183594 \"/>\n<path style=\"fill-rule:nonzero;fill:rgb(52.941176%,80.784314%,92.156863%);fill-opacity:1;stroke-width:1;stroke-linecap:butt;stroke-linejoin:miter;stroke:rgb(0%,0%,0%);stroke-opacity:1;stroke-miterlimit:10;\" d=\"M 468.054688 47.113281 C 468.054688 56.777344 460.21875 64.613281 450.554688 64.613281 C 440.890625 64.613281 433.054688 56.777344 433.054688 47.113281 C 433.054688 37.449219 440.890625 29.613281 450.554688 29.613281 C 460.21875 29.613281 468.054688 37.449219 468.054688 47.113281 \"/>\n<path style=\"fill-rule:nonzero;fill:rgb(52.941176%,80.784314%,92.156863%);fill-opacity:1;stroke-width:1;stroke-linecap:butt;stroke-linejoin:miter;stroke:rgb(0%,0%,0%);stroke-opacity:1;stroke-miterlimit:10;\" d=\"M 437.105469 146.222656 C 437.105469 155.886719 429.269531 163.722656 419.605469 163.722656 C 409.9375 163.722656 402.105469 155.886719 402.105469 146.222656 C 402.105469 136.558594 409.9375 128.722656 419.605469 128.722656 C 429.269531 128.722656 437.105469 136.558594 437.105469 146.222656 \"/>\n<path style=\"fill-rule:nonzero;fill:rgb(52.941176%,80.784314%,92.156863%);fill-opacity:1;stroke-width:1;stroke-linecap:butt;stroke-linejoin:miter;stroke:rgb(0%,0%,0%);stroke-opacity:1;stroke-miterlimit:10;\" d=\"M 402.414062 21.921875 C 402.414062 31.585938 394.578125 39.421875 384.914062 39.421875 C 375.25 39.421875 367.414062 31.585938 367.414062 21.921875 C 367.414062 12.257812 375.25 4.421875 384.914062 4.421875 C 394.578125 4.421875 402.414062 12.257812 402.414062 21.921875 \"/>\n<path style=\"fill-rule:nonzero;fill:rgb(52.941176%,80.784314%,92.156863%);fill-opacity:1;stroke-width:1;stroke-linecap:butt;stroke-linejoin:miter;stroke:rgb(0%,0%,0%);stroke-opacity:1;stroke-miterlimit:10;\" d=\"M 327.65625 20 C 327.65625 29.664062 319.820312 37.5 310.15625 37.5 C 300.488281 37.5 292.65625 29.664062 292.65625 20 C 292.65625 10.335938 300.488281 2.5 310.15625 2.5 C 319.820312 2.5 327.65625 10.335938 327.65625 20 \"/>\n<path style=\"fill-rule:nonzero;fill:rgb(52.941176%,80.784314%,92.156863%);fill-opacity:1;stroke-width:1;stroke-linecap:butt;stroke-linejoin:miter;stroke:rgb(0%,0%,0%);stroke-opacity:1;stroke-miterlimit:10;\" d=\"M 377.445312 80.195312 C 377.445312 89.863281 369.613281 97.695312 359.945312 97.695312 C 350.28125 97.695312 342.445312 89.863281 342.445312 80.195312 C 342.445312 70.53125 350.28125 62.695312 359.945312 62.695312 C 369.613281 62.695312 377.445312 70.53125 377.445312 80.195312 \"/>\n<g style=\"fill:rgb(0%,0%,0%);fill-opacity:1;\">\n  <use xlink:href=\"#glyph0-1\" x=\"297.738281\" y=\"283.585938\"/>\n  <use xlink:href=\"#glyph0-2\" x=\"301.938965\" y=\"283.585938\"/>\n  <use xlink:href=\"#glyph0-3\" x=\"306.139648\" y=\"283.585938\"/>\n  <use xlink:href=\"#glyph0-4\" x=\"310.340332\" y=\"283.585938\"/>\n  <use xlink:href=\"#glyph0-5\" x=\"314.541016\" y=\"283.585938\"/>\n</g>\n<g style=\"fill:rgb(0%,0%,0%);fill-opacity:1;\">\n  <use xlink:href=\"#glyph0-6\" x=\"240.371094\" y=\"256.273438\"/>\n  <use xlink:href=\"#glyph0-7\" x=\"244.571777\" y=\"256.273438\"/>\n  <use xlink:href=\"#glyph0-8\" x=\"248.772461\" y=\"256.273438\"/>\n  <use xlink:href=\"#glyph0-9\" x=\"252.973145\" y=\"256.273438\"/>\n  <use xlink:href=\"#glyph0-10\" x=\"257.173828\" y=\"256.273438\"/>\n  <use xlink:href=\"#glyph0-11\" x=\"261.374512\" y=\"256.273438\"/>\n  <use xlink:href=\"#glyph0-9\" x=\"265.575195\" y=\"256.273438\"/>\n</g>\n<g style=\"fill:rgb(0%,0%,0%);fill-opacity:1;\">\n  <use xlink:href=\"#glyph0-12\" x=\"185.054688\" y=\"230.421875\"/>\n  <use xlink:href=\"#glyph0-8\" x=\"189.255371\" y=\"230.421875\"/>\n  <use xlink:href=\"#glyph0-13\" x=\"193.456055\" y=\"230.421875\"/>\n  <use xlink:href=\"#glyph0-3\" x=\"197.656738\" y=\"230.421875\"/>\n  <use xlink:href=\"#glyph0-9\" x=\"201.857422\" y=\"230.421875\"/>\n</g>\n<g style=\"fill:rgb(0%,0%,0%);fill-opacity:1;\">\n  <use xlink:href=\"#glyph0-14\" x=\"303.46875\" y=\"240.378906\"/>\n  <use xlink:href=\"#glyph0-8\" x=\"307.669434\" y=\"240.378906\"/>\n  <use xlink:href=\"#glyph0-13\" x=\"311.870117\" y=\"240.378906\"/>\n  <use xlink:href=\"#glyph0-3\" x=\"316.070801\" y=\"240.378906\"/>\n  <use xlink:href=\"#glyph0-10\" x=\"320.271484\" y=\"240.378906\"/>\n</g>\n<g style=\"fill:rgb(0%,0%,0%);fill-opacity:1;\">\n  <use xlink:href=\"#glyph0-15\" x=\"196.136719\" y=\"282.671875\"/>\n  <use xlink:href=\"#glyph0-2\" x=\"200.337402\" y=\"282.671875\"/>\n  <use xlink:href=\"#glyph0-5\" x=\"204.538086\" y=\"282.671875\"/>\n  <use xlink:href=\"#glyph0-8\" x=\"208.73877\" y=\"282.671875\"/>\n  <use xlink:href=\"#glyph0-9\" x=\"212.939453\" y=\"282.671875\"/>\n  <use xlink:href=\"#glyph0-11\" x=\"217.140137\" y=\"282.671875\"/>\n  <use xlink:href=\"#glyph0-7\" x=\"221.34082\" y=\"282.671875\"/>\n</g>\n<g style=\"fill:rgb(0%,0%,0%);fill-opacity:1;\">\n  <use xlink:href=\"#glyph0-16\" x=\"91.90625\" y=\"185.488281\"/>\n  <use xlink:href=\"#glyph0-7\" x=\"96.106934\" y=\"185.488281\"/>\n  <use xlink:href=\"#glyph0-5\" x=\"100.307617\" y=\"185.488281\"/>\n  <use xlink:href=\"#glyph0-10\" x=\"104.508301\" y=\"185.488281\"/>\n</g>\n<g style=\"fill:rgb(0%,0%,0%);fill-opacity:1;\">\n  <use xlink:href=\"#glyph0-17\" x=\"51.011719\" y=\"133.523438\"/>\n  <use xlink:href=\"#glyph0-3\" x=\"55.212402\" y=\"133.523438\"/>\n  <use xlink:href=\"#glyph0-8\" x=\"59.413086\" y=\"133.523438\"/>\n</g>\n<g style=\"fill:rgb(0%,0%,0%);fill-opacity:1;\">\n  <use xlink:href=\"#glyph0-18\" x=\"7.429688\" y=\"181.535156\"/>\n  <use xlink:href=\"#glyph0-8\" x=\"11.630371\" y=\"181.535156\"/>\n  <use xlink:href=\"#glyph0-9\" x=\"15.831055\" y=\"181.535156\"/>\n  <use xlink:href=\"#glyph0-9\" x=\"20.031738\" y=\"181.535156\"/>\n  <use xlink:href=\"#glyph0-8\" x=\"24.232422\" y=\"181.535156\"/>\n  <use xlink:href=\"#glyph0-19\" x=\"28.433105\" y=\"181.535156\"/>\n</g>\n<g style=\"fill:rgb(0%,0%,0%);fill-opacity:1;\">\n  <use xlink:href=\"#glyph0-13\" x=\"243.351562\" y=\"40.074219\"/>\n  <use xlink:href=\"#glyph0-20\" x=\"247.552246\" y=\"40.074219\"/>\n</g>\n<g style=\"fill:rgb(0%,0%,0%);fill-opacity:1;\">\n  <use xlink:href=\"#glyph0-13\" x=\"262.234375\" y=\"113.246094\"/>\n  <use xlink:href=\"#glyph0-21\" x=\"266.435059\" y=\"113.246094\"/>\n</g>\n<g style=\"fill:rgb(0%,0%,0%);fill-opacity:1;\">\n  <use xlink:href=\"#glyph0-13\" x=\"338.882812\" y=\"139.621094\"/>\n  <use xlink:href=\"#glyph0-22\" x=\"343.083496\" y=\"139.621094\"/>\n</g>\n<g style=\"fill:rgb(0%,0%,0%);fill-opacity:1;\">\n  <use xlink:href=\"#glyph0-13\" x=\"475.902344\" y=\"88.390625\"/>\n  <use xlink:href=\"#glyph0-23\" x=\"480.103027\" y=\"88.390625\"/>\n</g>\n<g style=\"fill:rgb(0%,0%,0%);fill-opacity:1;\">\n  <use xlink:href=\"#glyph0-13\" x=\"223.820312\" y=\"76.46875\"/>\n  <use xlink:href=\"#glyph0-24\" x=\"228.020996\" y=\"76.46875\"/>\n</g>\n<g style=\"fill:rgb(0%,0%,0%);fill-opacity:1;\">\n  <use xlink:href=\"#glyph0-13\" x=\"469.792969\" y=\"126.539062\"/>\n  <use xlink:href=\"#glyph0-25\" x=\"473.993652\" y=\"126.539062\"/>\n</g>\n<g style=\"fill:rgb(0%,0%,0%);fill-opacity:1;\">\n  <use xlink:href=\"#glyph0-13\" x=\"446.464844\" y=\"50.503906\"/>\n  <use xlink:href=\"#glyph0-26\" x=\"450.665527\" y=\"50.503906\"/>\n</g>\n<g style=\"fill:rgb(0%,0%,0%);fill-opacity:1;\">\n  <use xlink:href=\"#glyph0-13\" x=\"415.558594\" y=\"149.578125\"/>\n  <use xlink:href=\"#glyph0-27\" x=\"419.759277\" y=\"149.578125\"/>\n</g>\n<g style=\"fill:rgb(0%,0%,0%);fill-opacity:1;\">\n  <use xlink:href=\"#glyph0-13\" x=\"380.824219\" y=\"25.3125\"/>\n  <use xlink:href=\"#glyph0-28\" x=\"385.024902\" y=\"25.3125\"/>\n</g>\n<g style=\"fill:rgb(0%,0%,0%);fill-opacity:1;\">\n  <use xlink:href=\"#glyph0-13\" x=\"306.078125\" y=\"23.390625\"/>\n  <use xlink:href=\"#glyph0-29\" x=\"310.278809\" y=\"23.390625\"/>\n</g>\n<g style=\"fill:rgb(0%,0%,0%);fill-opacity:1;\">\n  <use xlink:href=\"#glyph0-30\" x=\"357.847656\" y=\"83.554688\"/>\n</g>\n</g>\n</svg>\n"
          },
          "metadata": {
            "image/svg+xml": {
              "isolated": true
            }
          },
          "execution_count": 49
        }
      ]
    },
    {
      "cell_type": "markdown",
      "source": [
        "NOTE: `networkx` implementation of degree centrality divides the degree of each node by the maximum possible connection, which is the total number of nodes in the graph minus 1."
      ],
      "metadata": {
        "id": "MIxBwZL0b0Qn"
      }
    },
    {
      "cell_type": "code",
      "source": [
        "degree_centrality_dict = nx.degree_centrality(G_facebook2_nx)"
      ],
      "metadata": {
        "id": "hBmobIV7Y0p0"
      },
      "execution_count": 50,
      "outputs": []
    },
    {
      "cell_type": "code",
      "source": [
        "df_degree = pd.DataFrame(\n",
        "    data=degree_centrality_dict.items(),\n",
        "    columns=[\"node\", \"degree_centrality\"]\n",
        ")\n",
        "df_degree.sort_values(by=\"degree_centrality\", ascending=False).round(2).T"
      ],
      "metadata": {
        "id": "PiJZyYHKY0d0",
        "colab": {
          "base_uri": "https://localhost:8080/",
          "height": 112
        },
        "outputId": "72f10d60-0d49-41a3-ad2b-47823efab92e"
      },
      "execution_count": 51,
      "outputs": [
        {
          "output_type": "execute_result",
          "data": {
            "text/plain": [
              "                     18     2     5      0        4      3        1     6   \\\n",
              "node                  X  Cavin  Fred  Alice  Eleanor  David  Brandon   Gia   \n",
              "degree_centrality  0.56   0.22  0.17   0.17     0.11   0.11     0.11  0.06   \n",
              "\n",
              "                       7     8     10    11    12    13    14    15    16  \\\n",
              "node               Hannah    v0    v2    v3    v4    v5    v6    v7    v8   \n",
              "degree_centrality    0.06  0.06  0.06  0.06  0.06  0.06  0.06  0.06  0.06   \n",
              "\n",
              "                     17    9   \n",
              "node                 v9    v1  \n",
              "degree_centrality  0.06  0.06  "
            ],
            "text/html": [
              "\n",
              "  <div id=\"df-d5aefca9-efbe-491e-8dee-4ad68f02d934\" class=\"colab-df-container\">\n",
              "    <div>\n",
              "<style scoped>\n",
              "    .dataframe tbody tr th:only-of-type {\n",
              "        vertical-align: middle;\n",
              "    }\n",
              "\n",
              "    .dataframe tbody tr th {\n",
              "        vertical-align: top;\n",
              "    }\n",
              "\n",
              "    .dataframe thead th {\n",
              "        text-align: right;\n",
              "    }\n",
              "</style>\n",
              "<table border=\"1\" class=\"dataframe\">\n",
              "  <thead>\n",
              "    <tr style=\"text-align: right;\">\n",
              "      <th></th>\n",
              "      <th>18</th>\n",
              "      <th>2</th>\n",
              "      <th>5</th>\n",
              "      <th>0</th>\n",
              "      <th>4</th>\n",
              "      <th>3</th>\n",
              "      <th>1</th>\n",
              "      <th>6</th>\n",
              "      <th>7</th>\n",
              "      <th>8</th>\n",
              "      <th>10</th>\n",
              "      <th>11</th>\n",
              "      <th>12</th>\n",
              "      <th>13</th>\n",
              "      <th>14</th>\n",
              "      <th>15</th>\n",
              "      <th>16</th>\n",
              "      <th>17</th>\n",
              "      <th>9</th>\n",
              "    </tr>\n",
              "  </thead>\n",
              "  <tbody>\n",
              "    <tr>\n",
              "      <th>node</th>\n",
              "      <td>X</td>\n",
              "      <td>Cavin</td>\n",
              "      <td>Fred</td>\n",
              "      <td>Alice</td>\n",
              "      <td>Eleanor</td>\n",
              "      <td>David</td>\n",
              "      <td>Brandon</td>\n",
              "      <td>Gia</td>\n",
              "      <td>Hannah</td>\n",
              "      <td>v0</td>\n",
              "      <td>v2</td>\n",
              "      <td>v3</td>\n",
              "      <td>v4</td>\n",
              "      <td>v5</td>\n",
              "      <td>v6</td>\n",
              "      <td>v7</td>\n",
              "      <td>v8</td>\n",
              "      <td>v9</td>\n",
              "      <td>v1</td>\n",
              "    </tr>\n",
              "    <tr>\n",
              "      <th>degree_centrality</th>\n",
              "      <td>0.56</td>\n",
              "      <td>0.22</td>\n",
              "      <td>0.17</td>\n",
              "      <td>0.17</td>\n",
              "      <td>0.11</td>\n",
              "      <td>0.11</td>\n",
              "      <td>0.11</td>\n",
              "      <td>0.06</td>\n",
              "      <td>0.06</td>\n",
              "      <td>0.06</td>\n",
              "      <td>0.06</td>\n",
              "      <td>0.06</td>\n",
              "      <td>0.06</td>\n",
              "      <td>0.06</td>\n",
              "      <td>0.06</td>\n",
              "      <td>0.06</td>\n",
              "      <td>0.06</td>\n",
              "      <td>0.06</td>\n",
              "      <td>0.06</td>\n",
              "    </tr>\n",
              "  </tbody>\n",
              "</table>\n",
              "</div>\n",
              "    <div class=\"colab-df-buttons\">\n",
              "\n",
              "  <div class=\"colab-df-container\">\n",
              "    <button class=\"colab-df-convert\" onclick=\"convertToInteractive('df-d5aefca9-efbe-491e-8dee-4ad68f02d934')\"\n",
              "            title=\"Convert this dataframe to an interactive table.\"\n",
              "            style=\"display:none;\">\n",
              "\n",
              "  <svg xmlns=\"http://www.w3.org/2000/svg\" height=\"24px\" viewBox=\"0 -960 960 960\">\n",
              "    <path d=\"M120-120v-720h720v720H120Zm60-500h600v-160H180v160Zm220 220h160v-160H400v160Zm0 220h160v-160H400v160ZM180-400h160v-160H180v160Zm440 0h160v-160H620v160ZM180-180h160v-160H180v160Zm440 0h160v-160H620v160Z\"/>\n",
              "  </svg>\n",
              "    </button>\n",
              "\n",
              "  <style>\n",
              "    .colab-df-container {\n",
              "      display:flex;\n",
              "      gap: 12px;\n",
              "    }\n",
              "\n",
              "    .colab-df-convert {\n",
              "      background-color: #E8F0FE;\n",
              "      border: none;\n",
              "      border-radius: 50%;\n",
              "      cursor: pointer;\n",
              "      display: none;\n",
              "      fill: #1967D2;\n",
              "      height: 32px;\n",
              "      padding: 0 0 0 0;\n",
              "      width: 32px;\n",
              "    }\n",
              "\n",
              "    .colab-df-convert:hover {\n",
              "      background-color: #E2EBFA;\n",
              "      box-shadow: 0px 1px 2px rgba(60, 64, 67, 0.3), 0px 1px 3px 1px rgba(60, 64, 67, 0.15);\n",
              "      fill: #174EA6;\n",
              "    }\n",
              "\n",
              "    .colab-df-buttons div {\n",
              "      margin-bottom: 4px;\n",
              "    }\n",
              "\n",
              "    [theme=dark] .colab-df-convert {\n",
              "      background-color: #3B4455;\n",
              "      fill: #D2E3FC;\n",
              "    }\n",
              "\n",
              "    [theme=dark] .colab-df-convert:hover {\n",
              "      background-color: #434B5C;\n",
              "      box-shadow: 0px 1px 3px 1px rgba(0, 0, 0, 0.15);\n",
              "      filter: drop-shadow(0px 1px 2px rgba(0, 0, 0, 0.3));\n",
              "      fill: #FFFFFF;\n",
              "    }\n",
              "  </style>\n",
              "\n",
              "    <script>\n",
              "      const buttonEl =\n",
              "        document.querySelector('#df-d5aefca9-efbe-491e-8dee-4ad68f02d934 button.colab-df-convert');\n",
              "      buttonEl.style.display =\n",
              "        google.colab.kernel.accessAllowed ? 'block' : 'none';\n",
              "\n",
              "      async function convertToInteractive(key) {\n",
              "        const element = document.querySelector('#df-d5aefca9-efbe-491e-8dee-4ad68f02d934');\n",
              "        const dataTable =\n",
              "          await google.colab.kernel.invokeFunction('convertToInteractive',\n",
              "                                                    [key], {});\n",
              "        if (!dataTable) return;\n",
              "\n",
              "        const docLinkHtml = 'Like what you see? Visit the ' +\n",
              "          '<a target=\"_blank\" href=https://colab.research.google.com/notebooks/data_table.ipynb>data table notebook</a>'\n",
              "          + ' to learn more about interactive tables.';\n",
              "        element.innerHTML = '';\n",
              "        dataTable['output_type'] = 'display_data';\n",
              "        await google.colab.output.renderOutput(dataTable, element);\n",
              "        const docLink = document.createElement('div');\n",
              "        docLink.innerHTML = docLinkHtml;\n",
              "        element.appendChild(docLink);\n",
              "      }\n",
              "    </script>\n",
              "  </div>\n",
              "\n",
              "\n",
              "<div id=\"df-4084131b-e2b7-49b9-b53f-098072b8fcf1\">\n",
              "  <button class=\"colab-df-quickchart\" onclick=\"quickchart('df-4084131b-e2b7-49b9-b53f-098072b8fcf1')\"\n",
              "            title=\"Suggest charts\"\n",
              "            style=\"display:none;\">\n",
              "\n",
              "<svg xmlns=\"http://www.w3.org/2000/svg\" height=\"24px\"viewBox=\"0 0 24 24\"\n",
              "     width=\"24px\">\n",
              "    <g>\n",
              "        <path d=\"M19 3H5c-1.1 0-2 .9-2 2v14c0 1.1.9 2 2 2h14c1.1 0 2-.9 2-2V5c0-1.1-.9-2-2-2zM9 17H7v-7h2v7zm4 0h-2V7h2v10zm4 0h-2v-4h2v4z\"/>\n",
              "    </g>\n",
              "</svg>\n",
              "  </button>\n",
              "\n",
              "<style>\n",
              "  .colab-df-quickchart {\n",
              "      --bg-color: #E8F0FE;\n",
              "      --fill-color: #1967D2;\n",
              "      --hover-bg-color: #E2EBFA;\n",
              "      --hover-fill-color: #174EA6;\n",
              "      --disabled-fill-color: #AAA;\n",
              "      --disabled-bg-color: #DDD;\n",
              "  }\n",
              "\n",
              "  [theme=dark] .colab-df-quickchart {\n",
              "      --bg-color: #3B4455;\n",
              "      --fill-color: #D2E3FC;\n",
              "      --hover-bg-color: #434B5C;\n",
              "      --hover-fill-color: #FFFFFF;\n",
              "      --disabled-bg-color: #3B4455;\n",
              "      --disabled-fill-color: #666;\n",
              "  }\n",
              "\n",
              "  .colab-df-quickchart {\n",
              "    background-color: var(--bg-color);\n",
              "    border: none;\n",
              "    border-radius: 50%;\n",
              "    cursor: pointer;\n",
              "    display: none;\n",
              "    fill: var(--fill-color);\n",
              "    height: 32px;\n",
              "    padding: 0;\n",
              "    width: 32px;\n",
              "  }\n",
              "\n",
              "  .colab-df-quickchart:hover {\n",
              "    background-color: var(--hover-bg-color);\n",
              "    box-shadow: 0 1px 2px rgba(60, 64, 67, 0.3), 0 1px 3px 1px rgba(60, 64, 67, 0.15);\n",
              "    fill: var(--button-hover-fill-color);\n",
              "  }\n",
              "\n",
              "  .colab-df-quickchart-complete:disabled,\n",
              "  .colab-df-quickchart-complete:disabled:hover {\n",
              "    background-color: var(--disabled-bg-color);\n",
              "    fill: var(--disabled-fill-color);\n",
              "    box-shadow: none;\n",
              "  }\n",
              "\n",
              "  .colab-df-spinner {\n",
              "    border: 2px solid var(--fill-color);\n",
              "    border-color: transparent;\n",
              "    border-bottom-color: var(--fill-color);\n",
              "    animation:\n",
              "      spin 1s steps(1) infinite;\n",
              "  }\n",
              "\n",
              "  @keyframes spin {\n",
              "    0% {\n",
              "      border-color: transparent;\n",
              "      border-bottom-color: var(--fill-color);\n",
              "      border-left-color: var(--fill-color);\n",
              "    }\n",
              "    20% {\n",
              "      border-color: transparent;\n",
              "      border-left-color: var(--fill-color);\n",
              "      border-top-color: var(--fill-color);\n",
              "    }\n",
              "    30% {\n",
              "      border-color: transparent;\n",
              "      border-left-color: var(--fill-color);\n",
              "      border-top-color: var(--fill-color);\n",
              "      border-right-color: var(--fill-color);\n",
              "    }\n",
              "    40% {\n",
              "      border-color: transparent;\n",
              "      border-right-color: var(--fill-color);\n",
              "      border-top-color: var(--fill-color);\n",
              "    }\n",
              "    60% {\n",
              "      border-color: transparent;\n",
              "      border-right-color: var(--fill-color);\n",
              "    }\n",
              "    80% {\n",
              "      border-color: transparent;\n",
              "      border-right-color: var(--fill-color);\n",
              "      border-bottom-color: var(--fill-color);\n",
              "    }\n",
              "    90% {\n",
              "      border-color: transparent;\n",
              "      border-bottom-color: var(--fill-color);\n",
              "    }\n",
              "  }\n",
              "</style>\n",
              "\n",
              "  <script>\n",
              "    async function quickchart(key) {\n",
              "      const quickchartButtonEl =\n",
              "        document.querySelector('#' + key + ' button');\n",
              "      quickchartButtonEl.disabled = true;  // To prevent multiple clicks.\n",
              "      quickchartButtonEl.classList.add('colab-df-spinner');\n",
              "      try {\n",
              "        const charts = await google.colab.kernel.invokeFunction(\n",
              "            'suggestCharts', [key], {});\n",
              "      } catch (error) {\n",
              "        console.error('Error during call to suggestCharts:', error);\n",
              "      }\n",
              "      quickchartButtonEl.classList.remove('colab-df-spinner');\n",
              "      quickchartButtonEl.classList.add('colab-df-quickchart-complete');\n",
              "    }\n",
              "    (() => {\n",
              "      let quickchartButtonEl =\n",
              "        document.querySelector('#df-4084131b-e2b7-49b9-b53f-098072b8fcf1 button');\n",
              "      quickchartButtonEl.style.display =\n",
              "        google.colab.kernel.accessAllowed ? 'block' : 'none';\n",
              "    })();\n",
              "  </script>\n",
              "</div>\n",
              "\n",
              "    </div>\n",
              "  </div>\n"
            ],
            "application/vnd.google.colaboratory.intrinsic+json": {
              "type": "dataframe",
              "summary": "{\n  \"name\": \"df_degree\",\n  \"rows\": 2,\n  \"fields\": [\n    {\n      \"column\": 18,\n      \"properties\": {\n        \"dtype\": \"string\",\n        \"num_unique_values\": 2,\n        \"samples\": [\n          0.56,\n          \"X\"\n        ],\n        \"semantic_type\": \"\",\n        \"description\": \"\"\n      }\n    },\n    {\n      \"column\": 2,\n      \"properties\": {\n        \"dtype\": \"string\",\n        \"num_unique_values\": 2,\n        \"samples\": [\n          0.22,\n          \"Cavin\"\n        ],\n        \"semantic_type\": \"\",\n        \"description\": \"\"\n      }\n    },\n    {\n      \"column\": 5,\n      \"properties\": {\n        \"dtype\": \"string\",\n        \"num_unique_values\": 2,\n        \"samples\": [\n          0.17,\n          \"Fred\"\n        ],\n        \"semantic_type\": \"\",\n        \"description\": \"\"\n      }\n    },\n    {\n      \"column\": 0,\n      \"properties\": {\n        \"dtype\": \"string\",\n        \"num_unique_values\": 2,\n        \"samples\": [\n          0.17,\n          \"Alice\"\n        ],\n        \"semantic_type\": \"\",\n        \"description\": \"\"\n      }\n    },\n    {\n      \"column\": 4,\n      \"properties\": {\n        \"dtype\": \"string\",\n        \"num_unique_values\": 2,\n        \"samples\": [\n          0.11,\n          \"Eleanor\"\n        ],\n        \"semantic_type\": \"\",\n        \"description\": \"\"\n      }\n    },\n    {\n      \"column\": 3,\n      \"properties\": {\n        \"dtype\": \"string\",\n        \"num_unique_values\": 2,\n        \"samples\": [\n          0.11,\n          \"David\"\n        ],\n        \"semantic_type\": \"\",\n        \"description\": \"\"\n      }\n    },\n    {\n      \"column\": 1,\n      \"properties\": {\n        \"dtype\": \"string\",\n        \"num_unique_values\": 2,\n        \"samples\": [\n          0.11,\n          \"Brandon\"\n        ],\n        \"semantic_type\": \"\",\n        \"description\": \"\"\n      }\n    },\n    {\n      \"column\": 6,\n      \"properties\": {\n        \"dtype\": \"string\",\n        \"num_unique_values\": 2,\n        \"samples\": [\n          0.06,\n          \"Gia\"\n        ],\n        \"semantic_type\": \"\",\n        \"description\": \"\"\n      }\n    },\n    {\n      \"column\": 7,\n      \"properties\": {\n        \"dtype\": \"string\",\n        \"num_unique_values\": 2,\n        \"samples\": [\n          0.06,\n          \"Hannah\"\n        ],\n        \"semantic_type\": \"\",\n        \"description\": \"\"\n      }\n    },\n    {\n      \"column\": 8,\n      \"properties\": {\n        \"dtype\": \"string\",\n        \"num_unique_values\": 2,\n        \"samples\": [\n          0.06,\n          \"v0\"\n        ],\n        \"semantic_type\": \"\",\n        \"description\": \"\"\n      }\n    },\n    {\n      \"column\": 10,\n      \"properties\": {\n        \"dtype\": \"string\",\n        \"num_unique_values\": 2,\n        \"samples\": [\n          0.06,\n          \"v2\"\n        ],\n        \"semantic_type\": \"\",\n        \"description\": \"\"\n      }\n    },\n    {\n      \"column\": 11,\n      \"properties\": {\n        \"dtype\": \"string\",\n        \"num_unique_values\": 2,\n        \"samples\": [\n          0.06,\n          \"v3\"\n        ],\n        \"semantic_type\": \"\",\n        \"description\": \"\"\n      }\n    },\n    {\n      \"column\": 12,\n      \"properties\": {\n        \"dtype\": \"string\",\n        \"num_unique_values\": 2,\n        \"samples\": [\n          0.06,\n          \"v4\"\n        ],\n        \"semantic_type\": \"\",\n        \"description\": \"\"\n      }\n    },\n    {\n      \"column\": 13,\n      \"properties\": {\n        \"dtype\": \"string\",\n        \"num_unique_values\": 2,\n        \"samples\": [\n          0.06,\n          \"v5\"\n        ],\n        \"semantic_type\": \"\",\n        \"description\": \"\"\n      }\n    },\n    {\n      \"column\": 14,\n      \"properties\": {\n        \"dtype\": \"string\",\n        \"num_unique_values\": 2,\n        \"samples\": [\n          0.06,\n          \"v6\"\n        ],\n        \"semantic_type\": \"\",\n        \"description\": \"\"\n      }\n    },\n    {\n      \"column\": 15,\n      \"properties\": {\n        \"dtype\": \"string\",\n        \"num_unique_values\": 2,\n        \"samples\": [\n          0.06,\n          \"v7\"\n        ],\n        \"semantic_type\": \"\",\n        \"description\": \"\"\n      }\n    },\n    {\n      \"column\": 16,\n      \"properties\": {\n        \"dtype\": \"string\",\n        \"num_unique_values\": 2,\n        \"samples\": [\n          0.06,\n          \"v8\"\n        ],\n        \"semantic_type\": \"\",\n        \"description\": \"\"\n      }\n    },\n    {\n      \"column\": 17,\n      \"properties\": {\n        \"dtype\": \"string\",\n        \"num_unique_values\": 2,\n        \"samples\": [\n          0.06,\n          \"v9\"\n        ],\n        \"semantic_type\": \"\",\n        \"description\": \"\"\n      }\n    },\n    {\n      \"column\": 9,\n      \"properties\": {\n        \"dtype\": \"string\",\n        \"num_unique_values\": 2,\n        \"samples\": [\n          0.06,\n          \"v1\"\n        ],\n        \"semantic_type\": \"\",\n        \"description\": \"\"\n      }\n    }\n  ]\n}"
            }
          },
          "metadata": {},
          "execution_count": 51
        }
      ]
    },
    {
      "cell_type": "markdown",
      "source": [
        "Based on the above degree centrality table, node `X` is the most central node. Therefore, recommend `X` to Alice."
      ],
      "metadata": {
        "id": "sPYylXAzcO1a"
      }
    },
    {
      "cell_type": "markdown",
      "source": [
        "### Task3: Select a node for viral marketing\n",
        "- Use `G_facebook1`\n",
        "- Select a node that is the most central in terms of closeness centrality\n",
        "- Select a node that is the most central in terms of betweenness centrality"
      ],
      "metadata": {
        "id": "oMzBgC56xOMB"
      }
    },
    {
      "cell_type": "code",
      "source": [
        "closeness_centrality_dict = nx.closeness_centrality(G_facebook1_nx)"
      ],
      "metadata": {
        "id": "zdrpJT7NYznU"
      },
      "execution_count": 52,
      "outputs": []
    },
    {
      "cell_type": "code",
      "source": [
        "closeness_centrality_dict"
      ],
      "metadata": {
        "colab": {
          "base_uri": "https://localhost:8080/"
        },
        "id": "PCLLvKgmYbpz",
        "outputId": "fd7008ad-469b-4d9c-90b5-989313dcd799"
      },
      "execution_count": 53,
      "outputs": [
        {
          "output_type": "execute_result",
          "data": {
            "text/plain": [
              "{'Alice': 0.4375,\n",
              " 'Brandon': 0.5,\n",
              " 'Cavin': 0.7,\n",
              " 'David': 0.5,\n",
              " 'Eleanor': 0.5,\n",
              " 'Fred': 0.5833333333333334,\n",
              " 'Gia': 0.3888888888888889,\n",
              " 'Hannah': 0.3888888888888889}"
            ]
          },
          "metadata": {},
          "execution_count": 53
        }
      ]
    },
    {
      "cell_type": "code",
      "source": [
        "df_closeness = pd.DataFrame(\n",
        "    data=closeness_centrality_dict.items(),\n",
        "    columns=[\"node\", \"closeness_centrality\"]\n",
        ")\n",
        "df_closeness.sort_values(by=\"closeness_centrality\", ascending=False).round(2).T"
      ],
      "metadata": {
        "id": "nLEYZfSc2KaP",
        "colab": {
          "base_uri": "https://localhost:8080/",
          "height": 112
        },
        "outputId": "840d470d-46ae-47ad-827c-e7dcd226cf5c"
      },
      "execution_count": 54,
      "outputs": [
        {
          "output_type": "execute_result",
          "data": {
            "text/plain": [
              "                          2     5        1      3        4      0     6  \\\n",
              "node                  Cavin  Fred  Brandon  David  Eleanor  Alice   Gia   \n",
              "closeness_centrality    0.7  0.58      0.5    0.5      0.5   0.44  0.39   \n",
              "\n",
              "                           7  \n",
              "node                  Hannah  \n",
              "closeness_centrality    0.39  "
            ],
            "text/html": [
              "\n",
              "  <div id=\"df-18597f82-6f18-4ba1-8b4d-f539adfba049\" class=\"colab-df-container\">\n",
              "    <div>\n",
              "<style scoped>\n",
              "    .dataframe tbody tr th:only-of-type {\n",
              "        vertical-align: middle;\n",
              "    }\n",
              "\n",
              "    .dataframe tbody tr th {\n",
              "        vertical-align: top;\n",
              "    }\n",
              "\n",
              "    .dataframe thead th {\n",
              "        text-align: right;\n",
              "    }\n",
              "</style>\n",
              "<table border=\"1\" class=\"dataframe\">\n",
              "  <thead>\n",
              "    <tr style=\"text-align: right;\">\n",
              "      <th></th>\n",
              "      <th>2</th>\n",
              "      <th>5</th>\n",
              "      <th>1</th>\n",
              "      <th>3</th>\n",
              "      <th>4</th>\n",
              "      <th>0</th>\n",
              "      <th>6</th>\n",
              "      <th>7</th>\n",
              "    </tr>\n",
              "  </thead>\n",
              "  <tbody>\n",
              "    <tr>\n",
              "      <th>node</th>\n",
              "      <td>Cavin</td>\n",
              "      <td>Fred</td>\n",
              "      <td>Brandon</td>\n",
              "      <td>David</td>\n",
              "      <td>Eleanor</td>\n",
              "      <td>Alice</td>\n",
              "      <td>Gia</td>\n",
              "      <td>Hannah</td>\n",
              "    </tr>\n",
              "    <tr>\n",
              "      <th>closeness_centrality</th>\n",
              "      <td>0.7</td>\n",
              "      <td>0.58</td>\n",
              "      <td>0.5</td>\n",
              "      <td>0.5</td>\n",
              "      <td>0.5</td>\n",
              "      <td>0.44</td>\n",
              "      <td>0.39</td>\n",
              "      <td>0.39</td>\n",
              "    </tr>\n",
              "  </tbody>\n",
              "</table>\n",
              "</div>\n",
              "    <div class=\"colab-df-buttons\">\n",
              "\n",
              "  <div class=\"colab-df-container\">\n",
              "    <button class=\"colab-df-convert\" onclick=\"convertToInteractive('df-18597f82-6f18-4ba1-8b4d-f539adfba049')\"\n",
              "            title=\"Convert this dataframe to an interactive table.\"\n",
              "            style=\"display:none;\">\n",
              "\n",
              "  <svg xmlns=\"http://www.w3.org/2000/svg\" height=\"24px\" viewBox=\"0 -960 960 960\">\n",
              "    <path d=\"M120-120v-720h720v720H120Zm60-500h600v-160H180v160Zm220 220h160v-160H400v160Zm0 220h160v-160H400v160ZM180-400h160v-160H180v160Zm440 0h160v-160H620v160ZM180-180h160v-160H180v160Zm440 0h160v-160H620v160Z\"/>\n",
              "  </svg>\n",
              "    </button>\n",
              "\n",
              "  <style>\n",
              "    .colab-df-container {\n",
              "      display:flex;\n",
              "      gap: 12px;\n",
              "    }\n",
              "\n",
              "    .colab-df-convert {\n",
              "      background-color: #E8F0FE;\n",
              "      border: none;\n",
              "      border-radius: 50%;\n",
              "      cursor: pointer;\n",
              "      display: none;\n",
              "      fill: #1967D2;\n",
              "      height: 32px;\n",
              "      padding: 0 0 0 0;\n",
              "      width: 32px;\n",
              "    }\n",
              "\n",
              "    .colab-df-convert:hover {\n",
              "      background-color: #E2EBFA;\n",
              "      box-shadow: 0px 1px 2px rgba(60, 64, 67, 0.3), 0px 1px 3px 1px rgba(60, 64, 67, 0.15);\n",
              "      fill: #174EA6;\n",
              "    }\n",
              "\n",
              "    .colab-df-buttons div {\n",
              "      margin-bottom: 4px;\n",
              "    }\n",
              "\n",
              "    [theme=dark] .colab-df-convert {\n",
              "      background-color: #3B4455;\n",
              "      fill: #D2E3FC;\n",
              "    }\n",
              "\n",
              "    [theme=dark] .colab-df-convert:hover {\n",
              "      background-color: #434B5C;\n",
              "      box-shadow: 0px 1px 3px 1px rgba(0, 0, 0, 0.15);\n",
              "      filter: drop-shadow(0px 1px 2px rgba(0, 0, 0, 0.3));\n",
              "      fill: #FFFFFF;\n",
              "    }\n",
              "  </style>\n",
              "\n",
              "    <script>\n",
              "      const buttonEl =\n",
              "        document.querySelector('#df-18597f82-6f18-4ba1-8b4d-f539adfba049 button.colab-df-convert');\n",
              "      buttonEl.style.display =\n",
              "        google.colab.kernel.accessAllowed ? 'block' : 'none';\n",
              "\n",
              "      async function convertToInteractive(key) {\n",
              "        const element = document.querySelector('#df-18597f82-6f18-4ba1-8b4d-f539adfba049');\n",
              "        const dataTable =\n",
              "          await google.colab.kernel.invokeFunction('convertToInteractive',\n",
              "                                                    [key], {});\n",
              "        if (!dataTable) return;\n",
              "\n",
              "        const docLinkHtml = 'Like what you see? Visit the ' +\n",
              "          '<a target=\"_blank\" href=https://colab.research.google.com/notebooks/data_table.ipynb>data table notebook</a>'\n",
              "          + ' to learn more about interactive tables.';\n",
              "        element.innerHTML = '';\n",
              "        dataTable['output_type'] = 'display_data';\n",
              "        await google.colab.output.renderOutput(dataTable, element);\n",
              "        const docLink = document.createElement('div');\n",
              "        docLink.innerHTML = docLinkHtml;\n",
              "        element.appendChild(docLink);\n",
              "      }\n",
              "    </script>\n",
              "  </div>\n",
              "\n",
              "\n",
              "<div id=\"df-ee48cf47-73d1-435e-a6c9-69231a3de7ff\">\n",
              "  <button class=\"colab-df-quickchart\" onclick=\"quickchart('df-ee48cf47-73d1-435e-a6c9-69231a3de7ff')\"\n",
              "            title=\"Suggest charts\"\n",
              "            style=\"display:none;\">\n",
              "\n",
              "<svg xmlns=\"http://www.w3.org/2000/svg\" height=\"24px\"viewBox=\"0 0 24 24\"\n",
              "     width=\"24px\">\n",
              "    <g>\n",
              "        <path d=\"M19 3H5c-1.1 0-2 .9-2 2v14c0 1.1.9 2 2 2h14c1.1 0 2-.9 2-2V5c0-1.1-.9-2-2-2zM9 17H7v-7h2v7zm4 0h-2V7h2v10zm4 0h-2v-4h2v4z\"/>\n",
              "    </g>\n",
              "</svg>\n",
              "  </button>\n",
              "\n",
              "<style>\n",
              "  .colab-df-quickchart {\n",
              "      --bg-color: #E8F0FE;\n",
              "      --fill-color: #1967D2;\n",
              "      --hover-bg-color: #E2EBFA;\n",
              "      --hover-fill-color: #174EA6;\n",
              "      --disabled-fill-color: #AAA;\n",
              "      --disabled-bg-color: #DDD;\n",
              "  }\n",
              "\n",
              "  [theme=dark] .colab-df-quickchart {\n",
              "      --bg-color: #3B4455;\n",
              "      --fill-color: #D2E3FC;\n",
              "      --hover-bg-color: #434B5C;\n",
              "      --hover-fill-color: #FFFFFF;\n",
              "      --disabled-bg-color: #3B4455;\n",
              "      --disabled-fill-color: #666;\n",
              "  }\n",
              "\n",
              "  .colab-df-quickchart {\n",
              "    background-color: var(--bg-color);\n",
              "    border: none;\n",
              "    border-radius: 50%;\n",
              "    cursor: pointer;\n",
              "    display: none;\n",
              "    fill: var(--fill-color);\n",
              "    height: 32px;\n",
              "    padding: 0;\n",
              "    width: 32px;\n",
              "  }\n",
              "\n",
              "  .colab-df-quickchart:hover {\n",
              "    background-color: var(--hover-bg-color);\n",
              "    box-shadow: 0 1px 2px rgba(60, 64, 67, 0.3), 0 1px 3px 1px rgba(60, 64, 67, 0.15);\n",
              "    fill: var(--button-hover-fill-color);\n",
              "  }\n",
              "\n",
              "  .colab-df-quickchart-complete:disabled,\n",
              "  .colab-df-quickchart-complete:disabled:hover {\n",
              "    background-color: var(--disabled-bg-color);\n",
              "    fill: var(--disabled-fill-color);\n",
              "    box-shadow: none;\n",
              "  }\n",
              "\n",
              "  .colab-df-spinner {\n",
              "    border: 2px solid var(--fill-color);\n",
              "    border-color: transparent;\n",
              "    border-bottom-color: var(--fill-color);\n",
              "    animation:\n",
              "      spin 1s steps(1) infinite;\n",
              "  }\n",
              "\n",
              "  @keyframes spin {\n",
              "    0% {\n",
              "      border-color: transparent;\n",
              "      border-bottom-color: var(--fill-color);\n",
              "      border-left-color: var(--fill-color);\n",
              "    }\n",
              "    20% {\n",
              "      border-color: transparent;\n",
              "      border-left-color: var(--fill-color);\n",
              "      border-top-color: var(--fill-color);\n",
              "    }\n",
              "    30% {\n",
              "      border-color: transparent;\n",
              "      border-left-color: var(--fill-color);\n",
              "      border-top-color: var(--fill-color);\n",
              "      border-right-color: var(--fill-color);\n",
              "    }\n",
              "    40% {\n",
              "      border-color: transparent;\n",
              "      border-right-color: var(--fill-color);\n",
              "      border-top-color: var(--fill-color);\n",
              "    }\n",
              "    60% {\n",
              "      border-color: transparent;\n",
              "      border-right-color: var(--fill-color);\n",
              "    }\n",
              "    80% {\n",
              "      border-color: transparent;\n",
              "      border-right-color: var(--fill-color);\n",
              "      border-bottom-color: var(--fill-color);\n",
              "    }\n",
              "    90% {\n",
              "      border-color: transparent;\n",
              "      border-bottom-color: var(--fill-color);\n",
              "    }\n",
              "  }\n",
              "</style>\n",
              "\n",
              "  <script>\n",
              "    async function quickchart(key) {\n",
              "      const quickchartButtonEl =\n",
              "        document.querySelector('#' + key + ' button');\n",
              "      quickchartButtonEl.disabled = true;  // To prevent multiple clicks.\n",
              "      quickchartButtonEl.classList.add('colab-df-spinner');\n",
              "      try {\n",
              "        const charts = await google.colab.kernel.invokeFunction(\n",
              "            'suggestCharts', [key], {});\n",
              "      } catch (error) {\n",
              "        console.error('Error during call to suggestCharts:', error);\n",
              "      }\n",
              "      quickchartButtonEl.classList.remove('colab-df-spinner');\n",
              "      quickchartButtonEl.classList.add('colab-df-quickchart-complete');\n",
              "    }\n",
              "    (() => {\n",
              "      let quickchartButtonEl =\n",
              "        document.querySelector('#df-ee48cf47-73d1-435e-a6c9-69231a3de7ff button');\n",
              "      quickchartButtonEl.style.display =\n",
              "        google.colab.kernel.accessAllowed ? 'block' : 'none';\n",
              "    })();\n",
              "  </script>\n",
              "</div>\n",
              "\n",
              "    </div>\n",
              "  </div>\n"
            ],
            "application/vnd.google.colaboratory.intrinsic+json": {
              "type": "dataframe",
              "summary": "{\n  \"name\": \"df_closeness\",\n  \"rows\": 2,\n  \"fields\": [\n    {\n      \"column\": 2,\n      \"properties\": {\n        \"dtype\": \"string\",\n        \"num_unique_values\": 2,\n        \"samples\": [\n          0.7,\n          \"Cavin\"\n        ],\n        \"semantic_type\": \"\",\n        \"description\": \"\"\n      }\n    },\n    {\n      \"column\": 5,\n      \"properties\": {\n        \"dtype\": \"string\",\n        \"num_unique_values\": 2,\n        \"samples\": [\n          0.58,\n          \"Fred\"\n        ],\n        \"semantic_type\": \"\",\n        \"description\": \"\"\n      }\n    },\n    {\n      \"column\": 1,\n      \"properties\": {\n        \"dtype\": \"string\",\n        \"num_unique_values\": 2,\n        \"samples\": [\n          0.5,\n          \"Brandon\"\n        ],\n        \"semantic_type\": \"\",\n        \"description\": \"\"\n      }\n    },\n    {\n      \"column\": 3,\n      \"properties\": {\n        \"dtype\": \"string\",\n        \"num_unique_values\": 2,\n        \"samples\": [\n          0.5,\n          \"David\"\n        ],\n        \"semantic_type\": \"\",\n        \"description\": \"\"\n      }\n    },\n    {\n      \"column\": 4,\n      \"properties\": {\n        \"dtype\": \"string\",\n        \"num_unique_values\": 2,\n        \"samples\": [\n          0.5,\n          \"Eleanor\"\n        ],\n        \"semantic_type\": \"\",\n        \"description\": \"\"\n      }\n    },\n    {\n      \"column\": 0,\n      \"properties\": {\n        \"dtype\": \"string\",\n        \"num_unique_values\": 2,\n        \"samples\": [\n          0.44,\n          \"Alice\"\n        ],\n        \"semantic_type\": \"\",\n        \"description\": \"\"\n      }\n    },\n    {\n      \"column\": 6,\n      \"properties\": {\n        \"dtype\": \"string\",\n        \"num_unique_values\": 2,\n        \"samples\": [\n          0.39,\n          \"Gia\"\n        ],\n        \"semantic_type\": \"\",\n        \"description\": \"\"\n      }\n    },\n    {\n      \"column\": 7,\n      \"properties\": {\n        \"dtype\": \"string\",\n        \"num_unique_values\": 2,\n        \"samples\": [\n          0.39,\n          \"Hannah\"\n        ],\n        \"semantic_type\": \"\",\n        \"description\": \"\"\n      }\n    }\n  ]\n}"
            }
          },
          "metadata": {},
          "execution_count": 54
        }
      ]
    },
    {
      "cell_type": "code",
      "source": [
        "betweenness_centrality_dict = nx.betweenness_centrality(G_facebook1_nx)"
      ],
      "metadata": {
        "id": "WXmLs9Fu2KfU"
      },
      "execution_count": 55,
      "outputs": []
    },
    {
      "cell_type": "code",
      "source": [
        "df_betweenness = pd.DataFrame(\n",
        "    data=betweenness_centrality_dict.items(),\n",
        "    columns=[\"node\", \"betweenness_centrality\"]\n",
        ")\n",
        "df_betweenness.sort_values(by=\"betweenness_centrality\", ascending=False).round(2).T"
      ],
      "metadata": {
        "id": "PE4q-lfW2KkN",
        "colab": {
          "base_uri": "https://localhost:8080/",
          "height": 112
        },
        "outputId": "e029cbac-95c8-4a1e-bcf6-964eed9c7666"
      },
      "execution_count": 56,
      "outputs": [
        {
          "output_type": "execute_result",
          "data": {
            "text/plain": [
              "                            2     5      0        1      3        4    6  \\\n",
              "node                    Cavin  Fred  Alice  Brandon  David  Eleanor  Gia   \n",
              "betweenness_centrality   0.64  0.52   0.07     0.06   0.06     0.06  0.0   \n",
              "\n",
              "                             7  \n",
              "node                    Hannah  \n",
              "betweenness_centrality     0.0  "
            ],
            "text/html": [
              "\n",
              "  <div id=\"df-869ae40f-2abe-4dd8-af3b-9f177805e527\" class=\"colab-df-container\">\n",
              "    <div>\n",
              "<style scoped>\n",
              "    .dataframe tbody tr th:only-of-type {\n",
              "        vertical-align: middle;\n",
              "    }\n",
              "\n",
              "    .dataframe tbody tr th {\n",
              "        vertical-align: top;\n",
              "    }\n",
              "\n",
              "    .dataframe thead th {\n",
              "        text-align: right;\n",
              "    }\n",
              "</style>\n",
              "<table border=\"1\" class=\"dataframe\">\n",
              "  <thead>\n",
              "    <tr style=\"text-align: right;\">\n",
              "      <th></th>\n",
              "      <th>2</th>\n",
              "      <th>5</th>\n",
              "      <th>0</th>\n",
              "      <th>1</th>\n",
              "      <th>3</th>\n",
              "      <th>4</th>\n",
              "      <th>6</th>\n",
              "      <th>7</th>\n",
              "    </tr>\n",
              "  </thead>\n",
              "  <tbody>\n",
              "    <tr>\n",
              "      <th>node</th>\n",
              "      <td>Cavin</td>\n",
              "      <td>Fred</td>\n",
              "      <td>Alice</td>\n",
              "      <td>Brandon</td>\n",
              "      <td>David</td>\n",
              "      <td>Eleanor</td>\n",
              "      <td>Gia</td>\n",
              "      <td>Hannah</td>\n",
              "    </tr>\n",
              "    <tr>\n",
              "      <th>betweenness_centrality</th>\n",
              "      <td>0.64</td>\n",
              "      <td>0.52</td>\n",
              "      <td>0.07</td>\n",
              "      <td>0.06</td>\n",
              "      <td>0.06</td>\n",
              "      <td>0.06</td>\n",
              "      <td>0.0</td>\n",
              "      <td>0.0</td>\n",
              "    </tr>\n",
              "  </tbody>\n",
              "</table>\n",
              "</div>\n",
              "    <div class=\"colab-df-buttons\">\n",
              "\n",
              "  <div class=\"colab-df-container\">\n",
              "    <button class=\"colab-df-convert\" onclick=\"convertToInteractive('df-869ae40f-2abe-4dd8-af3b-9f177805e527')\"\n",
              "            title=\"Convert this dataframe to an interactive table.\"\n",
              "            style=\"display:none;\">\n",
              "\n",
              "  <svg xmlns=\"http://www.w3.org/2000/svg\" height=\"24px\" viewBox=\"0 -960 960 960\">\n",
              "    <path d=\"M120-120v-720h720v720H120Zm60-500h600v-160H180v160Zm220 220h160v-160H400v160Zm0 220h160v-160H400v160ZM180-400h160v-160H180v160Zm440 0h160v-160H620v160ZM180-180h160v-160H180v160Zm440 0h160v-160H620v160Z\"/>\n",
              "  </svg>\n",
              "    </button>\n",
              "\n",
              "  <style>\n",
              "    .colab-df-container {\n",
              "      display:flex;\n",
              "      gap: 12px;\n",
              "    }\n",
              "\n",
              "    .colab-df-convert {\n",
              "      background-color: #E8F0FE;\n",
              "      border: none;\n",
              "      border-radius: 50%;\n",
              "      cursor: pointer;\n",
              "      display: none;\n",
              "      fill: #1967D2;\n",
              "      height: 32px;\n",
              "      padding: 0 0 0 0;\n",
              "      width: 32px;\n",
              "    }\n",
              "\n",
              "    .colab-df-convert:hover {\n",
              "      background-color: #E2EBFA;\n",
              "      box-shadow: 0px 1px 2px rgba(60, 64, 67, 0.3), 0px 1px 3px 1px rgba(60, 64, 67, 0.15);\n",
              "      fill: #174EA6;\n",
              "    }\n",
              "\n",
              "    .colab-df-buttons div {\n",
              "      margin-bottom: 4px;\n",
              "    }\n",
              "\n",
              "    [theme=dark] .colab-df-convert {\n",
              "      background-color: #3B4455;\n",
              "      fill: #D2E3FC;\n",
              "    }\n",
              "\n",
              "    [theme=dark] .colab-df-convert:hover {\n",
              "      background-color: #434B5C;\n",
              "      box-shadow: 0px 1px 3px 1px rgba(0, 0, 0, 0.15);\n",
              "      filter: drop-shadow(0px 1px 2px rgba(0, 0, 0, 0.3));\n",
              "      fill: #FFFFFF;\n",
              "    }\n",
              "  </style>\n",
              "\n",
              "    <script>\n",
              "      const buttonEl =\n",
              "        document.querySelector('#df-869ae40f-2abe-4dd8-af3b-9f177805e527 button.colab-df-convert');\n",
              "      buttonEl.style.display =\n",
              "        google.colab.kernel.accessAllowed ? 'block' : 'none';\n",
              "\n",
              "      async function convertToInteractive(key) {\n",
              "        const element = document.querySelector('#df-869ae40f-2abe-4dd8-af3b-9f177805e527');\n",
              "        const dataTable =\n",
              "          await google.colab.kernel.invokeFunction('convertToInteractive',\n",
              "                                                    [key], {});\n",
              "        if (!dataTable) return;\n",
              "\n",
              "        const docLinkHtml = 'Like what you see? Visit the ' +\n",
              "          '<a target=\"_blank\" href=https://colab.research.google.com/notebooks/data_table.ipynb>data table notebook</a>'\n",
              "          + ' to learn more about interactive tables.';\n",
              "        element.innerHTML = '';\n",
              "        dataTable['output_type'] = 'display_data';\n",
              "        await google.colab.output.renderOutput(dataTable, element);\n",
              "        const docLink = document.createElement('div');\n",
              "        docLink.innerHTML = docLinkHtml;\n",
              "        element.appendChild(docLink);\n",
              "      }\n",
              "    </script>\n",
              "  </div>\n",
              "\n",
              "\n",
              "<div id=\"df-2a0c4e2f-5d21-4d50-a2a1-5d73b05b8ec6\">\n",
              "  <button class=\"colab-df-quickchart\" onclick=\"quickchart('df-2a0c4e2f-5d21-4d50-a2a1-5d73b05b8ec6')\"\n",
              "            title=\"Suggest charts\"\n",
              "            style=\"display:none;\">\n",
              "\n",
              "<svg xmlns=\"http://www.w3.org/2000/svg\" height=\"24px\"viewBox=\"0 0 24 24\"\n",
              "     width=\"24px\">\n",
              "    <g>\n",
              "        <path d=\"M19 3H5c-1.1 0-2 .9-2 2v14c0 1.1.9 2 2 2h14c1.1 0 2-.9 2-2V5c0-1.1-.9-2-2-2zM9 17H7v-7h2v7zm4 0h-2V7h2v10zm4 0h-2v-4h2v4z\"/>\n",
              "    </g>\n",
              "</svg>\n",
              "  </button>\n",
              "\n",
              "<style>\n",
              "  .colab-df-quickchart {\n",
              "      --bg-color: #E8F0FE;\n",
              "      --fill-color: #1967D2;\n",
              "      --hover-bg-color: #E2EBFA;\n",
              "      --hover-fill-color: #174EA6;\n",
              "      --disabled-fill-color: #AAA;\n",
              "      --disabled-bg-color: #DDD;\n",
              "  }\n",
              "\n",
              "  [theme=dark] .colab-df-quickchart {\n",
              "      --bg-color: #3B4455;\n",
              "      --fill-color: #D2E3FC;\n",
              "      --hover-bg-color: #434B5C;\n",
              "      --hover-fill-color: #FFFFFF;\n",
              "      --disabled-bg-color: #3B4455;\n",
              "      --disabled-fill-color: #666;\n",
              "  }\n",
              "\n",
              "  .colab-df-quickchart {\n",
              "    background-color: var(--bg-color);\n",
              "    border: none;\n",
              "    border-radius: 50%;\n",
              "    cursor: pointer;\n",
              "    display: none;\n",
              "    fill: var(--fill-color);\n",
              "    height: 32px;\n",
              "    padding: 0;\n",
              "    width: 32px;\n",
              "  }\n",
              "\n",
              "  .colab-df-quickchart:hover {\n",
              "    background-color: var(--hover-bg-color);\n",
              "    box-shadow: 0 1px 2px rgba(60, 64, 67, 0.3), 0 1px 3px 1px rgba(60, 64, 67, 0.15);\n",
              "    fill: var(--button-hover-fill-color);\n",
              "  }\n",
              "\n",
              "  .colab-df-quickchart-complete:disabled,\n",
              "  .colab-df-quickchart-complete:disabled:hover {\n",
              "    background-color: var(--disabled-bg-color);\n",
              "    fill: var(--disabled-fill-color);\n",
              "    box-shadow: none;\n",
              "  }\n",
              "\n",
              "  .colab-df-spinner {\n",
              "    border: 2px solid var(--fill-color);\n",
              "    border-color: transparent;\n",
              "    border-bottom-color: var(--fill-color);\n",
              "    animation:\n",
              "      spin 1s steps(1) infinite;\n",
              "  }\n",
              "\n",
              "  @keyframes spin {\n",
              "    0% {\n",
              "      border-color: transparent;\n",
              "      border-bottom-color: var(--fill-color);\n",
              "      border-left-color: var(--fill-color);\n",
              "    }\n",
              "    20% {\n",
              "      border-color: transparent;\n",
              "      border-left-color: var(--fill-color);\n",
              "      border-top-color: var(--fill-color);\n",
              "    }\n",
              "    30% {\n",
              "      border-color: transparent;\n",
              "      border-left-color: var(--fill-color);\n",
              "      border-top-color: var(--fill-color);\n",
              "      border-right-color: var(--fill-color);\n",
              "    }\n",
              "    40% {\n",
              "      border-color: transparent;\n",
              "      border-right-color: var(--fill-color);\n",
              "      border-top-color: var(--fill-color);\n",
              "    }\n",
              "    60% {\n",
              "      border-color: transparent;\n",
              "      border-right-color: var(--fill-color);\n",
              "    }\n",
              "    80% {\n",
              "      border-color: transparent;\n",
              "      border-right-color: var(--fill-color);\n",
              "      border-bottom-color: var(--fill-color);\n",
              "    }\n",
              "    90% {\n",
              "      border-color: transparent;\n",
              "      border-bottom-color: var(--fill-color);\n",
              "    }\n",
              "  }\n",
              "</style>\n",
              "\n",
              "  <script>\n",
              "    async function quickchart(key) {\n",
              "      const quickchartButtonEl =\n",
              "        document.querySelector('#' + key + ' button');\n",
              "      quickchartButtonEl.disabled = true;  // To prevent multiple clicks.\n",
              "      quickchartButtonEl.classList.add('colab-df-spinner');\n",
              "      try {\n",
              "        const charts = await google.colab.kernel.invokeFunction(\n",
              "            'suggestCharts', [key], {});\n",
              "      } catch (error) {\n",
              "        console.error('Error during call to suggestCharts:', error);\n",
              "      }\n",
              "      quickchartButtonEl.classList.remove('colab-df-spinner');\n",
              "      quickchartButtonEl.classList.add('colab-df-quickchart-complete');\n",
              "    }\n",
              "    (() => {\n",
              "      let quickchartButtonEl =\n",
              "        document.querySelector('#df-2a0c4e2f-5d21-4d50-a2a1-5d73b05b8ec6 button');\n",
              "      quickchartButtonEl.style.display =\n",
              "        google.colab.kernel.accessAllowed ? 'block' : 'none';\n",
              "    })();\n",
              "  </script>\n",
              "</div>\n",
              "\n",
              "    </div>\n",
              "  </div>\n"
            ],
            "application/vnd.google.colaboratory.intrinsic+json": {
              "type": "dataframe",
              "summary": "{\n  \"name\": \"df_betweenness\",\n  \"rows\": 2,\n  \"fields\": [\n    {\n      \"column\": 2,\n      \"properties\": {\n        \"dtype\": \"string\",\n        \"num_unique_values\": 2,\n        \"samples\": [\n          0.64,\n          \"Cavin\"\n        ],\n        \"semantic_type\": \"\",\n        \"description\": \"\"\n      }\n    },\n    {\n      \"column\": 5,\n      \"properties\": {\n        \"dtype\": \"string\",\n        \"num_unique_values\": 2,\n        \"samples\": [\n          0.52,\n          \"Fred\"\n        ],\n        \"semantic_type\": \"\",\n        \"description\": \"\"\n      }\n    },\n    {\n      \"column\": 0,\n      \"properties\": {\n        \"dtype\": \"string\",\n        \"num_unique_values\": 2,\n        \"samples\": [\n          0.07,\n          \"Alice\"\n        ],\n        \"semantic_type\": \"\",\n        \"description\": \"\"\n      }\n    },\n    {\n      \"column\": 1,\n      \"properties\": {\n        \"dtype\": \"string\",\n        \"num_unique_values\": 2,\n        \"samples\": [\n          0.06,\n          \"Brandon\"\n        ],\n        \"semantic_type\": \"\",\n        \"description\": \"\"\n      }\n    },\n    {\n      \"column\": 3,\n      \"properties\": {\n        \"dtype\": \"string\",\n        \"num_unique_values\": 2,\n        \"samples\": [\n          0.06,\n          \"David\"\n        ],\n        \"semantic_type\": \"\",\n        \"description\": \"\"\n      }\n    },\n    {\n      \"column\": 4,\n      \"properties\": {\n        \"dtype\": \"string\",\n        \"num_unique_values\": 2,\n        \"samples\": [\n          0.06,\n          \"Eleanor\"\n        ],\n        \"semantic_type\": \"\",\n        \"description\": \"\"\n      }\n    },\n    {\n      \"column\": 6,\n      \"properties\": {\n        \"dtype\": \"string\",\n        \"num_unique_values\": 2,\n        \"samples\": [\n          0.0,\n          \"Gia\"\n        ],\n        \"semantic_type\": \"\",\n        \"description\": \"\"\n      }\n    },\n    {\n      \"column\": 7,\n      \"properties\": {\n        \"dtype\": \"string\",\n        \"num_unique_values\": 2,\n        \"samples\": [\n          0.0,\n          \"Hannah\"\n        ],\n        \"semantic_type\": \"\",\n        \"description\": \"\"\n      }\n    }\n  ]\n}"
            }
          },
          "metadata": {},
          "execution_count": 56
        }
      ]
    },
    {
      "cell_type": "markdown",
      "source": [
        "Cavin is the most central node both interms of closeness (0.7) and betweenness (0.64). So, select Cavin."
      ],
      "metadata": {
        "id": "uZXH3IHd2Kst"
      }
    },
    {
      "cell_type": "markdown",
      "source": [
        "## 3. Hands on exercise on Google web page ranking example"
      ],
      "metadata": {
        "id": "WoxAFCnYtBE_"
      }
    },
    {
      "cell_type": "markdown",
      "source": [
        "Unlike the graphs that we generated above, graph of web pages is a directed graph. You'll generate directed graph instance from class `DiGraph`."
      ],
      "metadata": {
        "id": "xbi6wwmYtnBd"
      }
    },
    {
      "cell_type": "code",
      "source": [
        "node_list = ['A', 'B', 'C', 'D', 'E', 'F', 'G']\n",
        "edge_list = [('A', 'B'), ('A', 'C'), ('B', 'A'), ('B', 'D'), ('B', 'G'), ('C', 'G'), ('D', 'G'), ('E', 'G'), ('F', 'G'), ('G', 'F')]"
      ],
      "metadata": {
        "id": "ZQWq_COOtdk8"
      },
      "execution_count": 57,
      "outputs": []
    },
    {
      "cell_type": "code",
      "source": [
        "DiG_webpage_nx = nx.DiGraph()\n",
        "DiG_webpage_nx.add_nodes_from(node_list)\n",
        "DiG_webpage_nx.add_edges_from(edge_list)"
      ],
      "metadata": {
        "id": "81BWgcEQtBAj"
      },
      "execution_count": 58,
      "outputs": []
    },
    {
      "cell_type": "code",
      "source": [
        "DiG_webpage_ig = ig.Graph.from_networkx(DiG_webpage_nx)"
      ],
      "metadata": {
        "id": "m4JMLPB2tA8M"
      },
      "execution_count": 59,
      "outputs": []
    },
    {
      "cell_type": "code",
      "source": [
        "visual_style_webpage = dict()\n",
        "visual_style_webpage[\"vertex_size\"] = 30\n",
        "visual_style_webpage[\"vertex_color\"] = \"skyblue\"\n",
        "visual_style_webpage[\"vertex_label\"] = DiG_webpage_ig.vs[\"_nx_name\"]\n",
        "visual_style_webpage[\"vertex_label_size\"] = 10\n",
        "visual_style_webpage[\"bbox\"] = (300, 200)\n",
        "visual_style_webpage[\"margin\"] = 20"
      ],
      "metadata": {
        "id": "GbeP-39LtA21"
      },
      "execution_count": 60,
      "outputs": []
    },
    {
      "cell_type": "code",
      "source": [
        "ig.plot(DiG_webpage_ig, **visual_style_webpage)"
      ],
      "metadata": {
        "id": "aq86c03EtAxM",
        "colab": {
          "base_uri": "https://localhost:8080/",
          "height": 288
        },
        "outputId": "7188df8e-a56c-41af-d8e3-74fa819b06d3"
      },
      "execution_count": 61,
      "outputs": [
        {
          "output_type": "execute_result",
          "data": {
            "text/plain": [
              "<igraph.drawing.cairo.plot.CairoPlot at 0x782f9d39a110>"
            ],
            "image/svg+xml": "<?xml version=\"1.0\" encoding=\"UTF-8\"?>\n<svg xmlns=\"http://www.w3.org/2000/svg\" xmlns:xlink=\"http://www.w3.org/1999/xlink\" width=\"300pt\" height=\"200pt\" viewBox=\"0 0 300 200\" version=\"1.1\">\n<defs>\n<g>\n<symbol overflow=\"visible\" id=\"glyph0-0\">\n<path style=\"stroke:none;\" d=\"M 0.328125 0 L 0.328125 -6.671875 L 2.984375 -6.671875 L 2.984375 0 Z M 0.671875 -0.328125 L 2.65625 -0.328125 L 2.65625 -6.328125 L 0.671875 -6.328125 Z M 0.671875 -0.328125 \"/>\n</symbol>\n<symbol overflow=\"visible\" id=\"glyph0-1\">\n<path style=\"stroke:none;\" d=\"M 5.046875 0 L 4.375 -1.859375 L 1.625 -1.859375 L 0.953125 0 L 0 0 L 2.484375 -6.59375 L 3.546875 -6.59375 L 6 0 Z M 3.421875 -4.65625 C 3.378906 -4.78125 3.332031 -4.90625 3.28125 -5.03125 C 3.238281 -5.15625 3.195312 -5.273438 3.15625 -5.390625 C 3.125 -5.503906 3.09375 -5.601562 3.0625 -5.6875 C 3.039062 -5.78125 3.023438 -5.847656 3.015625 -5.890625 C 2.992188 -5.847656 2.96875 -5.78125 2.9375 -5.6875 C 2.914062 -5.601562 2.882812 -5.503906 2.84375 -5.390625 C 2.8125 -5.273438 2.773438 -5.15625 2.734375 -5.03125 C 2.691406 -4.90625 2.648438 -4.78125 2.609375 -4.65625 L 1.875 -2.59375 L 4.140625 -2.59375 Z M 3.421875 -4.65625 \"/>\n</symbol>\n<symbol overflow=\"visible\" id=\"glyph0-2\">\n<path style=\"stroke:none;\" d=\"M 5.625 -1.859375 C 5.625 -1.523438 5.554688 -1.238281 5.421875 -1 C 5.285156 -0.769531 5.097656 -0.578125 4.859375 -0.421875 C 4.628906 -0.273438 4.363281 -0.164062 4.0625 -0.09375 C 3.757812 -0.03125 3.4375 0 3.09375 0 L 0.796875 0 L 0.796875 -6.59375 L 2.796875 -6.59375 C 3.179688 -6.59375 3.519531 -6.5625 3.8125 -6.5 C 4.113281 -6.4375 4.367188 -6.335938 4.578125 -6.203125 C 4.785156 -6.078125 4.941406 -5.910156 5.046875 -5.703125 C 5.160156 -5.503906 5.21875 -5.265625 5.21875 -4.984375 C 5.21875 -4.804688 5.191406 -4.632812 5.140625 -4.46875 C 5.085938 -4.300781 5.003906 -4.148438 4.890625 -4.015625 C 4.785156 -3.890625 4.648438 -3.78125 4.484375 -3.6875 C 4.328125 -3.59375 4.140625 -3.519531 3.921875 -3.46875 C 4.191406 -3.4375 4.429688 -3.375 4.640625 -3.28125 C 4.859375 -3.195312 5.039062 -3.082031 5.1875 -2.9375 C 5.332031 -2.800781 5.441406 -2.640625 5.515625 -2.453125 C 5.585938 -2.265625 5.625 -2.066406 5.625 -1.859375 Z M 4.28125 -4.875 C 4.28125 -5.21875 4.15625 -5.460938 3.90625 -5.609375 C 3.664062 -5.765625 3.300781 -5.84375 2.8125 -5.84375 L 1.71875 -5.84375 L 1.71875 -3.8125 L 2.828125 -3.8125 C 3.085938 -3.8125 3.3125 -3.832031 3.5 -3.875 C 3.6875 -3.925781 3.835938 -4 3.953125 -4.09375 C 4.066406 -4.1875 4.148438 -4.296875 4.203125 -4.421875 C 4.253906 -4.554688 4.28125 -4.707031 4.28125 -4.875 Z M 4.6875 -1.9375 C 4.6875 -2.144531 4.644531 -2.316406 4.5625 -2.453125 C 4.476562 -2.597656 4.359375 -2.71875 4.203125 -2.8125 C 4.054688 -2.90625 3.875 -2.972656 3.65625 -3.015625 C 3.445312 -3.054688 3.210938 -3.078125 2.953125 -3.078125 L 1.71875 -3.078125 L 1.71875 -0.75 L 3.015625 -0.75 C 3.253906 -0.75 3.472656 -0.765625 3.671875 -0.796875 C 3.878906 -0.835938 4.054688 -0.90625 4.203125 -1 C 4.359375 -1.09375 4.476562 -1.210938 4.5625 -1.359375 C 4.644531 -1.515625 4.6875 -1.707031 4.6875 -1.9375 Z M 4.6875 -1.9375 \"/>\n</symbol>\n<symbol overflow=\"visible\" id=\"glyph0-3\">\n<path style=\"stroke:none;\" d=\"M 1.53125 -3.328125 C 1.53125 -2.898438 1.5625 -2.519531 1.625 -2.1875 C 1.695312 -1.851562 1.800781 -1.570312 1.9375 -1.34375 C 2.070312 -1.125 2.242188 -0.953125 2.453125 -0.828125 C 2.671875 -0.710938 2.929688 -0.65625 3.234375 -0.65625 C 3.429688 -0.65625 3.613281 -0.691406 3.78125 -0.765625 C 3.945312 -0.847656 4.09375 -0.953125 4.21875 -1.078125 C 4.351562 -1.210938 4.46875 -1.359375 4.5625 -1.515625 C 4.65625 -1.679688 4.734375 -1.851562 4.796875 -2.03125 L 5.578125 -1.71875 C 5.484375 -1.488281 5.367188 -1.265625 5.234375 -1.046875 C 5.109375 -0.835938 4.945312 -0.644531 4.75 -0.46875 C 4.5625 -0.300781 4.34375 -0.164062 4.09375 -0.0625 C 3.84375 0.0390625 3.550781 0.09375 3.21875 0.09375 C 2.757812 0.09375 2.363281 0.015625 2.03125 -0.140625 C 1.695312 -0.304688 1.421875 -0.539062 1.203125 -0.84375 C 0.984375 -1.144531 0.816406 -1.503906 0.703125 -1.921875 C 0.597656 -2.335938 0.546875 -2.804688 0.546875 -3.328125 C 0.546875 -3.867188 0.597656 -4.347656 0.703125 -4.765625 C 0.804688 -5.179688 0.96875 -5.53125 1.1875 -5.8125 C 1.40625 -6.101562 1.675781 -6.320312 2 -6.46875 C 2.332031 -6.613281 2.722656 -6.6875 3.171875 -6.6875 C 3.492188 -6.6875 3.78125 -6.640625 4.03125 -6.546875 C 4.28125 -6.460938 4.492188 -6.34375 4.671875 -6.1875 C 4.859375 -6.039062 5.015625 -5.867188 5.140625 -5.671875 C 5.265625 -5.472656 5.363281 -5.265625 5.4375 -5.046875 L 4.625 -4.734375 C 4.570312 -4.890625 4.503906 -5.035156 4.421875 -5.171875 C 4.335938 -5.316406 4.234375 -5.441406 4.109375 -5.546875 C 3.992188 -5.660156 3.859375 -5.75 3.703125 -5.8125 C 3.546875 -5.882812 3.367188 -5.921875 3.171875 -5.921875 C 2.878906 -5.921875 2.628906 -5.863281 2.421875 -5.75 C 2.222656 -5.644531 2.054688 -5.484375 1.921875 -5.265625 C 1.785156 -5.046875 1.6875 -4.773438 1.625 -4.453125 C 1.5625 -4.128906 1.53125 -3.753906 1.53125 -3.328125 Z M 1.53125 -3.328125 \"/>\n</symbol>\n<symbol overflow=\"visible\" id=\"glyph0-4\">\n<path style=\"stroke:none;\" d=\"M 5.5 -3.359375 C 5.5 -2.816406 5.429688 -2.332031 5.296875 -1.90625 C 5.171875 -1.488281 4.984375 -1.140625 4.734375 -0.859375 C 4.484375 -0.578125 4.175781 -0.363281 3.8125 -0.21875 C 3.457031 -0.0703125 3.050781 0 2.59375 0 L 0.796875 0 L 0.796875 -6.59375 L 2.3125 -6.59375 C 2.820312 -6.59375 3.273438 -6.53125 3.671875 -6.40625 C 4.066406 -6.28125 4.398438 -6.082031 4.671875 -5.8125 C 4.941406 -5.550781 5.144531 -5.21875 5.28125 -4.8125 C 5.425781 -4.40625 5.5 -3.921875 5.5 -3.359375 Z M 4.5625 -3.359375 C 4.5625 -3.796875 4.515625 -4.171875 4.421875 -4.484375 C 4.328125 -4.796875 4.1875 -5.050781 4 -5.25 C 3.8125 -5.445312 3.578125 -5.59375 3.296875 -5.6875 C 3.023438 -5.78125 2.695312 -5.828125 2.3125 -5.828125 L 1.71875 -5.828125 L 1.71875 -0.765625 L 2.515625 -0.765625 C 3.203125 -0.765625 3.710938 -0.976562 4.046875 -1.40625 C 4.390625 -1.84375 4.5625 -2.492188 4.5625 -3.359375 Z M 4.5625 -3.359375 \"/>\n</symbol>\n<symbol overflow=\"visible\" id=\"glyph0-5\">\n<path style=\"stroke:none;\" d=\"M 0.796875 0 L 0.796875 -6.59375 L 5.28125 -6.59375 L 5.28125 -5.828125 L 1.71875 -5.828125 L 1.71875 -3.765625 L 4.984375 -3.765625 L 4.984375 -3.015625 L 1.71875 -3.015625 L 1.71875 -0.765625 L 5.484375 -0.765625 L 5.484375 0 Z M 0.796875 0 \"/>\n</symbol>\n<symbol overflow=\"visible\" id=\"glyph0-6\">\n<path style=\"stroke:none;\" d=\"M 1.875 -5.828125 L 1.875 -3.40625 L 5.1875 -3.40625 L 5.1875 -2.640625 L 1.875 -2.640625 L 1.875 0 L 0.953125 0 L 0.953125 -6.59375 L 5.296875 -6.59375 L 5.296875 -5.828125 Z M 1.875 -5.828125 \"/>\n</symbol>\n<symbol overflow=\"visible\" id=\"glyph0-7\">\n<path style=\"stroke:none;\" d=\"M 5.375 -0.65625 C 5.257812 -0.570312 5.125 -0.484375 4.96875 -0.390625 C 4.8125 -0.304688 4.640625 -0.226562 4.453125 -0.15625 C 4.265625 -0.0820312 4.054688 -0.0234375 3.828125 0.015625 C 3.609375 0.0664062 3.375 0.09375 3.125 0.09375 C 2.6875 0.09375 2.304688 0.0078125 1.984375 -0.15625 C 1.660156 -0.332031 1.390625 -0.570312 1.171875 -0.875 C 0.960938 -1.175781 0.804688 -1.535156 0.703125 -1.953125 C 0.597656 -2.367188 0.546875 -2.828125 0.546875 -3.328125 C 0.546875 -3.867188 0.597656 -4.347656 0.703125 -4.765625 C 0.804688 -5.179688 0.960938 -5.53125 1.171875 -5.8125 C 1.378906 -6.101562 1.644531 -6.320312 1.96875 -6.46875 C 2.300781 -6.613281 2.691406 -6.6875 3.140625 -6.6875 C 3.460938 -6.6875 3.742188 -6.644531 3.984375 -6.5625 C 4.234375 -6.476562 4.445312 -6.363281 4.625 -6.21875 C 4.8125 -6.070312 4.960938 -5.898438 5.078125 -5.703125 C 5.203125 -5.503906 5.304688 -5.296875 5.390625 -5.078125 L 4.546875 -4.796875 C 4.421875 -5.160156 4.242188 -5.4375 4.015625 -5.625 C 3.796875 -5.820312 3.503906 -5.921875 3.140625 -5.921875 C 2.847656 -5.921875 2.597656 -5.863281 2.390625 -5.75 C 2.191406 -5.644531 2.023438 -5.484375 1.890625 -5.265625 C 1.765625 -5.046875 1.671875 -4.769531 1.609375 -4.4375 C 1.554688 -4.113281 1.53125 -3.742188 1.53125 -3.328125 C 1.53125 -2.453125 1.664062 -1.785156 1.9375 -1.328125 C 2.21875 -0.878906 2.640625 -0.65625 3.203125 -0.65625 C 3.359375 -0.65625 3.503906 -0.671875 3.640625 -0.703125 C 3.773438 -0.734375 3.894531 -0.765625 4 -0.796875 C 4.113281 -0.835938 4.207031 -0.878906 4.28125 -0.921875 C 4.363281 -0.960938 4.425781 -0.992188 4.46875 -1.015625 L 4.46875 -2.65625 L 3.03125 -2.65625 L 3.03125 -3.4375 L 5.375 -3.4375 Z M 5.375 -0.65625 \"/>\n</symbol>\n</g>\n</defs>\n<g id=\"surface38\">\n<rect x=\"0\" y=\"0\" width=\"300\" height=\"200\" style=\"fill:rgb(100%,100%,100%);fill-opacity:1;stroke:none;\"/>\n<path style=\"fill:none;stroke-width:1;stroke-linecap:butt;stroke-linejoin:miter;stroke:rgb(26.666667%,26.666667%,26.666667%);stroke-opacity:1;stroke-miterlimit:10;\" d=\"M 20 73.683594 C 36.476562 85.910156 56.4375 88.785156 69.238281 73.429688 \"/>\n<path style=\" stroke:none;fill-rule:nonzero;fill:rgb(26.666667%,26.666667%,26.666667%);fill-opacity:1;\" d=\"M 78.375 62.476562 L 72.800781 76.398438 L 65.679688 70.460938 L 78.375 62.476562 \"/>\n<path style=\"fill:none;stroke-width:1;stroke-linecap:butt;stroke-linejoin:miter;stroke:rgb(26.666667%,26.666667%,26.666667%);stroke-opacity:1;stroke-miterlimit:10;\" d=\"M 20 73.683594 L 51.253906 117.21875 \"/>\n<path style=\" stroke:none;fill-rule:nonzero;fill:rgb(26.666667%,26.666667%,26.666667%);fill-opacity:1;\" d=\"M 59.574219 128.808594 L 47.488281 119.921875 L 55.019531 114.515625 L 59.574219 128.808594 \"/>\n<path style=\"fill:none;stroke-width:1;stroke-linecap:butt;stroke-linejoin:miter;stroke:rgb(26.666667%,26.666667%,26.666667%);stroke-opacity:1;stroke-miterlimit:10;\" d=\"M 88.238281 50.648438 C 71.761719 38.425781 51.800781 35.550781 38.996094 50.902344 \"/>\n<path style=\" stroke:none;fill-rule:nonzero;fill:rgb(26.666667%,26.666667%,26.666667%);fill-opacity:1;\" d=\"M 29.859375 61.859375 L 35.4375 47.933594 L 42.558594 53.871094 L 29.859375 61.859375 \"/>\n<path style=\"fill:none;stroke-width:1;stroke-linecap:butt;stroke-linejoin:miter;stroke:rgb(26.666667%,26.666667%,26.666667%);stroke-opacity:1;stroke-miterlimit:10;\" d=\"M 88.238281 50.648438 L 133.578125 31.425781 \"/>\n<path style=\" stroke:none;fill-rule:nonzero;fill:rgb(26.666667%,26.666667%,26.666667%);fill-opacity:1;\" d=\"M 146.714844 25.855469 L 135.390625 35.691406 L 131.769531 27.15625 L 146.714844 25.855469 \"/>\n<path style=\"fill:none;stroke-width:1;stroke-linecap:butt;stroke-linejoin:miter;stroke:rgb(26.666667%,26.666667%,26.666667%);stroke-opacity:1;stroke-miterlimit:10;\" d=\"M 88.238281 50.648438 L 147.105469 93.589844 \"/>\n<path style=\" stroke:none;fill-rule:nonzero;fill:rgb(26.666667%,26.666667%,26.666667%);fill-opacity:1;\" d=\"M 158.628906 101.996094 L 144.371094 97.335938 L 149.835938 89.84375 L 158.628906 101.996094 \"/>\n<path style=\"fill:none;stroke-width:1;stroke-linecap:butt;stroke-linejoin:miter;stroke:rgb(26.666667%,26.666667%,26.666667%);stroke-opacity:1;stroke-miterlimit:10;\" d=\"M 68.320312 140.992188 L 142.675781 119.101562 \"/>\n<path style=\" stroke:none;fill-rule:nonzero;fill:rgb(26.666667%,26.666667%,26.666667%);fill-opacity:1;\" d=\"M 156.359375 115.074219 L 143.984375 123.550781 L 141.363281 114.65625 L 156.359375 115.074219 \"/>\n<path style=\"fill:none;stroke-width:1;stroke-linecap:butt;stroke-linejoin:miter;stroke:rgb(26.666667%,26.666667%,26.666667%);stroke-opacity:1;stroke-miterlimit:10;\" d=\"M 160.523438 20 L 167.476562 81.753906 \"/>\n<path style=\" stroke:none;fill-rule:nonzero;fill:rgb(26.666667%,26.666667%,26.666667%);fill-opacity:1;\" d=\"M 169.070312 95.929688 L 162.867188 82.273438 L 172.082031 81.234375 L 169.070312 95.929688 \"/>\n<path style=\"fill:none;stroke-width:1;stroke-linecap:butt;stroke-linejoin:miter;stroke:rgb(26.666667%,26.666667%,26.666667%);stroke-opacity:1;stroke-miterlimit:10;\" d=\"M 280 104.535156 L 199.964844 109.152344 \"/>\n<path style=\" stroke:none;fill-rule:nonzero;fill:rgb(26.666667%,26.666667%,26.666667%);fill-opacity:1;\" d=\"M 185.722656 109.972656 L 199.699219 104.523438 L 200.234375 113.777344 L 185.722656 109.972656 \"/>\n<path style=\"fill:none;stroke-width:1;stroke-linecap:butt;stroke-linejoin:miter;stroke:rgb(26.666667%,26.666667%,26.666667%);stroke-opacity:1;stroke-miterlimit:10;\" d=\"M 203.539062 180 C 214.207031 160.355469 214.117188 138.761719 195.734375 126.925781 \"/>\n<path style=\" stroke:none;fill-rule:nonzero;fill:rgb(26.666667%,26.666667%,26.666667%);fill-opacity:1;\" d=\"M 183.742188 119.203125 L 198.246094 123.027344 L 193.226562 130.824219 L 183.742188 119.203125 \"/>\n<path style=\"fill:none;stroke-width:1;stroke-linecap:butt;stroke-linejoin:miter;stroke:rgb(26.666667%,26.666667%,26.666667%);stroke-opacity:1;stroke-miterlimit:10;\" d=\"M 170.75 110.835938 C 160.082031 130.480469 160.167969 152.074219 178.554688 163.910156 \"/>\n<path style=\" stroke:none;fill-rule:nonzero;fill:rgb(26.666667%,26.666667%,26.666667%);fill-opacity:1;\" d=\"M 190.546875 171.632812 L 176.042969 167.808594 L 181.0625 160.015625 L 190.546875 171.632812 \"/>\n<path style=\"fill-rule:nonzero;fill:rgb(52.941176%,80.784314%,92.156863%);fill-opacity:1;stroke-width:1;stroke-linecap:butt;stroke-linejoin:miter;stroke:rgb(0%,0%,0%);stroke-opacity:1;stroke-miterlimit:10;\" d=\"M 35 73.683594 C 35 81.96875 28.285156 88.683594 20 88.683594 C 11.714844 88.683594 5 81.96875 5 73.683594 C 5 65.398438 11.714844 58.683594 20 58.683594 C 28.285156 58.683594 35 65.398438 35 73.683594 \"/>\n<path style=\"fill-rule:nonzero;fill:rgb(52.941176%,80.784314%,92.156863%);fill-opacity:1;stroke-width:1;stroke-linecap:butt;stroke-linejoin:miter;stroke:rgb(0%,0%,0%);stroke-opacity:1;stroke-miterlimit:10;\" d=\"M 103.238281 50.648438 C 103.238281 58.933594 96.523438 65.648438 88.238281 65.648438 C 79.953125 65.648438 73.238281 58.933594 73.238281 50.648438 C 73.238281 42.367188 79.953125 35.648438 88.238281 35.648438 C 96.523438 35.648438 103.238281 42.367188 103.238281 50.648438 \"/>\n<path style=\"fill-rule:nonzero;fill:rgb(52.941176%,80.784314%,92.156863%);fill-opacity:1;stroke-width:1;stroke-linecap:butt;stroke-linejoin:miter;stroke:rgb(0%,0%,0%);stroke-opacity:1;stroke-miterlimit:10;\" d=\"M 83.320312 140.992188 C 83.320312 149.277344 76.605469 155.992188 68.320312 155.992188 C 60.039062 155.992188 53.320312 149.277344 53.320312 140.992188 C 53.320312 132.707031 60.039062 125.992188 68.320312 125.992188 C 76.605469 125.992188 83.320312 132.707031 83.320312 140.992188 \"/>\n<path style=\"fill-rule:nonzero;fill:rgb(52.941176%,80.784314%,92.156863%);fill-opacity:1;stroke-width:1;stroke-linecap:butt;stroke-linejoin:miter;stroke:rgb(0%,0%,0%);stroke-opacity:1;stroke-miterlimit:10;\" d=\"M 175.523438 20 C 175.523438 28.285156 168.808594 35 160.523438 35 C 152.238281 35 145.523438 28.285156 145.523438 20 C 145.523438 11.714844 152.238281 5 160.523438 5 C 168.808594 5 175.523438 11.714844 175.523438 20 \"/>\n<path style=\"fill-rule:nonzero;fill:rgb(52.941176%,80.784314%,92.156863%);fill-opacity:1;stroke-width:1;stroke-linecap:butt;stroke-linejoin:miter;stroke:rgb(0%,0%,0%);stroke-opacity:1;stroke-miterlimit:10;\" d=\"M 295 104.535156 C 295 112.816406 288.285156 119.535156 280 119.535156 C 271.714844 119.535156 265 112.816406 265 104.535156 C 265 96.25 271.714844 89.535156 280 89.535156 C 288.285156 89.535156 295 96.25 295 104.535156 \"/>\n<path style=\"fill-rule:nonzero;fill:rgb(52.941176%,80.784314%,92.156863%);fill-opacity:1;stroke-width:1;stroke-linecap:butt;stroke-linejoin:miter;stroke:rgb(0%,0%,0%);stroke-opacity:1;stroke-miterlimit:10;\" d=\"M 218.539062 180 C 218.539062 188.285156 211.824219 195 203.539062 195 C 195.253906 195 188.539062 188.285156 188.539062 180 C 188.539062 171.714844 195.253906 165 203.539062 165 C 211.824219 165 218.539062 171.714844 218.539062 180 \"/>\n<path style=\"fill-rule:nonzero;fill:rgb(52.941176%,80.784314%,92.156863%);fill-opacity:1;stroke-width:1;stroke-linecap:butt;stroke-linejoin:miter;stroke:rgb(0%,0%,0%);stroke-opacity:1;stroke-miterlimit:10;\" d=\"M 185.75 110.835938 C 185.75 119.121094 179.03125 125.835938 170.75 125.835938 C 162.464844 125.835938 155.75 119.121094 155.75 110.835938 C 155.75 102.550781 162.464844 95.835938 170.75 95.835938 C 179.03125 95.835938 185.75 102.550781 185.75 110.835938 \"/>\n<g style=\"fill:rgb(0%,0%,0%);fill-opacity:1;\">\n  <use xlink:href=\"#glyph0-1\" x=\"17\" y=\"78.480469\"/>\n</g>\n<g style=\"fill:rgb(0%,0%,0%);fill-opacity:1;\">\n  <use xlink:href=\"#glyph0-2\" x=\"85.03125\" y=\"55.445312\"/>\n</g>\n<g style=\"fill:rgb(0%,0%,0%);fill-opacity:1;\">\n  <use xlink:href=\"#glyph0-3\" x=\"65.257812\" y=\"145.839844\"/>\n</g>\n<g style=\"fill:rgb(0%,0%,0%);fill-opacity:1;\">\n  <use xlink:href=\"#glyph0-4\" x=\"157.382812\" y=\"24.796875\"/>\n</g>\n<g style=\"fill:rgb(0%,0%,0%);fill-opacity:1;\">\n  <use xlink:href=\"#glyph0-5\" x=\"276.867188\" y=\"109.328125\"/>\n</g>\n<g style=\"fill:rgb(0%,0%,0%);fill-opacity:1;\">\n  <use xlink:href=\"#glyph0-6\" x=\"200.417969\" y=\"184.796875\"/>\n</g>\n<g style=\"fill:rgb(0%,0%,0%);fill-opacity:1;\">\n  <use xlink:href=\"#glyph0-7\" x=\"167.78125\" y=\"115.683594\"/>\n</g>\n</g>\n</svg>\n"
          },
          "metadata": {
            "image/svg+xml": {
              "isolated": true
            }
          },
          "execution_count": 61
        }
      ]
    },
    {
      "cell_type": "code",
      "source": [
        "pagerank_dict = nx.pagerank(DiG_webpage_nx)"
      ],
      "metadata": {
        "id": "dPH8147DtArH"
      },
      "execution_count": 62,
      "outputs": []
    },
    {
      "cell_type": "code",
      "source": [
        "df_pagerank = pd.DataFrame(\n",
        "    data=pagerank_dict.items(),\n",
        "    columns=[\"node\", \"pagerank_centrality\"]\n",
        ")\n",
        "df_pagerank.sort_values(by=\"pagerank_centrality\", ascending=False).round(3).T"
      ],
      "metadata": {
        "id": "ATqtUTh_s_-Y",
        "colab": {
          "base_uri": "https://localhost:8080/",
          "height": 112
        },
        "outputId": "8de9aecd-2352-46da-8f00-18ff9a531949"
      },
      "execution_count": 63,
      "outputs": [
        {
          "output_type": "execute_result",
          "data": {
            "text/plain": [
              "                         6      5      1      2      0      3      4\n",
              "node                     G      F      B      C      A      D      E\n",
              "pagerank_centrality  0.446  0.401  0.035  0.035  0.031  0.031  0.021"
            ],
            "text/html": [
              "\n",
              "  <div id=\"df-925bf48d-0f0c-4dbf-abdf-c94f29bca920\" class=\"colab-df-container\">\n",
              "    <div>\n",
              "<style scoped>\n",
              "    .dataframe tbody tr th:only-of-type {\n",
              "        vertical-align: middle;\n",
              "    }\n",
              "\n",
              "    .dataframe tbody tr th {\n",
              "        vertical-align: top;\n",
              "    }\n",
              "\n",
              "    .dataframe thead th {\n",
              "        text-align: right;\n",
              "    }\n",
              "</style>\n",
              "<table border=\"1\" class=\"dataframe\">\n",
              "  <thead>\n",
              "    <tr style=\"text-align: right;\">\n",
              "      <th></th>\n",
              "      <th>6</th>\n",
              "      <th>5</th>\n",
              "      <th>1</th>\n",
              "      <th>2</th>\n",
              "      <th>0</th>\n",
              "      <th>3</th>\n",
              "      <th>4</th>\n",
              "    </tr>\n",
              "  </thead>\n",
              "  <tbody>\n",
              "    <tr>\n",
              "      <th>node</th>\n",
              "      <td>G</td>\n",
              "      <td>F</td>\n",
              "      <td>B</td>\n",
              "      <td>C</td>\n",
              "      <td>A</td>\n",
              "      <td>D</td>\n",
              "      <td>E</td>\n",
              "    </tr>\n",
              "    <tr>\n",
              "      <th>pagerank_centrality</th>\n",
              "      <td>0.446</td>\n",
              "      <td>0.401</td>\n",
              "      <td>0.035</td>\n",
              "      <td>0.035</td>\n",
              "      <td>0.031</td>\n",
              "      <td>0.031</td>\n",
              "      <td>0.021</td>\n",
              "    </tr>\n",
              "  </tbody>\n",
              "</table>\n",
              "</div>\n",
              "    <div class=\"colab-df-buttons\">\n",
              "\n",
              "  <div class=\"colab-df-container\">\n",
              "    <button class=\"colab-df-convert\" onclick=\"convertToInteractive('df-925bf48d-0f0c-4dbf-abdf-c94f29bca920')\"\n",
              "            title=\"Convert this dataframe to an interactive table.\"\n",
              "            style=\"display:none;\">\n",
              "\n",
              "  <svg xmlns=\"http://www.w3.org/2000/svg\" height=\"24px\" viewBox=\"0 -960 960 960\">\n",
              "    <path d=\"M120-120v-720h720v720H120Zm60-500h600v-160H180v160Zm220 220h160v-160H400v160Zm0 220h160v-160H400v160ZM180-400h160v-160H180v160Zm440 0h160v-160H620v160ZM180-180h160v-160H180v160Zm440 0h160v-160H620v160Z\"/>\n",
              "  </svg>\n",
              "    </button>\n",
              "\n",
              "  <style>\n",
              "    .colab-df-container {\n",
              "      display:flex;\n",
              "      gap: 12px;\n",
              "    }\n",
              "\n",
              "    .colab-df-convert {\n",
              "      background-color: #E8F0FE;\n",
              "      border: none;\n",
              "      border-radius: 50%;\n",
              "      cursor: pointer;\n",
              "      display: none;\n",
              "      fill: #1967D2;\n",
              "      height: 32px;\n",
              "      padding: 0 0 0 0;\n",
              "      width: 32px;\n",
              "    }\n",
              "\n",
              "    .colab-df-convert:hover {\n",
              "      background-color: #E2EBFA;\n",
              "      box-shadow: 0px 1px 2px rgba(60, 64, 67, 0.3), 0px 1px 3px 1px rgba(60, 64, 67, 0.15);\n",
              "      fill: #174EA6;\n",
              "    }\n",
              "\n",
              "    .colab-df-buttons div {\n",
              "      margin-bottom: 4px;\n",
              "    }\n",
              "\n",
              "    [theme=dark] .colab-df-convert {\n",
              "      background-color: #3B4455;\n",
              "      fill: #D2E3FC;\n",
              "    }\n",
              "\n",
              "    [theme=dark] .colab-df-convert:hover {\n",
              "      background-color: #434B5C;\n",
              "      box-shadow: 0px 1px 3px 1px rgba(0, 0, 0, 0.15);\n",
              "      filter: drop-shadow(0px 1px 2px rgba(0, 0, 0, 0.3));\n",
              "      fill: #FFFFFF;\n",
              "    }\n",
              "  </style>\n",
              "\n",
              "    <script>\n",
              "      const buttonEl =\n",
              "        document.querySelector('#df-925bf48d-0f0c-4dbf-abdf-c94f29bca920 button.colab-df-convert');\n",
              "      buttonEl.style.display =\n",
              "        google.colab.kernel.accessAllowed ? 'block' : 'none';\n",
              "\n",
              "      async function convertToInteractive(key) {\n",
              "        const element = document.querySelector('#df-925bf48d-0f0c-4dbf-abdf-c94f29bca920');\n",
              "        const dataTable =\n",
              "          await google.colab.kernel.invokeFunction('convertToInteractive',\n",
              "                                                    [key], {});\n",
              "        if (!dataTable) return;\n",
              "\n",
              "        const docLinkHtml = 'Like what you see? Visit the ' +\n",
              "          '<a target=\"_blank\" href=https://colab.research.google.com/notebooks/data_table.ipynb>data table notebook</a>'\n",
              "          + ' to learn more about interactive tables.';\n",
              "        element.innerHTML = '';\n",
              "        dataTable['output_type'] = 'display_data';\n",
              "        await google.colab.output.renderOutput(dataTable, element);\n",
              "        const docLink = document.createElement('div');\n",
              "        docLink.innerHTML = docLinkHtml;\n",
              "        element.appendChild(docLink);\n",
              "      }\n",
              "    </script>\n",
              "  </div>\n",
              "\n",
              "\n",
              "<div id=\"df-f000adbe-e1ad-4d10-ab0f-c5d8978a7298\">\n",
              "  <button class=\"colab-df-quickchart\" onclick=\"quickchart('df-f000adbe-e1ad-4d10-ab0f-c5d8978a7298')\"\n",
              "            title=\"Suggest charts\"\n",
              "            style=\"display:none;\">\n",
              "\n",
              "<svg xmlns=\"http://www.w3.org/2000/svg\" height=\"24px\"viewBox=\"0 0 24 24\"\n",
              "     width=\"24px\">\n",
              "    <g>\n",
              "        <path d=\"M19 3H5c-1.1 0-2 .9-2 2v14c0 1.1.9 2 2 2h14c1.1 0 2-.9 2-2V5c0-1.1-.9-2-2-2zM9 17H7v-7h2v7zm4 0h-2V7h2v10zm4 0h-2v-4h2v4z\"/>\n",
              "    </g>\n",
              "</svg>\n",
              "  </button>\n",
              "\n",
              "<style>\n",
              "  .colab-df-quickchart {\n",
              "      --bg-color: #E8F0FE;\n",
              "      --fill-color: #1967D2;\n",
              "      --hover-bg-color: #E2EBFA;\n",
              "      --hover-fill-color: #174EA6;\n",
              "      --disabled-fill-color: #AAA;\n",
              "      --disabled-bg-color: #DDD;\n",
              "  }\n",
              "\n",
              "  [theme=dark] .colab-df-quickchart {\n",
              "      --bg-color: #3B4455;\n",
              "      --fill-color: #D2E3FC;\n",
              "      --hover-bg-color: #434B5C;\n",
              "      --hover-fill-color: #FFFFFF;\n",
              "      --disabled-bg-color: #3B4455;\n",
              "      --disabled-fill-color: #666;\n",
              "  }\n",
              "\n",
              "  .colab-df-quickchart {\n",
              "    background-color: var(--bg-color);\n",
              "    border: none;\n",
              "    border-radius: 50%;\n",
              "    cursor: pointer;\n",
              "    display: none;\n",
              "    fill: var(--fill-color);\n",
              "    height: 32px;\n",
              "    padding: 0;\n",
              "    width: 32px;\n",
              "  }\n",
              "\n",
              "  .colab-df-quickchart:hover {\n",
              "    background-color: var(--hover-bg-color);\n",
              "    box-shadow: 0 1px 2px rgba(60, 64, 67, 0.3), 0 1px 3px 1px rgba(60, 64, 67, 0.15);\n",
              "    fill: var(--button-hover-fill-color);\n",
              "  }\n",
              "\n",
              "  .colab-df-quickchart-complete:disabled,\n",
              "  .colab-df-quickchart-complete:disabled:hover {\n",
              "    background-color: var(--disabled-bg-color);\n",
              "    fill: var(--disabled-fill-color);\n",
              "    box-shadow: none;\n",
              "  }\n",
              "\n",
              "  .colab-df-spinner {\n",
              "    border: 2px solid var(--fill-color);\n",
              "    border-color: transparent;\n",
              "    border-bottom-color: var(--fill-color);\n",
              "    animation:\n",
              "      spin 1s steps(1) infinite;\n",
              "  }\n",
              "\n",
              "  @keyframes spin {\n",
              "    0% {\n",
              "      border-color: transparent;\n",
              "      border-bottom-color: var(--fill-color);\n",
              "      border-left-color: var(--fill-color);\n",
              "    }\n",
              "    20% {\n",
              "      border-color: transparent;\n",
              "      border-left-color: var(--fill-color);\n",
              "      border-top-color: var(--fill-color);\n",
              "    }\n",
              "    30% {\n",
              "      border-color: transparent;\n",
              "      border-left-color: var(--fill-color);\n",
              "      border-top-color: var(--fill-color);\n",
              "      border-right-color: var(--fill-color);\n",
              "    }\n",
              "    40% {\n",
              "      border-color: transparent;\n",
              "      border-right-color: var(--fill-color);\n",
              "      border-top-color: var(--fill-color);\n",
              "    }\n",
              "    60% {\n",
              "      border-color: transparent;\n",
              "      border-right-color: var(--fill-color);\n",
              "    }\n",
              "    80% {\n",
              "      border-color: transparent;\n",
              "      border-right-color: var(--fill-color);\n",
              "      border-bottom-color: var(--fill-color);\n",
              "    }\n",
              "    90% {\n",
              "      border-color: transparent;\n",
              "      border-bottom-color: var(--fill-color);\n",
              "    }\n",
              "  }\n",
              "</style>\n",
              "\n",
              "  <script>\n",
              "    async function quickchart(key) {\n",
              "      const quickchartButtonEl =\n",
              "        document.querySelector('#' + key + ' button');\n",
              "      quickchartButtonEl.disabled = true;  // To prevent multiple clicks.\n",
              "      quickchartButtonEl.classList.add('colab-df-spinner');\n",
              "      try {\n",
              "        const charts = await google.colab.kernel.invokeFunction(\n",
              "            'suggestCharts', [key], {});\n",
              "      } catch (error) {\n",
              "        console.error('Error during call to suggestCharts:', error);\n",
              "      }\n",
              "      quickchartButtonEl.classList.remove('colab-df-spinner');\n",
              "      quickchartButtonEl.classList.add('colab-df-quickchart-complete');\n",
              "    }\n",
              "    (() => {\n",
              "      let quickchartButtonEl =\n",
              "        document.querySelector('#df-f000adbe-e1ad-4d10-ab0f-c5d8978a7298 button');\n",
              "      quickchartButtonEl.style.display =\n",
              "        google.colab.kernel.accessAllowed ? 'block' : 'none';\n",
              "    })();\n",
              "  </script>\n",
              "</div>\n",
              "\n",
              "    </div>\n",
              "  </div>\n"
            ],
            "application/vnd.google.colaboratory.intrinsic+json": {
              "type": "dataframe",
              "summary": "{\n  \"name\": \"df_pagerank\",\n  \"rows\": 2,\n  \"fields\": [\n    {\n      \"column\": 6,\n      \"properties\": {\n        \"dtype\": \"string\",\n        \"num_unique_values\": 2,\n        \"samples\": [\n          0.446,\n          \"G\"\n        ],\n        \"semantic_type\": \"\",\n        \"description\": \"\"\n      }\n    },\n    {\n      \"column\": 5,\n      \"properties\": {\n        \"dtype\": \"string\",\n        \"num_unique_values\": 2,\n        \"samples\": [\n          0.401,\n          \"F\"\n        ],\n        \"semantic_type\": \"\",\n        \"description\": \"\"\n      }\n    },\n    {\n      \"column\": 1,\n      \"properties\": {\n        \"dtype\": \"string\",\n        \"num_unique_values\": 2,\n        \"samples\": [\n          0.035,\n          \"B\"\n        ],\n        \"semantic_type\": \"\",\n        \"description\": \"\"\n      }\n    },\n    {\n      \"column\": 2,\n      \"properties\": {\n        \"dtype\": \"string\",\n        \"num_unique_values\": 2,\n        \"samples\": [\n          0.035,\n          \"C\"\n        ],\n        \"semantic_type\": \"\",\n        \"description\": \"\"\n      }\n    },\n    {\n      \"column\": 0,\n      \"properties\": {\n        \"dtype\": \"string\",\n        \"num_unique_values\": 2,\n        \"samples\": [\n          0.031,\n          \"A\"\n        ],\n        \"semantic_type\": \"\",\n        \"description\": \"\"\n      }\n    },\n    {\n      \"column\": 3,\n      \"properties\": {\n        \"dtype\": \"string\",\n        \"num_unique_values\": 2,\n        \"samples\": [\n          0.031,\n          \"D\"\n        ],\n        \"semantic_type\": \"\",\n        \"description\": \"\"\n      }\n    },\n    {\n      \"column\": 4,\n      \"properties\": {\n        \"dtype\": \"string\",\n        \"num_unique_values\": 2,\n        \"samples\": [\n          0.021,\n          \"E\"\n        ],\n        \"semantic_type\": \"\",\n        \"description\": \"\"\n      }\n    }\n  ]\n}"
            }
          },
          "metadata": {},
          "execution_count": 63
        }
      ]
    },
    {
      "cell_type": "markdown",
      "source": [
        "As expected, since webpage `G` received the most number of links, `G` has the highest centrality.\n",
        "\n",
        "An important things to note is, although webpage `F` has 1 incoming link, its centrality is very high, a little less than the centrality of `G`. An intuitive explanation is that webpage `F` is being referenced by an important webpage `G`, so thereby node `F` is also a central node. Algorithmically, as the PageRank is computed by tracking the most visited webpages via random web-surfers, no matter which webpage it started, within a few clicks it reaches `G`, then from here, it bounces `F` and `G` reapeatedly. Therefore, `F` gets visited frequently, despite having only one incoming link."
      ],
      "metadata": {
        "id": "URPiGz7BvoUv"
      }
    },
    {
      "cell_type": "markdown",
      "source": [
        "----\n",
        "\n",
        "## 4. Hands on exercise on the real data - Amazon product co-purchasing network. 242 K nodes, 1.2 M edges (public data - collected on March 02, 2003 by Stanford group)\n",
        "\n",
        "Amazon.com is a e-commerce company where you can purchase (almost) anything online. When you click the product you're interested in, it has information on the product, including `Customers Who Bought This Item Also Bought ...` tab Which basically shows (related) products. For instance, when purchasing a snowboard pants, the products that will likely to show up in this tab are ski goggles, ski gloves, ski jacket, etc.\n",
        "\n",
        "The dataset that we use in this section is collected by Stanford Network Analysis Project (SNAP), by crawling Amazon website on March 02 2003. Based on their description, \"If a product i is frequently co-purchased with product j, the graph contains a directed edge from i to j\". Details can be found here:\n",
        "https://snap.stanford.edu/data/amazon0302.html"
      ],
      "metadata": {
        "id": "JfC5Nwm-lcyh"
      }
    },
    {
      "cell_type": "markdown",
      "source": [
        "### Download the data then load the data"
      ],
      "metadata": {
        "id": "dzjPFKT5_vnu"
      }
    },
    {
      "cell_type": "code",
      "source": [
        "!wget https://snap.stanford.edu/data/amazon0302.txt.gz"
      ],
      "metadata": {
        "id": "AmLdXWA8lchX",
        "colab": {
          "base_uri": "https://localhost:8080/"
        },
        "outputId": "255159ba-0fc3-486c-9250-6eedeb691714"
      },
      "execution_count": 64,
      "outputs": [
        {
          "output_type": "stream",
          "name": "stdout",
          "text": [
            "--2024-02-29 07:56:48--  https://snap.stanford.edu/data/amazon0302.txt.gz\n",
            "Resolving snap.stanford.edu (snap.stanford.edu)... 171.64.75.80\n",
            "Connecting to snap.stanford.edu (snap.stanford.edu)|171.64.75.80|:443... connected.\n",
            "HTTP request sent, awaiting response... 200 OK\n",
            "Length: 4664334 (4.4M) [application/x-gzip]\n",
            "Saving to: ‘amazon0302.txt.gz’\n",
            "\n",
            "amazon0302.txt.gz   100%[===================>]   4.45M  2.18MB/s    in 2.0s    \n",
            "\n",
            "2024-02-29 07:56:50 (2.18 MB/s) - ‘amazon0302.txt.gz’ saved [4664334/4664334]\n",
            "\n"
          ]
        }
      ]
    },
    {
      "cell_type": "code",
      "source": [
        "!gzip -d amazon0302.txt.gz"
      ],
      "metadata": {
        "id": "HKafRZnvlcdg"
      },
      "execution_count": 65,
      "outputs": []
    },
    {
      "cell_type": "code",
      "source": [
        "!head -n 10 amazon0302.txt"
      ],
      "metadata": {
        "id": "-65773_ulcZY",
        "colab": {
          "base_uri": "https://localhost:8080/"
        },
        "outputId": "cc6b8e5f-10c7-4973-8291-c943930130b4"
      },
      "execution_count": 66,
      "outputs": [
        {
          "output_type": "stream",
          "name": "stdout",
          "text": [
            "# Directed graph (each unordered pair of nodes is saved once): Amazon0302.txt \r\n",
            "# Amazon product co-purchaisng network from March 02 2003\r\n",
            "# Nodes: 262111 Edges: 1234877\r\n",
            "# FromNodeId\tToNodeId\r\n",
            "0\t1\r\n",
            "0\t2\r\n",
            "0\t3\r\n",
            "0\t4\r\n",
            "0\t5\r\n",
            "1\t0\r\n"
          ]
        }
      ]
    },
    {
      "cell_type": "code",
      "source": [
        "df_product_co_purchase = pd.read_csv(\"amazon0302.txt\", sep=\"\\t\", skiprows=4, names=[\"purchased_item\", \"co_purchased_item\"])"
      ],
      "metadata": {
        "id": "MwY8OInSlcU-"
      },
      "execution_count": 67,
      "outputs": []
    },
    {
      "cell_type": "code",
      "source": [
        "df_product_co_purchase.shape"
      ],
      "metadata": {
        "id": "gOoPaRLRlcQu",
        "colab": {
          "base_uri": "https://localhost:8080/"
        },
        "outputId": "a6568c54-887e-46c7-951e-83fed9c0c753"
      },
      "execution_count": 68,
      "outputs": [
        {
          "output_type": "execute_result",
          "data": {
            "text/plain": [
              "(1234877, 2)"
            ]
          },
          "metadata": {},
          "execution_count": 68
        }
      ]
    },
    {
      "cell_type": "code",
      "source": [
        "df_product_co_purchase.head()"
      ],
      "metadata": {
        "id": "XfJMAc_MlcMf",
        "colab": {
          "base_uri": "https://localhost:8080/",
          "height": 206
        },
        "outputId": "a2cbd513-5653-4bbd-8a15-2003e2108a42"
      },
      "execution_count": 69,
      "outputs": [
        {
          "output_type": "execute_result",
          "data": {
            "text/plain": [
              "   purchased_item  co_purchased_item\n",
              "0               0                  1\n",
              "1               0                  2\n",
              "2               0                  3\n",
              "3               0                  4\n",
              "4               0                  5"
            ],
            "text/html": [
              "\n",
              "  <div id=\"df-a5a57696-2cf3-49a4-a1ca-5f10ae0bb2b0\" class=\"colab-df-container\">\n",
              "    <div>\n",
              "<style scoped>\n",
              "    .dataframe tbody tr th:only-of-type {\n",
              "        vertical-align: middle;\n",
              "    }\n",
              "\n",
              "    .dataframe tbody tr th {\n",
              "        vertical-align: top;\n",
              "    }\n",
              "\n",
              "    .dataframe thead th {\n",
              "        text-align: right;\n",
              "    }\n",
              "</style>\n",
              "<table border=\"1\" class=\"dataframe\">\n",
              "  <thead>\n",
              "    <tr style=\"text-align: right;\">\n",
              "      <th></th>\n",
              "      <th>purchased_item</th>\n",
              "      <th>co_purchased_item</th>\n",
              "    </tr>\n",
              "  </thead>\n",
              "  <tbody>\n",
              "    <tr>\n",
              "      <th>0</th>\n",
              "      <td>0</td>\n",
              "      <td>1</td>\n",
              "    </tr>\n",
              "    <tr>\n",
              "      <th>1</th>\n",
              "      <td>0</td>\n",
              "      <td>2</td>\n",
              "    </tr>\n",
              "    <tr>\n",
              "      <th>2</th>\n",
              "      <td>0</td>\n",
              "      <td>3</td>\n",
              "    </tr>\n",
              "    <tr>\n",
              "      <th>3</th>\n",
              "      <td>0</td>\n",
              "      <td>4</td>\n",
              "    </tr>\n",
              "    <tr>\n",
              "      <th>4</th>\n",
              "      <td>0</td>\n",
              "      <td>5</td>\n",
              "    </tr>\n",
              "  </tbody>\n",
              "</table>\n",
              "</div>\n",
              "    <div class=\"colab-df-buttons\">\n",
              "\n",
              "  <div class=\"colab-df-container\">\n",
              "    <button class=\"colab-df-convert\" onclick=\"convertToInteractive('df-a5a57696-2cf3-49a4-a1ca-5f10ae0bb2b0')\"\n",
              "            title=\"Convert this dataframe to an interactive table.\"\n",
              "            style=\"display:none;\">\n",
              "\n",
              "  <svg xmlns=\"http://www.w3.org/2000/svg\" height=\"24px\" viewBox=\"0 -960 960 960\">\n",
              "    <path d=\"M120-120v-720h720v720H120Zm60-500h600v-160H180v160Zm220 220h160v-160H400v160Zm0 220h160v-160H400v160ZM180-400h160v-160H180v160Zm440 0h160v-160H620v160ZM180-180h160v-160H180v160Zm440 0h160v-160H620v160Z\"/>\n",
              "  </svg>\n",
              "    </button>\n",
              "\n",
              "  <style>\n",
              "    .colab-df-container {\n",
              "      display:flex;\n",
              "      gap: 12px;\n",
              "    }\n",
              "\n",
              "    .colab-df-convert {\n",
              "      background-color: #E8F0FE;\n",
              "      border: none;\n",
              "      border-radius: 50%;\n",
              "      cursor: pointer;\n",
              "      display: none;\n",
              "      fill: #1967D2;\n",
              "      height: 32px;\n",
              "      padding: 0 0 0 0;\n",
              "      width: 32px;\n",
              "    }\n",
              "\n",
              "    .colab-df-convert:hover {\n",
              "      background-color: #E2EBFA;\n",
              "      box-shadow: 0px 1px 2px rgba(60, 64, 67, 0.3), 0px 1px 3px 1px rgba(60, 64, 67, 0.15);\n",
              "      fill: #174EA6;\n",
              "    }\n",
              "\n",
              "    .colab-df-buttons div {\n",
              "      margin-bottom: 4px;\n",
              "    }\n",
              "\n",
              "    [theme=dark] .colab-df-convert {\n",
              "      background-color: #3B4455;\n",
              "      fill: #D2E3FC;\n",
              "    }\n",
              "\n",
              "    [theme=dark] .colab-df-convert:hover {\n",
              "      background-color: #434B5C;\n",
              "      box-shadow: 0px 1px 3px 1px rgba(0, 0, 0, 0.15);\n",
              "      filter: drop-shadow(0px 1px 2px rgba(0, 0, 0, 0.3));\n",
              "      fill: #FFFFFF;\n",
              "    }\n",
              "  </style>\n",
              "\n",
              "    <script>\n",
              "      const buttonEl =\n",
              "        document.querySelector('#df-a5a57696-2cf3-49a4-a1ca-5f10ae0bb2b0 button.colab-df-convert');\n",
              "      buttonEl.style.display =\n",
              "        google.colab.kernel.accessAllowed ? 'block' : 'none';\n",
              "\n",
              "      async function convertToInteractive(key) {\n",
              "        const element = document.querySelector('#df-a5a57696-2cf3-49a4-a1ca-5f10ae0bb2b0');\n",
              "        const dataTable =\n",
              "          await google.colab.kernel.invokeFunction('convertToInteractive',\n",
              "                                                    [key], {});\n",
              "        if (!dataTable) return;\n",
              "\n",
              "        const docLinkHtml = 'Like what you see? Visit the ' +\n",
              "          '<a target=\"_blank\" href=https://colab.research.google.com/notebooks/data_table.ipynb>data table notebook</a>'\n",
              "          + ' to learn more about interactive tables.';\n",
              "        element.innerHTML = '';\n",
              "        dataTable['output_type'] = 'display_data';\n",
              "        await google.colab.output.renderOutput(dataTable, element);\n",
              "        const docLink = document.createElement('div');\n",
              "        docLink.innerHTML = docLinkHtml;\n",
              "        element.appendChild(docLink);\n",
              "      }\n",
              "    </script>\n",
              "  </div>\n",
              "\n",
              "\n",
              "<div id=\"df-387a2782-e42a-4c1b-b344-f072397f9622\">\n",
              "  <button class=\"colab-df-quickchart\" onclick=\"quickchart('df-387a2782-e42a-4c1b-b344-f072397f9622')\"\n",
              "            title=\"Suggest charts\"\n",
              "            style=\"display:none;\">\n",
              "\n",
              "<svg xmlns=\"http://www.w3.org/2000/svg\" height=\"24px\"viewBox=\"0 0 24 24\"\n",
              "     width=\"24px\">\n",
              "    <g>\n",
              "        <path d=\"M19 3H5c-1.1 0-2 .9-2 2v14c0 1.1.9 2 2 2h14c1.1 0 2-.9 2-2V5c0-1.1-.9-2-2-2zM9 17H7v-7h2v7zm4 0h-2V7h2v10zm4 0h-2v-4h2v4z\"/>\n",
              "    </g>\n",
              "</svg>\n",
              "  </button>\n",
              "\n",
              "<style>\n",
              "  .colab-df-quickchart {\n",
              "      --bg-color: #E8F0FE;\n",
              "      --fill-color: #1967D2;\n",
              "      --hover-bg-color: #E2EBFA;\n",
              "      --hover-fill-color: #174EA6;\n",
              "      --disabled-fill-color: #AAA;\n",
              "      --disabled-bg-color: #DDD;\n",
              "  }\n",
              "\n",
              "  [theme=dark] .colab-df-quickchart {\n",
              "      --bg-color: #3B4455;\n",
              "      --fill-color: #D2E3FC;\n",
              "      --hover-bg-color: #434B5C;\n",
              "      --hover-fill-color: #FFFFFF;\n",
              "      --disabled-bg-color: #3B4455;\n",
              "      --disabled-fill-color: #666;\n",
              "  }\n",
              "\n",
              "  .colab-df-quickchart {\n",
              "    background-color: var(--bg-color);\n",
              "    border: none;\n",
              "    border-radius: 50%;\n",
              "    cursor: pointer;\n",
              "    display: none;\n",
              "    fill: var(--fill-color);\n",
              "    height: 32px;\n",
              "    padding: 0;\n",
              "    width: 32px;\n",
              "  }\n",
              "\n",
              "  .colab-df-quickchart:hover {\n",
              "    background-color: var(--hover-bg-color);\n",
              "    box-shadow: 0 1px 2px rgba(60, 64, 67, 0.3), 0 1px 3px 1px rgba(60, 64, 67, 0.15);\n",
              "    fill: var(--button-hover-fill-color);\n",
              "  }\n",
              "\n",
              "  .colab-df-quickchart-complete:disabled,\n",
              "  .colab-df-quickchart-complete:disabled:hover {\n",
              "    background-color: var(--disabled-bg-color);\n",
              "    fill: var(--disabled-fill-color);\n",
              "    box-shadow: none;\n",
              "  }\n",
              "\n",
              "  .colab-df-spinner {\n",
              "    border: 2px solid var(--fill-color);\n",
              "    border-color: transparent;\n",
              "    border-bottom-color: var(--fill-color);\n",
              "    animation:\n",
              "      spin 1s steps(1) infinite;\n",
              "  }\n",
              "\n",
              "  @keyframes spin {\n",
              "    0% {\n",
              "      border-color: transparent;\n",
              "      border-bottom-color: var(--fill-color);\n",
              "      border-left-color: var(--fill-color);\n",
              "    }\n",
              "    20% {\n",
              "      border-color: transparent;\n",
              "      border-left-color: var(--fill-color);\n",
              "      border-top-color: var(--fill-color);\n",
              "    }\n",
              "    30% {\n",
              "      border-color: transparent;\n",
              "      border-left-color: var(--fill-color);\n",
              "      border-top-color: var(--fill-color);\n",
              "      border-right-color: var(--fill-color);\n",
              "    }\n",
              "    40% {\n",
              "      border-color: transparent;\n",
              "      border-right-color: var(--fill-color);\n",
              "      border-top-color: var(--fill-color);\n",
              "    }\n",
              "    60% {\n",
              "      border-color: transparent;\n",
              "      border-right-color: var(--fill-color);\n",
              "    }\n",
              "    80% {\n",
              "      border-color: transparent;\n",
              "      border-right-color: var(--fill-color);\n",
              "      border-bottom-color: var(--fill-color);\n",
              "    }\n",
              "    90% {\n",
              "      border-color: transparent;\n",
              "      border-bottom-color: var(--fill-color);\n",
              "    }\n",
              "  }\n",
              "</style>\n",
              "\n",
              "  <script>\n",
              "    async function quickchart(key) {\n",
              "      const quickchartButtonEl =\n",
              "        document.querySelector('#' + key + ' button');\n",
              "      quickchartButtonEl.disabled = true;  // To prevent multiple clicks.\n",
              "      quickchartButtonEl.classList.add('colab-df-spinner');\n",
              "      try {\n",
              "        const charts = await google.colab.kernel.invokeFunction(\n",
              "            'suggestCharts', [key], {});\n",
              "      } catch (error) {\n",
              "        console.error('Error during call to suggestCharts:', error);\n",
              "      }\n",
              "      quickchartButtonEl.classList.remove('colab-df-spinner');\n",
              "      quickchartButtonEl.classList.add('colab-df-quickchart-complete');\n",
              "    }\n",
              "    (() => {\n",
              "      let quickchartButtonEl =\n",
              "        document.querySelector('#df-387a2782-e42a-4c1b-b344-f072397f9622 button');\n",
              "      quickchartButtonEl.style.display =\n",
              "        google.colab.kernel.accessAllowed ? 'block' : 'none';\n",
              "    })();\n",
              "  </script>\n",
              "</div>\n",
              "\n",
              "    </div>\n",
              "  </div>\n"
            ],
            "application/vnd.google.colaboratory.intrinsic+json": {
              "type": "dataframe",
              "variable_name": "df_product_co_purchase"
            }
          },
          "metadata": {},
          "execution_count": 69
        }
      ]
    },
    {
      "cell_type": "markdown",
      "source": [
        "### Problem description\n",
        "\n",
        "When you click `snowboarding pants A`, co-purchased items such as `ski glove B` or `ski goggle C` will be listed. You may look at the glove and goggle, and think \"is there any other pants that go better with these items?\" In other words, what are some similar items with this one (that I'm viewing) that has similar co-purchased items?\n",
        "\n",
        "You have the co_purchased item data. Let's build a recommender system that recommends other items that have similar co_purchasing pattern."
      ],
      "metadata": {
        "id": "_p857Mbm_-Wm"
      }
    },
    {
      "cell_type": "code",
      "source": [
        "set_purchased_item_nodes = set(df_product_co_purchase[\"purchased_item\"].unique())\n",
        "set_co_purchased_item_nodes = set(df_product_co_purchase[\"co_purchased_item\"].unique())\n",
        "set_item_nodes = set_purchased_item_nodes.union( set_co_purchased_item_nodes )\n",
        "list_item_nodes = list(set_item_nodes)"
      ],
      "metadata": {
        "id": "e8d2FGZnCTP-"
      },
      "execution_count": 70,
      "outputs": []
    },
    {
      "cell_type": "code",
      "source": [
        "list_item_edges = df_product_co_purchase.values\n",
        "list_item_edges[:3]"
      ],
      "metadata": {
        "id": "cuVbUO8wCTGr",
        "colab": {
          "base_uri": "https://localhost:8080/"
        },
        "outputId": "e08c10da-5494-4982-ba2b-239e68dcfa7d"
      },
      "execution_count": 71,
      "outputs": [
        {
          "output_type": "execute_result",
          "data": {
            "text/plain": [
              "array([[0, 1],\n",
              "       [0, 2],\n",
              "       [0, 3]])"
            ]
          },
          "metadata": {},
          "execution_count": 71
        }
      ]
    },
    {
      "cell_type": "code",
      "source": [
        "DiG_amazon_nx = nx.DiGraph()\n",
        "DiG_amazon_nx.add_nodes_from(list_item_nodes)\n",
        "DiG_amazon_nx.add_edges_from(list_item_edges)"
      ],
      "metadata": {
        "id": "YvQgkwJV8vXw"
      },
      "execution_count": 72,
      "outputs": []
    },
    {
      "cell_type": "code",
      "source": [
        "print(DiG_amazon_nx)"
      ],
      "metadata": {
        "colab": {
          "base_uri": "https://localhost:8080/"
        },
        "id": "oRJl-TsybgSn",
        "outputId": "75eb679d-bc91-4ebd-bb43-c568927201b8"
      },
      "execution_count": 73,
      "outputs": [
        {
          "output_type": "stream",
          "name": "stdout",
          "text": [
            "DiGraph with 262111 nodes and 1234877 edges\n"
          ]
        }
      ]
    },
    {
      "cell_type": "markdown",
      "source": [
        "Note: This is a directed graph, and we need to find common neighbors from outgoing edges. However, there is no predefined function in `networkx` for this. So let's implement this our own.\n",
        "\n",
        "The logic is the following:\n",
        "- For all possible pair of items (say, item x-item y)\n",
        "  - (1) get the set of nodes in item x's outgoing edges\n",
        "  - (2) get the set of nodes in item y's outgoing edges\n",
        "  - (3) get the intersection of the two sets from (1) and (2), and save the size of the set.\n",
        "\n",
        "Once the computation is done, for a query item (e.g., item z), recommend the item that is the most similar to query item.\n",
        "\n",
        "Note: Do not run the cell below - it'll crash due to memory. Because the graph is large, it's not feasible to save all the pairs of similarity into this large 2-d array. Therefore, let's write a function that takes in the query item and return the most similar item, following the same logic (but just computing for each pair of item). Let's write it memory efficiently.\n",
        "\n",
        "Let's use the `networkx` function, called `successors`. The definition is as follows: \"A successor of n is a node m such that there exists a directed edge from n to m.\""
      ],
      "metadata": {
        "id": "NXfQ1BaVD9QE"
      }
    },
    {
      "cell_type": "code",
      "source": [
        "# n_nodes_DiG_amazon = len(set_item_nodes)\n",
        "# amazon_item_similarity_2d_array = np.zeros((n_nodes_DiG_amazon, n_nodes_DiG_amazon)).astype(int)"
      ],
      "metadata": {
        "id": "0ZSdUIvE8vTK"
      },
      "execution_count": 74,
      "outputs": []
    },
    {
      "cell_type": "code",
      "source": [
        "# Memory efficient implementation.\n",
        "def recommend_item_based_on_co_purchase(G, query_item):\n",
        "    best_item = None\n",
        "    max_similarity_score = -1\n",
        "\n",
        "    query_item_successors_iterator = G.successors(query_item)\n",
        "    set_of_query_item_successors = set([v for v in query_item_successors_iterator])\n",
        "\n",
        "    for candidate_item in G.nodes():\n",
        "        if candidate_item != query_item:\n",
        "            candidate_item_successors_iterator = G.successors(candidate_item)\n",
        "            set_of_candidate_item_successors = set([v for v in candidate_item_successors_iterator])\n",
        "\n",
        "            set_of_overlaps_in_successors = set_of_query_item_successors.intersection(set_of_candidate_item_successors)\n",
        "            number_of_overlapping_co_purchase_items = len(set_of_overlaps_in_successors)\n",
        "\n",
        "            if number_of_overlapping_co_purchase_items > max_similarity_score:\n",
        "                max_similarity_score = number_of_overlapping_co_purchase_items\n",
        "                best_item = candidate_item\n",
        "\n",
        "    return best_item, max_similarity_score"
      ],
      "metadata": {
        "id": "8beoW7z8HUWp"
      },
      "execution_count": 75,
      "outputs": []
    },
    {
      "cell_type": "code",
      "source": [
        "query_item = 1000"
      ],
      "metadata": {
        "id": "VbPwABKTH3n4"
      },
      "execution_count": 76,
      "outputs": []
    },
    {
      "cell_type": "code",
      "source": [
        "recommended_item, max_similarity_score = recommend_item_based_on_co_purchase(DiG_amazon_nx, query_item)\n",
        "print(\"Query Item: {}\\nItem to recommend: {}\\nNumber of overlapping co-purchase items: {}\".format(query_item, recommended_item, max_similarity_score))"
      ],
      "metadata": {
        "id": "WxuAdvuvH63m",
        "colab": {
          "base_uri": "https://localhost:8080/"
        },
        "outputId": "a3be47cb-8530-463c-9b54-d3f0d637473b"
      },
      "execution_count": 77,
      "outputs": [
        {
          "output_type": "stream",
          "name": "stdout",
          "text": [
            "Query Item: 1000\n",
            "Item to recommend: 1863\n",
            "Number of overlapping co-purchase items: 2\n"
          ]
        }
      ]
    },
    {
      "cell_type": "markdown",
      "source": [
        "Finally, let's visualize the query item (and its outgoing edges) as well as the recommended item (and its outgoing edges)"
      ],
      "metadata": {
        "id": "iOoD-g9rH6ij"
      }
    },
    {
      "cell_type": "code",
      "source": [
        "list_of_query_item_successors = [v for v in DiG_amazon_nx.successors(query_item)]\n",
        "set_of_query_item_successors = set(list_of_query_item_successors)\n",
        "\n",
        "list_of_recommended_item_successors = [v for v in DiG_amazon_nx.successors(recommended_item)]\n",
        "set_of_recommended_item_successors = set(list_of_recommended_item_successors)\n",
        "\n",
        "set_of_overlaps_in_successors = set_of_query_item_successors.intersection(set_of_recommended_item_successors)"
      ],
      "metadata": {
        "id": "1IYu3nybPiEH"
      },
      "execution_count": 78,
      "outputs": []
    },
    {
      "cell_type": "code",
      "source": [
        "node_subset = [query_item] + list_of_query_item_successors + [recommended_item] + list_of_recommended_item_successors"
      ],
      "metadata": {
        "id": "h9wJnRZv8vEu"
      },
      "execution_count": 79,
      "outputs": []
    },
    {
      "cell_type": "code",
      "source": [
        "DiG_amazon_subgraph_nx = DiG_amazon_nx.subgraph(node_subset)"
      ],
      "metadata": {
        "id": "8-MeEKA2lcI7"
      },
      "execution_count": 80,
      "outputs": []
    },
    {
      "cell_type": "code",
      "source": [
        "print(DiG_amazon_subgraph_nx)"
      ],
      "metadata": {
        "id": "1N5x2t8FlbvO",
        "colab": {
          "base_uri": "https://localhost:8080/"
        },
        "outputId": "1bce029a-bf41-4873-e000-3bc961f1fd78"
      },
      "execution_count": 81,
      "outputs": [
        {
          "output_type": "stream",
          "name": "stdout",
          "text": [
            "DiGraph with 10 nodes and 22 edges\n"
          ]
        }
      ]
    },
    {
      "cell_type": "code",
      "source": [
        "color_list = []\n",
        "for v in DiG_amazon_subgraph_nx:\n",
        "    if v == query_item:\n",
        "        color_list.append(\"orange\")\n",
        "    elif v == recommended_item:\n",
        "        color_list.append(\"limegreen\")\n",
        "    elif v in set_of_overlaps_in_successors:\n",
        "        color_list.append(\"lightblue\")\n",
        "    else:\n",
        "        color_list.append(\"white\")"
      ],
      "metadata": {
        "id": "XZ9j2k7hOgED"
      },
      "execution_count": 82,
      "outputs": []
    },
    {
      "cell_type": "code",
      "source": [
        "DiG_amazon_subgraph_ig = ig.Graph.from_networkx(DiG_amazon_subgraph_nx)"
      ],
      "metadata": {
        "id": "Qq289IbJNBHy"
      },
      "execution_count": 83,
      "outputs": []
    },
    {
      "cell_type": "code",
      "source": [
        "visual_style_amazon = dict()\n",
        "visual_style_amazon[\"vertex_size\"] = 30\n",
        "visual_style_amazon[\"vertex_color\"] = color_list\n",
        "visual_style_amazon[\"vertex_label\"] = DiG_amazon_subgraph_ig.vs[\"_nx_name\"]\n",
        "visual_style_amazon[\"vertex_label_size\"] = 10\n",
        "visual_style_amazon[\"bbox\"] = (400, 300)\n",
        "visual_style_amazon[\"margin\"] = 20"
      ],
      "metadata": {
        "id": "xjB723sSNBfv"
      },
      "execution_count": 84,
      "outputs": []
    },
    {
      "cell_type": "code",
      "source": [
        "ig.plot(DiG_amazon_subgraph_ig, **visual_style_amazon)"
      ],
      "metadata": {
        "id": "b3ltO0LRNBjj",
        "colab": {
          "base_uri": "https://localhost:8080/",
          "height": 421
        },
        "outputId": "3579fc5b-a083-4f41-8636-6df379e6c872"
      },
      "execution_count": 85,
      "outputs": [
        {
          "output_type": "execute_result",
          "data": {
            "text/plain": [
              "<igraph.drawing.cairo.plot.CairoPlot at 0x782f9d399630>"
            ],
            "image/svg+xml": "<?xml version=\"1.0\" encoding=\"UTF-8\"?>\n<svg xmlns=\"http://www.w3.org/2000/svg\" xmlns:xlink=\"http://www.w3.org/1999/xlink\" width=\"400pt\" height=\"300pt\" viewBox=\"0 0 400 300\" version=\"1.1\">\n<defs>\n<g>\n<symbol overflow=\"visible\" id=\"glyph0-0\">\n<path style=\"stroke:none;\" d=\"M 0.328125 0 L 0.328125 -6.671875 L 2.984375 -6.671875 L 2.984375 0 Z M 0.671875 -0.328125 L 2.65625 -0.328125 L 2.65625 -6.328125 L 0.671875 -6.328125 Z M 0.671875 -0.328125 \"/>\n</symbol>\n<symbol overflow=\"visible\" id=\"glyph0-1\">\n<path style=\"stroke:none;\" d=\"M 0.765625 0 L 0.765625 -0.703125 L 2.90625 -0.703125 L 2.90625 -5.6875 C 2.84375 -5.5625 2.734375 -5.441406 2.578125 -5.328125 C 2.421875 -5.210938 2.238281 -5.109375 2.03125 -5.015625 C 1.832031 -4.929688 1.617188 -4.863281 1.390625 -4.8125 C 1.160156 -4.769531 0.9375 -4.75 0.71875 -4.75 L 0.71875 -5.46875 C 0.957031 -5.46875 1.191406 -5.492188 1.421875 -5.546875 C 1.660156 -5.609375 1.878906 -5.6875 2.078125 -5.78125 C 2.285156 -5.882812 2.46875 -6.003906 2.625 -6.140625 C 2.78125 -6.273438 2.898438 -6.425781 2.984375 -6.59375 L 3.796875 -6.59375 L 3.796875 -0.703125 L 5.515625 -0.703125 L 5.515625 0 Z M 0.765625 0 \"/>\n</symbol>\n<symbol overflow=\"visible\" id=\"glyph0-2\">\n<path style=\"stroke:none;\" d=\"M 5.34375 -1.84375 C 5.34375 -1.570312 5.296875 -1.316406 5.203125 -1.078125 C 5.109375 -0.847656 4.96875 -0.644531 4.78125 -0.46875 C 4.59375 -0.289062 4.347656 -0.148438 4.046875 -0.046875 C 3.753906 0.046875 3.40625 0.09375 3 0.09375 C 2.59375 0.09375 2.242188 0.046875 1.953125 -0.046875 C 1.660156 -0.148438 1.414062 -0.285156 1.21875 -0.453125 C 1.019531 -0.628906 0.875 -0.835938 0.78125 -1.078125 C 0.695312 -1.316406 0.65625 -1.570312 0.65625 -1.84375 C 0.65625 -2.070312 0.691406 -2.28125 0.765625 -2.46875 C 0.835938 -2.65625 0.9375 -2.816406 1.0625 -2.953125 C 1.195312 -3.085938 1.347656 -3.195312 1.515625 -3.28125 C 1.679688 -3.363281 1.847656 -3.421875 2.015625 -3.453125 L 2.015625 -3.46875 C 1.828125 -3.519531 1.65625 -3.59375 1.5 -3.6875 C 1.351562 -3.789062 1.226562 -3.910156 1.125 -4.046875 C 1.019531 -4.179688 0.941406 -4.328125 0.890625 -4.484375 C 0.835938 -4.648438 0.8125 -4.820312 0.8125 -5 C 0.8125 -5.21875 0.859375 -5.425781 0.953125 -5.625 C 1.046875 -5.832031 1.179688 -6.015625 1.359375 -6.171875 C 1.546875 -6.328125 1.773438 -6.453125 2.046875 -6.546875 C 2.316406 -6.640625 2.628906 -6.6875 2.984375 -6.6875 C 3.359375 -6.6875 3.679688 -6.640625 3.953125 -6.546875 C 4.222656 -6.453125 4.445312 -6.328125 4.625 -6.171875 C 4.8125 -6.015625 4.945312 -5.832031 5.03125 -5.625 C 5.125 -5.425781 5.171875 -5.210938 5.171875 -4.984375 C 5.171875 -4.816406 5.144531 -4.648438 5.09375 -4.484375 C 5.039062 -4.328125 4.960938 -4.179688 4.859375 -4.046875 C 4.753906 -3.910156 4.625 -3.789062 4.46875 -3.6875 C 4.320312 -3.59375 4.148438 -3.523438 3.953125 -3.484375 L 3.953125 -3.46875 C 4.148438 -3.425781 4.332031 -3.363281 4.5 -3.28125 C 4.664062 -3.195312 4.8125 -3.085938 4.9375 -2.953125 C 5.0625 -2.816406 5.160156 -2.65625 5.234375 -2.46875 C 5.304688 -2.28125 5.34375 -2.070312 5.34375 -1.84375 Z M 4.265625 -4.9375 C 4.265625 -5.09375 4.238281 -5.238281 4.1875 -5.375 C 4.144531 -5.507812 4.070312 -5.625 3.96875 -5.71875 C 3.875 -5.8125 3.742188 -5.882812 3.578125 -5.9375 C 3.410156 -6 3.210938 -6.03125 2.984375 -6.03125 C 2.753906 -6.03125 2.554688 -6 2.390625 -5.9375 C 2.234375 -5.882812 2.101562 -5.8125 2 -5.71875 C 1.894531 -5.625 1.816406 -5.507812 1.765625 -5.375 C 1.722656 -5.238281 1.703125 -5.09375 1.703125 -4.9375 C 1.703125 -4.820312 1.71875 -4.695312 1.75 -4.5625 C 1.789062 -4.425781 1.859375 -4.300781 1.953125 -4.1875 C 2.046875 -4.082031 2.175781 -3.988281 2.34375 -3.90625 C 2.507812 -3.832031 2.722656 -3.796875 2.984375 -3.796875 C 3.265625 -3.796875 3.488281 -3.832031 3.65625 -3.90625 C 3.820312 -3.988281 3.945312 -4.082031 4.03125 -4.1875 C 4.125 -4.300781 4.1875 -4.425781 4.21875 -4.5625 C 4.25 -4.695312 4.265625 -4.820312 4.265625 -4.9375 Z M 4.421875 -1.921875 C 4.421875 -2.078125 4.398438 -2.222656 4.359375 -2.359375 C 4.316406 -2.503906 4.238281 -2.632812 4.125 -2.75 C 4.007812 -2.875 3.859375 -2.96875 3.671875 -3.03125 C 3.492188 -3.101562 3.265625 -3.140625 2.984375 -3.140625 C 2.722656 -3.140625 2.5 -3.101562 2.3125 -3.03125 C 2.132812 -2.96875 1.988281 -2.875 1.875 -2.75 C 1.769531 -2.632812 1.691406 -2.503906 1.640625 -2.359375 C 1.585938 -2.210938 1.5625 -2.0625 1.5625 -1.90625 C 1.5625 -1.71875 1.585938 -1.539062 1.640625 -1.375 C 1.691406 -1.207031 1.773438 -1.0625 1.890625 -0.9375 C 2.003906 -0.820312 2.148438 -0.726562 2.328125 -0.65625 C 2.515625 -0.59375 2.742188 -0.5625 3.015625 -0.5625 C 3.273438 -0.5625 3.492188 -0.59375 3.671875 -0.65625 C 3.859375 -0.726562 4.003906 -0.820312 4.109375 -0.9375 C 4.222656 -1.0625 4.300781 -1.207031 4.34375 -1.375 C 4.394531 -1.539062 4.421875 -1.722656 4.421875 -1.921875 Z M 4.421875 -1.921875 \"/>\n</symbol>\n<symbol overflow=\"visible\" id=\"glyph0-3\">\n<path style=\"stroke:none;\" d=\"M 5.359375 -2.171875 C 5.359375 -1.847656 5.304688 -1.546875 5.203125 -1.265625 C 5.097656 -0.984375 4.941406 -0.742188 4.734375 -0.546875 C 4.535156 -0.347656 4.285156 -0.191406 3.984375 -0.078125 C 3.679688 0.0351562 3.328125 0.09375 2.921875 0.09375 C 2.566406 0.09375 2.253906 0.0507812 1.984375 -0.03125 C 1.710938 -0.113281 1.484375 -0.226562 1.296875 -0.375 C 1.109375 -0.519531 0.957031 -0.691406 0.84375 -0.890625 C 0.738281 -1.097656 0.664062 -1.3125 0.625 -1.53125 L 1.515625 -1.640625 C 1.546875 -1.515625 1.59375 -1.390625 1.65625 -1.265625 C 1.726562 -1.140625 1.816406 -1.03125 1.921875 -0.9375 C 2.035156 -0.84375 2.175781 -0.765625 2.34375 -0.703125 C 2.507812 -0.648438 2.707031 -0.625 2.9375 -0.625 C 3.164062 -0.625 3.375 -0.65625 3.5625 -0.71875 C 3.75 -0.789062 3.90625 -0.890625 4.03125 -1.015625 C 4.164062 -1.148438 4.269531 -1.3125 4.34375 -1.5 C 4.414062 -1.695312 4.453125 -1.914062 4.453125 -2.15625 C 4.453125 -2.34375 4.414062 -2.519531 4.34375 -2.6875 C 4.28125 -2.851562 4.1875 -3 4.0625 -3.125 C 3.9375 -3.25 3.78125 -3.347656 3.59375 -3.421875 C 3.40625 -3.492188 3.195312 -3.53125 2.96875 -3.53125 C 2.820312 -3.53125 2.6875 -3.515625 2.5625 -3.484375 C 2.4375 -3.460938 2.320312 -3.425781 2.21875 -3.375 C 2.113281 -3.332031 2.015625 -3.28125 1.921875 -3.21875 C 1.835938 -3.15625 1.757812 -3.09375 1.6875 -3.03125 L 0.828125 -3.03125 L 1.0625 -6.59375 L 4.96875 -6.59375 L 4.96875 -5.875 L 1.859375 -5.875 L 1.71875 -3.796875 C 1.875 -3.921875 2.066406 -4.023438 2.296875 -4.109375 C 2.535156 -4.203125 2.816406 -4.25 3.140625 -4.25 C 3.484375 -4.25 3.789062 -4.195312 4.0625 -4.09375 C 4.34375 -3.988281 4.578125 -3.84375 4.765625 -3.65625 C 4.953125 -3.46875 5.097656 -3.25 5.203125 -3 C 5.304688 -2.75 5.359375 -2.472656 5.359375 -2.171875 Z M 5.359375 -2.171875 \"/>\n</symbol>\n<symbol overflow=\"visible\" id=\"glyph0-4\">\n<path style=\"stroke:none;\" d=\"M 5.3125 -3.4375 C 5.3125 -2.851562 5.253906 -2.34375 5.140625 -1.90625 C 5.023438 -1.46875 4.859375 -1.097656 4.640625 -0.796875 C 4.429688 -0.503906 4.171875 -0.28125 3.859375 -0.125 C 3.554688 0.0195312 3.207031 0.09375 2.8125 0.09375 C 2.550781 0.09375 2.3125 0.0664062 2.09375 0.015625 C 1.882812 -0.0351562 1.695312 -0.117188 1.53125 -0.234375 C 1.375 -0.347656 1.234375 -0.492188 1.109375 -0.671875 C 0.992188 -0.859375 0.898438 -1.082031 0.828125 -1.34375 L 1.671875 -1.46875 C 1.765625 -1.175781 1.90625 -0.957031 2.09375 -0.8125 C 2.289062 -0.675781 2.535156 -0.609375 2.828125 -0.609375 C 3.066406 -0.609375 3.285156 -0.660156 3.484375 -0.765625 C 3.679688 -0.878906 3.847656 -1.046875 3.984375 -1.265625 C 4.117188 -1.484375 4.226562 -1.75 4.3125 -2.0625 C 4.394531 -2.382812 4.4375 -2.753906 4.4375 -3.171875 C 4.375 -3.015625 4.28125 -2.875 4.15625 -2.75 C 4.039062 -2.632812 3.90625 -2.535156 3.75 -2.453125 C 3.601562 -2.367188 3.441406 -2.304688 3.265625 -2.265625 C 3.085938 -2.222656 2.910156 -2.203125 2.734375 -2.203125 C 2.421875 -2.203125 2.132812 -2.253906 1.875 -2.359375 C 1.625 -2.472656 1.410156 -2.628906 1.234375 -2.828125 C 1.066406 -3.023438 0.929688 -3.257812 0.828125 -3.53125 C 0.734375 -3.8125 0.6875 -4.117188 0.6875 -4.453125 C 0.6875 -4.785156 0.738281 -5.085938 0.84375 -5.359375 C 0.945312 -5.640625 1.09375 -5.878906 1.28125 -6.078125 C 1.476562 -6.273438 1.71875 -6.425781 2 -6.53125 C 2.289062 -6.632812 2.617188 -6.6875 2.984375 -6.6875 C 3.742188 -6.6875 4.320312 -6.414062 4.71875 -5.875 C 5.113281 -5.332031 5.3125 -4.519531 5.3125 -3.4375 Z M 4.34375 -4.203125 C 4.34375 -4.441406 4.3125 -4.664062 4.25 -4.875 C 4.195312 -5.09375 4.109375 -5.28125 3.984375 -5.4375 C 3.867188 -5.601562 3.722656 -5.734375 3.546875 -5.828125 C 3.378906 -5.929688 3.179688 -5.984375 2.953125 -5.984375 C 2.734375 -5.984375 2.539062 -5.941406 2.375 -5.859375 C 2.207031 -5.785156 2.0625 -5.679688 1.9375 -5.546875 C 1.820312 -5.421875 1.734375 -5.265625 1.671875 -5.078125 C 1.609375 -4.890625 1.578125 -4.679688 1.578125 -4.453125 C 1.578125 -4.234375 1.601562 -4.03125 1.65625 -3.84375 C 1.71875 -3.65625 1.804688 -3.488281 1.921875 -3.34375 C 2.035156 -3.207031 2.175781 -3.097656 2.34375 -3.015625 C 2.519531 -2.929688 2.71875 -2.890625 2.9375 -2.890625 C 3.101562 -2.890625 3.269531 -2.914062 3.4375 -2.96875 C 3.601562 -3.03125 3.753906 -3.113281 3.890625 -3.21875 C 4.023438 -3.332031 4.132812 -3.46875 4.21875 -3.625 C 4.300781 -3.789062 4.34375 -3.984375 4.34375 -4.203125 Z M 4.34375 -4.203125 \"/>\n</symbol>\n<symbol overflow=\"visible\" id=\"glyph0-5\">\n<path style=\"stroke:none;\" d=\"M 5.359375 -2.171875 C 5.359375 -1.847656 5.304688 -1.546875 5.203125 -1.265625 C 5.109375 -0.992188 4.96875 -0.753906 4.78125 -0.546875 C 4.59375 -0.347656 4.359375 -0.191406 4.078125 -0.078125 C 3.804688 0.0351562 3.488281 0.09375 3.125 0.09375 C 2.726562 0.09375 2.378906 0.0195312 2.078125 -0.125 C 1.773438 -0.28125 1.523438 -0.5 1.328125 -0.78125 C 1.128906 -1.0625 0.976562 -1.398438 0.875 -1.796875 C 0.78125 -2.191406 0.734375 -2.640625 0.734375 -3.140625 C 0.734375 -3.710938 0.789062 -4.21875 0.90625 -4.65625 C 1.019531 -5.101562 1.179688 -5.472656 1.390625 -5.765625 C 1.597656 -6.066406 1.851562 -6.296875 2.15625 -6.453125 C 2.46875 -6.609375 2.816406 -6.6875 3.203125 -6.6875 C 3.429688 -6.6875 3.648438 -6.660156 3.859375 -6.609375 C 4.066406 -6.566406 4.253906 -6.488281 4.421875 -6.375 C 4.585938 -6.269531 4.734375 -6.125 4.859375 -5.9375 C 4.984375 -5.757812 5.082031 -5.539062 5.15625 -5.28125 L 4.328125 -5.140625 C 4.234375 -5.429688 4.082031 -5.644531 3.875 -5.78125 C 3.675781 -5.914062 3.445312 -5.984375 3.1875 -5.984375 C 2.945312 -5.984375 2.726562 -5.925781 2.53125 -5.8125 C 2.332031 -5.695312 2.164062 -5.53125 2.03125 -5.3125 C 1.894531 -5.09375 1.789062 -4.820312 1.71875 -4.5 C 1.644531 -4.1875 1.609375 -3.816406 1.609375 -3.390625 C 1.765625 -3.691406 1.988281 -3.914062 2.28125 -4.0625 C 2.570312 -4.21875 2.90625 -4.296875 3.28125 -4.296875 C 3.59375 -4.296875 3.875 -4.242188 4.125 -4.140625 C 4.382812 -4.046875 4.601562 -3.90625 4.78125 -3.71875 C 4.96875 -3.53125 5.109375 -3.304688 5.203125 -3.046875 C 5.304688 -2.785156 5.359375 -2.492188 5.359375 -2.171875 Z M 4.453125 -2.140625 C 4.453125 -2.359375 4.421875 -2.554688 4.359375 -2.734375 C 4.304688 -2.921875 4.222656 -3.078125 4.109375 -3.203125 C 3.992188 -3.335938 3.847656 -3.441406 3.671875 -3.515625 C 3.492188 -3.585938 3.296875 -3.625 3.078125 -3.625 C 2.910156 -3.625 2.742188 -3.597656 2.578125 -3.546875 C 2.421875 -3.492188 2.273438 -3.410156 2.140625 -3.296875 C 2.015625 -3.191406 1.910156 -3.0625 1.828125 -2.90625 C 1.742188 -2.75 1.703125 -2.5625 1.703125 -2.34375 C 1.703125 -2.113281 1.734375 -1.894531 1.796875 -1.6875 C 1.859375 -1.476562 1.953125 -1.289062 2.078125 -1.125 C 2.203125 -0.96875 2.347656 -0.84375 2.515625 -0.75 C 2.691406 -0.65625 2.882812 -0.609375 3.09375 -0.609375 C 3.3125 -0.609375 3.503906 -0.644531 3.671875 -0.71875 C 3.835938 -0.789062 3.976562 -0.894531 4.09375 -1.03125 C 4.207031 -1.164062 4.296875 -1.328125 4.359375 -1.515625 C 4.421875 -1.703125 4.453125 -1.910156 4.453125 -2.140625 Z M 4.453125 -2.140625 \"/>\n</symbol>\n<symbol overflow=\"visible\" id=\"glyph0-6\">\n<path style=\"stroke:none;\" d=\"M 5.390625 -3.296875 C 5.390625 -2.660156 5.328125 -2.125 5.203125 -1.6875 C 5.078125 -1.257812 4.90625 -0.910156 4.6875 -0.640625 C 4.46875 -0.378906 4.210938 -0.191406 3.921875 -0.078125 C 3.628906 0.0351562 3.316406 0.09375 2.984375 0.09375 C 2.648438 0.09375 2.335938 0.0351562 2.046875 -0.078125 C 1.753906 -0.191406 1.5 -0.378906 1.28125 -0.640625 C 1.070312 -0.910156 0.90625 -1.257812 0.78125 -1.6875 C 0.664062 -2.125 0.609375 -2.660156 0.609375 -3.296875 C 0.609375 -3.960938 0.664062 -4.507812 0.78125 -4.9375 C 0.90625 -5.375 1.070312 -5.722656 1.28125 -5.984375 C 1.5 -6.242188 1.753906 -6.425781 2.046875 -6.53125 C 2.347656 -6.632812 2.671875 -6.6875 3.015625 -6.6875 C 3.335938 -6.6875 3.644531 -6.632812 3.9375 -6.53125 C 4.226562 -6.425781 4.476562 -6.242188 4.6875 -5.984375 C 4.90625 -5.722656 5.078125 -5.375 5.203125 -4.9375 C 5.328125 -4.507812 5.390625 -3.960938 5.390625 -3.296875 Z M 4.5 -3.296875 C 4.5 -3.816406 4.460938 -4.25 4.390625 -4.59375 C 4.328125 -4.9375 4.234375 -5.207031 4.109375 -5.40625 C 3.984375 -5.613281 3.828125 -5.757812 3.640625 -5.84375 C 3.453125 -5.9375 3.242188 -5.984375 3.015625 -5.984375 C 2.765625 -5.984375 2.546875 -5.9375 2.359375 -5.84375 C 2.171875 -5.757812 2.007812 -5.613281 1.875 -5.40625 C 1.75 -5.207031 1.65625 -4.9375 1.59375 -4.59375 C 1.53125 -4.25 1.5 -3.816406 1.5 -3.296875 C 1.5 -2.796875 1.53125 -2.375 1.59375 -2.03125 C 1.65625 -1.6875 1.75 -1.410156 1.875 -1.203125 C 2.007812 -0.992188 2.171875 -0.84375 2.359375 -0.75 C 2.546875 -0.664062 2.757812 -0.625 3 -0.625 C 3.226562 -0.625 3.429688 -0.664062 3.609375 -0.75 C 3.796875 -0.84375 3.953125 -0.992188 4.078125 -1.203125 C 4.210938 -1.410156 4.316406 -1.6875 4.390625 -2.03125 C 4.460938 -2.375 4.5 -2.796875 4.5 -3.296875 Z M 2.421875 -2.703125 L 2.421875 -3.921875 L 3.5625 -3.921875 L 3.5625 -2.703125 Z M 2.421875 -2.703125 \"/>\n</symbol>\n<symbol overflow=\"visible\" id=\"glyph0-7\">\n<path style=\"stroke:none;\" d=\"M 0.703125 0 L 0.703125 -0.578125 C 0.847656 -0.890625 1.035156 -1.175781 1.265625 -1.4375 C 1.503906 -1.707031 1.753906 -1.957031 2.015625 -2.1875 C 2.285156 -2.425781 2.550781 -2.65625 2.8125 -2.875 C 3.082031 -3.09375 3.328125 -3.304688 3.546875 -3.515625 C 3.765625 -3.722656 3.941406 -3.9375 4.078125 -4.15625 C 4.210938 -4.375 4.28125 -4.601562 4.28125 -4.84375 C 4.28125 -5.03125 4.25 -5.195312 4.1875 -5.34375 C 4.125 -5.488281 4.035156 -5.601562 3.921875 -5.6875 C 3.804688 -5.78125 3.664062 -5.847656 3.5 -5.890625 C 3.34375 -5.941406 3.171875 -5.96875 2.984375 -5.96875 C 2.804688 -5.96875 2.640625 -5.941406 2.484375 -5.890625 C 2.335938 -5.847656 2.207031 -5.773438 2.09375 -5.671875 C 1.976562 -5.578125 1.882812 -5.457031 1.8125 -5.3125 C 1.738281 -5.164062 1.691406 -5 1.671875 -4.8125 L 0.78125 -4.890625 C 0.8125 -5.140625 0.878906 -5.367188 0.984375 -5.578125 C 1.085938 -5.796875 1.226562 -5.988281 1.40625 -6.15625 C 1.582031 -6.320312 1.800781 -6.453125 2.0625 -6.546875 C 2.332031 -6.640625 2.640625 -6.6875 2.984375 -6.6875 C 3.328125 -6.6875 3.632812 -6.644531 3.90625 -6.5625 C 4.175781 -6.488281 4.40625 -6.375 4.59375 -6.21875 C 4.789062 -6.070312 4.9375 -5.882812 5.03125 -5.65625 C 5.132812 -5.4375 5.1875 -5.179688 5.1875 -4.890625 C 5.1875 -4.585938 5.113281 -4.300781 4.96875 -4.03125 C 4.832031 -3.769531 4.65625 -3.519531 4.4375 -3.28125 C 4.21875 -3.050781 3.972656 -2.832031 3.703125 -2.625 C 3.441406 -2.414062 3.179688 -2.207031 2.921875 -2 C 2.671875 -1.789062 2.441406 -1.582031 2.234375 -1.375 C 2.023438 -1.164062 1.867188 -0.945312 1.765625 -0.71875 L 5.296875 -0.71875 L 5.296875 0 Z M 0.703125 0 \"/>\n</symbol>\n<symbol overflow=\"visible\" id=\"glyph0-8\">\n<path style=\"stroke:none;\" d=\"M 5.359375 -1.8125 C 5.359375 -1.507812 5.304688 -1.238281 5.203125 -1 C 5.109375 -0.769531 4.960938 -0.570312 4.765625 -0.40625 C 4.566406 -0.25 4.320312 -0.125 4.03125 -0.03125 C 3.738281 0.0507812 3.40625 0.09375 3.03125 0.09375 C 2.601562 0.09375 2.242188 0.0390625 1.953125 -0.0625 C 1.660156 -0.164062 1.421875 -0.304688 1.234375 -0.484375 C 1.046875 -0.660156 0.90625 -0.859375 0.8125 -1.078125 C 0.71875 -1.296875 0.65625 -1.523438 0.625 -1.765625 L 1.53125 -1.84375 C 1.5625 -1.664062 1.609375 -1.5 1.671875 -1.34375 C 1.742188 -1.195312 1.835938 -1.070312 1.953125 -0.96875 C 2.078125 -0.863281 2.226562 -0.78125 2.40625 -0.71875 C 2.582031 -0.65625 2.789062 -0.625 3.03125 -0.625 C 3.476562 -0.625 3.828125 -0.726562 4.078125 -0.9375 C 4.328125 -1.144531 4.453125 -1.445312 4.453125 -1.84375 C 4.453125 -2.0625 4.394531 -2.242188 4.28125 -2.390625 C 4.164062 -2.535156 4.023438 -2.648438 3.859375 -2.734375 C 3.691406 -2.816406 3.507812 -2.875 3.3125 -2.90625 C 3.113281 -2.945312 2.9375 -2.96875 2.78125 -2.96875 L 2.28125 -2.96875 L 2.28125 -3.734375 L 2.75 -3.734375 C 2.914062 -3.734375 3.085938 -3.753906 3.265625 -3.796875 C 3.453125 -3.835938 3.617188 -3.898438 3.765625 -3.984375 C 3.910156 -4.078125 4.03125 -4.195312 4.125 -4.34375 C 4.21875 -4.488281 4.265625 -4.664062 4.265625 -4.875 C 4.265625 -5.21875 4.15625 -5.484375 3.9375 -5.671875 C 3.726562 -5.867188 3.410156 -5.96875 2.984375 -5.96875 C 2.597656 -5.96875 2.285156 -5.867188 2.046875 -5.671875 C 1.804688 -5.472656 1.664062 -5.191406 1.625 -4.828125 L 0.75 -4.890625 C 0.78125 -5.203125 0.859375 -5.46875 0.984375 -5.6875 C 1.117188 -5.914062 1.285156 -6.101562 1.484375 -6.25 C 1.679688 -6.394531 1.910156 -6.503906 2.171875 -6.578125 C 2.429688 -6.648438 2.707031 -6.6875 3 -6.6875 C 3.382812 -6.6875 3.710938 -6.640625 3.984375 -6.546875 C 4.265625 -6.460938 4.488281 -6.34375 4.65625 -6.1875 C 4.832031 -6.03125 4.960938 -5.84375 5.046875 -5.625 C 5.128906 -5.414062 5.171875 -5.195312 5.171875 -4.96875 C 5.171875 -4.78125 5.140625 -4.601562 5.078125 -4.4375 C 5.023438 -4.269531 4.9375 -4.113281 4.8125 -3.96875 C 4.695312 -3.832031 4.546875 -3.710938 4.359375 -3.609375 C 4.179688 -3.503906 3.972656 -3.429688 3.734375 -3.390625 L 3.734375 -3.359375 C 4.003906 -3.335938 4.238281 -3.273438 4.4375 -3.171875 C 4.644531 -3.078125 4.816406 -2.957031 4.953125 -2.8125 C 5.085938 -2.675781 5.1875 -2.519531 5.25 -2.34375 C 5.320312 -2.164062 5.359375 -1.988281 5.359375 -1.8125 Z M 5.359375 -1.8125 \"/>\n</symbol>\n</g>\n</defs>\n<g id=\"surface44\">\n<rect x=\"0\" y=\"0\" width=\"400\" height=\"300\" style=\"fill:rgb(100%,100%,100%);fill-opacity:1;stroke:none;\"/>\n<path style=\"fill:none;stroke-width:1;stroke-linecap:butt;stroke-linejoin:miter;stroke:rgb(26.666667%,26.666667%,26.666667%);stroke-opacity:1;stroke-miterlimit:10;\" d=\"M 341.886719 54.765625 C 312.011719 43.226562 283.203125 47.902344 267.910156 75.640625 \"/>\n<path style=\" stroke:none;fill-rule:nonzero;fill:rgb(26.666667%,26.666667%,26.666667%);fill-opacity:1;\" d=\"M 261.023438 88.132812 L 263.851562 73.402344 L 271.96875 77.878906 L 261.023438 88.132812 \"/>\n<path style=\"fill:none;stroke-width:1;stroke-linecap:butt;stroke-linejoin:miter;stroke:rgb(26.666667%,26.666667%,26.666667%);stroke-opacity:1;stroke-miterlimit:10;\" d=\"M 141.363281 147.019531 C 178.613281 163.929688 214.476562 159.515625 237.234375 125.847656 \"/>\n<path style=\" stroke:none;fill-rule:nonzero;fill:rgb(26.666667%,26.666667%,26.666667%);fill-opacity:1;\" d=\"M 245.226562 114.03125 L 241.074219 128.445312 L 233.394531 123.253906 L 245.226562 114.03125 \"/>\n<path style=\"fill:none;stroke-width:1;stroke-linecap:butt;stroke-linejoin:miter;stroke:rgb(26.666667%,26.666667%,26.666667%);stroke-opacity:1;stroke-miterlimit:10;\" d=\"M 141.363281 147.019531 C 124.648438 152.589844 112.257812 165.527344 117.292969 181.777344 \"/>\n<path style=\" stroke:none;fill-rule:nonzero;fill:rgb(26.666667%,26.666667%,26.666667%);fill-opacity:1;\" d=\"M 121.515625 195.402344 L 112.867188 183.148438 L 121.722656 180.402344 L 121.515625 195.402344 \"/>\n<path style=\"fill:none;stroke-width:1;stroke-linecap:butt;stroke-linejoin:miter;stroke:rgb(26.666667%,26.666667%,26.666667%);stroke-opacity:1;stroke-miterlimit:10;\" d=\"M 141.363281 147.019531 C 125.761719 137.476562 107.359375 136.347656 97.667969 151.164062 \"/>\n<path style=\" stroke:none;fill-rule:nonzero;fill:rgb(26.666667%,26.666667%,26.666667%);fill-opacity:1;\" d=\"M 89.859375 163.101562 L 93.789062 148.625 L 101.546875 153.699219 L 89.859375 163.101562 \"/>\n<path style=\"fill:none;stroke-width:1;stroke-linecap:butt;stroke-linejoin:miter;stroke:rgb(26.666667%,26.666667%,26.666667%);stroke-opacity:1;stroke-miterlimit:10;\" d=\"M 126.042969 210.011719 L 214.695312 177.5625 \"/>\n<path style=\" stroke:none;fill-rule:nonzero;fill:rgb(26.666667%,26.666667%,26.666667%);fill-opacity:1;\" d=\"M 228.089844 172.660156 L 216.289062 181.917969 L 213.101562 173.210938 L 228.089844 172.660156 \"/>\n<path style=\"fill:none;stroke-width:1;stroke-linecap:butt;stroke-linejoin:miter;stroke:rgb(26.666667%,26.666667%,26.666667%);stroke-opacity:1;stroke-miterlimit:10;\" d=\"M 126.042969 210.011719 C 146.335938 238.875 175.304688 251.859375 206.5625 236.210938 \"/>\n<path style=\" stroke:none;fill-rule:nonzero;fill:rgb(26.666667%,26.666667%,26.666667%);fill-opacity:1;\" d=\"M 219.320312 229.824219 L 208.636719 240.355469 L 204.488281 232.066406 L 219.320312 229.824219 \"/>\n<path style=\"fill:none;stroke-width:1;stroke-linecap:butt;stroke-linejoin:miter;stroke:rgb(26.666667%,26.666667%,26.666667%);stroke-opacity:1;stroke-miterlimit:10;\" d=\"M 126.042969 210.011719 L 44.425781 263.878906 \"/>\n<path style=\" stroke:none;fill-rule:nonzero;fill:rgb(26.666667%,26.666667%,26.666667%);fill-opacity:1;\" d=\"M 32.519531 271.738281 L 41.871094 260.011719 L 46.980469 267.746094 L 32.519531 271.738281 \"/>\n<path style=\"fill:none;stroke-width:1;stroke-linecap:butt;stroke-linejoin:miter;stroke:rgb(26.666667%,26.666667%,26.666667%);stroke-opacity:1;stroke-miterlimit:10;\" d=\"M 126.042969 210.011719 C 142.757812 204.441406 155.148438 191.503906 150.113281 175.253906 \"/>\n<path style=\" stroke:none;fill-rule:nonzero;fill:rgb(26.666667%,26.666667%,26.666667%);fill-opacity:1;\" d=\"M 145.890625 161.628906 L 154.539062 173.882812 L 145.683594 176.625 L 145.890625 161.628906 \"/>\n<path style=\"fill:none;stroke-width:1;stroke-linecap:butt;stroke-linejoin:miter;stroke:rgb(26.666667%,26.666667%,26.666667%);stroke-opacity:1;stroke-miterlimit:10;\" d=\"M 126.042969 210.011719 C 128.464844 196.074219 123.914062 181.527344 110.621094 179.773438 \"/>\n<path style=\" stroke:none;fill-rule:nonzero;fill:rgb(26.666667%,26.666667%,26.666667%);fill-opacity:1;\" d=\"M 96.476562 177.902344 L 111.226562 175.175781 L 110.015625 184.367188 L 96.476562 177.902344 \"/>\n<path style=\"fill:none;stroke-width:1;stroke-linecap:butt;stroke-linejoin:miter;stroke:rgb(26.666667%,26.666667%,26.666667%);stroke-opacity:1;stroke-miterlimit:10;\" d=\"M 253.457031 101.851562 C 236.589844 109.039062 224.976562 123.402344 231.425781 139.941406 \"/>\n<path style=\" stroke:none;fill-rule:nonzero;fill:rgb(26.666667%,26.666667%,26.666667%);fill-opacity:1;\" d=\"M 236.609375 153.230469 L 227.109375 141.625 L 235.746094 138.257812 L 236.609375 153.230469 \"/>\n<path style=\"fill:none;stroke-width:1;stroke-linecap:butt;stroke-linejoin:miter;stroke:rgb(26.666667%,26.666667%,26.666667%);stroke-opacity:1;stroke-miterlimit:10;\" d=\"M 253.457031 101.851562 L 351.765625 128.675781 \"/>\n<path style=\" stroke:none;fill-rule:nonzero;fill:rgb(26.666667%,26.666667%,26.666667%);fill-opacity:1;\" d=\"M 365.527344 132.429688 L 350.546875 133.148438 L 352.988281 124.203125 L 365.527344 132.429688 \"/>\n<path style=\"fill:none;stroke-width:1;stroke-linecap:butt;stroke-linejoin:miter;stroke:rgb(26.666667%,26.666667%,26.666667%);stroke-opacity:1;stroke-miterlimit:10;\" d=\"M 253.457031 101.851562 C 283.335938 113.386719 312.140625 108.714844 327.433594 80.976562 \"/>\n<path style=\" stroke:none;fill-rule:nonzero;fill:rgb(26.666667%,26.666667%,26.666667%);fill-opacity:1;\" d=\"M 334.324219 68.484375 L 331.496094 83.214844 L 323.375 78.738281 L 334.324219 68.484375 \"/>\n<path style=\"fill:none;stroke-width:1;stroke-linecap:butt;stroke-linejoin:miter;stroke:rgb(26.666667%,26.666667%,26.666667%);stroke-opacity:1;stroke-miterlimit:10;\" d=\"M 253.457031 101.851562 C 216.207031 84.941406 180.34375 89.355469 157.582031 123.023438 \"/>\n<path style=\" stroke:none;fill-rule:nonzero;fill:rgb(26.666667%,26.666667%,26.666667%);fill-opacity:1;\" d=\"M 149.59375 134.839844 L 153.742188 120.425781 L 161.421875 125.617188 L 149.59375 134.839844 \"/>\n<path style=\"fill:none;stroke-width:1;stroke-linecap:butt;stroke-linejoin:miter;stroke:rgb(26.666667%,26.666667%,26.666667%);stroke-opacity:1;stroke-miterlimit:10;\" d=\"M 253.457031 101.851562 L 220.734375 45.328125 \"/>\n<path style=\" stroke:none;fill-rule:nonzero;fill:rgb(26.666667%,26.666667%,26.666667%);fill-opacity:1;\" d=\"M 213.589844 32.980469 L 224.746094 43.003906 L 216.726562 47.648438 L 213.589844 32.980469 \"/>\n<path style=\"fill:none;stroke-width:1;stroke-linecap:butt;stroke-linejoin:miter;stroke:rgb(26.666667%,26.666667%,26.666667%);stroke-opacity:1;stroke-miterlimit:10;\" d=\"M 242.179688 167.503906 C 259.042969 160.316406 270.660156 145.953125 264.210938 129.414062 \"/>\n<path style=\" stroke:none;fill-rule:nonzero;fill:rgb(26.666667%,26.666667%,26.666667%);fill-opacity:1;\" d=\"M 259.023438 116.125 L 268.527344 127.730469 L 259.890625 131.101562 L 259.023438 116.125 \"/>\n<path style=\"fill:none;stroke-width:1;stroke-linecap:butt;stroke-linejoin:miter;stroke:rgb(26.666667%,26.666667%,26.666667%);stroke-opacity:1;stroke-miterlimit:10;\" d=\"M 242.179688 167.503906 L 351.453125 142.828125 \"/>\n<path style=\" stroke:none;fill-rule:nonzero;fill:rgb(26.666667%,26.666667%,26.666667%);fill-opacity:1;\" d=\"M 365.367188 139.683594 L 352.472656 147.347656 L 350.433594 138.304688 L 365.367188 139.683594 \"/>\n<path style=\"fill:none;stroke-width:1;stroke-linecap:butt;stroke-linejoin:miter;stroke:rgb(26.666667%,26.666667%,26.666667%);stroke-opacity:1;stroke-miterlimit:10;\" d=\"M 242.179688 167.503906 C 228.8125 171.960938 218.183594 182.828125 222.925781 195.304688 \"/>\n<path style=\" stroke:none;fill-rule:nonzero;fill:rgb(26.666667%,26.666667%,26.666667%);fill-opacity:1;\" d=\"M 227.996094 208.640625 L 218.59375 196.953125 L 227.261719 193.660156 L 227.996094 208.640625 \"/>\n<path style=\"fill:none;stroke-width:1;stroke-linecap:butt;stroke-linejoin:miter;stroke:rgb(26.666667%,26.666667%,26.666667%);stroke-opacity:1;stroke-miterlimit:10;\" d=\"M 233.375 222.789062 C 246.742188 218.332031 257.367188 207.464844 252.625 194.988281 \"/>\n<path style=\" stroke:none;fill-rule:nonzero;fill:rgb(26.666667%,26.666667%,26.666667%);fill-opacity:1;\" d=\"M 247.554688 181.652344 L 256.957031 193.339844 L 248.292969 196.632812 L 247.554688 181.652344 \"/>\n<path style=\"fill:none;stroke-width:1;stroke-linecap:butt;stroke-linejoin:miter;stroke:rgb(26.666667%,26.666667%,26.666667%);stroke-opacity:1;stroke-miterlimit:10;\" d=\"M 233.375 222.789062 C 213.085938 193.925781 184.117188 180.9375 152.855469 196.589844 \"/>\n<path style=\" stroke:none;fill-rule:nonzero;fill:rgb(26.666667%,26.666667%,26.666667%);fill-opacity:1;\" d=\"M 140.101562 202.972656 L 150.78125 192.445312 L 154.933594 200.734375 L 140.101562 202.972656 \"/>\n<path style=\"fill:none;stroke-width:1;stroke-linecap:butt;stroke-linejoin:miter;stroke:rgb(26.666667%,26.666667%,26.666667%);stroke-opacity:1;stroke-miterlimit:10;\" d=\"M 81.472656 175.921875 L 212.953125 169.035156 \"/>\n<path style=\" stroke:none;fill-rule:nonzero;fill:rgb(26.666667%,26.666667%,26.666667%);fill-opacity:1;\" d=\"M 227.199219 168.289062 L 213.195312 173.664062 L 212.710938 164.40625 L 227.199219 168.289062 \"/>\n<path style=\"fill:none;stroke-width:1;stroke-linecap:butt;stroke-linejoin:miter;stroke:rgb(26.666667%,26.666667%,26.666667%);stroke-opacity:1;stroke-miterlimit:10;\" d=\"M 81.472656 175.921875 C 97.070312 185.460938 115.472656 186.59375 125.164062 171.777344 \"/>\n<path style=\" stroke:none;fill-rule:nonzero;fill:rgb(26.666667%,26.666667%,26.666667%);fill-opacity:1;\" d=\"M 132.972656 159.839844 L 129.042969 174.316406 L 121.285156 169.238281 L 132.972656 159.839844 \"/>\n<path style=\"fill:none;stroke-width:1;stroke-linecap:butt;stroke-linejoin:miter;stroke:rgb(26.666667%,26.666667%,26.666667%);stroke-opacity:1;stroke-miterlimit:10;\" d=\"M 81.472656 175.921875 C 79.054688 189.855469 83.605469 204.402344 96.894531 206.160156 \"/>\n<path style=\" stroke:none;fill-rule:nonzero;fill:rgb(26.666667%,26.666667%,26.666667%);fill-opacity:1;\" d=\"M 111.039062 208.027344 L 96.289062 210.753906 L 97.503906 201.5625 L 111.039062 208.027344 \"/>\n<path style=\"fill-rule:nonzero;fill:rgb(100%,100%,100%);fill-opacity:1;stroke-width:1;stroke-linecap:butt;stroke-linejoin:miter;stroke:rgb(0%,0%,0%);stroke-opacity:1;stroke-miterlimit:10;\" d=\"M 35 280 C 35 288.285156 28.285156 295 20 295 C 11.714844 295 5 288.285156 5 280 C 5 271.714844 11.714844 265 20 265 C 28.285156 265 35 271.714844 35 280 \"/>\n<path style=\"fill-rule:nonzero;fill:rgb(100%,100%,100%);fill-opacity:1;stroke-width:1;stroke-linecap:butt;stroke-linejoin:miter;stroke:rgb(0%,0%,0%);stroke-opacity:1;stroke-miterlimit:10;\" d=\"M 356.886719 54.765625 C 356.886719 63.046875 350.171875 69.765625 341.886719 69.765625 C 333.605469 69.765625 326.886719 63.046875 326.886719 54.765625 C 326.886719 46.480469 333.605469 39.765625 341.886719 39.765625 C 350.171875 39.765625 356.886719 46.480469 356.886719 54.765625 \"/>\n<path style=\"fill-rule:nonzero;fill:rgb(67.843137%,84.705882%,90.196078%);fill-opacity:1;stroke-width:1;stroke-linecap:butt;stroke-linejoin:miter;stroke:rgb(0%,0%,0%);stroke-opacity:1;stroke-miterlimit:10;\" d=\"M 156.363281 147.019531 C 156.363281 155.304688 149.644531 162.019531 141.363281 162.019531 C 133.078125 162.019531 126.363281 155.304688 126.363281 147.019531 C 126.363281 138.734375 133.078125 132.019531 141.363281 132.019531 C 149.644531 132.019531 156.363281 138.734375 156.363281 147.019531 \"/>\n<path style=\"fill-rule:nonzero;fill:rgb(100%,100%,100%);fill-opacity:1;stroke-width:1;stroke-linecap:butt;stroke-linejoin:miter;stroke:rgb(0%,0%,0%);stroke-opacity:1;stroke-miterlimit:10;\" d=\"M 221.074219 20 C 221.074219 28.285156 214.359375 35 206.074219 35 C 197.789062 35 191.074219 28.285156 191.074219 20 C 191.074219 11.714844 197.789062 5 206.074219 5 C 214.359375 5 221.074219 11.714844 221.074219 20 \"/>\n<path style=\"fill-rule:nonzero;fill:rgb(19.607843%,80.392157%,19.607843%);fill-opacity:1;stroke-width:1;stroke-linecap:butt;stroke-linejoin:miter;stroke:rgb(0%,0%,0%);stroke-opacity:1;stroke-miterlimit:10;\" d=\"M 141.042969 210.011719 C 141.042969 218.296875 134.328125 225.011719 126.042969 225.011719 C 117.761719 225.011719 111.042969 218.296875 111.042969 210.011719 C 111.042969 201.726562 117.761719 195.011719 126.042969 195.011719 C 134.328125 195.011719 141.042969 201.726562 141.042969 210.011719 \"/>\n<path style=\"fill-rule:nonzero;fill:rgb(100%,64.705882%,0%);fill-opacity:1;stroke-width:1;stroke-linecap:butt;stroke-linejoin:miter;stroke:rgb(0%,0%,0%);stroke-opacity:1;stroke-miterlimit:10;\" d=\"M 268.457031 101.851562 C 268.457031 110.136719 261.742188 116.851562 253.457031 116.851562 C 245.171875 116.851562 238.457031 110.136719 238.457031 101.851562 C 238.457031 93.566406 245.171875 86.851562 253.457031 86.851562 C 261.742188 86.851562 268.457031 93.566406 268.457031 101.851562 \"/>\n<path style=\"fill-rule:nonzero;fill:rgb(100%,100%,100%);fill-opacity:1;stroke-width:1;stroke-linecap:butt;stroke-linejoin:miter;stroke:rgb(0%,0%,0%);stroke-opacity:1;stroke-miterlimit:10;\" d=\"M 395 136.378906 C 395 144.664062 388.285156 151.378906 380 151.378906 C 371.714844 151.378906 365 144.664062 365 136.378906 C 365 128.097656 371.714844 121.378906 380 121.378906 C 388.285156 121.378906 395 128.097656 395 136.378906 \"/>\n<path style=\"fill-rule:nonzero;fill:rgb(67.843137%,84.705882%,90.196078%);fill-opacity:1;stroke-width:1;stroke-linecap:butt;stroke-linejoin:miter;stroke:rgb(0%,0%,0%);stroke-opacity:1;stroke-miterlimit:10;\" d=\"M 257.179688 167.503906 C 257.179688 175.789062 250.460938 182.503906 242.179688 182.503906 C 233.894531 182.503906 227.179688 175.789062 227.179688 167.503906 C 227.179688 159.222656 233.894531 152.503906 242.179688 152.503906 C 250.460938 152.503906 257.179688 159.222656 257.179688 167.503906 \"/>\n<path style=\"fill-rule:nonzero;fill:rgb(100%,100%,100%);fill-opacity:1;stroke-width:1;stroke-linecap:butt;stroke-linejoin:miter;stroke:rgb(0%,0%,0%);stroke-opacity:1;stroke-miterlimit:10;\" d=\"M 248.375 222.789062 C 248.375 231.070312 241.660156 237.789062 233.375 237.789062 C 225.089844 237.789062 218.375 231.070312 218.375 222.789062 C 218.375 214.503906 225.089844 207.789062 233.375 207.789062 C 241.660156 207.789062 248.375 214.503906 248.375 222.789062 \"/>\n<path style=\"fill-rule:nonzero;fill:rgb(100%,100%,100%);fill-opacity:1;stroke-width:1;stroke-linecap:butt;stroke-linejoin:miter;stroke:rgb(0%,0%,0%);stroke-opacity:1;stroke-miterlimit:10;\" d=\"M 96.472656 175.921875 C 96.472656 184.203125 89.753906 190.921875 81.472656 190.921875 C 73.1875 190.921875 66.472656 184.203125 66.472656 175.921875 C 66.472656 167.636719 73.1875 160.921875 81.472656 160.921875 C 89.753906 160.921875 96.472656 167.636719 96.472656 175.921875 \"/>\n<g style=\"fill:rgb(0%,0%,0%);fill-opacity:1;\">\n  <use xlink:href=\"#glyph0-1\" x=\"7.984375\" y=\"284.847656\"/>\n  <use xlink:href=\"#glyph0-2\" x=\"13.985352\" y=\"284.847656\"/>\n  <use xlink:href=\"#glyph0-3\" x=\"19.986328\" y=\"284.847656\"/>\n  <use xlink:href=\"#glyph0-4\" x=\"25.987305\" y=\"284.847656\"/>\n</g>\n<g style=\"fill:rgb(0%,0%,0%);fill-opacity:1;\">\n  <use xlink:href=\"#glyph0-1\" x=\"329.832031\" y=\"59.609375\"/>\n  <use xlink:href=\"#glyph0-2\" x=\"335.833008\" y=\"59.609375\"/>\n  <use xlink:href=\"#glyph0-5\" x=\"341.833984\" y=\"59.609375\"/>\n  <use xlink:href=\"#glyph0-6\" x=\"347.834961\" y=\"59.609375\"/>\n</g>\n<g style=\"fill:rgb(0%,0%,0%);fill-opacity:1;\">\n  <use xlink:href=\"#glyph0-1\" x=\"129.238281\" y=\"151.867188\"/>\n  <use xlink:href=\"#glyph0-2\" x=\"135.239258\" y=\"151.867188\"/>\n  <use xlink:href=\"#glyph0-5\" x=\"141.240234\" y=\"151.867188\"/>\n  <use xlink:href=\"#glyph0-1\" x=\"147.241211\" y=\"151.867188\"/>\n</g>\n<g style=\"fill:rgb(0%,0%,0%);fill-opacity:1;\">\n  <use xlink:href=\"#glyph0-1\" x=\"194.066406\" y=\"24.847656\"/>\n  <use xlink:href=\"#glyph0-2\" x=\"200.067383\" y=\"24.847656\"/>\n  <use xlink:href=\"#glyph0-5\" x=\"206.068359\" y=\"24.847656\"/>\n  <use xlink:href=\"#glyph0-7\" x=\"212.069336\" y=\"24.847656\"/>\n</g>\n<g style=\"fill:rgb(0%,0%,0%);fill-opacity:1;\">\n  <use xlink:href=\"#glyph0-1\" x=\"114\" y=\"214.855469\"/>\n  <use xlink:href=\"#glyph0-2\" x=\"120.000977\" y=\"214.855469\"/>\n  <use xlink:href=\"#glyph0-5\" x=\"126.001953\" y=\"214.855469\"/>\n  <use xlink:href=\"#glyph0-8\" x=\"132.00293\" y=\"214.855469\"/>\n</g>\n<g style=\"fill:rgb(0%,0%,0%);fill-opacity:1;\">\n  <use xlink:href=\"#glyph0-1\" x=\"241.402344\" y=\"106.699219\"/>\n  <use xlink:href=\"#glyph0-6\" x=\"247.40332\" y=\"106.699219\"/>\n  <use xlink:href=\"#glyph0-6\" x=\"253.404297\" y=\"106.699219\"/>\n  <use xlink:href=\"#glyph0-6\" x=\"259.405273\" y=\"106.699219\"/>\n</g>\n<g style=\"fill:rgb(0%,0%,0%);fill-opacity:1;\">\n  <use xlink:href=\"#glyph0-1\" x=\"367.878906\" y=\"141.226562\"/>\n  <use xlink:href=\"#glyph0-6\" x=\"373.879883\" y=\"141.226562\"/>\n  <use xlink:href=\"#glyph0-6\" x=\"379.880859\" y=\"141.226562\"/>\n  <use xlink:href=\"#glyph0-1\" x=\"385.881836\" y=\"141.226562\"/>\n</g>\n<g style=\"fill:rgb(0%,0%,0%);fill-opacity:1;\">\n  <use xlink:href=\"#glyph0-4\" x=\"233.15625\" y=\"172.351562\"/>\n  <use xlink:href=\"#glyph0-6\" x=\"239.157227\" y=\"172.351562\"/>\n  <use xlink:href=\"#glyph0-5\" x=\"245.158203\" y=\"172.351562\"/>\n</g>\n<g style=\"fill:rgb(0%,0%,0%);fill-opacity:1;\">\n  <use xlink:href=\"#glyph0-1\" x=\"221.367188\" y=\"227.632812\"/>\n  <use xlink:href=\"#glyph0-6\" x=\"227.368164\" y=\"227.632812\"/>\n  <use xlink:href=\"#glyph0-6\" x=\"233.369141\" y=\"227.632812\"/>\n  <use xlink:href=\"#glyph0-7\" x=\"239.370117\" y=\"227.632812\"/>\n</g>\n<g style=\"fill:rgb(0%,0%,0%);fill-opacity:1;\">\n  <use xlink:href=\"#glyph0-3\" x=\"69.503906\" y=\"180.765625\"/>\n  <use xlink:href=\"#glyph0-8\" x=\"75.504883\" y=\"180.765625\"/>\n  <use xlink:href=\"#glyph0-1\" x=\"81.505859\" y=\"180.765625\"/>\n  <use xlink:href=\"#glyph0-4\" x=\"87.506836\" y=\"180.765625\"/>\n</g>\n</g>\n</svg>\n"
          },
          "metadata": {
            "image/svg+xml": {
              "isolated": true
            }
          },
          "execution_count": 85
        }
      ]
    },
    {
      "cell_type": "markdown",
      "source": [
        "I figure above, query item is in orange, recommended item is in green, and overlapping co-purchase items are in lightblue, and non-overlapping co-purchase items are in white."
      ],
      "metadata": {
        "id": "qhlQLGEAQsEX"
      }
    },
    {
      "cell_type": "markdown",
      "source": [
        "----\n",
        "\n",
        "## 5. Team assignment\n",
        "\n",
        "For the team assignment, you'll apply what we learned in network analysis to solve problems in real world graphs. Please follow this guideline to prepare and analyze network data.\n",
        "\n",
        "### 5.1 Dataset selection\n",
        "\n",
        "Select a network dataset to work on. Data formats may vary, but it'll typically have a pair of node for each row in the file.\n",
        "\n",
        "For instance, first few lines of the drug-target interaction network (ChG-Miner_miner-chem-gene.tsv retrieved from, https://snap.stanford.edu/biodata/datasets/10002/10002-ChG-Miner.html ) looks like the following:\n",
        "```\n",
        "#Drug\tGene\n",
        "DB00357\tP05108\n",
        "DB02721\tP00325\n",
        "DB00773\tP23219\n",
        "DB07138\tQ16539\n",
        "```\n",
        "\n",
        "For such file, you can read the data using `read_csv` in Pandas.\n",
        "```\n",
        "filename = \"ChG-Miner_miner-chem-gene.tsv\"\n",
        "df_edgelist = pd.read_csv(filename, sep='\\t')\n",
        "```\n",
        "\n",
        "Select a dataset that looks interesting to you.\n",
        "- SNAP large dataset collection: https://snap.stanford.edu/data/\n",
        "- SNAP biomedical network dataset collection: https://snap.stanford.edu/biodata/index.html\n",
        "\n",
        "### 5.2 Data exploration\n",
        "\n",
        "Once you selected the dataset, explore the data. That is, load the graph using `networkx`, and try to visualize it using `igraph`. Visualization may be hard even for graphs with > 100 nodes. Then, select a node, and visualize it locally (e.g., visualize the neighborhood). You can do this by finding the neighboring nodes, then getting a subgraph that consists of those selected nodes only.\n",
        "\n",
        "### 5.3 Define a problem\n",
        "\n",
        "What are you interested in solving? For istance, if you chose to analyze drug-target interaction network, an idea could be to find similar drugs, in terms of their targetting genes. This could be viewed as a simple method for drug discovery using drug-target interaction network data.\n",
        "\n",
        "### 5.4 Solve the problem\n",
        "\n",
        "Based on what we learned in this workshop, solve the problem using network analysis. We learned different ways to compute similarity between two nodes as well as different network centrality methods. You can apply these directly to solve your problem. There are many more similarity | centrality methods that are not covered in the lecture. Please feel free to take a look and use these other methods if they are more applicable to your problem. Of course, you can design your own method as well.\n",
        "\n",
        "Here are links to networkx functions that may help:\n",
        "- Centrality: https://networkx.org/documentation/stable/reference/algorithms/centrality.html\n",
        "- Link prediction (similarity indices, like Jaccard coefficient): https://networkx.org/documentation/stable/reference/algorithms/link_prediction.html"
      ],
      "metadata": {
        "id": "81Bx0ZFhRiWS"
      }
    },
    {
      "cell_type": "markdown",
      "source": [
        "----\n",
        "\n",
        "## References\n",
        "\n",
        "\n",
        "`networkx`\n",
        "- tutorial: https://networkx.org/documentation/stable/tutorial.html\n",
        "\n",
        "`igraph`\n",
        "- tutorial: https://python.igraph.org/en/stable/tutorial.html"
      ],
      "metadata": {
        "id": "EkYeDyzitOxS"
      }
    }
  ]
}